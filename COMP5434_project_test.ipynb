{
  "cells": [
    {
      "cell_type": "markdown",
      "id": "d429ccc6",
      "metadata": {
        "id": "d429ccc6"
      },
      "source": [
        "# About the Dataset\n",
        "\n",
        "The original CORD-19 is a resource of over 1,000,000 scholarly articles, including over 400,000 with full text, about COVID-19, SARS-CoV-2, and related coronaviruses.\n",
        "\n",
        "In our project, the dataset is sampled from the CORD-19 with size ~10,000 to reduce computation burden."
      ]
    },
    {
      "cell_type": "code",
      "execution_count": 1,
      "id": "UFYXtLsHeNX0",
      "metadata": {
        "colab": {
          "base_uri": "https://localhost:8080/"
        },
        "id": "UFYXtLsHeNX0",
        "outputId": "08825601-cf94-481a-e6b6-336a0132a717"
      },
      "outputs": [
        {
          "name": "stdout",
          "output_type": "stream",
          "text": [
            "Drive already mounted at /content/drive; to attempt to forcibly remount, call drive.mount(\"/content/drive\", force_remount=True).\n",
            "/content\n",
            "__MACOSX  meta_10k.csv\tsubset\tsubset.zip\n",
            "Directory /content/CORD_19_subset already exists. Skipping extraction.\n"
          ]
        }
      ],
      "source": [
        "import os\n",
        "import subprocess\n",
        "\n",
        "\n",
        "# shared link: https://drive.google.com/drive/folders/1Td_ZTUVrsKeftDE5Zll7252YLJdWiNTk?usp=share_link \n",
        "# you can download the data via the shared link, and skip Step 0 and Step 1 if you want to run the code in your local machine \n",
        "\n",
        "\n",
        "# Step 0: add the shared folder to your google drive. e.g., /content/drive/MyDrive/CORD_19\n",
        "\n",
        "# Step 1: Mount Google Drive\n",
        "from google.colab import drive\n",
        "drive.mount(\"/content/drive\")\n",
        "\n",
        "\n",
        "!echo $PWD\n",
        "\n",
        "!ls /content/drive/MyDrive/CORD_19/\n",
        "\n",
        "# Step 2: unzip json files \n",
        "subset_dir = os.path.join(os.getcwd(),  \"CORD_19_subset\")\n",
        "\n",
        "\n",
        "zip_file_path=\"/content/drive/MyDrive/CORD_19/subset.zip\"\n",
        "\n",
        "# Check if the destination directory exists\n",
        "if not os.path.exists(subset_dir):\n",
        "    # Unzip the file\n",
        "    cmd = \"unzip {} -d {}\".format(zip_file_path, subset_dir)\n",
        "    proc = subprocess.Popen(cmd, shell=True)\n",
        "else:\n",
        "    print(f\"Directory {subset_dir} already exists. Skipping extraction.\")"
      ]
    },
    {
      "cell_type": "code",
      "execution_count": 1,
      "id": "SxWWPxCDjHF5",
      "metadata": {
        "id": "SxWWPxCDjHF5"
      },
      "outputs": [],
      "source": []
    },
    {
      "cell_type": "code",
      "execution_count": 2,
      "id": "eeabd1eb",
      "metadata": {
        "id": "eeabd1eb"
      },
      "outputs": [],
      "source": [
        "# import packages\n",
        "\n",
        "\n",
        "import os\n",
        "import json\n",
        "import glob\n",
        "import numpy as np\n",
        "import pandas as pd\n",
        "\n",
        "import matplotlib.pyplot as plt\n"
      ]
    },
    {
      "cell_type": "markdown",
      "id": "cc1250a1",
      "metadata": {
        "id": "cc1250a1"
      },
      "source": [
        "# Data Load & Pre-processing"
      ]
    },
    {
      "cell_type": "code",
      "execution_count": 3,
      "id": "83d2222c",
      "metadata": {
        "colab": {
          "base_uri": "https://localhost:8080/",
          "height": 695
        },
        "id": "83d2222c",
        "outputId": "d3082464-4669-4404-b139-0300e50112d4"
      },
      "outputs": [
        {
          "name": "stdout",
          "output_type": "stream",
          "text": [
            "9022\n"
          ]
        },
        {
          "data": {
            "application/vnd.google.colaboratory.intrinsic+json": {
              "summary": "{\n  \"name\": \"meta_df\",\n  \"rows\": 9022,\n  \"fields\": [\n    {\n      \"column\": \"Unnamed: 0\",\n      \"properties\": {\n        \"dtype\": \"number\",\n        \"std\": 337241,\n        \"min\": 44,\n        \"max\": 1056551,\n        \"num_unique_values\": 9022,\n        \"samples\": [\n          811225,\n          732051,\n          763638\n        ],\n        \"semantic_type\": \"\",\n        \"description\": \"\"\n      }\n    },\n    {\n      \"column\": \"cord_uid\",\n      \"properties\": {\n        \"dtype\": \"string\",\n        \"num_unique_values\": 9022,\n        \"samples\": [\n          \"h3uaj6fx\",\n          \"yz1bshv2\",\n          \"p630d49d\"\n        ],\n        \"semantic_type\": \"\",\n        \"description\": \"\"\n      }\n    },\n    {\n      \"column\": \"sha\",\n      \"properties\": {\n        \"dtype\": \"string\",\n        \"num_unique_values\": 9022,\n        \"samples\": [\n          \"e031a4fcf00577dcc7584f7a456f83394b61ec1b\",\n          \"9ce761ee59fd4b5bc7fda2d3c51b89c6be54360b\",\n          \"e114858a40b22f7ff3ac74ab9b97cecc0ee36761\"\n        ],\n        \"semantic_type\": \"\",\n        \"description\": \"\"\n      }\n    },\n    {\n      \"column\": \"source_x\",\n      \"properties\": {\n        \"dtype\": \"category\",\n        \"num_unique_values\": 21,\n        \"samples\": [\n          \"PMC\",\n          \"BioRxiv; Medline; WHO\",\n          \"ArXiv; Medline\"\n        ],\n        \"semantic_type\": \"\",\n        \"description\": \"\"\n      }\n    },\n    {\n      \"column\": \"title\",\n      \"properties\": {\n        \"dtype\": \"string\",\n        \"num_unique_values\": 9022,\n        \"samples\": [\n          \"Promise and peril-defining ethical telehealth practice from the clinician and patient perspective: A qualitative study\",\n          \"DeSUMOylation of Apoptosis Inhibitor 5 by Avibirnavirus VP3 Supports Virus Replication\",\n          \"Emergent procedures for oropharyngeal bleeding during the COVID-19 pandemic: Protection of medical staff\"\n        ],\n        \"semantic_type\": \"\",\n        \"description\": \"\"\n      }\n    },\n    {\n      \"column\": \"doi\",\n      \"properties\": {\n        \"dtype\": \"string\",\n        \"num_unique_values\": 8599,\n        \"samples\": [\n          \"10.1038/s41598-021-91817-9\",\n          \"10.5334/gh.786\",\n          \"10.1038/s41578-021-00305-z\"\n        ],\n        \"semantic_type\": \"\",\n        \"description\": \"\"\n      }\n    },\n    {\n      \"column\": \"pmcid\",\n      \"properties\": {\n        \"dtype\": \"string\",\n        \"num_unique_values\": 7942,\n        \"samples\": [\n          \"PMC3573664\",\n          \"PMC7789084\",\n          \"PMC7729151\"\n        ],\n        \"semantic_type\": \"\",\n        \"description\": \"\"\n      }\n    },\n    {\n      \"column\": \"pubmed_id\",\n      \"properties\": {\n        \"dtype\": \"string\",\n        \"num_unique_values\": 6986,\n        \"samples\": [\n          \"35165656\",\n          \"35110546\",\n          \"33538335\"\n        ],\n        \"semantic_type\": \"\",\n        \"description\": \"\"\n      }\n    },\n    {\n      \"column\": \"license\",\n      \"properties\": {\n        \"dtype\": \"category\",\n        \"num_unique_values\": 13,\n        \"samples\": [\n          \"els-covid\",\n          \"medrxiv\",\n          \"cc-by\"\n        ],\n        \"semantic_type\": \"\",\n        \"description\": \"\"\n      }\n    },\n    {\n      \"column\": \"abstract\",\n      \"properties\": {\n        \"dtype\": \"string\",\n        \"num_unique_values\": 8285,\n        \"samples\": [\n          \"The variety and extent of non-pharmaceutical measures implemented by the government to control COVID-19 in Argentina were exceptional, making this country the best example to analyze the evolution of COVID-19 under the most stringent and longerlasting restrictive policies- which up to May 31(st) 2021 included 119 days of strict nation-wide lock-down, 304 days of less restrictive lock-downs, and 35 days of curfews. Two of the three peaks of infection correlated with the germicidal solar flux received in Argentina, suggesting a seasonal component and a role for the virus persisting in the environment. A massive public gathering crowding the presidential square in Buenos Aires, during which nearly half of those present were without face masks, did not alter the infection curve in that city. Comparative epidemiological data (standardized per million inhabitants) shows that COVID-19 in Uruguay, a neighboring country whose capital is at a similar latitude than Buenos Aires and who did not mandate lock-downs or curfews, progressed much slower (until vaccination started) than in Argentina. The number of yearly deaths caused by respiratory diseases and influenza in Argentina before the pandemic was similar to the total number of deaths attributed to COVID-19 cumulated on April 25, 2021, more than a year after the pandemic started. The failure to detect any benefit on ameliorating COVID-19 by the long and strict nation-wide lock-downs in Argentina should raise world-wide concerns about mandating costly and ineffective restrictive measures during ongoing or future pandemics.\",\n          \"The world is currently facing a serious coronavirus pandemic (COVID-19). This novel coronavirus is a new virus for which effective drugs and vaccines have not yet been developed. Amateur and professional athletic events around the world have been stopped, and teams and athletes have had to adopt social withdrawal measures, interrupting their training and preparation routines for competitions. Given this alarming scenario, this article aims to alert athletes to the importance of maintaining a conditioning routine during this confinement period.\",\n          \"Bivalve molluscan shellfish like clams and oysters, etc., are capable to bioaccumulate surrounding contaminants from waters into their digestive systems and posing serious threats of food poisoning. Detection of rotaviruses (RVs) in shellfish is of particular importance because RVs are prone to genome reassortment resulting in the emergence of new RV variants that may compromise vaccine safety. Herein, we have detected the wild-type RVs and Rotarix/RotaTeq vaccine strains in freshwater clams collected on the riverside, Kawasaki city, from July 2019 to January 2020 and correlated the detected genotypes with that of gastroenteritis cases of nearby clinics to understand the transmission of RVs in the environment. The wild-type RVs were detected in 62 (64.6%) out of 96 freshwater clams in every study month: July, September, November, and January that are considered as off-season for RV infections. The most frequent genotypes were G2 (42.9%), G8 (28.6%), G3 (14.3%), G1 (7.1%), and G10 (7.1%), which remained comparable with genotypic distribution found in the clinical samples over the last few years indicating that these RVs may accumulate in clams since a long time. However, G10 genotype was detected in clam but not in clinical samples suggesting the presence of asymptomatic infection or RVs could be carried out from a long distance. Importantly, vaccine strains, RotaTeq (1%) but not Rotarix (0%), were also detected in a clam. Attention must be paid to monitoring the potential transmission of wild-type and vaccine RV strains in the environment to prevent the emergence of new variants generated from genome reassortment with vaccine strains.\"\n        ],\n        \"semantic_type\": \"\",\n        \"description\": \"\"\n      }\n    },\n    {\n      \"column\": \"publish_time\",\n      \"properties\": {\n        \"dtype\": \"category\",\n        \"num_unique_values\": 1864,\n        \"samples\": [\n          \"2020-01-02\",\n          \"2022-03-09\",\n          \"2016-04-04\"\n        ],\n        \"semantic_type\": \"\",\n        \"description\": \"\"\n      }\n    },\n    {\n      \"column\": \"authors\",\n      \"properties\": {\n        \"dtype\": \"string\",\n        \"num_unique_values\": 8997,\n        \"samples\": [\n          \"Marchetti, Federico; Verazza, Sara; Brambilla, Margherita; Restivo, Vincenzo\",\n          \"Kaeberlein, Matt; Tyler, Jessica K\",\n          \"Atlante, Sandra; Mongelli, Alessia; Barbi, Veronica; Martelli, Fabio; Farsetti, Antonella; Gaetano, Carlo\"\n        ],\n        \"semantic_type\": \"\",\n        \"description\": \"\"\n      }\n    },\n    {\n      \"column\": \"journal\",\n      \"properties\": {\n        \"dtype\": \"category\",\n        \"num_unique_values\": 2785,\n        \"samples\": [\n          \"Adv Med\",\n          \"Microbial Forensics\",\n          \"Appl Biochem Biotechnol\"\n        ],\n        \"semantic_type\": \"\",\n        \"description\": \"\"\n      }\n    },\n    {\n      \"column\": \"mag_id\",\n      \"properties\": {\n        \"dtype\": \"number\",\n        \"std\": null,\n        \"min\": null,\n        \"max\": null,\n        \"num_unique_values\": 0,\n        \"samples\": [],\n        \"semantic_type\": \"\",\n        \"description\": \"\"\n      }\n    },\n    {\n      \"column\": \"who_covidence_id\",\n      \"properties\": {\n        \"dtype\": \"number\",\n        \"std\": null,\n        \"min\": null,\n        \"max\": null,\n        \"num_unique_values\": 0,\n        \"samples\": [],\n        \"semantic_type\": \"\",\n        \"description\": \"\"\n      }\n    },\n    {\n      \"column\": \"arxiv_id\",\n      \"properties\": {\n        \"dtype\": \"category\",\n        \"num_unique_values\": 480,\n        \"samples\": [],\n        \"semantic_type\": \"\",\n        \"description\": \"\"\n      }\n    },\n    {\n      \"column\": \"pdf_json_files\",\n      \"properties\": {\n        \"dtype\": \"string\",\n        \"num_unique_values\": 9022,\n        \"samples\": [],\n        \"semantic_type\": \"\",\n        \"description\": \"\"\n      }\n    },\n    {\n      \"column\": \"pmc_json_files\",\n      \"properties\": {\n        \"dtype\": \"string\",\n        \"num_unique_values\": 7414,\n        \"samples\": [],\n        \"semantic_type\": \"\",\n        \"description\": \"\"\n      }\n    },\n    {\n      \"column\": \"url\",\n      \"properties\": {\n        \"dtype\": \"string\",\n        \"num_unique_values\": 9022,\n        \"samples\": [],\n        \"semantic_type\": \"\",\n        \"description\": \"\"\n      }\n    },\n    {\n      \"column\": \"s2_id\",\n      \"properties\": {\n        \"dtype\": \"number\",\n        \"std\": 61913642.79275464,\n        \"min\": 15600.0,\n        \"max\": 249148763.0,\n        \"num_unique_values\": 7468,\n        \"samples\": [],\n        \"semantic_type\": \"\",\n        \"description\": \"\"\n      }\n    }\n  ]\n}",
              "type": "dataframe",
              "variable_name": "meta_df"
            },
            "text/html": [
              "\n",
              "  <div id=\"df-fa7d4e5e-6759-4db6-a1ce-3c338f71b6e5\" class=\"colab-df-container\">\n",
              "    <div>\n",
              "<style scoped>\n",
              "    .dataframe tbody tr th:only-of-type {\n",
              "        vertical-align: middle;\n",
              "    }\n",
              "\n",
              "
