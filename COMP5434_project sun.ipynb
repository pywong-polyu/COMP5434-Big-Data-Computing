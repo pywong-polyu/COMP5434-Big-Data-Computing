{
 "cells": [
  {
   "cell_type": "markdown",
   "id": "d429ccc6",
   "metadata": {
    "id": "d429ccc6"
   },
   "source": [
    "# About the Dataset\n",
    "\n",
    "The original CORD-19 is a resource of over 1,000,000 scholarly articles, including over 400,000 with full text, about COVID-19, SARS-CoV-2, and related coronaviruses.\n",
    "\n",
    "In our project, the dataset is sampled from the CORD-19 with size ~10,000 to reduce computation burden."
   ]
  },
  {
   "cell_type": "code",
   "execution_count": 1,
   "id": "eeabd1eb",
   "metadata": {
    "id": "eeabd1eb"
   },
   "outputs": [],
   "source": [
    "# import packages\n",
    "\n",
    "import os\n",
    "import json\n",
    "import glob\n",
    "import numpy as np\n",
    "import pandas as pd\n",
    "import matplotlib.pyplot as plt\n",
    "from datetime import datetime\n",
    "\n",
    "import warnings\n",
    "warnings.filterwarnings(\"ignore\")\n"
   ]
  },
  {
   "cell_type": "markdown",
   "id": "cc1250a1",
   "metadata": {
    "id": "cc1250a1"
   },
   "source": [
    "# Data Load & Pre-processing"
   ]
  },
  {
   "cell_type": "code",
   "execution_count": 2,
   "id": "83d2222c",
   "metadata": {
    "colab": {
     "base_uri": "https://localhost:8080/",
     "height": 695
    },
    "id": "83d2222c",
    "outputId": "d3082464-4669-4404-b139-0300e50112d4"
   },
   "outputs": [
    {
     "name": "stdout",
     "output_type": "stream",
     "text": [
      "9022\n"
     ]
    },
    {
     "data": {
      "text/html": [
       "<div>\n",
       "<style scoped>\n",
       "    .dataframe tbody tr th:only-of-type {\n",
       "        vertical-align: middle;\n",
       "    }\n",
       "\n",
       "    .dataframe tbody tr th {\n",
       "        vertical-align: top;\n",
       "    }\n",
       "\n",
       "    .dataframe thead th {\n",
       "        text-align: right;\n",
       "    }\n",
       "</style>\n",
       "<table border=\"1\" class=\"dataframe\">\n",
       "  <thead>\n",
       "    <tr style=\"text-align: right;\">\n",
       "      <th></th>\n",
       "      <th>Unnamed: 0</th>\n",
       "      <th>cord_uid</th>\n",
       "      <th>sha</th>\n",
       "      <th>source_x</th>\n",
       "      <th>title</th>\n",
       "      <th>doi</th>\n",
       "      <th>pmcid</th>\n",
       "      <th>pubmed_id</th>\n",
       "      <th>license</th>\n",
       "      <th>abstract</th>\n",
       "      <th>publish_time</th>\n",
       "      <th>authors</th>\n",
       "      <th>journal</th>\n",
       "      <th>mag_id</th>\n",
       "      <th>who_covidence_id</th>\n",
       "      <th>arxiv_id</th>\n",
       "      <th>pdf_json_files</th>\n",
       "      <th>pmc_json_files</th>\n",
       "      <th>url</th>\n",
       "      <th>s2_id</th>\n",
       "    </tr>\n",
       "  </thead>\n",
       "  <tbody>\n",
       "    <tr>\n",
       "      <th>0</th>\n",
       "      <td>44</td>\n",
       "      <td>m71xkuo9</td>\n",
       "      <td>c6bf372c094f035a514975c35a7f9c094abbe493</td>\n",
       "      <td>PMC</td>\n",
       "      <td>Sequence specific visual detection of LAMP rea...</td>\n",
       "      <td>10.1186/1472-6750-6-3</td>\n",
       "      <td>PMC1373654</td>\n",
       "      <td>16401354</td>\n",
       "      <td>cc-by</td>\n",
       "      <td>BACKGROUND: Development of a practical gene po...</td>\n",
       "      <td>2006-01-10</td>\n",
       "      <td>Mori, Yasuyoshi; Hirano, Tsuyoshi; Notomi, Tsu...</td>\n",
       "      <td>BMC Biotechnol</td>\n",
       "      <td>NaN</td>\n",
       "      <td>NaN</td>\n",
       "      <td>NaN</td>\n",
       "      <td>document_parses/pdf_json/c6bf372c094f035a51497...</td>\n",
       "      <td>document_parses/pmc_json/PMC1373654.xml.json</td>\n",
       "      <td>https://www.ncbi.nlm.nih.gov/pmc/articles/PMC1...</td>\n",
       "      <td>NaN</td>\n",
       "    </tr>\n",
       "    <tr>\n",
       "      <th>1</th>\n",
       "      <td>96</td>\n",
       "      <td>hqc7u9w3</td>\n",
       "      <td>c65f0939cf35a0f04bf93bd6e8f771b8521563a5</td>\n",
       "      <td>PMC</td>\n",
       "      <td>Transmission Parameters of the 2001 Foot and M...</td>\n",
       "      <td>10.1371/journal.pone.0000502</td>\n",
       "      <td>PMC1876810</td>\n",
       "      <td>17551582</td>\n",
       "      <td>cc-by</td>\n",
       "      <td>Despite intensive ongoing research, key aspect...</td>\n",
       "      <td>2007-06-06</td>\n",
       "      <td>Chis Ster, Irina; Ferguson, Neil M.</td>\n",
       "      <td>PLoS One</td>\n",
       "      <td>NaN</td>\n",
       "      <td>NaN</td>\n",
       "      <td>NaN</td>\n",
       "      <td>document_parses/pdf_json/c65f0939cf35a0f04bf93...</td>\n",
       "      <td>document_parses/pmc_json/PMC1876810.xml.json</td>\n",
       "      <td>https://www.ncbi.nlm.nih.gov/pmc/articles/PMC1...</td>\n",
       "      <td>NaN</td>\n",
       "    </tr>\n",
       "    <tr>\n",
       "      <th>2</th>\n",
       "      <td>217</td>\n",
       "      <td>jzwcy7dr</td>\n",
       "      <td>a009c8efa4c5f13a5e604608d4e33e1dac078044</td>\n",
       "      <td>PMC</td>\n",
       "      <td>Results From a Hypothesis Generating Case-Cont...</td>\n",
       "      <td>10.1093/schbul/sbm139</td>\n",
       "      <td>PMC2632504</td>\n",
       "      <td>18156638</td>\n",
       "      <td>bronze-oa</td>\n",
       "      <td>Background: Herpes family viruses can cause ce...</td>\n",
       "      <td>2008-08-20</td>\n",
       "      <td>Niebuhr, David W.; Millikan, Amy M.; Yolken, R...</td>\n",
       "      <td>Schizophrenia Bulletin</td>\n",
       "      <td>NaN</td>\n",
       "      <td>NaN</td>\n",
       "      <td>NaN</td>\n",
       "      <td>document_parses/pdf_json/a009c8efa4c5f13a5e604...</td>\n",
       "      <td>document_parses/pmc_json/PMC2632504.xml.json</td>\n",
       "      <td>https://academic.oup.com/schizophreniabulletin...</td>\n",
       "      <td>NaN</td>\n",
       "    </tr>\n",
       "    <tr>\n",
       "      <th>3</th>\n",
       "      <td>255</td>\n",
       "      <td>02opdk0m</td>\n",
       "      <td>b411e12b20d883ef2ee5ca19d48eff9fccedf05f</td>\n",
       "      <td>PMC</td>\n",
       "      <td>CVTree update: a newly designed phylogenetic s...</td>\n",
       "      <td>10.1093/nar/gkp278</td>\n",
       "      <td>PMC2703908</td>\n",
       "      <td>19398429</td>\n",
       "      <td>cc-by-nc</td>\n",
       "      <td>The CVTree web server (http://tlife.fudan.edu....</td>\n",
       "      <td>2009-07-01</td>\n",
       "      <td>Xu, Zhao; Hao, Bailin</td>\n",
       "      <td>Nucleic Acids Res</td>\n",
       "      <td>NaN</td>\n",
       "      <td>NaN</td>\n",
       "      <td>NaN</td>\n",
       "      <td>document_parses/pdf_json/b411e12b20d883ef2ee5c...</td>\n",
       "      <td>document_parses/pmc_json/PMC2703908.xml.json</td>\n",
       "      <td>https://www.ncbi.nlm.nih.gov/pmc/articles/PMC2...</td>\n",
       "      <td>NaN</td>\n",
       "    </tr>\n",
       "    <tr>\n",
       "      <th>4</th>\n",
       "      <td>342</td>\n",
       "      <td>094d0rn6</td>\n",
       "      <td>513d5ea4db4eb8e94c14c46b018c6041d78119cf</td>\n",
       "      <td>PMC</td>\n",
       "      <td>IPS-1 Is Essential for the Control of West Nil...</td>\n",
       "      <td>10.1371/journal.ppat.1000757</td>\n",
       "      <td>PMC2816698</td>\n",
       "      <td>20140199</td>\n",
       "      <td>cc-by</td>\n",
       "      <td>The innate immune response is essential for co...</td>\n",
       "      <td>2010-02-05</td>\n",
       "      <td>Suthar, Mehul S.; Ma, Daphne Y.; Thomas, Sunil...</td>\n",
       "      <td>PLoS Pathog</td>\n",
       "      <td>NaN</td>\n",
       "      <td>NaN</td>\n",
       "      <td>NaN</td>\n",
       "      <td>document_parses/pdf_json/513d5ea4db4eb8e94c14c...</td>\n",
       "      <td>document_parses/pmc_json/PMC2816698.xml.json</td>\n",
       "      <td>https://www.ncbi.nlm.nih.gov/pmc/articles/PMC2...</td>\n",
       "      <td>NaN</td>\n",
       "    </tr>\n",
       "  </tbody>\n",
       "</table>\n",
       "</div>"
      ],
      "text/plain": [
       "   Unnamed: 0  cord_uid                                       sha source_x  \\\n",
       "0          44  m71xkuo9  c6bf372c094f035a514975c35a7f9c094abbe493      PMC   \n",
       "1          96  hqc7u9w3  c65f0939cf35a0f04bf93bd6e8f771b8521563a5      PMC   \n",
       "2         217  jzwcy7dr  a009c8efa4c5f13a5e604608d4e33e1dac078044      PMC   \n",
       "3         255  02opdk0m  b411e12b20d883ef2ee5ca19d48eff9fccedf05f      PMC   \n",
       "4         342  094d0rn6  513d5ea4db4eb8e94c14c46b018c6041d78119cf      PMC   \n",
       "\n",
       "                                               title  \\\n",
       "0  Sequence specific visual detection of LAMP rea...   \n",
       "1  Transmission Parameters of the 2001 Foot and M...   \n",
       "2  Results From a Hypothesis Generating Case-Cont...   \n",
       "3  CVTree update: a newly designed phylogenetic s...   \n",
       "4  IPS-1 Is Essential for the Control of West Nil...   \n",
       "\n",
       "                            doi       pmcid pubmed_id    license  \\\n",
       "0         10.1186/1472-6750-6-3  PMC1373654  16401354      cc-by   \n",
       "1  10.1371/journal.pone.0000502  PMC1876810  17551582      cc-by   \n",
       "2         10.1093/schbul/sbm139  PMC2632504  18156638  bronze-oa   \n",
       "3            10.1093/nar/gkp278  PMC2703908  19398429   cc-by-nc   \n",
       "4  10.1371/journal.ppat.1000757  PMC2816698  20140199      cc-by   \n",
       "\n",
       "                                            abstract publish_time  \\\n",
       "0  BACKGROUND: Development of a practical gene po...   2006-01-10   \n",
       "1  Despite intensive ongoing research, key aspect...   2007-06-06   \n",
       "2  Background: Herpes family viruses can cause ce...   2008-08-20   \n",
       "3  The CVTree web server (http://tlife.fudan.edu....   2009-07-01   \n",
       "4  The innate immune response is essential for co...   2010-02-05   \n",
       "\n",
       "                                             authors                 journal  \\\n",
       "0  Mori, Yasuyoshi; Hirano, Tsuyoshi; Notomi, Tsu...          BMC Biotechnol   \n",
       "1                Chis Ster, Irina; Ferguson, Neil M.                PLoS One   \n",
       "2  Niebuhr, David W.; Millikan, Amy M.; Yolken, R...  Schizophrenia Bulletin   \n",
       "3                              Xu, Zhao; Hao, Bailin       Nucleic Acids Res   \n",
       "4  Suthar, Mehul S.; Ma, Daphne Y.; Thomas, Sunil...             PLoS Pathog   \n",
       "\n",
       "   mag_id  who_covidence_id arxiv_id  \\\n",
       "0     NaN               NaN      NaN   \n",
       "1     NaN               NaN      NaN   \n",
       "2     NaN               NaN      NaN   \n",
       "3     NaN               NaN      NaN   \n",
       "4     NaN               NaN      NaN   \n",
       "\n",
       "                                      pdf_json_files  \\\n",
       "0  document_parses/pdf_json/c6bf372c094f035a51497...   \n",
       "1  document_parses/pdf_json/c65f0939cf35a0f04bf93...   \n",
       "2  document_parses/pdf_json/a009c8efa4c5f13a5e604...   \n",
       "3  document_parses/pdf_json/b411e12b20d883ef2ee5c...   \n",
       "4  document_parses/pdf_json/513d5ea4db4eb8e94c14c...   \n",
       "\n",
       "                                 pmc_json_files  \\\n",
       "0  document_parses/pmc_json/PMC1373654.xml.json   \n",
       "1  document_parses/pmc_json/PMC1876810.xml.json   \n",
       "2  document_parses/pmc_json/PMC2632504.xml.json   \n",
       "3  document_parses/pmc_json/PMC2703908.xml.json   \n",
       "4  document_parses/pmc_json/PMC2816698.xml.json   \n",
       "\n",
       "                                                 url  s2_id  \n",
       "0  https://www.ncbi.nlm.nih.gov/pmc/articles/PMC1...    NaN  \n",
       "1  https://www.ncbi.nlm.nih.gov/pmc/articles/PMC1...    NaN  \n",
       "2  https://academic.oup.com/schizophreniabulletin...    NaN  \n",
       "3  https://www.ncbi.nlm.nih.gov/pmc/articles/PMC2...    NaN  \n",
       "4  https://www.ncbi.nlm.nih.gov/pmc/articles/PMC2...    NaN  "
      ]
     },
     "execution_count": 2,
     "metadata": {},
     "output_type": "execute_result"
    }
   ],
   "source": [
    "# Load Meta data from meta_10k.csv\n",
    "#data_root = '/content/drive/MyDrive/CORD_19/'\n",
    "data_root = 'data/'\n",
    "\n",
    "metadata_path = os.path.join(data_root, 'meta_10k.csv')\n",
    "meta_df = pd.read_csv(metadata_path, dtype={\n",
    "    'pubmed_id': str,\n",
    "    'Microsoft Academic Paper ID': str,\n",
    "    'doi': str\n",
    "})\n",
    "\n",
    "print(len(meta_df))\n",
    "meta_df.head()"
   ]
  },
  {
   "cell_type": "code",
   "execution_count": 3,
   "id": "e1b611f0",
   "metadata": {
    "colab": {
     "base_uri": "https://localhost:8080/"
    },
    "id": "e1b611f0",
    "outputId": "30b26c96-07b0-4490-e5c8-b09a73d75945"
   },
   "outputs": [
    {
     "name": "stdout",
     "output_type": "stream",
     "text": [
      "<class 'pandas.core.frame.DataFrame'>\n",
      "RangeIndex: 9022 entries, 0 to 9021\n",
      "Data columns (total 20 columns):\n",
      " #   Column            Non-Null Count  Dtype  \n",
      "---  ------            --------------  -----  \n",
      " 0   Unnamed: 0        9022 non-null   int64  \n",
      " 1   cord_uid          9022 non-null   object \n",
      " 2   sha               9022 non-null   object \n",
      " 3   source_x          9022 non-null   object \n",
      " 4   title             9022 non-null   object \n",
      " 5   doi               8599 non-null   object \n",
      " 6   pmcid             7942 non-null   object \n",
      " 7   pubmed_id         6986 non-null   object \n",
      " 8   license           9022 non-null   object \n",
      " 9   abstract          8289 non-null   object \n",
      " 10  publish_time      9022 non-null   object \n",
      " 11  authors           9009 non-null   object \n",
      " 12  journal           8095 non-null   object \n",
      " 13  mag_id            0 non-null      float64\n",
      " 14  who_covidence_id  0 non-null      float64\n",
      " 15  arxiv_id          480 non-null    object \n",
      " 16  pdf_json_files    9022 non-null   object \n",
      " 17  pmc_json_files    7414 non-null   object \n",
      " 18  url               9022 non-null   object \n",
      " 19  s2_id             7469 non-null   float64\n",
      "dtypes: float64(3), int64(1), object(16)\n",
      "memory usage: 1.4+ MB\n"
     ]
    }
   ],
   "source": [
    "meta_df.info()"
   ]
  },
  {
   "cell_type": "code",
   "execution_count": 4,
   "id": "c3139be0",
   "metadata": {
    "colab": {
     "base_uri": "https://localhost:8080/"
    },
    "id": "c3139be0",
    "outputId": "5cdaf76c-167c-4a56-b786-2838a18700f1"
   },
   "outputs": [
    {
     "name": "stdout",
     "output_type": "stream",
     "text": [
      "data/subset/document_parses/pdf_json/\n",
      "total json files: 12000\n"
     ]
    }
   ],
   "source": [
    "def glob_files(path, f_type=\".json\"):\n",
    "    dst = []\n",
    "    for root, _, files in os.walk(path):\n",
    "        for f in files:\n",
    "            if f.endswith(f_type):\n",
    "                dst.append(os.path.join(root, f))\n",
    "    return dst\n",
    "\n",
    "# glob json files\n",
    "json_dir = os.path.join(data_root, \"subset/document_parses/pdf_json/\")\n",
    "print(json_dir)\n",
    "json_files = glob_files(json_dir, \".json\")\n",
    "\n",
    "print(\"total json files:\", len(json_files))"
   ]
  },
  {
   "cell_type": "code",
   "execution_count": 5,
   "id": "20fb57d2",
   "metadata": {
    "colab": {
     "base_uri": "https://localhost:8080/"
    },
    "id": "20fb57d2",
    "outputId": "03c330eb-ba5a-4a05-81f6-420b007e3d43"
   },
   "outputs": [
    {
     "name": "stdout",
     "output_type": "stream",
     "text": [
      "072441bc475dd40d50673fa830b4202d64ca439d: Access to and challenges in water, sanitation, and hygiene in healthcare facilities during the early phase of the COVID-19 pandemic in Ethiopia: A mixed-methods evaluation : Inadequate water, sanitation, and hygiene (WASH) in healthcare facilities (HCFs) have an impact on the transmission of infectious diseases, including COVID-19 pandemic. But, there is limited data on t... supply. The absence of a specific budget for WASH facilities, non-functional water pipes, the absence of water-quality monitoring systems, and frequent water interruptions were the major problems with...\n"
     ]
    }
   ],
   "source": [
    "class FileReader:\n",
    "    def __init__(self, file_path):\n",
    "        with open(file_path) as file:\n",
    "            content = json.load(file)\n",
    "            self.paper_id = content['paper_id']\n",
    "            self.abstract = []\n",
    "            self.body_text = []\n",
    "            # Abstract\n",
    "            for entry in content['abstract']:\n",
    "                self.abstract.append(entry['text'])\n",
    "            # Body text\n",
    "            for entry in content['body_text']:\n",
    "                self.body_text.append(entry['text'])\n",
    "            self.abstract = '\\n'.join(self.abstract)\n",
    "            self.body_text = '\\n'.join(self.body_text)\n",
    "\n",
    "            self.title = content['metadata']['title']\n",
    "\n",
    "            #dict_keys(['paper_id', 'metadata', 'abstract', 'body_text',\n",
    "            #'bib_entries', 'ref_entries', 'back_matter'])\n",
    "\n",
    "\n",
    "    def __repr__(self):\n",
    "        return f\"{self.paper_id}: {self.title } : {self.abstract[:200]}... {self.body_text[:200]}...\"\n",
    "\n",
    "\n",
    "first_row = FileReader(json_files[0])\n",
    "print(first_row)"
   ]
  },
  {
   "cell_type": "code",
   "execution_count": 6,
   "id": "96a78cce",
   "metadata": {
    "colab": {
     "base_uri": "https://localhost:8080/",
     "height": 398
    },
    "id": "96a78cce",
    "outputId": "db3e15b8-5496-4752-901a-a0e8a39f3628"
   },
   "outputs": [
    {
     "name": "stderr",
     "output_type": "stream",
     "text": [
      "100%|██████████| 12000/12000 [00:13<00:00, 912.89it/s]\n"
     ]
    },
    {
     "data": {
      "text/html": [
       "<div>\n",
       "<style scoped>\n",
       "    .dataframe tbody tr th:only-of-type {\n",
       "        vertical-align: middle;\n",
       "    }\n",
       "\n",
       "    .dataframe tbody tr th {\n",
       "        vertical-align: top;\n",
       "    }\n",
       "\n",
       "    .dataframe thead th {\n",
       "        text-align: right;\n",
       "    }\n",
       "</style>\n",
       "<table border=\"1\" class=\"dataframe\">\n",
       "  <thead>\n",
       "    <tr style=\"text-align: right;\">\n",
       "      <th></th>\n",
       "      <th>paper_id</th>\n",
       "      <th>publish_time</th>\n",
       "      <th>doi</th>\n",
       "      <th>abstract</th>\n",
       "      <th>body_text</th>\n",
       "      <th>authors</th>\n",
       "      <th>title</th>\n",
       "      <th>journal</th>\n",
       "      <th>abstract_summary</th>\n",
       "    </tr>\n",
       "  </thead>\n",
       "  <tbody>\n",
       "    <tr>\n",
       "      <th>0</th>\n",
       "      <td>5e0c586f047ff909c8ed3fe171c8975a90608d08</td>\n",
       "      <td>2018-08-30</td>\n",
       "      <td>10.1186/s12985-018-1042-3</td>\n",
       "      <td>Background: Porcine epidemic diarrhea virus (P...</td>\n",
       "      <td>Porcine epidemic diarrhea virus (PEDV), which ...</td>\n",
       "      <td>Gong, Lang.  Lin, Ying.  Qin, Jianru.  Li,&lt;br...</td>\n",
       "      <td>Neutralizing antibodies against porcine&lt;br&gt;ep...</td>\n",
       "      <td>Virol J</td>\n",
       "      <td>Background: Porcine epidemic diarrhea virus&lt;b...</td>\n",
       "    </tr>\n",
       "    <tr>\n",
       "      <th>1</th>\n",
       "      <td>81b2c4bef0f1d7b508ff38e5002e5338860a863e</td>\n",
       "      <td>2021-05-01</td>\n",
       "      <td>10.1007/s42452-021-04589-2</td>\n",
       "      <td>This paper presents an approach to access real...</td>\n",
       "      <td>Underground mining industry is essential to ru...</td>\n",
       "      <td>RayChowdhury, Ankita.  Pramanik, Ankita.  Roy...</td>\n",
       "      <td>New approach for localization and smart data&lt;...</td>\n",
       "      <td>SN Appl Sci</td>\n",
       "      <td>This paper presents an approach to access rea...</td>\n",
       "    </tr>\n",
       "    <tr>\n",
       "      <th>2</th>\n",
       "      <td>3a33dd3f90004f77dc936e64720d3a17de99b14f</td>\n",
       "      <td>2021-09-27</td>\n",
       "      <td>10.3390/biology10100969</td>\n",
       "      <td>Citation: Rojo-Tirado, M.A.; Benítez-Muñoz, J....</td>\n",
       "      <td>Due to the SARS-CoV2 pandemic, declared by the...</td>\n",
       "      <td>Rojo-Tirado, Miguel A..  Benítez-Muñoz, José&lt;...</td>\n",
       "      <td>Effect of Different Types of Face Masks on th...</td>\n",
       "      <td>Biology (Basel)</td>\n",
       "      <td>Citation: Rojo-Tirado, M.A.; Benítez-Muñoz,&lt;b...</td>\n",
       "    </tr>\n",
       "    <tr>\n",
       "      <th>3</th>\n",
       "      <td>91ee398ce41826520f17d182c7b1d19083e70541</td>\n",
       "      <td>2022-03-11</td>\n",
       "      <td>10.1007/s11739-022-02955-5</td>\n",
       "      <td>We examined the characteristics of pro-calcito...</td>\n",
       "      <td>Pro-calcitonin (PCT) is a biomarker of bacteri...</td>\n",
       "      <td>So, Wonhee.  Simon, Matthew S..  Choi, Justin...</td>\n",
       "      <td>Characteristics of procalcitonin in&lt;br&gt;hospit...</td>\n",
       "      <td>Intern Emerg Med</td>\n",
       "      <td>We examined the characteristics of&lt;br&gt;pro-cal...</td>\n",
       "    </tr>\n",
       "    <tr>\n",
       "      <th>4</th>\n",
       "      <td>0d3bad819324b204c21d460a91c4cbacc536e4d1</td>\n",
       "      <td>2021-03-23</td>\n",
       "      <td>10.1093/infdis/jiab147</td>\n",
       "      <td>Human rhinovirus triggers an innate immune res...</td>\n",
       "      <td>A c c e p t e d M a n u s c r i p t 5\\nThe rap...</td>\n",
       "      <td>Dee, Kieran.  Goldfarb, Daniel M.  Haney,&lt;br&gt;...</td>\n",
       "      <td>Human rhinovirus infection blocks SARS-CoV-2&lt;...</td>\n",
       "      <td>J Infect Dis</td>\n",
       "      <td>Human rhinovirus triggers an innate immune&lt;br...</td>\n",
       "    </tr>\n",
       "  </tbody>\n",
       "</table>\n",
       "</div>"
      ],
      "text/plain": [
       "                                   paper_id publish_time  \\\n",
       "0  5e0c586f047ff909c8ed3fe171c8975a90608d08   2018-08-30   \n",
       "1  81b2c4bef0f1d7b508ff38e5002e5338860a863e   2021-05-01   \n",
       "2  3a33dd3f90004f77dc936e64720d3a17de99b14f   2021-09-27   \n",
       "3  91ee398ce41826520f17d182c7b1d19083e70541   2022-03-11   \n",
       "4  0d3bad819324b204c21d460a91c4cbacc536e4d1   2021-03-23   \n",
       "\n",
       "                          doi  \\\n",
       "0   10.1186/s12985-018-1042-3   \n",
       "1  10.1007/s42452-021-04589-2   \n",
       "2     10.3390/biology10100969   \n",
       "3  10.1007/s11739-022-02955-5   \n",
       "4      10.1093/infdis/jiab147   \n",
       "\n",
       "                                            abstract  \\\n",
       "0  Background: Porcine epidemic diarrhea virus (P...   \n",
       "1  This paper presents an approach to access real...   \n",
       "2  Citation: Rojo-Tirado, M.A.; Benítez-Muñoz, J....   \n",
       "3  We examined the characteristics of pro-calcito...   \n",
       "4  Human rhinovirus triggers an innate immune res...   \n",
       "\n",
       "                                           body_text  \\\n",
       "0  Porcine epidemic diarrhea virus (PEDV), which ...   \n",
       "1  Underground mining industry is essential to ru...   \n",
       "2  Due to the SARS-CoV2 pandemic, declared by the...   \n",
       "3  Pro-calcitonin (PCT) is a biomarker of bacteri...   \n",
       "4  A c c e p t e d M a n u s c r i p t 5\\nThe rap...   \n",
       "\n",
       "                                             authors  \\\n",
       "0   Gong, Lang.  Lin, Ying.  Qin, Jianru.  Li,<br...   \n",
       "1   RayChowdhury, Ankita.  Pramanik, Ankita.  Roy...   \n",
       "2   Rojo-Tirado, Miguel A..  Benítez-Muñoz, José<...   \n",
       "3   So, Wonhee.  Simon, Matthew S..  Choi, Justin...   \n",
       "4   Dee, Kieran.  Goldfarb, Daniel M.  Haney,<br>...   \n",
       "\n",
       "                                               title           journal  \\\n",
       "0   Neutralizing antibodies against porcine<br>ep...           Virol J   \n",
       "1   New approach for localization and smart data<...       SN Appl Sci   \n",
       "2   Effect of Different Types of Face Masks on th...   Biology (Basel)   \n",
       "3   Characteristics of procalcitonin in<br>hospit...  Intern Emerg Med   \n",
       "4   Human rhinovirus infection blocks SARS-CoV-2<...      J Infect Dis   \n",
       "\n",
       "                                    abstract_summary  \n",
       "0   Background: Porcine epidemic diarrhea virus<b...  \n",
       "1   This paper presents an approach to access rea...  \n",
       "2   Citation: Rojo-Tirado, M.A.; Benítez-Muñoz,<b...  \n",
       "3   We examined the characteristics of<br>pro-cal...  \n",
       "4   Human rhinovirus triggers an innate immune<br...  "
      ]
     },
     "execution_count": 6,
     "metadata": {},
     "output_type": "execute_result"
    }
   ],
   "source": [
    "from tqdm import tqdm\n",
    "\n",
    "def get_breaks(content, length):\n",
    "    data = \"\"\n",
    "    words = content.split(' ')\n",
    "    total_chars = 0\n",
    "\n",
    "    # add break every length characters\n",
    "    for i in range(len(words)):\n",
    "        total_chars += len(words[i])\n",
    "        if total_chars > length:\n",
    "            data = data + \"<br>\" + words[i]\n",
    "            total_chars = 0\n",
    "        else:\n",
    "            data = data + \" \" + words[i]\n",
    "    return data\n",
    "\n",
    "\n",
    "dict_ = {'paper_id': [], 'publish_time': [], 'doi':[], 'abstract': [], 'body_text': [],\n",
    "         'authors': [], 'title': [], 'journal': [], 'abstract_summary': []}\n",
    "\n",
    "\n",
    "for idx, entry in tqdm(enumerate(json_files), total=len(json_files)):\n",
    "    try:\n",
    "        content = FileReader(entry)\n",
    "    except Exception as e:\n",
    "        continue  # invalid paper format, skip\n",
    "\n",
    "    # get metadata information\n",
    "    meta_data = meta_df.loc[meta_df['sha'] == content.paper_id]\n",
    "    # no metadata, skip this paper\n",
    "    if len(meta_data) == 0:\n",
    "        continue\n",
    "    if len(content.body_text) == 0:\n",
    "        continue\n",
    "    dict_['abstract'].append(content.abstract)\n",
    "    dict_['paper_id'].append(content.paper_id)\n",
    "    dict_['body_text'].append(content.body_text)\n",
    "    \n",
    "    # also create a column for the summary of abstract to be used in a plot\n",
    "    if len(content.abstract) == 0:\n",
    "        # no abstract provided\n",
    "        dict_['abstract_summary'].append(\"Not provided.\")\n",
    "    elif len(content.abstract.split(' ')) > 100:\n",
    "        # abstract provided is too long for plot, take first 300 words append with ...\n",
    "        info = content.abstract.split(' ')[:100]\n",
    "        summary = get_breaks(' '.join(info), 40)\n",
    "        dict_['abstract_summary'].append(summary + \"...\")\n",
    "    else:\n",
    "        # abstract is short enough\n",
    "        summary = get_breaks(content.abstract, 40)\n",
    "        dict_['abstract_summary'].append(summary)\n",
    "\n",
    "    # get metadata information\n",
    "    meta_data = meta_df.loc[meta_df['sha'] == content.paper_id]\n",
    "\n",
    "    try:\n",
    "        # if more than one author\n",
    "        authors = meta_data['authors'].values[0].split(';')\n",
    "        if len(authors) > 2:\n",
    "            # more than 2 authors, may be problem when plotting, so take first 2 append with ...\n",
    "            dict_['authors'].append(get_breaks('. '.join(authors), 40))\n",
    "        else:\n",
    "            # authors will fit in plot\n",
    "            dict_['authors'].append(\". \".join(authors))\n",
    "    except Exception as e:\n",
    "        # if only one author - or Null valie\n",
    "        dict_['authors'].append(meta_data['authors'].values[0])\n",
    "\n",
    "    # add the title information, add breaks when needed\n",
    "    try:\n",
    "        title = get_breaks(meta_data['title'].values[0], 40)\n",
    "        dict_['title'].append(title)\n",
    "    # if title was not provided\n",
    "    except Exception as e:\n",
    "        dict_['title'].append(meta_data['title'].values[0])\n",
    "\n",
    "    # add the journal information\n",
    "    dict_['journal'].append(meta_data['journal'].values[0])\n",
    "\n",
    "    # add doi\n",
    "    dict_['doi'].append(meta_data['doi'].values[0])\n",
    "\n",
    "    # add publish time\n",
    "    publish_time = meta_data['publish_time'].values[0]\n",
    "    if len(publish_time) > 4:\n",
    "        publish_time = datetime.strptime(publish_time, '%Y-%m-%d') \n",
    "    elif len(publish_time) == 4:\n",
    "        publish_time += '-01-01'\n",
    "        publish_time = datetime.strptime(publish_time, '%Y-%m-%d')\n",
    "        \n",
    "    dict_['publish_time'].append(publish_time)\n",
    "\n",
    "df_covid = pd.DataFrame(dict_, columns=['paper_id', 'publish_time', 'doi', 'abstract', 'body_text',\n",
    "                                        'authors', 'title', 'journal', 'abstract_summary'])\n",
    "df_covid.head()"
   ]
  },
  {
   "cell_type": "code",
   "execution_count": 7,
   "id": "2c2974a3",
   "metadata": {
    "colab": {
     "base_uri": "https://localhost:8080/"
    },
    "id": "2c2974a3",
    "outputId": "9bc51e71-1d4d-4404-cb1d-b71b658b9349"
   },
   "outputs": [
    {
     "name": "stdout",
     "output_type": "stream",
     "text": [
      "<class 'pandas.core.frame.DataFrame'>\n",
      "RangeIndex: 9022 entries, 0 to 9021\n",
      "Data columns (total 9 columns):\n",
      " #   Column            Non-Null Count  Dtype         \n",
      "---  ------            --------------  -----         \n",
      " 0   paper_id          9022 non-null   object        \n",
      " 1   publish_time      9022 non-null   datetime64[ns]\n",
      " 2   doi               8599 non-null   object        \n",
      " 3   abstract          9022 non-null   object        \n",
      " 4   body_text         9022 non-null   object        \n",
      " 5   authors           9009 non-null   object        \n",
      " 6   title             9022 non-null   object        \n",
      " 7   journal           8095 non-null   object        \n",
      " 8   abstract_summary  9022 non-null   object        \n",
      "dtypes: datetime64[ns](1), object(8)\n",
      "memory usage: 634.5+ KB\n"
     ]
    }
   ],
   "source": [
    "df_covid.info()"
   ]
  },
  {
   "cell_type": "code",
   "execution_count": 8,
   "id": "4f9af672",
   "metadata": {
    "colab": {
     "base_uri": "https://localhost:8080/"
    },
    "id": "4f9af672",
    "outputId": "eceec098-206e-4fe8-d85b-f848a93e4720"
   },
   "outputs": [
    {
     "name": "stdout",
     "output_type": "stream",
     "text": [
      "<class 'pandas.core.frame.DataFrame'>\n",
      "Index: 8070 entries, 0 to 9021\n",
      "Data columns (total 9 columns):\n",
      " #   Column            Non-Null Count  Dtype         \n",
      "---  ------            --------------  -----         \n",
      " 0   paper_id          8070 non-null   object        \n",
      " 1   publish_time      8070 non-null   datetime64[ns]\n",
      " 2   doi               8070 non-null   object        \n",
      " 3   abstract          8070 non-null   object        \n",
      " 4   body_text         8070 non-null   object        \n",
      " 5   authors           8070 non-null   object        \n",
      " 6   title             8070 non-null   object        \n",
      " 7   journal           8070 non-null   object        \n",
      " 8   abstract_summary  8070 non-null   object        \n",
      "dtypes: datetime64[ns](1), object(8)\n",
      "memory usage: 630.5+ KB\n"
     ]
    }
   ],
   "source": [
    "df = df_covid\n",
    "df.dropna(inplace=True)\n",
    "df.info()"
   ]
  },
  {
   "cell_type": "code",
   "execution_count": 9,
   "id": "f2eacd72",
   "metadata": {
    "colab": {
     "base_uri": "https://localhost:8080/"
    },
    "id": "f2eacd72",
    "outputId": "0b8d3e3f-4841-4e5f-fd23-55297ac27fb6"
   },
   "outputs": [
    {
     "name": "stderr",
     "output_type": "stream",
     "text": [
      "100%|██████████| 8070/8070 [00:14<00:00, 563.82it/s]\n"
     ]
    }
   ],
   "source": [
    "from tqdm import tqdm\n",
    "from langdetect import detect\n",
    "from langdetect import DetectorFactory\n",
    "\n",
    "# set seed\n",
    "DetectorFactory.seed = 0\n",
    "\n",
    "# hold label - language\n",
    "languages = []\n",
    "\n",
    "# go through each text\n",
    "for ii in tqdm(range(0,len(df))):\n",
    "    # split by space into list, take the first x intex, join with space\n",
    "    text = df.iloc[ii]['body_text'].split(\" \")\n",
    "\n",
    "    lang = \"en\"\n",
    "    try:\n",
    "        if len(text) > 50:\n",
    "            lang = detect(\" \".join(text[:50]))\n",
    "        elif len(text) > 0:\n",
    "            lang = detect(\" \".join(text[:len(text)]))\n",
    "    # ught... beginning of the document was not in a good format\n",
    "    except Exception as e:\n",
    "        all_words = set(text)\n",
    "        try:\n",
    "            lang = detect(\" \".join(all_words))\n",
    "        # what!! :( let's see if we can find any text in abstract...\n",
    "        except Exception as e:\n",
    "\n",
    "            try:\n",
    "                # let's try to label it through the abstract then\n",
    "                lang = detect(df.iloc[ii]['abstract_summary'])\n",
    "            except Exception as e:\n",
    "                lang = \"unknown\"\n",
    "                pass\n",
    "\n",
    "    # get the language\n",
    "    languages.append(lang)"
   ]
  },
  {
   "cell_type": "code",
   "execution_count": 10,
   "id": "7e7396f0",
   "metadata": {
    "colab": {
     "base_uri": "https://localhost:8080/"
    },
    "id": "7e7396f0",
    "outputId": "d54ed418-c5dd-4cb3-b9ab-2ed07790843a"
   },
   "outputs": [
    {
     "name": "stdout",
     "output_type": "stream",
     "text": [
      "Total: 8070\n",
      "\n",
      "{'de': 20, 'en': 8028, 'es': 13, 'fr': 6, 'id': 1, 'nl': 2}\n"
     ]
    }
   ],
   "source": [
    "from pprint import pprint\n",
    "\n",
    "languages_dict = {}\n",
    "for lang in set(languages):\n",
    "    languages_dict[lang] = languages.count(lang)\n",
    "\n",
    "print(\"Total: {}\\n\".format(len(languages)))\n",
    "pprint(languages_dict)"
   ]
  },
  {
   "cell_type": "code",
   "execution_count": 11,
   "id": "e667fa35",
   "metadata": {
    "colab": {
     "base_uri": "https://localhost:8080/"
    },
    "id": "e667fa35",
    "outputId": "38d0a17b-79c7-42de-be9b-e02922c23f11"
   },
   "outputs": [
    {
     "name": "stdout",
     "output_type": "stream",
     "text": [
      "<class 'pandas.core.frame.DataFrame'>\n",
      "Index: 8028 entries, 0 to 9021\n",
      "Data columns (total 10 columns):\n",
      " #   Column            Non-Null Count  Dtype         \n",
      "---  ------            --------------  -----         \n",
      " 0   paper_id          8028 non-null   object        \n",
      " 1   publish_time      8028 non-null   datetime64[ns]\n",
      " 2   doi               8028 non-null   object        \n",
      " 3   abstract          8028 non-null   object        \n",
      " 4   body_text         8028 non-null   object        \n",
      " 5   authors           8028 non-null   object        \n",
      " 6   title             8028 non-null   object        \n",
      " 7   journal           8028 non-null   object        \n",
      " 8   abstract_summary  8028 non-null   object        \n",
      " 9   language          8028 non-null   object        \n",
      "dtypes: datetime64[ns](1), object(9)\n",
      "memory usage: 689.9+ KB\n"
     ]
    }
   ],
   "source": [
    "df['language'] = languages\n",
    "df = df[df['language'] == 'en']\n",
    "df.info()"
   ]
  },
  {
   "cell_type": "markdown",
   "id": "ad4bf462",
   "metadata": {},
   "source": [
    "# Histogram of year / journal"
   ]
  },
  {
   "cell_type": "code",
   "execution_count": 12,
   "id": "0a271317",
   "metadata": {},
   "outputs": [
    {
     "name": "stdout",
     "output_type": "stream",
     "text": [
      "<class 'pandas.core.frame.DataFrame'>\n",
      "Index: 7737 entries, 0 to 9021\n",
      "Data columns (total 11 columns):\n",
      " #   Column            Non-Null Count  Dtype         \n",
      "---  ------            --------------  -----         \n",
      " 0   paper_id          7737 non-null   object        \n",
      " 1   publish_time      7737 non-null   datetime64[ns]\n",
      " 2   doi               7737 non-null   object        \n",
      " 3   abstract          7737 non-null   object        \n",
      " 4   body_text         7737 non-null   object        \n",
      " 5   authors           7737 non-null   object        \n",
      " 6   title             7737 non-null   object        \n",
      " 7   journal           7737 non-null   object        \n",
      " 8   abstract_summary  7737 non-null   object        \n",
      " 9   language          7737 non-null   object        \n",
      " 10  publish_year      7737 non-null   int32         \n",
      "dtypes: datetime64[ns](1), int32(1), object(9)\n",
      "memory usage: 695.1+ KB\n"
     ]
    }
   ],
   "source": [
    "#keep 2010 later\n",
    "df = df[df['publish_time'].dt.year >= 2010]\n",
    "df['publish_year'] = df['publish_time'].dt.year\n",
    "df.info()"
   ]
  },
  {
   "cell_type": "code",
   "execution_count": 13,
   "id": "5b707bb3",
   "metadata": {},
   "outputs": [
    {
     "data": {
      "text/plain": [
       "[Text(0, 0, '59'),\n",
       " Text(0, 0, '66'),\n",
       " Text(0, 0, '70'),\n",
       " Text(0, 0, '76'),\n",
       " Text(0, 0, '74'),\n",
       " Text(0, 0, '79'),\n",
       " Text(0, 0, '100'),\n",
       " Text(0, 0, '97'),\n",
       " Text(0, 0, '100'),\n",
       " Text(0, 0, '140'),\n",
       " Text(0, 0, '2064'),\n",
       " Text(0, 0, '3537'),\n",
       " Text(0, 0, '1275')]"
      ]
     },
     "execution_count": 13,
     "metadata": {},
     "output_type": "execute_result"
    },
    {
     "data": {
      "image/png": "[encoded data removed]",
      "text/plain": [
       "<Figure size 640x480 with 1 Axes>"
      ]
     },
     "metadata": {},
     "output_type": "display_data"
    }
   ],
   "source": [
    "import seaborn as sns\n",
    "\n",
    "ax = sns.histplot(df[\"publish_year\"], color='lightgreen', edgecolor='red', bins=13) \n",
    "ax.bar_label(ax.containers[0])"
   ]
  },
  {
   "cell_type": "markdown",
   "id": "01f96bc7",
   "metadata": {},
   "source": [
    "# Histogram of Journal"
   ]
  },
  {
   "cell_type": "code",
   "execution_count": 23,
   "id": "ae1437d5",
   "metadata": {},
   "outputs": [
    {
     "data": {
      "text/plain": [
       "<bound method NDFrame.head of                                       paper_id publish_time  \\\n",
       "7     558a983bdb9af64c95042df9b0766d021a415df2   2021-05-25   \n",
       "10    8d9b3e8675a84f1878acb70c48469a299efa7362   2021-11-15   \n",
       "16    92312f877a8530d8ebf5564a08b4520e5a8d0a37   2021-06-18   \n",
       "34    fb0368a2b50a4861533301413935d7d63d21564a   2021-10-14   \n",
       "45    5fd70b490a118989ae475ec05fe5f344cd38c522   2021-09-24   \n",
       "...                                        ...          ...   \n",
       "8969  bab276604cdc9e06ee6df8fa921f7aa07cef75ac   2020-11-04   \n",
       "8984  1c9fba5073560f4fdd8c06dca39d70cd4c49153f   2021-11-23   \n",
       "8986  18910856b917289b6bb3cc2cef0f78ff82ad4b02   2010-06-25   \n",
       "8987  7351244545d1bf6931dafe757794d9a39bc4a452   2021-08-31   \n",
       "8993  b2fc64d0ed4c25e0a58e1971e510d9b68afef9a5   2022-01-12   \n",
       "\n",
       "                               doi  \\\n",
       "7           10.3390/ijerph18115630   \n",
       "10    10.1371/journal.pone.0259149   \n",
       "16    10.1371/journal.pone.0253451   \n",
       "34         10.3390/ijerph182010807   \n",
       "45         10.3390/ijerph181910062   \n",
       "...                            ...   \n",
       "8969  10.1371/journal.pone.0241466   \n",
       "8984       10.3390/ijerph182312284   \n",
       "8986  10.1371/journal.pone.0011317   \n",
       "8987  10.1371/journal.pone.0250378   \n",
       "8993     10.1101/2022.01.04.474988   \n",
       "\n",
       "                                               abstract  \\\n",
       "7                                                         \n",
       "10    Due to the COVID-induced global collapse in de...   \n",
       "16                                           Background   \n",
       "34    Citation: McKay, K.; O'Nions, E.; Wayland, S.;...   \n",
       "45                                                        \n",
       "...                                                 ...   \n",
       "8969  As the number of global coronavirus disease ca...   \n",
       "8984  Citation: Jiménez-Rodríguez, D.; Arrogante, O....   \n",
       "8986  Public health administrators do not have effec...   \n",
       "8987  The COVID-19 pandemic lead to a sudden shift t...   \n",
       "8993  Due to genome segmentation, rotaviruses must c...   \n",
       "\n",
       "                                              body_text  \\\n",
       "7     Impacts of the coronavirus disease 2019 (COVID...   \n",
       "10    COVID-19 is a highly contagious coronavirus di...   \n",
       "16    In December 2019, severe acute respiratory syn...   \n",
       "34    Preterm birth (birth <37 completed weeks' gest...   \n",
       "45    Antimicrobial resistance (AMR) is a global con...   \n",
       "...                                                 ...   \n",
       "8969  Since coronavirus disease (COVID- 19) was firs...   \n",
       "8984  The World Health Organization considers violen...   \n",
       "8986  Increased influenza vaccination coverage for t...   \n",
       "8987  Two weeks into the lockdown, 75% of students r...   \n",
       "8993  Virions of rotaviruses (RV), a large group of ...   \n",
       "\n",
       "                                                authors  \\\n",
       "7      Oswald, Tassia K..  Rumbold, Alice R..  Kedzi...   \n",
       "10                                Shi, Yin.  Li, Xiaoni   \n",
       "16     Park, Kyu Young.  Seo, Sumin.  Han, Junhee.  ...   \n",
       "34     McKay, Kathy.  O’Nions, Elizabeth.  Wayland,<...   \n",
       "45      Cheoun, Mee-Lang.  Heo, Jongho.  Kim, Woong-Han   \n",
       "...                                                 ...   \n",
       "8969                       Choi, Soo Beom.  Ahn, Insung   \n",
       "8984   Jiménez-Rodríguez, Diana.  Arrogante, Oscar. ...   \n",
       "8986   Chan, Ta-Chien.  Hsiao, Chuhsing Kate.  Lee,<...   \n",
       "8987   Almendingen, Kari.  Morseth, Marianne<br>Sand...   \n",
       "8993   Coria, Aaztli.  Wienecke, Anastacia. <br>Boro...   \n",
       "\n",
       "                                                  title  \\\n",
       "7      Mental Health of Young Australians during the...   \n",
       "10     Determinants of financial distress in the<br>...   \n",
       "16     Respiratory virus surveillance in Canada<br>d...   \n",
       "34     Fears, Reassurance, and Milestones: A Twitter...   \n",
       "45     Antimicrobial Resistance: KAP of Healthcare<b...   \n",
       "...                                                 ...   \n",
       "8969   Forecasting imported COVID-19 cases in South<...   \n",
       "8984   Satisfaction and Beliefs on Gender-Based<br>V...   \n",
       "8986   The Impact of Matching Vaccine Strains and<br...   \n",
       "8987   Student’s experiences with online teaching<br...   \n",
       "8993   Rotavirus RNA chaperone mediates global<br>tr...   \n",
       "\n",
       "                              journal  \\\n",
       "7     Int J Environ Res Public Health   \n",
       "10                           PLoS One   \n",
       "16                           PLoS One   \n",
       "34    Int J Environ Res Public Health   \n",
       "45    Int J Environ Res Public Health   \n",
       "...                               ...   \n",
       "8969                         PLoS One   \n",
       "8984  Int J Environ Res Public Health   \n",
       "8986                         PLoS One   \n",
       "8987                         PLoS One   \n",
       "8993                          bioRxiv   \n",
       "\n",
       "                                       abstract_summary language  publish_year  \n",
       "7                                         Not provided.       en          2021  \n",
       "10     Due to the COVID-induced global collapse in<b...       en          2021  \n",
       "16                                           Background       en          2021  \n",
       "34     Citation: McKay, K.; O'Nions, E.; Wayland, S....       en          2021  \n",
       "45                                        Not provided.       en          2021  \n",
       "...                                                 ...      ...           ...  \n",
       "8969   As the number of global coronavirus disease<b...       en          2020  \n",
       "8984   Citation: Jiménez-Rodríguez, D.; Arrogante,<b...       en          2021  \n",
       "8986   Public health administrators do not have<br>e...       en          2010  \n",
       "8987   The COVID-19 pandemic lead to a sudden shift ...       en          2021  \n",
       "8993   Due to genome segmentation, rotaviruses must<...       en          2022  \n",
       "\n",
       "[717 rows x 11 columns]>"
      ]
     },
     "execution_count": 23,
     "metadata": {},
     "output_type": "execute_result"
    }
   ],
   "source": [
    "a = df.groupby('journal').filter(lambda x: len(x) > 150)\n",
    "a.head"
   ]
  },
  {
   "cell_type": "code",
   "execution_count": 24,
   "id": "e0029056",
   "metadata": {},
   "outputs": [
    {
     "data": {
      "text/plain": [
       "[Text(0, 0, '263'), Text(0, 0, '260'), Text(0, 0, '194')]"
      ]
     },
     "execution_count": 24,
     "metadata": {},
     "output_type": "execute_result"
    },
    {
     "data": {
      "image/png": "[encoded data removed]",
      "text/plain": [
       "<Figure size 640x480 with 1 Axes>"
      ]
     },
     "metadata": {},
     "output_type": "display_data"
    }
   ],
   "source": [
    "bx = sns.histplot(a['journal'], color='lightgreen', edgecolor='red') \n",
    "bx.bar_label(bx.containers[0])\n"
   ]
  },
  {
   "cell_type": "markdown",
   "id": "0414e1fa",
   "metadata": {},
   "source": [
    "# Remove Stop Word"
   ]
  },
  {
   "cell_type": "code",
   "execution_count": null,
   "id": "16519c23",
   "metadata": {},
   "outputs": [],
   "source": [
    "#NLP\n",
    "import spacy\n",
    "import string\n",
    "from spacy.lang.en import STOP_WORDS\n",
    "\n",
    "punctuations = string.punctuation\n",
    "stopwords = list(STOP_WORDS)\n",
    "stopwords[0:10]\n",
    "\n",
    "custom_stop_words = [\n",
    "    'doi','preprint','copyright','peer','reviewed','org','https','et','al','author','figure',\n",
    "    'rights','reserved','permission','used','using','biorxiv','medrxiv','license','fig','fig.',\n",
    "    'al.','Elsevier','PMC','CZI',\n",
    "    'a', 'after', 'also', 'an', 'and', 'as', 'at', 'base', 'between', 'but', 'by', 'did', 'do', 'does', 'during', 'for', 'from', \n",
    "    'have', 'has', 'had', 'however',\n",
    "    'in', 'is', 'it', 'its', 'new', 'of', 'on', 'or', \n",
    "    'that', 'the', 'to', 'use', 'using', 'was', 'we', 'were', 'which', 'with', '='\n",
    "]\n",
    "\n",
    "for w in custom_stop_words:\n",
    "    if w not in stopwords:\n",
    "        stopwords.append(w)\n",
    "\n",
    "# Parser\n",
    "#parser = en_core_sci_lg.load(disable=[\"tagger\",\"ner\"])\n",
    "#nlp = spacy.load('en_core_web_sm',disable=[\"tagger\",\"ner\"])\n",
    "nlp = spacy.load('en_core_web_sm',disable=[\"tagger\",\"parser\",\"ner\"]) # Only tokenization and lemmation are performed, POS tagging, NER and syntactic parsing are skipped.\n",
    "nlp.max_length = 7000000\n",
    "\n",
    "stopwords = set(stopwords)\n",
    "punctuations = set(punctuations)\n",
    "print('len(stopwords):',len(stopwords),'len(punctuations):',len(punctuations))\n",
    "\n",
    "def spacy_tokenizer(sentence):\n",
    "    mytokens = nlp(sentence)\n",
    "    mytokens = [word.lemma_.lower().strip() if word.lemma != '-PORN-' else word.lower_ for word in mytokens]\n",
    "    mytokens = [word for word in mytokens if word not in stopwords and word not in punctuations]\n",
    "    mytokens = \" \".join([i for i in mytokens])\n",
    "    return mytokens\n",
    "\n",
    "tqdm.pandas()\n",
    "df['procesed_text'] = df['body_text'].progress_apply(spacy_tokenizer)\n",
    "df['procesed_abstract'] = df['abstract'].progress_apply(spacy_tokenizer)\n",
    "df.head()"
   ]
  },
  {
   "cell_type": "markdown",
   "id": "cae116c4",
   "metadata": {},
   "source": [
    "# Map-Reduce "
   ]
  },
  {
   "cell_type": "code",
   "execution_count": null,
   "id": "1d54ec16",
   "metadata": {},
   "outputs": [],
   "source": [
    "import csv\n",
    "import re\n",
    "from collections import defaultdict\n",
    "from functools import reduce\n",
    "\n",
    "# Sample data: list of documents (each document is a string)\n",
    "documents_MR = []\n",
    "with open(metadata_path, 'r') as csvfile:\n",
    "    reader = csv.reader(csvfile)\n",
    "    for row in reader:\n",
    "        documents_MR.append(row[4])  # Assuming the 4th column is at index 3 (0-based indexing)\n",
    "        documents_MR.append(row[9])  # Assuming the 9th column is at index 4 (0-based indexing)\n",
    "\n",
    "\n",
    "# Specify the words to include in the stoplist\n",
    "stop_words_upper = [\"A\", \"After\", \"Also\", \"An\", \"And\", \"As\", \"At\", \"Base\", \"Between\", \"But\", \"By\", \"Did\", \"Do\", \"Does\", \"During\", \"For\", \"From\", \"Have\", \"Has\", \"Had\", \"However\",\n",
    "                    \"In\", \"Is\", \"It\", \"Its\", \"New\", \"Of\", \"On\", \"Or\", \"That\", \"The\", \"To\", \"Use\", \"Using\", \"Was\", \"We\", \"Were\", \"Which\", \"With\", \"=\"]\n",
    "stop_words_lower = [word.lower() for word in stop_words_upper]\n",
    "\n",
    "# Mapper function\n",
    "def map_function(documents_MR):\n",
    "    # Split the document into words and assign an ID to each word\n",
    "    for idx, word in enumerate(documents_MR.split(), start=1):\n",
    "      yield (word.lower(), 1)\n",
    "\n",
    "# Step 1: Map phase\n",
    "mapped = []\n",
    "for documents_MR in documents_MR:\n",
    "    mapped.extend(map_function(documents_MR))\n",
    "\n",
    "# Step 2: Shuffle and sort phase (group by key)\n",
    "shuffled = defaultdict(list)\n",
    "for word, count in mapped:\n",
    "    shuffled[word].append(count)\n",
    "\n",
    "# Step 3: Reduce phase\n",
    "reduced = {}\n",
    "for word, counts in shuffled.items():\n",
    "    reduced[word] = reduce(lambda x, y: x + y, counts)\n",
    "\n",
    "# Step 4: Merge the counts of words with uppercase and lowercase versions together\n",
    "merged_counts = defaultdict(int)\n",
    "for word, count in reduced.items():\n",
    "    merged_word = re.sub(r'[^a-zA-Z0-9]', '', word)\n",
    "    # Remove non-alphanumeric characters\n",
    "    merged_counts[merged_word.lower()] += count\n",
    "\n",
    "# Step 5.1: filter out the stop words\n",
    "filtered = {word: count for word, count in reduced.items() if word not in stop_words_upper and word not in stop_words_lower}\n",
    "\n",
    "# Step 5.2: Sort the filtered words by count in descending order\n",
    "sorted_words = sorted(filtered.items(), key=lambda x: x[1], reverse=True)\n",
    "sorted_words_unfilter = sorted(reduced.items(), key=lambda x: x[1], reverse=True)\n",
    "\n",
    "# Step 5.3: Get the top 50 prevalent words\n",
    "top50_filtered = sorted_words[:50]\n",
    "top50_unfilter = sorted_words_unfilter[:80]\n",
    "\n",
    "\n",
    "# Step 6.1: Print the table of the top 50 prevalent words without stop words list\n",
    "print(\"Top 80 Prevalent Words without stopwords:\")\n",
    "print(f\"{'ID':<4}{'Word':<20}{'Count'}\")\n",
    "print(\"-----------------------------\")\n",
    "for idx, (word, count) in enumerate(top50_unfilter, start=1):\n",
    "    print(f\"{idx:<4}{word:<20}{count}\")\n",
    "print(\"\\n\"+\"\\n\")\n"
   ]
  },
  {
   "cell_type": "code",
   "execution_count": null,
   "id": "c7a84c92",
   "metadata": {},
   "outputs": [],
   "source": [
    "\n",
    "# Step 6.2: Print the table of the top 50 prevalent words with IDs\n",
    "print(\"Top 50 Prevalent Words:\")\n",
    "print(f\"{'ID':<4}{'Word':<20}{'Count'}\")\n",
    "print(\"-----------------------------\")\n",
    "for idx, (word, count) in enumerate(top50_filtered, start=1):\n",
    "    print(f\"{idx:<4}{word:<20}{count}\")"
   ]
  },
  {
   "cell_type": "markdown",
   "id": "ac547210",
   "metadata": {},
   "source": [
    "# Association Analysis"
   ]
  },
  {
   "cell_type": "code",
   "execution_count": null,
   "id": "395a2585",
   "metadata": {},
   "outputs": [],
   "source": [
    "df['procesed_abstract_list'] = df['procesed_abstract'].str.split()\n",
    "df['procesed_abstract_list'].head()"
   ]
  },
  {
   "cell_type": "code",
   "execution_count": null,
   "id": "b4a803b1",
   "metadata": {},
   "outputs": [],
   "source": [
    "from mlxtend.frequent_patterns import apriori, association_rules \n",
    "from mlxtend.preprocessing import TransactionEncoder\n",
    "\n",
    "# Pre-processing\n",
    "te = TransactionEncoder()\n",
    "te_ary = te.fit (df['procesed_abstract_list']).transform(df['procesed_abstract_list'])\n",
    "df_processd_text = pd.DataFrame (te_ary, columns=te.columns_)\n",
    "print(df_processd_text)"
   ]
  },
  {
   "cell_type": "code",
   "execution_count": null,
   "id": "ecad0387",
   "metadata": {},
   "outputs": [],
   "source": [
    "# Building the model \n",
    "frq_items = apriori(df_processd_text, min_support = 0.04, use_colnames = True) \n",
    "frq_items"
   ]
  },
  {
   "cell_type": "code",
   "execution_count": null,
   "id": "f3b12c03",
   "metadata": {},
   "outputs": [],
   "source": [
    "  \n",
    "# Collecting the inferred rules in a dataframe \n",
    "rules = association_rules(frq_items, metric =\"confidence\", min_threshold = 0.5) \n",
    "rules = rules.sort_values(['confidence', 'lift'], ascending =[False, False]) \n",
    "print(rules) "
   ]
  },
  {
   "cell_type": "markdown",
   "id": "48ec6f2e",
   "metadata": {},
   "source": [
    "# Similarity Analysis"
   ]
  },
  {
   "cell_type": "code",
   "execution_count": null,
   "id": "4823d5b4",
   "metadata": {},
   "outputs": [],
   "source": []
  },
  {
   "cell_type": "markdown",
   "id": "adc2e25a",
   "metadata": {},
   "source": [
    "# Clustering Analysis"
   ]
  },
  {
   "cell_type": "code",
   "execution_count": null,
   "id": "ad8a6a73",
   "metadata": {},
   "outputs": [],
   "source": [
    "from sklearn.feature_extraction.text import TfidfVectorizer\n",
    "\n",
    "def vectorize(text,max_feature):\n",
    "    \n",
    "    vectorizer = TfidfVectorizer(max_features=max_feature)\n",
    "    X = vectorizer.fit_transform(text)\n",
    "    \n",
    "    return X\n",
    "\n",
    "text = df['processed_text'].values\n",
    "max_feature = 2**12\n",
    "\n",
    "X = vectorize(text,max_feature)\n",
    "\n",
    "from sklearn.decomposition import PCA\n",
    "from sklearn.cluster import MiniBatchKMeans\n",
    "from sklearn.cluster import KMeans\n",
    "\n",
    "# PCA\n",
    "pca = PCA(n_components=0.95,random_state=42)\n",
    "X_reduced = pca.fit_transform(X.toarray())\n",
    "X_reduced.shape\n",
    "\n",
    "# K Mean Clustering\n",
    "k = 10\n",
    "kmeans = KMeans(n_clusters=k,random_state=42)\n",
    "y_pred = kmeans.fit_predict(X_reduced)\n",
    "df['y'] = y_pred\n",
    "\n",
    "from sklearn.manifold import TSNE\n",
    "from matplotlib import pyplot as plt\n",
    "import seaborn as sns\n",
    "\n",
    "tsne = TSNE(verbose=1,perplexity=50) # Change perplexity from 100 to 50 per FAQ\n",
    "X_embedded = tsne.fit_transform(X.toarray())\n",
    "\n",
    "# sns setting\n",
    "sns.set(rc={'figure.figsize':(15,15)})\n",
    "\n",
    "# color\n",
    "palette = sns.color_palette('bright',1)\n",
    "\n",
    "# plot\n",
    "sns.scatterplot(x=X_embedded[:,0],y=X_embedded[:,1],palette=palette)\n",
    "plt.title('t-SNE with no Labels')\n",
    "plt.savefig('t-sne_covid19.png')\n",
    "plt.show()\n",
    "\n",
    "# sns settings\n",
    "sns.set(rc={'figure.figsize':(13,9)})\n",
    "\n",
    "# color\n",
    "palette = sns.color_palette(20,l=4,s=0.9)\n",
    "\n",
    "# plot\n",
    "sns.scatterplot(x=X_embedded[:,0],y=X_embedded[:,1],hue=y_pred, legend='full',palette=palette)\n",
    "plt.title('t-SNE with Kmeans Labels')\n",
    "plt.savefig('improved_cluster_tsne.png')\n",
    "plt.show()"
   ]
  }
 ],
 "metadata": {
  "colab": {
   "provenance": []
  },
  "kernelspec": {
   "display_name": "Python 3 (ipykernel)",
   "language": "python",
   "name": "python3"
  },
  "language_info": {
   "codemirror_mode": {
    "name": "ipython",
    "version": 3
   },
   "file_extension": ".py",
   "mimetype": "text/x-python",
   "name": "python",
   "nbconvert_exporter": "python",
   "pygments_lexer": "ipython3",
   "version": "3.10.13"
  }
 },
 "nbformat": 4,
 "nbformat_minor": 5
}
