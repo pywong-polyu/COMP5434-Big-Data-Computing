{
 "cells": [
  {
   "cell_type": "markdown",
   "id": "d429ccc6",
   "metadata": {
    "id": "d429ccc6"
   },
   "source": [
    "# About the Dataset\n",
    "\n",
    "The original CORD-19 is a resource of over 1,000,000 scholarly articles, including over 400,000 with full text, about COVID-19, SARS-CoV-2, and related coronaviruses.\n",
    "\n",
    "In our project, the dataset is sampled from the CORD-19 with size ~10,000 to reduce computation burden."
   ]
  },
  {
   "cell_type": "code",
   "execution_count": 21,
   "id": "eeabd1eb",
   "metadata": {
    "id": "eeabd1eb"
   },
   "outputs": [],
   "source": [
    "# import packages\n",
    "\n",
    "import os\n",
    "import json\n",
    "import glob\n",
    "import numpy as np\n",
    "import pandas as pd\n",
    "from datetime import datetime\n"
   ]
  },
  {
   "cell_type": "markdown",
   "id": "cc1250a1",
   "metadata": {
    "id": "cc1250a1"
   },
   "source": [
    "# Data Load & Pre-processing"
   ]
  },
  {
   "cell_type": "code",
   "execution_count": 22,
   "id": "83d2222c",
   "metadata": {
    "colab": {
     "base_uri": "https://localhost:8080/",
     "height": 695
    },
    "id": "83d2222c",
    "outputId": "d3082464-4669-4404-b139-0300e50112d4"
   },
   "outputs": [
    {
     "name": "stdout",
     "output_type": "stream",
     "text": [
      "9022\n"
     ]
    },
    {
     "data": {
      "text/html": [
       "<div>\n",
       "<style scoped>\n",
       "    .dataframe tbody tr th:only-of-type {\n",
       "        vertical-align: middle;\n",
       "    }\n",
       "\n",
       "    .dataframe tbody tr th {\n",
       "        vertical-align: top;\n",
       "    }\n",
       "\n",
       "    .dataframe thead th {\n",
       "        text-align: right;\n",
       "    }\n",
       "</style>\n",
       "<table border=\"1\" class=\"dataframe\">\n",
       "  <thead>\n",
       "    <tr style=\"text-align: right;\">\n",
       "      <th></th>\n",
       "      <th>Unnamed: 0</th>\n",
       "      <th>cord_uid</th>\n",
       "      <th>sha</th>\n",
       "      <th>source_x</th>\n",
       "      <th>title</th>\n",
       "      <th>doi</th>\n",
       "      <th>pmcid</th>\n",
       "      <th>pubmed_id</th>\n",
       "      <th>license</th>\n",
       "      <th>abstract</th>\n",
       "      <th>publish_time</th>\n",
       "      <th>authors</th>\n",
       "      <th>journal</th>\n",
       "      <th>mag_id</th>\n",
       "      <th>who_covidence_id</th>\n",
       "      <th>arxiv_id</th>\n",
       "      <th>pdf_json_files</th>\n",
       "      <th>pmc_json_files</th>\n",
       "      <th>url</th>\n",
       "      <th>s2_id</th>\n",
       "    </tr>\n",
       "  </thead>\n",
       "  <tbody>\n",
       "    <tr>\n",
       "      <th>0</th>\n",
       "      <td>44</td>\n",
       "      <td>m71xkuo9</td>\n",
       "      <td>c6bf372c094f035a514975c35a7f9c094abbe493</td>\n",
       "      <td>PMC</td>\n",
       "      <td>Sequence specific visual detection of LAMP rea...</td>\n",
       "      <td>10.1186/1472-6750-6-3</td>\n",
       "      <td>PMC1373654</td>\n",
       "      <td>16401354</td>\n",
       "      <td>cc-by</td>\n",
       "      <td>BACKGROUND: Development of a practical gene po...</td>\n",
       "      <td>2006-01-10</td>\n",
       "      <td>Mori, Yasuyoshi; Hirano, Tsuyoshi; Notomi, Tsu...</td>\n",
       "      <td>BMC Biotechnol</td>\n",
       "      <td>NaN</td>\n",
       "      <td>NaN</td>\n",
       "      <td>NaN</td>\n",
       "      <td>document_parses/pdf_json/c6bf372c094f035a51497...</td>\n",
       "      <td>document_parses/pmc_json/PMC1373654.xml.json</td>\n",
       "      <td>https://www.ncbi.nlm.nih.gov/pmc/articles/PMC1...</td>\n",
       "      <td>NaN</td>\n",
       "    </tr>\n",
       "    <tr>\n",
       "      <th>1</th>\n",
       "      <td>96</td>\n",
       "      <td>hqc7u9w3</td>\n",
       "      <td>c65f0939cf35a0f04bf93bd6e8f771b8521563a5</td>\n",
       "      <td>PMC</td>\n",
       "      <td>Transmission Parameters of the 2001 Foot and M...</td>\n",
       "      <td>10.1371/journal.pone.0000502</td>\n",
       "      <td>PMC1876810</td>\n",
       "      <td>17551582</td>\n",
       "      <td>cc-by</td>\n",
       "      <td>Despite intensive ongoing research, key aspect...</td>\n",
       "      <td>2007-06-06</td>\n",
       "      <td>Chis Ster, Irina; Ferguson, Neil M.</td>\n",
       "      <td>PLoS One</td>\n",
       "      <td>NaN</td>\n",
       "      <td>NaN</td>\n",
       "      <td>NaN</td>\n",
       "      <td>document_parses/pdf_json/c65f0939cf35a0f04bf93...</td>\n",
       "      <td>document_parses/pmc_json/PMC1876810.xml.json</td>\n",
       "      <td>https://www.ncbi.nlm.nih.gov/pmc/articles/PMC1...</td>\n",
       "      <td>NaN</td>\n",
       "    </tr>\n",
       "    <tr>\n",
       "      <th>2</th>\n",
       "      <td>217</td>\n",
       "      <td>jzwcy7dr</td>\n",
       "      <td>a009c8efa4c5f13a5e604608d4e33e1dac078044</td>\n",
       "      <td>PMC</td>\n",
       "      <td>Results From a Hypothesis Generating Case-Cont...</td>\n",
       "      <td>10.1093/schbul/sbm139</td>\n",
       "      <td>PMC2632504</td>\n",
       "      <td>18156638</td>\n",
       "      <td>bronze-oa</td>\n",
       "      <td>Background: Herpes family viruses can cause ce...</td>\n",
       "      <td>2008-08-20</td>\n",
       "      <td>Niebuhr, David W.; Millikan, Amy M.; Yolken, R...</td>\n",
       "      <td>Schizophrenia Bulletin</td>\n",
       "      <td>NaN</td>\n",
       "      <td>NaN</td>\n",
       "      <td>NaN</td>\n",
       "      <td>document_parses/pdf_json/a009c8efa4c5f13a5e604...</td>\n",
       "      <td>document_parses/pmc_json/PMC2632504.xml.json</td>\n",
       "      <td>https://academic.oup.com/schizophreniabulletin...</td>\n",
       "      <td>NaN</td>\n",
       "    </tr>\n",
       "    <tr>\n",
       "      <th>3</th>\n",
       "      <td>255</td>\n",
       "      <td>02opdk0m</td>\n",
       "      <td>b411e12b20d883ef2ee5ca19d48eff9fccedf05f</td>\n",
       "      <td>PMC</td>\n",
       "      <td>CVTree update: a newly designed phylogenetic s...</td>\n",
       "      <td>10.1093/nar/gkp278</td>\n",
       "      <td>PMC2703908</td>\n",
       "      <td>19398429</td>\n",
       "      <td>cc-by-nc</td>\n",
       "      <td>The CVTree web server (http://tlife.fudan.edu....</td>\n",
       "      <td>2009-07-01</td>\n",
       "      <td>Xu, Zhao; Hao, Bailin</td>\n",
       "      <td>Nucleic Acids Res</td>\n",
       "      <td>NaN</td>\n",
       "      <td>NaN</td>\n",
       "      <td>NaN</td>\n",
       "      <td>document_parses/pdf_json/b411e12b20d883ef2ee5c...</td>\n",
       "      <td>document_parses/pmc_json/PMC2703908.xml.json</td>\n",
       "      <td>https://www.ncbi.nlm.nih.gov/pmc/articles/PMC2...</td>\n",
       "      <td>NaN</td>\n",
       "    </tr>\n",
       "    <tr>\n",
       "      <th>4</th>\n",
       "      <td>342</td>\n",
       "      <td>094d0rn6</td>\n",
       "      <td>513d5ea4db4eb8e94c14c46b018c6041d78119cf</td>\n",
       "      <td>PMC</td>\n",
       "      <td>IPS-1 Is Essential for the Control of West Nil...</td>\n",
       "      <td>10.1371/journal.ppat.1000757</td>\n",
       "      <td>PMC2816698</td>\n",
       "      <td>20140199</td>\n",
       "      <td>cc-by</td>\n",
       "      <td>The innate immune response is essential for co...</td>\n",
       "      <td>2010-02-05</td>\n",
       "      <td>Suthar, Mehul S.; Ma, Daphne Y.; Thomas, Sunil...</td>\n",
       "      <td>PLoS Pathog</td>\n",
       "      <td>NaN</td>\n",
       "      <td>NaN</td>\n",
       "      <td>NaN</td>\n",
       "      <td>document_parses/pdf_json/513d5ea4db4eb8e94c14c...</td>\n",
       "      <td>document_parses/pmc_json/PMC2816698.xml.json</td>\n",
       "      <td>https://www.ncbi.nlm.nih.gov/pmc/articles/PMC2...</td>\n",
       "      <td>NaN</td>\n",
       "    </tr>\n",
       "  </tbody>\n",
       "</table>\n",
       "</div>"
      ],
      "text/plain": [
       "   Unnamed: 0  cord_uid                                       sha source_x  \\\n",
       "0          44  m71xkuo9  c6bf372c094f035a514975c35a7f9c094abbe493      PMC   \n",
       "1          96  hqc7u9w3  c65f0939cf35a0f04bf93bd6e8f771b8521563a5      PMC   \n",
       "2         217  jzwcy7dr  a009c8efa4c5f13a5e604608d4e33e1dac078044      PMC   \n",
       "3         255  02opdk0m  b411e12b20d883ef2ee5ca19d48eff9fccedf05f      PMC   \n",
       "4         342  094d0rn6  513d5ea4db4eb8e94c14c46b018c6041d78119cf      PMC   \n",
       "\n",
       "                                               title  \\\n",
       "0  Sequence specific visual detection of LAMP rea...   \n",
       "1  Transmission Parameters of the 2001 Foot and M...   \n",
       "2  Results From a Hypothesis Generating Case-Cont...   \n",
       "3  CVTree update: a newly designed phylogenetic s...   \n",
       "4  IPS-1 Is Essential for the Control of West Nil...   \n",
       "\n",
       "                            doi       pmcid pubmed_id    license  \\\n",
       "0         10.1186/1472-6750-6-3  PMC1373654  16401354      cc-by   \n",
       "1  10.1371/journal.pone.0000502  PMC1876810  17551582      cc-by   \n",
       "2         10.1093/schbul/sbm139  PMC2632504  18156638  bronze-oa   \n",
       "3            10.1093/nar/gkp278  PMC2703908  19398429   cc-by-nc   \n",
       "4  10.1371/journal.ppat.1000757  PMC2816698  20140199      cc-by   \n",
       "\n",
       "                                            abstract publish_time  \\\n",
       "0  BACKGROUND: Development of a practical gene po...   2006-01-10   \n",
       "1  Despite intensive ongoing research, key aspect...   2007-06-06   \n",
       "2  Background: Herpes family viruses can cause ce...   2008-08-20   \n",
       "3  The CVTree web server (http://tlife.fudan.edu....   2009-07-01   \n",
       "4  The innate immune response is essential for co...   2010-02-05   \n",
       "\n",
       "                                             authors                 journal  \\\n",
       "0  Mori, Yasuyoshi; Hirano, Tsuyoshi; Notomi, Tsu...          BMC Biotechnol   \n",
       "1                Chis Ster, Irina; Ferguson, Neil M.                PLoS One   \n",
       "2  Niebuhr, David W.; Millikan, Amy M.; Yolken, R...  Schizophrenia Bulletin   \n",
       "3                              Xu, Zhao; Hao, Bailin       Nucleic Acids Res   \n",
       "4  Suthar, Mehul S.; Ma, Daphne Y.; Thomas, Sunil...             PLoS Pathog   \n",
       "\n",
       "   mag_id  who_covidence_id arxiv_id  \\\n",
       "0     NaN               NaN      NaN   \n",
       "1     NaN               NaN      NaN   \n",
       "2     NaN               NaN      NaN   \n",
       "3     NaN               NaN      NaN   \n",
       "4     NaN               NaN      NaN   \n",
       "\n",
       "                                      pdf_json_files  \\\n",
       "0  document_parses/pdf_json/c6bf372c094f035a51497...   \n",
       "1  document_parses/pdf_json/c65f0939cf35a0f04bf93...   \n",
       "2  document_parses/pdf_json/a009c8efa4c5f13a5e604...   \n",
       "3  document_parses/pdf_json/b411e12b20d883ef2ee5c...   \n",
       "4  document_parses/pdf_json/513d5ea4db4eb8e94c14c...   \n",
       "\n",
       "                                 pmc_json_files  \\\n",
       "0  document_parses/pmc_json/PMC1373654.xml.json   \n",
       "1  document_parses/pmc_json/PMC1876810.xml.json   \n",
       "2  document_parses/pmc_json/PMC2632504.xml.json   \n",
       "3  document_parses/pmc_json/PMC2703908.xml.json   \n",
       "4  document_parses/pmc_json/PMC2816698.xml.json   \n",
       "\n",
       "                                                 url  s2_id  \n",
       "0  https://www.ncbi.nlm.nih.gov/pmc/articles/PMC1...    NaN  \n",
       "1  https://www.ncbi.nlm.nih.gov/pmc/articles/PMC1...    NaN  \n",
       "2  https://academic.oup.com/schizophreniabulletin...    NaN  \n",
       "3  https://www.ncbi.nlm.nih.gov/pmc/articles/PMC2...    NaN  \n",
       "4  https://www.ncbi.nlm.nih.gov/pmc/articles/PMC2...    NaN  "
      ]
     },
     "execution_count": 22,
     "metadata": {},
     "output_type": "execute_result"
    }
   ],
   "source": [
    "# Load Meta data from meta_10k.csv\n",
    "#data_root = '/content/drive/MyDrive/CORD_19/'\n",
    "data_root = 'data/'\n",
    "\n",
    "metadata_path = os.path.join(data_root, 'meta_10k.csv')\n",
    "meta_df = pd.read_csv(metadata_path, dtype={\n",
    "    'pubmed_id': str,\n",
    "    'Microsoft Academic Paper ID': str,\n",
    "    'doi': str\n",
    "})\n",
    "\n",
    "print(len(meta_df))\n",
    "meta_df.head()"
   ]
  },
  {
   "cell_type": "code",
   "execution_count": 23,
   "id": "e1b611f0",
   "metadata": {
    "colab": {
     "base_uri": "https://localhost:8080/"
    },
    "id": "e1b611f0",
    "outputId": "30b26c96-07b0-4490-e5c8-b09a73d75945"
   },
   "outputs": [
    {
     "name": "stdout",
     "output_type": "stream",
     "text": [
      "<class 'pandas.core.frame.DataFrame'>\n",
      "RangeIndex: 9022 entries, 0 to 9021\n",
      "Data columns (total 20 columns):\n",
      " #   Column            Non-Null Count  Dtype  \n",
      "---  ------            --------------  -----  \n",
      " 0   Unnamed: 0        9022 non-null   int64  \n",
      " 1   cord_uid          9022 non-null   object \n",
      " 2   sha               9022 non-null   object \n",
      " 3   source_x          9022 non-null   object \n",
      " 4   title             9022 non-null   object \n",
      " 5   doi               8599 non-null   object \n",
      " 6   pmcid             7942 non-null   object \n",
      " 7   pubmed_id         6986 non-null   object \n",
      " 8   license           9022 non-null   object \n",
      " 9   abstract          8289 non-null   object \n",
      " 10  publish_time      9022 non-null   object \n",
      " 11  authors           9009 non-null   object \n",
      " 12  journal           8095 non-null   object \n",
      " 13  mag_id            0 non-null      float64\n",
      " 14  who_covidence_id  0 non-null      float64\n",
      " 15  arxiv_id          480 non-null    object \n",
      " 16  pdf_json_files    9022 non-null   object \n",
      " 17  pmc_json_files    7414 non-null   object \n",
      " 18  url               9022 non-null   object \n",
      " 19  s2_id             7469 non-null   float64\n",
      "dtypes: float64(3), int64(1), object(16)\n",
      "memory usage: 1.4+ MB\n"
     ]
    }
   ],
   "source": [
    "meta_df.info()"
   ]
  },
  {
   "cell_type": "code",
   "execution_count": 24,
   "id": "c3139be0",
   "metadata": {
    "colab": {
     "base_uri": "https://localhost:8080/"
    },
    "id": "c3139be0",
    "outputId": "5cdaf76c-167c-4a56-b786-2838a18700f1"
   },
   "outputs": [
    {
     "name": "stdout",
     "output_type": "stream",
     "text": [
      "data/subset/document_parses/pdf_json/\n",
      "total json files: 12000\n"
     ]
    }
   ],
   "source": [
    "def glob_files(path, f_type=\".json\"):\n",
    "    dst = []\n",
    "    for root, _, files in os.walk(path):\n",
    "        for f in files:\n",
    "            if f.endswith(f_type):\n",
    "                dst.append(os.path.join(root, f))\n",
    "    return dst\n",
    "\n",
    "# glob json files\n",
    "json_dir = os.path.join(data_root, \"subset/document_parses/pdf_json/\")\n",
    "print(json_dir)\n",
    "json_files = glob_files(json_dir, \".json\")\n",
    "\n",
    "print(\"total json files:\", len(json_files))"
   ]
  },
  {
   "cell_type": "code",
   "execution_count": 25,
   "id": "20fb57d2",
   "metadata": {
    "colab": {
     "base_uri": "https://localhost:8080/"
    },
    "id": "20fb57d2",
    "outputId": "03c330eb-ba5a-4a05-81f6-420b007e3d43"
   },
   "outputs": [
    {
     "name": "stdout",
     "output_type": "stream",
     "text": [
      "072441bc475dd40d50673fa830b4202d64ca439d: Access to and challenges in water, sanitation, and hygiene in healthcare facilities during the early phase of the COVID-19 pandemic in Ethiopia: A mixed-methods evaluation : Inadequate water, sanitation, and hygiene (WASH) in healthcare facilities (HCFs) have an impact on the transmission of infectious diseases, including COVID-19 pandemic. But, there is limited data on t... supply. The absence of a specific budget for WASH facilities, non-functional water pipes, the absence of water-quality monitoring systems, and frequent water interruptions were the major problems with...\n"
     ]
    }
   ],
   "source": [
    "class FileReader:\n",
    "    def __init__(self, file_path):\n",
    "        with open(file_path) as file:\n",
    "            content = json.load(file)\n",
    "            self.paper_id = content['paper_id']\n",
    "            self.abstract = []\n",
    "            self.body_text = []\n",
    "            # Abstract\n",
    "            for entry in content['abstract']:\n",
    "                self.abstract.append(entry['text'])\n",
    "            # Body text\n",
    "            for entry in content['body_text']:\n",
    "                self.body_text.append(entry['text'])\n",
    "            self.abstract = '\\n'.join(self.abstract)\n",
    "            self.body_text = '\\n'.join(self.body_text)\n",
    "\n",
    "            self.title = content['metadata']['title']\n",
    "\n",
    "            #dict_keys(['paper_id', 'metadata', 'abstract', 'body_text',\n",
    "            #'bib_entries', 'ref_entries', 'back_matter'])\n",
    "\n",
    "\n",
    "    def __repr__(self):\n",
    "        return f\"{self.paper_id}: {self.title } : {self.abstract[:200]}... {self.body_text[:200]}...\"\n",
    "\n",
    "\n",
    "first_row = FileReader(json_files[0])\n",
    "print(first_row)"
   ]
  },
  {
   "cell_type": "code",
   "execution_count": 26,
   "id": "96a78cce",
   "metadata": {
    "colab": {
     "base_uri": "https://localhost:8080/",
     "height": 398
    },
    "id": "96a78cce",
    "outputId": "db3e15b8-5496-4752-901a-a0e8a39f3628"
   },
   "outputs": [
    {
     "name": "stderr",
     "output_type": "stream",
     "text": [
      "100%|██████████| 12000/12000 [00:12<00:00, 972.80it/s]\n"
     ]
    },
    {
     "data": {
      "text/html": [
       "<div>\n",
       "<style scoped>\n",
       "    .dataframe tbody tr th:only-of-type {\n",
       "        vertical-align: middle;\n",
       "    }\n",
       "\n",
       "    .dataframe tbody tr th {\n",
       "        vertical-align: top;\n",
       "    }\n",
       "\n",
       "    .dataframe thead th {\n",
       "        text-align: right;\n",
       "    }\n",
       "</style>\n",
       "<table border=\"1\" class=\"dataframe\">\n",
       "  <thead>\n",
       "    <tr style=\"text-align: right;\">\n",
       "      <th></th>\n",
       "      <th>paper_id</th>\n",
       "      <th>publish_time</th>\n",
       "      <th>doi</th>\n",
       "      <th>abstract</th>\n",
       "      <th>body_text</th>\n",
       "      <th>authors</th>\n",
       "      <th>title</th>\n",
       "      <th>journal</th>\n",
       "      <th>abstract_summary</th>\n",
       "    </tr>\n",
       "  </thead>\n",
       "  <tbody>\n",
       "    <tr>\n",
       "      <th>0</th>\n",
       "      <td>5e0c586f047ff909c8ed3fe171c8975a90608d08</td>\n",
       "      <td>2018</td>\n",
       "      <td>10.1186/s12985-018-1042-3</td>\n",
       "      <td>Background: Porcine epidemic diarrhea virus (P...</td>\n",
       "      <td>Porcine epidemic diarrhea virus (PEDV), which ...</td>\n",
       "      <td>Gong, Lang.  Lin, Ying.  Qin, Jianru.  Li,&lt;br...</td>\n",
       "      <td>Neutralizing antibodies against porcine&lt;br&gt;ep...</td>\n",
       "      <td>Virol J</td>\n",
       "      <td>Background: Porcine epidemic diarrhea virus&lt;b...</td>\n",
       "    </tr>\n",
       "    <tr>\n",
       "      <th>1</th>\n",
       "      <td>81b2c4bef0f1d7b508ff38e5002e5338860a863e</td>\n",
       "      <td>2021</td>\n",
       "      <td>10.1007/s42452-021-04589-2</td>\n",
       "      <td>This paper presents an approach to access real...</td>\n",
       "      <td>Underground mining industry is essential to ru...</td>\n",
       "      <td>RayChowdhury, Ankita.  Pramanik, Ankita.  Roy...</td>\n",
       "      <td>New approach for localization and smart data&lt;...</td>\n",
       "      <td>SN Appl Sci</td>\n",
       "      <td>This paper presents an approach to access rea...</td>\n",
       "    </tr>\n",
       "    <tr>\n",
       "      <th>2</th>\n",
       "      <td>3a33dd3f90004f77dc936e64720d3a17de99b14f</td>\n",
       "      <td>2021</td>\n",
       "      <td>10.3390/biology10100969</td>\n",
       "      <td>Citation: Rojo-Tirado, M.A.; Benítez-Muñoz, J....</td>\n",
       "      <td>Due to the SARS-CoV2 pandemic, declared by the...</td>\n",
       "      <td>Rojo-Tirado, Miguel A..  Benítez-Muñoz, José&lt;...</td>\n",
       "      <td>Effect of Different Types of Face Masks on th...</td>\n",
       "      <td>Biology (Basel)</td>\n",
       "      <td>Citation: Rojo-Tirado, M.A.; Benítez-Muñoz,&lt;b...</td>\n",
       "    </tr>\n",
       "    <tr>\n",
       "      <th>3</th>\n",
       "      <td>91ee398ce41826520f17d182c7b1d19083e70541</td>\n",
       "      <td>2022</td>\n",
       "      <td>10.1007/s11739-022-02955-5</td>\n",
       "      <td>We examined the characteristics of pro-calcito...</td>\n",
       "      <td>Pro-calcitonin (PCT) is a biomarker of bacteri...</td>\n",
       "      <td>So, Wonhee.  Simon, Matthew S..  Choi, Justin...</td>\n",
       "      <td>Characteristics of procalcitonin in&lt;br&gt;hospit...</td>\n",
       "      <td>Intern Emerg Med</td>\n",
       "      <td>We examined the characteristics of&lt;br&gt;pro-cal...</td>\n",
       "    </tr>\n",
       "    <tr>\n",
       "      <th>4</th>\n",
       "      <td>0d3bad819324b204c21d460a91c4cbacc536e4d1</td>\n",
       "      <td>2021</td>\n",
       "      <td>10.1093/infdis/jiab147</td>\n",
       "      <td>Human rhinovirus triggers an innate immune res...</td>\n",
       "      <td>A c c e p t e d M a n u s c r i p t 5\\nThe rap...</td>\n",
       "      <td>Dee, Kieran.  Goldfarb, Daniel M.  Haney,&lt;br&gt;...</td>\n",
       "      <td>Human rhinovirus infection blocks SARS-CoV-2&lt;...</td>\n",
       "      <td>J Infect Dis</td>\n",
       "      <td>Human rhinovirus triggers an innate immune&lt;br...</td>\n",
       "    </tr>\n",
       "  </tbody>\n",
       "</table>\n",
       "</div>"
      ],
      "text/plain": [
       "                                   paper_id publish_time  \\\n",
       "0  5e0c586f047ff909c8ed3fe171c8975a90608d08         2018   \n",
       "1  81b2c4bef0f1d7b508ff38e5002e5338860a863e         2021   \n",
       "2  3a33dd3f90004f77dc936e64720d3a17de99b14f         2021   \n",
       "3  91ee398ce41826520f17d182c7b1d19083e70541         2022   \n",
       "4  0d3bad819324b204c21d460a91c4cbacc536e4d1         2021   \n",
       "\n",
       "                          doi  \\\n",
       "0   10.1186/s12985-018-1042-3   \n",
       "1  10.1007/s42452-021-04589-2   \n",
       "2     10.3390/biology10100969   \n",
       "3  10.1007/s11739-022-02955-5   \n",
       "4      10.1093/infdis/jiab147   \n",
       "\n",
       "                                            abstract  \\\n",
       "0  Background: Porcine epidemic diarrhea virus (P...   \n",
       "1  This paper presents an approach to access real...   \n",
       "2  Citation: Rojo-Tirado, M.A.; Benítez-Muñoz, J....   \n",
       "3  We examined the characteristics of pro-calcito...   \n",
       "4  Human rhinovirus triggers an innate immune res...   \n",
       "\n",
       "                                           body_text  \\\n",
       "0  Porcine epidemic diarrhea virus (PEDV), which ...   \n",
       "1  Underground mining industry is essential to ru...   \n",
       "2  Due to the SARS-CoV2 pandemic, declared by the...   \n",
       "3  Pro-calcitonin (PCT) is a biomarker of bacteri...   \n",
       "4  A c c e p t e d M a n u s c r i p t 5\\nThe rap...   \n",
       "\n",
       "                                             authors  \\\n",
       "0   Gong, Lang.  Lin, Ying.  Qin, Jianru.  Li,<br...   \n",
       "1   RayChowdhury, Ankita.  Pramanik, Ankita.  Roy...   \n",
       "2   Rojo-Tirado, Miguel A..  Benítez-Muñoz, José<...   \n",
       "3   So, Wonhee.  Simon, Matthew S..  Choi, Justin...   \n",
       "4   Dee, Kieran.  Goldfarb, Daniel M.  Haney,<br>...   \n",
       "\n",
       "                                               title           journal  \\\n",
       "0   Neutralizing antibodies against porcine<br>ep...           Virol J   \n",
       "1   New approach for localization and smart data<...       SN Appl Sci   \n",
       "2   Effect of Different Types of Face Masks on th...   Biology (Basel)   \n",
       "3   Characteristics of procalcitonin in<br>hospit...  Intern Emerg Med   \n",
       "4   Human rhinovirus infection blocks SARS-CoV-2<...      J Infect Dis   \n",
       "\n",
       "                                    abstract_summary  \n",
       "0   Background: Porcine epidemic diarrhea virus<b...  \n",
       "1   This paper presents an approach to access rea...  \n",
       "2   Citation: Rojo-Tirado, M.A.; Benítez-Muñoz,<b...  \n",
       "3   We examined the characteristics of<br>pro-cal...  \n",
       "4   Human rhinovirus triggers an innate immune<br...  "
      ]
     },
     "execution_count": 26,
     "metadata": {},
     "output_type": "execute_result"
    }
   ],
   "source": [
    "from tqdm import tqdm\n",
    "\n",
    "def get_breaks(content, length):\n",
    "    data = \"\"\n",
    "    words = content.split(' ')\n",
    "    total_chars = 0\n",
    "\n",
    "    # add break every length characters\n",
    "    for i in range(len(words)):\n",
    "        total_chars += len(words[i])\n",
    "        if total_chars > length:\n",
    "            data = data + \"<br>\" + words[i]\n",
    "            total_chars = 0\n",
    "        else:\n",
    "            data = data + \" \" + words[i]\n",
    "    return data\n",
    "\n",
    "\n",
    "dict_ = {'paper_id': [], 'publish_time': [], 'doi':[], 'abstract': [], 'body_text': [],\n",
    "         'authors': [], 'title': [], 'journal': [], 'abstract_summary': []}\n",
    "\n",
    "\n",
    "for idx, entry in tqdm(enumerate(json_files), total=len(json_files)):\n",
    "    try:\n",
    "        content = FileReader(entry)\n",
    "    except Exception as e:\n",
    "        continue  # invalid paper format, skip\n",
    "\n",
    "    # get metadata information\n",
    "    meta_data = meta_df.loc[meta_df['sha'] == content.paper_id]\n",
    "    # no metadata, skip this paper\n",
    "    if len(meta_data) == 0:\n",
    "        continue\n",
    "    if len(content.body_text) == 0:\n",
    "        continue\n",
    "    dict_['abstract'].append(content.abstract)\n",
    "    dict_['paper_id'].append(content.paper_id)\n",
    "    dict_['body_text'].append(content.body_text)\n",
    "    \n",
    "    # also create a column for the summary of abstract to be used in a plot\n",
    "    if len(content.abstract) == 0:\n",
    "        # no abstract provided\n",
    "        dict_['abstract_summary'].append(\"Not provided.\")\n",
    "    elif len(content.abstract.split(' ')) > 100:\n",
    "        # abstract provided is too long for plot, take first 300 words append with ...\n",
    "        info = content.abstract.split(' ')[:100]\n",
    "        summary = get_breaks(' '.join(info), 40)\n",
    "        dict_['abstract_summary'].append(summary + \"...\")\n",
    "    else:\n",
    "        # abstract is short enough\n",
    "        summary = get_breaks(content.abstract, 40)\n",
    "        dict_['abstract_summary'].append(summary)\n",
    "\n",
    "    # get metadata information\n",
    "    meta_data = meta_df.loc[meta_df['sha'] == content.paper_id]\n",
    "\n",
    "    try:\n",
    "        # if more than one author\n",
    "        authors = meta_data['authors'].values[0].split(';')\n",
    "        if len(authors) > 2:\n",
    "            # more than 2 authors, may be problem when plotting, so take first 2 append with ...\n",
    "            dict_['authors'].append(get_breaks('. '.join(authors), 40))\n",
    "        else:\n",
    "            # authors will fit in plot\n",
    "            dict_['authors'].append(\". \".join(authors))\n",
    "    except Exception as e:\n",
    "        # if only one author - or Null valie\n",
    "        dict_['authors'].append(meta_data['authors'].values[0])\n",
    "\n",
    "    # add the title information, add breaks when needed\n",
    "    try:\n",
    "        title = get_breaks(meta_data['title'].values[0], 40)\n",
    "        dict_['title'].append(title)\n",
    "    # if title was not provided\n",
    "    except Exception as e:\n",
    "        dict_['title'].append(meta_data['title'].values[0])\n",
    "\n",
    "    # add the journal information\n",
    "    dict_['journal'].append(meta_data['journal'].values[0])\n",
    "\n",
    "    # add doi\n",
    "    dict_['doi'].append(meta_data['doi'].values[0])\n",
    "\n",
    "    # add publish time\n",
    "    publish_time = meta_data['publish_time'].values[0]\n",
    "    if len(publish_time) > 4:\n",
    "        publish_time = datetime.strptime(publish_time, '%Y-%m-%d').year    \n",
    "        \n",
    "    dict_['publish_time'].append(publish_time)\n",
    "\n",
    "df_covid = pd.DataFrame(dict_, columns=['paper_id', 'publish_time', 'doi', 'abstract', 'body_text',\n",
    "                                        'authors', 'title', 'journal', 'abstract_summary'])\n",
    "df_covid.head()"
   ]
  },
  {
   "cell_type": "code",
   "execution_count": 27,
   "id": "2c2974a3",
   "metadata": {
    "colab": {
     "base_uri": "https://localhost:8080/"
    },
    "id": "2c2974a3",
    "outputId": "9bc51e71-1d4d-4404-cb1d-b71b658b9349"
   },
   "outputs": [
    {
     "name": "stdout",
     "output_type": "stream",
     "text": [
      "<class 'pandas.core.frame.DataFrame'>\n",
      "RangeIndex: 9022 entries, 0 to 9021\n",
      "Data columns (total 9 columns):\n",
      " #   Column            Non-Null Count  Dtype \n",
      "---  ------            --------------  ----- \n",
      " 0   paper_id          9022 non-null   object\n",
      " 1   publish_time      9022 non-null   object\n",
      " 2   doi               8599 non-null   object\n",
      " 3   abstract          9022 non-null   object\n",
      " 4   body_text         9022 non-null   object\n",
      " 5   authors           9009 non-null   object\n",
      " 6   title             9022 non-null   object\n",
      " 7   journal           8095 non-null   object\n",
      " 8   abstract_summary  9022 non-null   object\n",
      "dtypes: object(9)\n",
      "memory usage: 634.5+ KB\n"
     ]
    }
   ],
   "source": [
    "df_covid.info()"
   ]
  },
  {
   "cell_type": "code",
   "execution_count": 28,
   "id": "4f9af672",
   "metadata": {
    "colab": {
     "base_uri": "https://localhost:8080/"
    },
    "id": "4f9af672",
    "outputId": "eceec098-206e-4fe8-d85b-f848a93e4720"
   },
   "outputs": [
    {
     "name": "stdout",
     "output_type": "stream",
     "text": [
      "<class 'pandas.core.frame.DataFrame'>\n",
      "Index: 8070 entries, 0 to 9021\n",
      "Data columns (total 9 columns):\n",
      " #   Column            Non-Null Count  Dtype \n",
      "---  ------            --------------  ----- \n",
      " 0   paper_id          8070 non-null   object\n",
      " 1   publish_time      8070 non-null   object\n",
      " 2   doi               8070 non-null   object\n",
      " 3   abstract          8070 non-null   object\n",
      " 4   body_text         8070 non-null   object\n",
      " 5   authors           8070 non-null   object\n",
      " 6   title             8070 non-null   object\n",
      " 7   journal           8070 non-null   object\n",
      " 8   abstract_summary  8070 non-null   object\n",
      "dtypes: object(9)\n",
      "memory usage: 630.5+ KB\n"
     ]
    }
   ],
   "source": [
    "df = df_covid\n",
    "df.dropna(inplace=True)\n",
    "df.info()"
   ]
  },
  {
   "cell_type": "code",
   "execution_count": 29,
   "id": "f2eacd72",
   "metadata": {
    "colab": {
     "base_uri": "https://localhost:8080/"
    },
    "id": "f2eacd72",
    "outputId": "0b8d3e3f-4841-4e5f-fd23-55297ac27fb6"
   },
   "outputs": [
    {
     "name": "stderr",
     "output_type": "stream",
     "text": [
      "100%|██████████| 8070/8070 [00:13<00:00, 612.46it/s]\n"
     ]
    }
   ],
   "source": [
    "from tqdm import tqdm\n",
    "from langdetect import detect\n",
    "from langdetect import DetectorFactory\n",
    "\n",
    "# set seed\n",
    "DetectorFactory.seed = 0\n",
    "\n",
    "# hold label - language\n",
    "languages = []\n",
    "\n",
    "# go through each text\n",
    "for ii in tqdm(range(0,len(df))):\n",
    "    # split by space into list, take the first x intex, join with space\n",
    "    text = df.iloc[ii]['body_text'].split(\" \")\n",
    "\n",
    "    lang = \"en\"\n",
    "    try:\n",
    "        if len(text) > 50:\n",
    "            lang = detect(\" \".join(text[:50]))\n",
    "        elif len(text) > 0:\n",
    "            lang = detect(\" \".join(text[:len(text)]))\n",
    "    # ught... beginning of the document was not in a good format\n",
    "    except Exception as e:\n",
    "        all_words = set(text)\n",
    "        try:\n",
    "            lang = detect(\" \".join(all_words))\n",
    "        # what!! :( let's see if we can find any text in abstract...\n",
    "        except Exception as e:\n",
    "\n",
    "            try:\n",
    "                # let's try to label it through the abstract then\n",
    "                lang = detect(df.iloc[ii]['abstract_summary'])\n",
    "            except Exception as e:\n",
    "                lang = \"unknown\"\n",
    "                pass\n",
    "\n",
    "    # get the language\n",
    "    languages.append(lang)"
   ]
  },
  {
   "cell_type": "code",
   "execution_count": 30,
   "id": "7e7396f0",
   "metadata": {
    "colab": {
     "base_uri": "https://localhost:8080/"
    },
    "id": "7e7396f0",
    "outputId": "d54ed418-c5dd-4cb3-b9ab-2ed07790843a"
   },
   "outputs": [
    {
     "name": "stdout",
     "output_type": "stream",
     "text": [
      "Total: 8070\n",
      "\n",
      "{'de': 20, 'en': 8028, 'es': 13, 'fr': 6, 'id': 1, 'nl': 2}\n"
     ]
    }
   ],
   "source": [
    "from pprint import pprint\n",
    "\n",
    "languages_dict = {}\n",
    "for lang in set(languages):\n",
    "    languages_dict[lang] = languages.count(lang)\n",
    "\n",
    "print(\"Total: {}\\n\".format(len(languages)))\n",
    "pprint(languages_dict)"
   ]
  },
  {
   "cell_type": "code",
   "execution_count": 31,
   "id": "e667fa35",
   "metadata": {
    "colab": {
     "base_uri": "https://localhost:8080/"
    },
    "id": "e667fa35",
    "outputId": "38d0a17b-79c7-42de-be9b-e02922c23f11"
   },
   "outputs": [
    {
     "name": "stdout",
     "output_type": "stream",
     "text": [
      "<class 'pandas.core.frame.DataFrame'>\n",
      "Index: 8028 entries, 0 to 9021\n",
      "Data columns (total 10 columns):\n",
      " #   Column            Non-Null Count  Dtype \n",
      "---  ------            --------------  ----- \n",
      " 0   paper_id          8028 non-null   object\n",
      " 1   publish_time      8028 non-null   object\n",
      " 2   doi               8028 non-null   object\n",
      " 3   abstract          8028 non-null   object\n",
      " 4   body_text         8028 non-null   object\n",
      " 5   authors           8028 non-null   object\n",
      " 6   title             8028 non-null   object\n",
      " 7   journal           8028 non-null   object\n",
      " 8   abstract_summary  8028 non-null   object\n",
      " 9   language          8028 non-null   object\n",
      "dtypes: object(10)\n",
      "memory usage: 689.9+ KB\n"
     ]
    }
   ],
   "source": [
    "df['language'] = languages\n",
    "df = df[df['language'] == 'en']\n",
    "df.info()"
   ]
  },
  {
   "cell_type": "markdown",
   "id": "ad4bf462",
   "metadata": {},
   "source": [
    "# Histogram of year / journal"
   ]
  },
  {
   "cell_type": "code",
   "execution_count": 32,
   "id": "5b707bb3",
   "metadata": {},
   "outputs": [
    {
     "name": "stderr",
     "output_type": "stream",
     "text": [
      "/Users/siusun0033/anaconda3/lib/python3.10/site-packages/seaborn/_oldcore.py:1119: FutureWarning: use_inf_as_na option is deprecated and will be removed in a future version. Convert inf values to NaN before operating instead.\n",
      "  with pd.option_context('mode.use_inf_as_na', True):\n"
     ]
    },
    {
     "data": {
      "text/plain": [
       "<Axes: xlabel='publish_time', ylabel='Count'>"
      ]
     },
     "execution_count": 32,
     "metadata": {},
     "output_type": "execute_result"
    },
    {
     "data": {
      "image/png": "[encoded data removed]",
      "text/plain": [
       "<Figure size 640x480 with 1 Axes>"
      ]
     },
     "metadata": {},
     "output_type": "display_data"
    }
   ],
   "source": [
    "import matplotlib.pyplot as plt\n",
    "import seaborn as sns\n",
    "\n",
    "sns.histplot(df[\"publish_time\"], color='lightgreen', edgecolor='red') \n"
   ]
  },
  {
   "cell_type": "markdown",
   "id": "0414e1fa",
   "metadata": {},
   "source": [
    "# Remove stop Word"
   ]
  },
  {
   "cell_type": "code",
   "execution_count": 45,
   "id": "16519c23",
   "metadata": {},
   "outputs": [
    {
     "name": "stdout",
     "output_type": "stream",
     "text": [
      "len(stopwords): 349 len(punctuations): 32\n"
     ]
    },
    {
     "name": "stderr",
     "output_type": "stream",
     "text": [
      "100%|██████████| 8028/8028 [02:15<00:00, 59.04it/s]\n",
      "/var/folders/wt/1v2sp96s4hxcw55n8d5bcw8m0000gn/T/ipykernel_9399/3162665215.py:38: SettingWithCopyWarning: \n",
      "A value is trying to be set on a copy of a slice from a DataFrame.\n",
      "Try using .loc[row_indexer,col_indexer] = value instead\n",
      "\n",
      "See the caveats in the documentation: https://pandas.pydata.org/pandas-docs/stable/user_guide/indexing.html#returning-a-view-versus-a-copy\n",
      "  df['procesed_text'] = df['body_text'].progress_apply(spacy_tokenizer)\n"
     ]
    }
   ],
   "source": [
    "#NLP\n",
    "import spacy\n",
    "import string\n",
    "from spacy.lang.en import STOP_WORDS\n",
    "\n",
    "punctuations = string.punctuation\n",
    "stopwords = list(STOP_WORDS)\n",
    "stopwords[0:10]\n",
    "\n",
    "custom_stop_words = [\n",
    "    'doi','preprint','copyright','peer','reviewed','org','https','et','al','author','figure',\n",
    "    'rights','reserved','permission','used','using','biorxiv','medrxiv','license','fig','fig.',\n",
    "    'al.','Elsevier','PMC','CZI'\n",
    "]\n",
    "\n",
    "for w in custom_stop_words:\n",
    "    if w not in stopwords:\n",
    "        stopwords.append(w)\n",
    "\n",
    "# Parser\n",
    "#parser = en_core_sci_lg.load(disable=[\"tagger\",\"ner\"])\n",
    "#nlp = spacy.load('en_core_web_sm',disable=[\"tagger\",\"ner\"])\n",
    "nlp = spacy.load('en_core_web_sm',disable=[\"tagger\",\"parser\",\"ner\"]) # Only tokenization and lemmation are performed, POS tagging, NER and syntactic parsing are skipped.\n",
    "nlp.max_length = 7000000\n",
    "\n",
    "stopwords = set(stopwords)\n",
    "punctuations = set(punctuations)\n",
    "print('len(stopwords):',len(stopwords),'len(punctuations):',len(punctuations))\n",
    "\n",
    "def spacy_tokenizer(sentence):\n",
    "    mytokens = nlp(sentence)\n",
    "    mytokens = [word.lemma_.lower().strip() if word.lemma != '-PORN-' else word.lower_ for word in mytokens]\n",
    "    mytokens = [word for word in mytokens if word not in stopwords and word not in punctuations]\n",
    "    mytokens = \" \".join([i for i in mytokens])\n",
    "    return mytokens\n",
    "\n",
    "tqdm.pandas()\n",
    "df['procesed_text'] = df['body_text'].progress_apply(spacy_tokenizer)"
   ]
  },
  {
   "cell_type": "markdown",
   "id": "cae116c4",
   "metadata": {},
   "source": [
    "# Map-Reduce "
   ]
  },
  {
   "cell_type": "code",
   "execution_count": null,
   "id": "1d54ec16",
   "metadata": {},
   "outputs": [],
   "source": []
  },
  {
   "cell_type": "markdown",
   "id": "ac547210",
   "metadata": {},
   "source": [
    "# Association Analysis"
   ]
  },
  {
   "cell_type": "code",
   "execution_count": null,
   "id": "f3b12c03",
   "metadata": {},
   "outputs": [],
   "source": []
  },
  {
   "cell_type": "markdown",
   "id": "48ec6f2e",
   "metadata": {},
   "source": [
    "# Similarity Analysis"
   ]
  },
  {
   "cell_type": "code",
   "execution_count": null,
   "id": "4823d5b4",
   "metadata": {},
   "outputs": [],
   "source": []
  },
  {
   "cell_type": "markdown",
   "id": "adc2e25a",
   "metadata": {},
   "source": [
    "# Clustering Analysis"
   ]
  },
  {
   "cell_type": "code",
   "execution_count": null,
   "id": "ad8a6a73",
   "metadata": {},
   "outputs": [],
   "source": [
    "from sklearn.feature_extraction.text import TfidfVectorizer\n",
    "\n",
    "def vectorize(text,max_feature):\n",
    "    \n",
    "    vectorizer = TfidfVectorizer(max_features=max_feature)\n",
    "    X = vectorizer.fit_transform(text)\n",
    "    \n",
    "    return X\n",
    "\n",
    "text = df['processed_text'].values\n",
    "max_feature = 2**12\n",
    "\n",
    "X = vectorize(text,max_feature)\n",
    "\n",
    "from sklearn.decomposition import PCA\n",
    "from sklearn.cluster import MiniBatchKMeans\n",
    "from sklearn.cluster import KMeans\n",
    "\n",
    "# PCA\n",
    "pca = PCA(n_components=0.95,random_state=42)\n",
    "X_reduced = pca.fit_transform(X.toarray())\n",
    "X_reduced.shape\n",
    "\n",
    "# K Mean Clustering\n",
    "k = 10\n",
    "kmeans = KMeans(n_clusters=k,random_state=42)\n",
    "y_pred = kmeans.fit_predict(X_reduced)\n",
    "df['y'] = y_pred\n",
    "\n",
    "from sklearn.manifold import TSNE\n",
    "from matplotlib import pyplot as plt\n",
    "import seaborn as sns\n",
    "\n",
    "tsne = TSNE(verbose=1,perplexity=50) # Change perplexity from 100 to 50 per FAQ\n",
    "X_embedded = tsne.fit_transform(X.toarray())\n",
    "\n",
    "# sns setting\n",
    "sns.set(rc={'figure.figsize':(15,15)})\n",
    "\n",
    "# color\n",
    "palette = sns.color_palette('bright',1)\n",
    "\n",
    "# plot\n",
    "sns.scatterplot(x=X_embedded[:,0],y=X_embedded[:,1],palette=palette)\n",
    "plt.title('t-SNE with no Labels')\n",
    "plt.savefig('t-sne_covid19.png')\n",
    "plt.show()\n",
    "\n",
    "# sns settings\n",
    "sns.set(rc={'figure.figsize':(13,9)})\n",
    "\n",
    "# color\n",
    "palette = sns.color_palette(20,l=4,s=0.9)\n",
    "\n",
    "# plot\n",
    "sns.scatterplot(x=X_embedded[:,0],y=X_embedded[:,1],hue=y_pred, legend='full',palette=palette)\n",
    "plt.title('t-SNE with Kmeans Labels')\n",
    "plt.savefig('improved_cluster_tsne.png')\n",
    "plt.show()"
   ]
  }
 ],
 "metadata": {
  "colab": {
   "provenance": []
  },
  "kernelspec": {
   "display_name": "Python 3 (ipykernel)",
   "language": "python",
   "name": "python3"
  },
  "language_info": {
   "codemirror_mode": {
    "name": "ipython",
    "version": 3
   },
   "file_extension": ".py",
   "mimetype": "text/x-python",
   "name": "python",
   "nbconvert_exporter": "python",
   "pygments_lexer": "ipython3",
   "version": "3.10.13"
  }
 },
 "nbformat": 4,
 "nbformat_minor": 5
}
