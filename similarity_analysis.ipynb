{
 "cells": [
  {
   "cell_type": "code",
   "execution_count": 1,
   "metadata": {},
   "outputs": [
    {
     "name": "stderr",
     "output_type": "stream",
     "text": [
      "c:\\Users\\pywong\\AppData\\Local\\Programs\\Python\\Python312\\Lib\\site-packages\\tqdm\\auto.py:21: TqdmWarning: IProgress not found. Please update jupyter and ipywidgets. See https://ipywidgets.readthedocs.io/en/stable/user_install.html\n",
      "  from .autonotebook import tqdm as notebook_tqdm\n"
     ]
    }
   ],
   "source": [
    "import os\n",
    "import re\n",
    "import pandas as pd\n",
    "import numpy as np\n",
    "import seaborn as sns\n",
    "import random\n",
    "from scipy.stats import *\n",
    "from sklearn.feature_extraction.text import TfidfVectorizer, CountVectorizer\n",
    "from sklearn.metrics.pairwise import *\n",
    "from transformers import AutoTokenizer, AutoModelForSequenceClassification\n",
    "from gensim.models.doc2vec import Doc2Vec, TaggedDocument\n",
    "import hashlib\n",
    "\n",
    "from matplotlib import pyplot as plt\n",
    "# from datasketch import MinHash, Simhash\n",
    "import utils\n",
    "from similarity_analysis import *\n",
    "\n",
    "import warnings\n",
    "warnings.filterwarnings('ignore')"
   ]
  },
  {
   "cell_type": "markdown",
   "metadata": {},
   "source": [
    "The cosine similarity of the document characteristic matrix has a positive correlation to the Jaccard similarity of the signature matrix."
   ]
  },
  {
   "cell_type": "code",
   "execution_count": 2,
   "metadata": {},
   "outputs": [],
   "source": [
    "# pick a target document to compare\n",
    "target_doc_num = 0\n",
    "\n",
    "# input feature size (number of token used)\n",
    "feature_size = 2**12\n",
    "random.seed(10)\n",
    "\n",
    "# input folder\n",
    "data_root = os.path.join(os.getcwd(),'input')"
   ]
  },
  {
   "cell_type": "code",
   "execution_count": 3,
   "metadata": {},
   "outputs": [
    {
     "name": "stdout",
     "output_type": "stream",
     "text": [
      "Meta data size: 9022\n",
      "c:\\Users\\pywong\\Desktop\\PolyU\\COMP5434 Big Data Computing\\Assignment\\COMP5434-Big-Data-Computing\\input\\subset\\subset\\document_parses\\pdf_json\n",
      "total json files: 12000\n"
     ]
    },
    {
     "name": "stderr",
     "output_type": "stream",
     "text": [
      "100%|██████████| 12000/12000 [01:08<00:00, 175.75it/s]\n",
      "100%|██████████| 8083/8083 [00:39<00:00, 206.93it/s]\n",
      "[nltk_data] Downloading package stopwords to\n",
      "[nltk_data]     C:\\Users\\pywong\\AppData\\Roaming\\nltk_data...\n",
      "[nltk_data]   Package stopwords is already up-to-date!\n"
     ]
    }
   ],
   "source": [
    "df = utils.load_data_from_local(data_root)"
   ]
  },
  {
   "cell_type": "code",
   "execution_count": 48,
   "metadata": {},
   "outputs": [],
   "source": [
    "import os\n",
    "import re\n",
    "import pandas as pd\n",
    "import numpy as np\n",
    "import seaborn as sns\n",
    "import random\n",
    "from scipy.stats import *\n",
    "from sklearn.feature_extraction.text import TfidfVectorizer, CountVectorizer\n",
    "from sklearn.metrics.pairwise import *\n",
    "from transformers import AutoTokenizer, AutoModelForSequenceClassification\n",
    "from gensim.models.doc2vec import Doc2Vec, TaggedDocument\n",
    "import hashlib\n",
    "\n",
    "from matplotlib import pyplot as plt\n",
    "# from datasketch import MinHash, Simhash\n",
    "import utils\n",
    "\n",
    "import warnings\n",
    "warnings.filterwarnings('ignore')\n",
    "\n",
    "\n",
    "def check_document_similarity(X,df,target_doc_num):\n",
    "    '''\n",
    "    Given the target document number, return the similarity to other documents.\n",
    "    Output is a pandas dataframe with number of document as number of row.\n",
    "    '''\n",
    "    \n",
    "    target_doc = X.T[target_doc_num]\n",
    "    target_doc_norm = np.linalg.norm(target_doc)\n",
    "    \n",
    "    doc_l2_norm_list = []\n",
    "    doc_l1_norm_list = []\n",
    "    doc_cosine_list = []\n",
    "    \n",
    "    # Similarity from characteristic matrix X\n",
    "    # X is 4096(feature) x 8041(document)\n",
    "    \n",
    "    for doc in X.T:\n",
    "        doc_norm = np.linalg.norm(doc)\n",
    "        doc_l2_norm = np.linalg.norm(target_doc - doc)\n",
    "        doc_l1_norm = np.linalg.norm(target_doc - doc,ord=1)\n",
    "        doc_cosine = doc@target_doc.T/(doc_norm*target_doc_norm)\n",
    "\n",
    "        doc_l2_norm_list.append(doc_l2_norm)\n",
    "        doc_l1_norm_list.append(doc_l1_norm)\n",
    "        doc_cosine_list.append(doc_cosine)\n",
    "\n",
    "    \n",
    "    result = pd.DataFrame(\n",
    "        {\n",
    "            'doc_l1_norm':doc_l1_norm_list,\n",
    "            'doc_l2_norm':doc_l2_norm_list,\n",
    "            'doc_cosine_similarity':doc_cosine_list,\n",
    "            # 'sig_cosine_similarity':sig_cosine_list,\n",
    "            # 'sig_jaccard_similarity':sig_jaccard_list\n",
    "        }\n",
    "    )\n",
    "    \n",
    "    result = result.reset_index().rename(columns={'index':'doc_num'})\n",
    "    result = pd.concat([result,df[['paper_id','body_text']]],axis=1)\n",
    "    \n",
    "    return result\n",
    "\n",
    "def get_permutate_matrix(X,num_hash=50):\n",
    "    \n",
    "    '''\n",
    "    Return premutation matrix with size:\n",
    "    number of feature x number of permutation\n",
    "    '''\n",
    "    \n",
    "    N = len(X) # number of features\n",
    "\n",
    "    p = []\n",
    "\n",
    "    for i in range(0,num_hash):\n",
    "        a = random.randint(0, N-1)\n",
    "        b = random.randint(0, N-1)\n",
    "        \n",
    "        new_order = np.array([])\n",
    "        not_used = list(range(1,N+1))\n",
    "        \n",
    "        for j in range(0,N):\n",
    "            # Buckets are set to be 1 to N\n",
    "            hash_value = (a*j+b)%N+1\n",
    "            \n",
    "            # When 2 hashes mapped to the same bucket, the second hash move to the next bucket.\n",
    "            while hash_value not in not_used:\n",
    "                hash_value += 1\n",
    "                if hash_value > N:\n",
    "                    hash_value = 1\n",
    "\n",
    "            not_used.remove(hash_value)\n",
    "            new_order = np.append(new_order,hash_value)\n",
    "              \n",
    "        p.append(new_order)\n",
    "        \n",
    "    p = np.array(p).T\n",
    "    \n",
    "    return p\n",
    "\n",
    "def get_minhash_signature(X,p):\n",
    "    '''\n",
    "    Return signature matrix with size: number of permutation x number of document\n",
    "    '''\n",
    "\n",
    "    s = []\n",
    "    \n",
    "    # X is 4096(feature) x 8041(document)\n",
    "    # p is 4096(feature) x 50 (permutation)\n",
    "    # Create a signature matrix with size as number of permutation x number of document\n",
    "\n",
    "    for perm in p.T:\n",
    "        doc_sig = np.array([])\n",
    "        for doc in X.T:\n",
    "            sig_set = set(np.multiply(doc,perm))\n",
    "            sig_set.discard(0)\n",
    "            sig = min(sig_set)\n",
    "            doc_sig = np.append(doc_sig,sig)\n",
    "            \n",
    "        s.append(doc_sig)\n",
    "\n",
    "    s = np.array(s)\n",
    "    \n",
    "    return s\n",
    "\n",
    "def check_minhash_similarity(s,target_doc_num):\n",
    "\n",
    "    sig_jaccard_list = []\n",
    "    sig_cosine_list = []\n",
    "    \n",
    "    # Similarity from signature matrix\n",
    "    # s is 50(permutation) x 8041(document)\n",
    "    \n",
    "    target_sig = s.T[target_doc_num]\n",
    "    target_sig_norm = np.linalg.norm(target_sig)\n",
    "    \n",
    "    # loop through all document to create a list of score\n",
    "    for sig in s.T:\n",
    "        sig_norm = np.linalg.norm(sig)\n",
    "        sig_cosine = (sig @ target_sig.T)/(sig_norm*target_sig_norm)\n",
    "        sig_cosine_list.append(sig_cosine)\n",
    "\n",
    "        sig_intersection = len(list(set(target_sig).intersection(sig)))\n",
    "        sig_union = (len(set(target_sig)) + len(set(sig))) - sig_intersection\n",
    "        sig_jaccard = sig_intersection / sig_union\n",
    "        sig_jaccard_list.append(sig_jaccard)   \n",
    "        \n",
    "    df = pd.DataFrame(\n",
    "        {\n",
    "            'sig_cosine_similarity':sig_cosine_list,\n",
    "            'sig_jaccard_similarity':sig_jaccard_list\n",
    "        }\n",
    "    )\n",
    "    \n",
    "    df = df.reset_index().rename(columns={'index':'doc_num'})\n",
    "    \n",
    "    return df\n",
    "\n",
    "\n",
    "def get_feature_hash(feature_list):\n",
    "        \n",
    "    feature_hash = []\n",
    "    max_bit_size = 0\n",
    "    \n",
    "    for feature_name in feature_list:        \n",
    "        # Use MD5 or SHA1 to encode, since these hash functions are localicity sensitive\n",
    "        # Convert the integer into string of 0 or 1 as a hash.\n",
    "        \n",
    "        encod_feature = str.encode(feature_name)\n",
    "        \n",
    "        # MD5\n",
    "        feature_byte = hashlib.md5(encod_feature).digest()\n",
    "        feature_int = int.from_bytes(feature_byte, byteorder='little')\n",
    "        \n",
    "        # SHA1\n",
    "        # feature_byte = hashlib.sha1(encod_feature).hexdigest()\n",
    "        # feature_int = int(feature_byte, 16)\n",
    "        \n",
    "        feature_bit = f'{feature_int:0b}'\n",
    "        feature_hash.append(feature_bit)\n",
    "        \n",
    "        bit_size = feature_int.bit_length()\n",
    "        \n",
    "        if bit_size > max_bit_size:\n",
    "            max_bit_size = bit_size\n",
    "        \n",
    "    for i in range(0,len(feature_hash)):\n",
    "        feature_hash[i] = feature_hash[i].zfill(max_bit_size)\n",
    "        \n",
    "    return feature_hash\n",
    "\n",
    "\n",
    "def get_doc_finger_print(feature_hash,doc):\n",
    "    finger_print = ''\n",
    "    total_bit = len(feature_hash[0])\n",
    "    \n",
    "    # Loop through each bit in hash\n",
    "    for bit_pos in range(0,total_bit):\n",
    "        bit_weight = 0\n",
    "        \n",
    "        # Loop through all feature\n",
    "        for i in range(0,len(doc)):\n",
    "            feature_value = doc[i]\n",
    "            hash = feature_hash[i] # hash of the ith feature\n",
    "            bit = hash[bit_pos]\n",
    "            \n",
    "            if bit == '1':\n",
    "                bit_weight += feature_value\n",
    "            elif bit == '0':\n",
    "                bit_weight -= feature_value\n",
    "            else:\n",
    "                ValueError(f'Invalid bit value: {bit} at position {bit_pos} in document {i}')\n",
    "        \n",
    "        # Determine the finger print bit by the bit_weight\n",
    "        if bit_weight > 0:\n",
    "            finger_print_bit = '1'\n",
    "        elif bit_weight < 0:\n",
    "            finger_print_bit = '0'\n",
    "        # When the bit has same number of feature as 1 and 0, use the bit position to determine the finger print bit.\n",
    "        else:\n",
    "            finger_print_bit = str(bit_pos%2)\n",
    "        \n",
    "        finger_print += finger_print_bit\n",
    "        \n",
    "    return finger_print\n",
    "\n",
    "\n",
    "def get_finger_print_list(X,feature_hash):\n",
    "    \n",
    "    finger_print_list = []\n",
    "    \n",
    "    for doc in X.T:\n",
    "        finger_print = get_doc_finger_print(feature_hash,doc)\n",
    "        finger_print_list.append(finger_print)\n",
    "    \n",
    "    return finger_print_list\n",
    "\n",
    "\n",
    "def check_simhash_similarity(finger_print_list,target_doc_num):\n",
    "    \n",
    "    # sig_cosine_list = []\n",
    "    sig_hamming_distance_list = []\n",
    "    \n",
    "    target_sig = finger_print_list[target_doc_num]\n",
    "    # target_sig_norm = np.linalg.norm(target_sig)\n",
    "    \n",
    "    for sig in finger_print_list:\n",
    "        # sig_norm = np.linalg.norm(sig)\n",
    "        # sig_cosine = (sig @ target_sig.T)/(sig_norm*target_sig_norm)\n",
    "        # sig_cosine_list.append(sig_cosine)\n",
    "        \n",
    "        # Distance is the number of different bit\n",
    "        sig_hamming_distance = 0\n",
    "        \n",
    "        for i in range(0,len(sig)):\n",
    "            if sig[i] != target_sig[i]:\n",
    "                sig_hamming_distance += 1\n",
    "        \n",
    "        sig_hamming_distance_list.append(sig_hamming_distance)\n",
    "    \n",
    "    df = pd.DataFrame(\n",
    "        {\n",
    "            # 'sig_cosine_similarity':sig_cosine_list,\n",
    "            'sig_hamming_distance':sig_hamming_distance_list\n",
    "        }\n",
    "    )\n",
    "    \n",
    "    df = df.reset_index().rename(columns={'index':'doc_num'})\n",
    "    \n",
    "    return df\n",
    "\n",
    "\n",
    "def tag_documents(tokenizer,orginal_docs):\n",
    "    tagged_docs = []\n",
    "    for i in range(0,len(orginal_docs)):\n",
    "        doc = orginal_docs[i]\n",
    "        doc_id = str(i)\n",
    "        tokens = tokenizer.tokenize(doc)\n",
    "        tagged_doc = TaggedDocument(words=tokens,tags=[doc_id])\n",
    "        tagged_docs.append(tagged_doc)\n",
    "        \n",
    "    return tagged_docs\n",
    "\n",
    "\n",
    "def get_doc2vec_result(model,tokenizer,original_docs,target_doc_num):\n",
    "    \n",
    "    target_doc = original_docs[target_doc_num]\n",
    "    target_tokens = tokenizer.tokenize(target_doc)\n",
    "    inferred_vector = model.infer_vector(target_tokens)\n",
    "    similar_docs = model.dv.most_similar([inferred_vector],topn=len(original_docs))\n",
    "    \n",
    "        \n",
    "    doc_num_list = []\n",
    "    rank_list = []\n",
    "\n",
    "    for i in range(0,len(similar_docs)):\n",
    "        doc = similar_docs[i]\n",
    "        # rank start from 1 instead of 0, 1 has highest similarity\n",
    "        rank = i + 1\n",
    "        doc_num = int(doc[0])\n",
    "        \n",
    "        rank_list.append(rank)\n",
    "        doc_num_list.append(doc_num)\n",
    "        \n",
    "    doc2vec_result = pd.DataFrame({'doc2vec':rank_list,'doc_num':doc_num_list})\n",
    "    \n",
    "    return doc2vec_result\n",
    "\n",
    "\n",
    "def get_performance_rank(tfidf_result,count_result,clip_result,minhash_result,simhash_result,doc2vec_result):\n",
    "\n",
    "    # Create ranking of similarity from previous result, similar item has the lowest rank\n",
    "\n",
    "    # Rank from directly comparing the document features\n",
    "    tfidf_rank = tfidf_result[['doc_num','doc_cosine_similarity']]\n",
    "    tfidf_rank['tfidf_doc_cosine'] = tfidf_rank['doc_cosine_similarity'].rank(ascending=False)\n",
    "    # tfidf_rank['tfidf_doc_l1_norm'] = tfidf_rank['doc_l1_norm'].rank(ascending=True)\n",
    "    # tfidf_rank['tfidf_doc_l2_norm'] = tfidf_rank['doc_l2_norm'].rank(ascending=True)\n",
    "    performance_df = tfidf_rank[['doc_num','tfidf_doc_cosine']]\n",
    "\n",
    "    count_rank = count_result[['doc_num','doc_cosine_similarity','doc_l1_norm']]\n",
    "    count_rank['count_doc_cosine'] = count_rank['doc_cosine_similarity'].rank(ascending=False)\n",
    "    count_rank['count_doc_l1_norm'] = count_rank['doc_l1_norm'].rank(ascending=True)\n",
    "    # count_rank['count_doc_l2_norm'] = count_rank['doc_l2_norm'].rank(ascending=True)\n",
    "    performance_df = performance_df.merge(count_rank[['doc_num','count_doc_cosine','count_doc_l1_norm']],how='outer',on='doc_num')\n",
    "\n",
    "    clip_rank = clip_result[['doc_num','doc_l1_norm']]\n",
    "    # clip_rank['clip_doc_cosine'] = clip_rank['doc_cosine_similarity'].rank(ascending=False)\n",
    "    clip_rank['clip_doc_l1_norm'] = clip_rank['doc_l1_norm'].rank(ascending=True)\n",
    "    # clip_rank['clip_doc_l2_norm'] = clip_rank['doc_l2_norm'].rank(ascending=True)\n",
    "    performance_df = performance_df.merge(clip_rank[['doc_num','clip_doc_l1_norm']],how='outer',on='doc_num')\n",
    "\n",
    "\n",
    "    # Rank from comparing the document features\n",
    "    minhash_rank = minhash_result[['doc_num','sig_cosine_similarity','sig_jaccard_similarity']]\n",
    "    minhash_rank['minhash_cosine'] = minhash_rank['sig_cosine_similarity'].rank(ascending=False)\n",
    "    minhash_rank['minhash_jaccard'] = minhash_rank['sig_cosine_similarity'].rank(ascending=False)\n",
    "    performance_df = performance_df.merge(minhash_rank[['doc_num','minhash_cosine','minhash_jaccard']],how='outer',on='doc_num')\n",
    "\n",
    "    simhash_rank = simhash_result[['doc_num','sig_hamming_distance']]\n",
    "    simhash_rank['simhash_hamming'] = simhash_rank['sig_hamming_distance'].rank(ascending=True)\n",
    "    performance_df = performance_df.merge(simhash_rank[['doc_num','simhash_hamming']],how='outer',on='doc_num')\n",
    "    \n",
    "    return performance_df\n",
    "\n",
    "\n",
    "def get_performance_rank_diff(df,benchmark='tfidf_doc_cosine'):\n",
    "    '''\n",
    "    Compare the performance with the benchmark field.\n",
    "    By default it is the cosine similarity of document TF-IDF.\n",
    "    '''\n",
    "            \n",
    "    for col in df:\n",
    "        if col not in ['doc_num',benchmark]:\n",
    "            df[col] = df[col] - df[benchmark]\n",
    "    \n",
    "    return df"
   ]
  },
  {
   "cell_type": "markdown",
   "metadata": {},
   "source": [
    "Define characteristic matrix by tokenizing the processed text"
   ]
  },
  {
   "cell_type": "code",
   "execution_count": 4,
   "metadata": {},
   "outputs": [],
   "source": [
    "# Build feature with token count\n",
    "count_vectorizer = CountVectorizer(max_features=feature_size)\n",
    "X_count = count_vectorizer.fit_transform(df['processed_text'].values).toarray().T\n",
    "\n",
    "# Clip count between 0 and 1 to only consider the token exists in document or not\n",
    "X_clip = np.clip(X_count, 0, 1)\n",
    "\n",
    "# Use TF-IDF as feature to only consider interseting words\n",
    "tfidf_vectorizer = TfidfVectorizer(max_features=feature_size)\n",
    "X_tfidf = tfidf_vectorizer.fit_transform(df['processed_text'].values).toarray().T"
   ]
  },
  {
   "cell_type": "code",
   "execution_count": 5,
   "metadata": {},
   "outputs": [],
   "source": [
    "count_result = check_document_similarity(X_count,df,target_doc_num)\n",
    "clip_result = check_document_similarity(X_clip,df,target_doc_num)\n",
    "tfidf_result = check_document_similarity(X_tfidf,df,target_doc_num)"
   ]
  },
  {
   "cell_type": "markdown",
   "metadata": {},
   "source": [
    "MinHash\n",
    "\n",
    "Using token occurrence as document feature. Create a signature matrix using MinHash.\n",
    "Compare the signature Jaccard similarity with the document L1 Norm (Hamming distance)."
   ]
  },
  {
   "cell_type": "code",
   "execution_count": 6,
   "metadata": {},
   "outputs": [],
   "source": [
    "p = get_permutate_matrix(X_clip)\n",
    "s = get_minhash_signature(X_clip,p)"
   ]
  },
  {
   "cell_type": "code",
   "execution_count": 7,
   "metadata": {},
   "outputs": [],
   "source": [
    "# Check Performance\n",
    "clip_result = check_document_similarity(X_clip,df,target_doc_num)\n",
    "minhash_result = check_minhash_similarity(s,target_doc_num)\t\n",
    "\n",
    "minhash_result = clip_result.merge(minhash_result,how='outer',on='doc_num')\n",
    "minhash_result = minhash_result.sort_values(by=['sig_jaccard_similarity'],ascending=False)"
   ]
  },
  {
   "cell_type": "code",
   "execution_count": 8,
   "metadata": {},
   "outputs": [
    {
     "name": "stdout",
     "output_type": "stream",
     "text": [
      "PearsonRResult(statistic=0.16113215171049683, pvalue=6.578957750169202e-48)\n"
     ]
    },
    {
     "data": {
      "text/plain": [
       "<Axes: xlabel='sig_jaccard_similarity'>"
      ]
     },
     "execution_count": 8,
     "metadata": {},
     "output_type": "execute_result"
    },
    {
     "data": {
      "image/png": "[encoded data removed]",
      "text/plain": [
       "<Figure size 640x480 with 1 Axes>"
      ]
     },
     "metadata": {},
     "output_type": "display_data"
    }
   ],
   "source": [
    "print(pearsonr(minhash_result['sig_jaccard_similarity'],minhash_result['doc_l1_norm']))\n",
    "minhash_result.plot(x='sig_jaccard_similarity', y='doc_l1_norm', style='o')"
   ]
  },
  {
   "cell_type": "code",
   "execution_count": 46,
   "metadata": {},
   "outputs": [
    {
     "name": "stdout",
     "output_type": "stream",
     "text": [
      "PearsonRResult(statistic=0.32815484643407966, pvalue=3.463374748792649e-201)\n"
     ]
    },
    {
     "data": {
      "text/plain": [
       "<Axes: xlabel='sig_jaccard_similarity'>"
      ]
     },
     "execution_count": 46,
     "metadata": {},
     "output_type": "execute_result"
    },
    {
     "data": {
      "image/png": "[encoded data removed]",
      "text/plain": [
       "<Figure size 640x480 with 1 Axes>"
      ]
     },
     "metadata": {},
     "output_type": "display_data"
    }
   ],
   "source": [
    "print(pearsonr(minhash_result['sig_jaccard_similarity'],minhash_result['doc_cosine_similarity']))\n",
    "minhash_result.plot(x='sig_jaccard_similarity', y='doc_cosine_similarity', style='o')"
   ]
  },
  {
   "cell_type": "markdown",
   "metadata": {},
   "source": [
    "SimHash\n",
    "\n",
    "Using TF-IDF as document feature. Create a signature matrix using SimHash.\n",
    "Compare the signature Hamming distance with the document cosine similarity."
   ]
  },
  {
   "cell_type": "code",
   "execution_count": 29,
   "metadata": {},
   "outputs": [],
   "source": [
    "tfidf_feature_list = list(tfidf_vectorizer.get_feature_names_out())\n",
    "feature_hash = get_feature_hash(tfidf_feature_list)\n",
    "finger_print_list = get_finger_print_list(X_tfidf,feature_hash)"
   ]
  },
  {
   "cell_type": "code",
   "execution_count": 30,
   "metadata": {},
   "outputs": [],
   "source": [
    "# Check Performance\n",
    "tfidf_result = check_document_similarity(X_tfidf,df,target_doc_num)\n",
    "simhash_result = check_simhash_similarity(finger_print_list,target_doc_num)\n",
    "\n",
    "simhash_result = tfidf_result.merge(simhash_result,how='outer',on='doc_num')\n",
    "simhash_result = simhash_result.sort_values(by=['sig_hamming_distance'],ascending=True)"
   ]
  },
  {
   "cell_type": "code",
   "execution_count": 45,
   "metadata": {},
   "outputs": [
    {
     "name": "stdout",
     "output_type": "stream",
     "text": [
      "PearsonRResult(statistic=-0.7697501293496969, pvalue=0.0)\n"
     ]
    },
    {
     "data": {
      "text/plain": [
       "<Axes: xlabel='doc_cosine_similarity'>"
      ]
     },
     "execution_count": 45,
     "metadata": {},
     "output_type": "execute_result"
    },
    {
     "data": {
      "image/png": "[encoded data removed]",
      "text/plain": [
       "<Figure size 640x480 with 1 Axes>"
      ]
     },
     "metadata": {},
     "output_type": "display_data"
    }
   ],
   "source": [
    "print(pearsonr(simhash_result['doc_cosine_similarity'],simhash_result['sig_hamming_distance']))\n",
    "simhash_result.plot(x='doc_cosine_similarity', y='sig_hamming_distance', style='o')"
   ]
  },
  {
   "cell_type": "markdown",
   "metadata": {},
   "source": [
    "Doc2Vec\n",
    "\n",
    "Word2Vec also need to consider token position for word embeding. Use the original text instead of the processed text for vectorization."
   ]
  },
  {
   "cell_type": "code",
   "execution_count": 32,
   "metadata": {},
   "outputs": [],
   "source": [
    "# Use pretrained model to tokenize the documents.\n",
    "model_name = 'distilbert-base-uncased-finetuned-sst-2-english'\n",
    "model = AutoModelForSequenceClassification.from_pretrained(model_name)\n",
    "tokenizer = AutoTokenizer.from_pretrained(model_name)"
   ]
  },
  {
   "cell_type": "code",
   "execution_count": 33,
   "metadata": {},
   "outputs": [],
   "source": [
    "# Use abstract summsry since it has less tokens.\n",
    "original_docs = list(df['abstract_summary'])\n",
    "tagged_docs = tag_documents(tokenizer,original_docs)"
   ]
  },
  {
   "cell_type": "code",
   "execution_count": 34,
   "metadata": {},
   "outputs": [
    {
     "data": {
      "text/html": [
       "<div>\n",
       "<style scoped>\n",
       "    .dataframe tbody tr th:only-of-type {\n",
       "        vertical-align: middle;\n",
       "    }\n",
       "\n",
       "    .dataframe tbody tr th {\n",
       "        vertical-align: top;\n",
       "    }\n",
       "\n",
       "    .dataframe thead th {\n",
       "        text-align: right;\n",
       "    }\n",
       "</style>\n",
       "<table border=\"1\" class=\"dataframe\">\n",
       "  <thead>\n",
       "    <tr style=\"text-align: right;\">\n",
       "      <th></th>\n",
       "      <th>doc2vec</th>\n",
       "      <th>doc_num</th>\n",
       "    </tr>\n",
       "  </thead>\n",
       "  <tbody>\n",
       "    <tr>\n",
       "      <th>0</th>\n",
       "      <td>1</td>\n",
       "      <td>0</td>\n",
       "    </tr>\n",
       "    <tr>\n",
       "      <th>1</th>\n",
       "      <td>2</td>\n",
       "      <td>6928</td>\n",
       "    </tr>\n",
       "    <tr>\n",
       "      <th>2</th>\n",
       "      <td>3</td>\n",
       "      <td>6313</td>\n",
       "    </tr>\n",
       "    <tr>\n",
       "      <th>3</th>\n",
       "      <td>4</td>\n",
       "      <td>211</td>\n",
       "    </tr>\n",
       "    <tr>\n",
       "      <th>4</th>\n",
       "      <td>5</td>\n",
       "      <td>5648</td>\n",
       "    </tr>\n",
       "    <tr>\n",
       "      <th>...</th>\n",
       "      <td>...</td>\n",
       "      <td>...</td>\n",
       "    </tr>\n",
       "    <tr>\n",
       "      <th>8036</th>\n",
       "      <td>8037</td>\n",
       "      <td>4928</td>\n",
       "    </tr>\n",
       "    <tr>\n",
       "      <th>8037</th>\n",
       "      <td>8038</td>\n",
       "      <td>5774</td>\n",
       "    </tr>\n",
       "    <tr>\n",
       "      <th>8038</th>\n",
       "      <td>8039</td>\n",
       "      <td>227</td>\n",
       "    </tr>\n",
       "    <tr>\n",
       "      <th>8039</th>\n",
       "      <td>8040</td>\n",
       "      <td>7074</td>\n",
       "    </tr>\n",
       "    <tr>\n",
       "      <th>8040</th>\n",
       "      <td>8041</td>\n",
       "      <td>7863</td>\n",
       "    </tr>\n",
       "  </tbody>\n",
       "</table>\n",
       "<p>8041 rows × 2 columns</p>\n",
       "</div>"
      ],
      "text/plain": [
       "      doc2vec  doc_num\n",
       "0           1        0\n",
       "1           2     6928\n",
       "2           3     6313\n",
       "3           4      211\n",
       "4           5     5648\n",
       "...       ...      ...\n",
       "8036     8037     4928\n",
       "8037     8038     5774\n",
       "8038     8039      227\n",
       "8039     8040     7074\n",
       "8040     8041     7863\n",
       "\n",
       "[8041 rows x 2 columns]"
      ]
     },
     "execution_count": 34,
     "metadata": {},
     "output_type": "execute_result"
    }
   ],
   "source": [
    "model = Doc2Vec()\n",
    "model.build_vocab(tagged_docs)\n",
    "model.train(tagged_docs,total_examples=model.corpus_count,epochs=20)\n",
    "\n",
    "doc2vec_result = get_doc2vec_result(model,tokenizer,original_docs,target_doc_num)\n",
    "doc2vec_result"
   ]
  },
  {
   "cell_type": "markdown",
   "metadata": {},
   "source": [
    "Comparing the performance of different document similarity search methods with the cosine similarity of document with TF-IDF word embeding.\n"
   ]
  },
  {
   "cell_type": "code",
   "execution_count": 49,
   "metadata": {},
   "outputs": [],
   "source": [
    "rank_df = get_performance_rank(tfidf_result,count_result,clip_result,minhash_result,simhash_result,doc2vec_result)\n",
    "rank_diff_df = get_performance_rank_diff(rank_df)"
   ]
  },
  {
   "cell_type": "code",
   "execution_count": 52,
   "metadata": {},
   "outputs": [
    {
     "data": {
      "text/plain": [
       "<seaborn.axisgrid.FacetGrid at 0x273ab5d6300>"
      ]
     },
     "execution_count": 52,
     "metadata": {},
     "output_type": "execute_result"
    },
    {
     "data": {
      "image/png": "[encoded data removed]",
      "text/plain": [
       "<Figure size 684.125x500 with 1 Axes>"
      ]
     },
     "metadata": {},
     "output_type": "display_data"
    }
   ],
   "source": [
    "plot_df = rank_diff_df.drop(columns=['doc_num','tfidf_doc_cosine']).melt()\n",
    "sns.displot(plot_df, x='value', hue='variable')"
   ]
  },
  {
   "cell_type": "code",
   "execution_count": 53,
   "metadata": {},
   "outputs": [
    {
     "data": {
      "text/html": [
       "<div>\n",
       "<style scoped>\n",
       "    .dataframe tbody tr th:only-of-type {\n",
       "        vertical-align: middle;\n",
       "    }\n",
       "\n",
       "    .dataframe tbody tr th {\n",
       "        vertical-align: top;\n",
       "    }\n",
       "\n",
       "    .dataframe thead th {\n",
       "        text-align: right;\n",
       "    }\n",
       "</style>\n",
       "<table border=\"1\" class=\"dataframe\">\n",
       "  <thead>\n",
       "    <tr style=\"text-align: right;\">\n",
       "      <th></th>\n",
       "      <th>metric</th>\n",
       "      <th>variance</th>\n",
       "    </tr>\n",
       "  </thead>\n",
       "  <tbody>\n",
       "    <tr>\n",
       "      <th>1</th>\n",
       "      <td>count_doc_cosine</td>\n",
       "      <td>2.089450e+06</td>\n",
       "    </tr>\n",
       "    <tr>\n",
       "      <th>6</th>\n",
       "      <td>simhash_hamming</td>\n",
       "      <td>2.670554e+06</td>\n",
       "    </tr>\n",
       "    <tr>\n",
       "      <th>0</th>\n",
       "      <td>tfidf_doc_cosine</td>\n",
       "      <td>5.388810e+06</td>\n",
       "    </tr>\n",
       "    <tr>\n",
       "      <th>4</th>\n",
       "      <td>minhash_cosine</td>\n",
       "      <td>1.001336e+07</td>\n",
       "    </tr>\n",
       "    <tr>\n",
       "      <th>5</th>\n",
       "      <td>minhash_jaccard</td>\n",
       "      <td>1.001336e+07</td>\n",
       "    </tr>\n",
       "    <tr>\n",
       "      <th>2</th>\n",
       "      <td>count_doc_l1_norm</td>\n",
       "      <td>1.166310e+07</td>\n",
       "    </tr>\n",
       "    <tr>\n",
       "      <th>3</th>\n",
       "      <td>clip_doc_l1_norm</td>\n",
       "      <td>1.258959e+07</td>\n",
       "    </tr>\n",
       "  </tbody>\n",
       "</table>\n",
       "</div>"
      ],
      "text/plain": [
       "              metric      variance\n",
       "1   count_doc_cosine  2.089450e+06\n",
       "6    simhash_hamming  2.670554e+06\n",
       "0   tfidf_doc_cosine  5.388810e+06\n",
       "4     minhash_cosine  1.001336e+07\n",
       "5    minhash_jaccard  1.001336e+07\n",
       "2  count_doc_l1_norm  1.166310e+07\n",
       "3   clip_doc_l1_norm  1.258959e+07"
      ]
     },
     "execution_count": 53,
     "metadata": {},
     "output_type": "execute_result"
    }
   ],
   "source": [
    "var_rank_diff = rank_diff_df.drop(columns=['doc_num']).var(axis=0)\n",
    "var_rank_diff = var_rank_diff.reset_index().rename(columns={'index':'metric',0:'variance'})\n",
    "var_rank_diff = var_rank_diff.sort_values(by=['variance'],ascending=True)\n",
    "var_rank_diff"
   ]
  }
 ],
 "metadata": {
  "kernelspec": {
   "display_name": "Python 3",
   "language": "python",
   "name": "python3"
  },
  "language_info": {
   "codemirror_mode": {
    "name": "ipython",
    "version": 3
   },
   "file_extension": ".py",
   "mimetype": "text/x-python",
   "name": "python",
   "nbconvert_exporter": "python",
   "pygments_lexer": "ipython3",
   "version": "3.12.4"
  }
 },
 "nbformat": 4,
 "nbformat_minor": 2
}
