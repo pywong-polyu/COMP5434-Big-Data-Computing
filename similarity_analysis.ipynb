{
 "cells": [
  {
   "cell_type": "code",
   "execution_count": 1,
   "metadata": {},
   "outputs": [
    {
     "name": "stderr",
     "output_type": "stream",
     "text": [
      "c:\\Users\\pywong\\AppData\\Local\\Programs\\Python\\Python312\\Lib\\site-packages\\tqdm\\auto.py:21: TqdmWarning: IProgress not found. Please update jupyter and ipywidgets. See https://ipywidgets.readthedocs.io/en/stable/user_install.html\n",
      "  from .autonotebook import tqdm as notebook_tqdm\n"
     ]
    }
   ],
   "source": [
    "import os\n",
    "import pandas as pd\n",
    "import numpy as np\n",
    "import seaborn as sns\n",
    "import random\n",
    "from scipy.stats import *\n",
    "from sklearn.feature_extraction.text import TfidfVectorizer, CountVectorizer\n",
    "from sklearn.metrics.pairwise import *\n",
    "from transformers import AutoTokenizer, AutoModelForSequenceClassification\n",
    "from gensim.models.doc2vec import Doc2Vec, TaggedDocument\n",
    "import hashlib\n",
    "\n",
    "from matplotlib import pyplot as plt\n",
    "# from datasketch import MinHash, Simhash\n",
    "import utils\n",
    "\n",
    "import warnings\n",
    "warnings.filterwarnings('ignore')"
   ]
  },
  {
   "cell_type": "markdown",
   "metadata": {},
   "source": [
    "The cosine similarity of the document characteristic matrix has a positive correlation to the Jaccard similarity of the signature matrix."
   ]
  },
  {
   "cell_type": "code",
   "execution_count": 2,
   "metadata": {},
   "outputs": [],
   "source": [
    "# pick a target document to compare\n",
    "target_doc_num = 0\n",
    "\n",
    "# input feature size (number of token used)\n",
    "feature_size = 2**12\n",
    "random.seed(10)\n",
    "\n",
    "# input folder\n",
    "data_root = os.path.join(os.getcwd(),'input')"
   ]
  },
  {
   "cell_type": "code",
   "execution_count": 3,
   "metadata": {},
   "outputs": [
    {
     "name": "stdout",
     "output_type": "stream",
     "text": [
      "Meta data size: 9022\n",
      "c:\\Users\\pywong\\Desktop\\PolyU\\COMP5434 Big Data Computing\\Assignment\\COMP5434-Big-Data-Computing\\input\\subset\\subset\\document_parses\\pdf_json\n",
      "total json files: 12000\n"
     ]
    },
    {
     "name": "stderr",
     "output_type": "stream",
     "text": [
      "100%|██████████| 12000/12000 [01:42<00:00, 116.85it/s]\n",
      "100%|██████████| 8083/8083 [00:26<00:00, 300.58it/s]\n",
      "[nltk_data] Downloading package stopwords to\n",
      "[nltk_data]     C:\\Users\\pywong\\AppData\\Roaming\\nltk_data...\n",
      "[nltk_data]   Package stopwords is already up-to-date!\n"
     ]
    }
   ],
   "source": [
    "df = utils.load_data_from_local(data_root)"
   ]
  },
  {
   "cell_type": "markdown",
   "metadata": {},
   "source": [
    "Define characteristic matrix by tokenizing the processed text"
   ]
  },
  {
   "cell_type": "code",
   "execution_count": 4,
   "metadata": {},
   "outputs": [],
   "source": [
    "# Build feature with token count\n",
    "count_vectorizer = CountVectorizer(max_features=feature_size)\n",
    "X_count = count_vectorizer.fit_transform(df['processed_text'].values).toarray().T\n",
    "\n",
    "# Clip count between 0 and 1 to only consider the token exists in document or not\n",
    "X_clip = np.clip(X_count, 0, 1)\n",
    "\n",
    "# USe TF-IDF as feature\n",
    "tfidf_vectorizer = TfidfVectorizer(max_features=feature_size)\n",
    "X_tfidf = tfidf_vectorizer.fit_transform(df['processed_text'].values).toarray().T"
   ]
  },
  {
   "cell_type": "code",
   "execution_count": 89,
   "metadata": {},
   "outputs": [],
   "source": [
    "count_result = check_document_similarity(X_count,df,target_doc_num)\n",
    "clip_result = check_document_similarity(X_clip,df,target_doc_num)\n",
    "tfidf_result = check_document_similarity(X_tfidf,df,target_doc_num)"
   ]
  },
  {
   "cell_type": "code",
   "execution_count": 5,
   "metadata": {},
   "outputs": [],
   "source": [
    "def check_document_similarity(X,df,target_doc_num):\n",
    "    '''\n",
    "    Given the target document number, return the similarity to other documents.\n",
    "    Output is a pandas dataframe with number of document as number of row.\n",
    "    '''\n",
    "    \n",
    "    target_doc = X.T[target_doc_num]\n",
    "    target_doc_norm = np.linalg.norm(target_doc)\n",
    "    \n",
    "    doc_l2_norm_list = []\n",
    "    doc_l1_norm_list = []\n",
    "    doc_cosine_list = []\n",
    "    \n",
    "    # Similarity from characteristic matrix X\n",
    "    # X is 4096(feature) x 8041(document)\n",
    "    \n",
    "    for doc in X.T:\n",
    "        doc_norm = np.linalg.norm(doc)\n",
    "        doc_l2_norm = np.linalg.norm(target_doc - doc)\n",
    "        doc_l1_norm = np.linalg.norm(target_doc - doc,ord=1)\n",
    "        doc_cosine = doc@target_doc.T/(doc_norm*target_doc_norm)\n",
    "\n",
    "        doc_l2_norm_list.append(doc_l2_norm)\n",
    "        doc_l1_norm_list.append(doc_l1_norm)\n",
    "        doc_cosine_list.append(doc_cosine)\n",
    "\n",
    "    \n",
    "    result = pd.DataFrame(\n",
    "        {\n",
    "            'doc_l1_norm':doc_l1_norm_list,\n",
    "            'doc_l2_norm':doc_l2_norm_list,\n",
    "            'doc_cosine_similarity':doc_cosine_list,\n",
    "            # 'sig_cosine_similarity':sig_cosine_list,\n",
    "            # 'sig_jaccard_similarity':sig_jaccard_list\n",
    "        }\n",
    "    )\n",
    "    \n",
    "    result = result.reset_index().rename(columns={'index':'doc_num'})\n",
    "    result = pd.concat([result,df[['paper_id','body_text']]],axis=1)\n",
    "    \n",
    "    return result\n",
    "\n",
    "\n",
    "# def get_result_rank(df):\n",
    "    \n",
    "#     for col in df.columns:\n",
    "#         if col not in ['doc_num']:\n",
    "#             df[f'{col}_rank'] = df[col].rank()\n",
    "        \n",
    "#     df = df.dropna()\n",
    "    \n",
    "#     return df\n",
    "\n"
   ]
  },
  {
   "cell_type": "markdown",
   "metadata": {},
   "source": [
    "MinHash\n",
    "\n",
    "Using token occurrence as document feature. Create a signature matrix using MinHash.\n",
    "Compare the signature Jaccard similarity with the document L1 Norm (Hamming distance)."
   ]
  },
  {
   "cell_type": "code",
   "execution_count": 6,
   "metadata": {},
   "outputs": [],
   "source": [
    "def get_permutate_matrix(X,num_hash=50):\n",
    "    \n",
    "    '''\n",
    "    Return premutation matrix with size:\n",
    "    number of feature x number of permutation\n",
    "    '''\n",
    "    \n",
    "    N = len(X) # number of features\n",
    "\n",
    "    p = []\n",
    "\n",
    "    for i in range(0,num_hash):\n",
    "        a = random.randint(0, N-1)\n",
    "        b = random.randint(0, N-1)\n",
    "        \n",
    "        new_order = np.array([])\n",
    "        not_used = list(range(1,N+1))\n",
    "        \n",
    "        for j in range(0,N):\n",
    "            # Buckets are set to be 1 to N\n",
    "            hash_value = (a*j+b)%N+1\n",
    "            \n",
    "            # When 2 hashes mapped to the same bucket, the second hash move to the next bucket.\n",
    "            while hash_value not in not_used:\n",
    "                hash_value += 1\n",
    "                if hash_value > N:\n",
    "                    hash_value = 1\n",
    "\n",
    "            not_used.remove(hash_value)\n",
    "            new_order = np.append(new_order,hash_value)\n",
    "              \n",
    "        p.append(new_order)\n",
    "        \n",
    "    p = np.array(p).T\n",
    "    \n",
    "    return p\n",
    "\n",
    "def get_minhash_signature(X,p):\n",
    "    '''\n",
    "    Return signature matrix with size: number of permutation x number of document\n",
    "    '''\n",
    "\n",
    "    s = []\n",
    "    \n",
    "    # X is 4096(feature) x 8041(document)\n",
    "    # p is 4096(feature) x 50 (permutation)\n",
    "    # Create a signature matrix with size as number of permutation x number of document\n",
    "\n",
    "    for perm in p.T:\n",
    "        doc_sig = np.array([])\n",
    "        for doc in X.T:\n",
    "            sig_set = set(np.multiply(doc,perm))\n",
    "            sig_set.discard(0)\n",
    "            sig = min(sig_set)\n",
    "            doc_sig = np.append(doc_sig,sig)\n",
    "            \n",
    "        s.append(doc_sig)\n",
    "\n",
    "    s = np.array(s)\n",
    "    \n",
    "    return s\n",
    "\n",
    "def check_minhash_similarity(s,target_doc_num):\n",
    "\n",
    "    sig_jaccard_list = []\n",
    "    sig_cosine_list = []\n",
    "    \n",
    "    # Similarity from signature matrix\n",
    "    # s is 50(permutation) x 8041(document)\n",
    "    \n",
    "    target_sig = s.T[target_doc_num]\n",
    "    target_sig_norm = np.linalg.norm(target_sig)\n",
    "    \n",
    "    # loop through all document to create a list of score\n",
    "    for sig in s.T:\n",
    "        sig_norm = np.linalg.norm(sig)\n",
    "        sig_cosine = (sig @ target_sig.T)/(sig_norm*target_sig_norm)\n",
    "        sig_cosine_list.append(sig_cosine)\n",
    "\n",
    "        sig_intersection = len(list(set(target_sig).intersection(sig)))\n",
    "        sig_union = (len(set(target_sig)) + len(set(sig))) - sig_intersection\n",
    "        sig_jaccard = sig_intersection / sig_union\n",
    "        sig_jaccard_list.append(sig_jaccard)   \n",
    "        \n",
    "    df = pd.DataFrame(\n",
    "        {\n",
    "            'sig_cosine_similarity':sig_cosine_list,\n",
    "            'sig_jaccard_similarity':sig_jaccard_list\n",
    "        }\n",
    "    )\n",
    "    \n",
    "    df = df.reset_index().rename(columns={'index':'doc_num'})\n",
    "    \n",
    "    return df\n",
    "\n"
   ]
  },
  {
   "cell_type": "code",
   "execution_count": 7,
   "metadata": {},
   "outputs": [
    {
     "data": {
      "text/plain": [
       "array([[ 4.,  3.,  4., ...,  3.,  4.,  3.],\n",
       "       [ 1.,  1.,  1., ...,  1.,  8.,  1.],\n",
       "       [ 6.,  7.,  4., ...,  4.,  6.,  2.],\n",
       "       ...,\n",
       "       [ 3., 13.,  8., ...,  8.,  8.,  3.],\n",
       "       [ 3.,  5.,  5., ...,  5.,  5.,  5.],\n",
       "       [ 2.,  2.,  2., ...,  2.,  2.,  2.]])"
      ]
     },
     "execution_count": 7,
     "metadata": {},
     "output_type": "execute_result"
    }
   ],
   "source": [
    "p = get_permutate_matrix(X_clip)\n",
    "s = get_minhash_signature(X_clip,p)\n",
    "s"
   ]
  },
  {
   "cell_type": "code",
   "execution_count": 8,
   "metadata": {},
   "outputs": [
    {
     "data": {
      "text/html": [
       "<div>\n",
       "<style scoped>\n",
       "    .dataframe tbody tr th:only-of-type {\n",
       "        vertical-align: middle;\n",
       "    }\n",
       "\n",
       "    .dataframe tbody tr th {\n",
       "        vertical-align: top;\n",
       "    }\n",
       "\n",
       "    .dataframe thead th {\n",
       "        text-align: right;\n",
       "    }\n",
       "</style>\n",
       "<table border=\"1\" class=\"dataframe\">\n",
       "  <thead>\n",
       "    <tr style=\"text-align: right;\">\n",
       "      <th></th>\n",
       "      <th>doc_num</th>\n",
       "      <th>doc_l1_norm</th>\n",
       "      <th>doc_l2_norm</th>\n",
       "      <th>doc_cosine_similarity</th>\n",
       "      <th>paper_id</th>\n",
       "      <th>body_text</th>\n",
       "      <th>sig_cosine_similarity</th>\n",
       "      <th>sig_jaccard_similarity</th>\n",
       "    </tr>\n",
       "  </thead>\n",
       "  <tbody>\n",
       "    <tr>\n",
       "      <th>0</th>\n",
       "      <td>0</td>\n",
       "      <td>0.0</td>\n",
       "      <td>0.000000</td>\n",
       "      <td>1.000000</td>\n",
       "      <td>0015cecc2298c3bdb9bda0e0b84b38ebdcca716f</td>\n",
       "      <td>Systemic inflammation is the hallmark of coron...</td>\n",
       "      <td>1.000000</td>\n",
       "      <td>1.000000</td>\n",
       "    </tr>\n",
       "    <tr>\n",
       "      <th>3814</th>\n",
       "      <td>3814</td>\n",
       "      <td>893.0</td>\n",
       "      <td>29.883106</td>\n",
       "      <td>0.310127</td>\n",
       "      <td>78d85536384dd8b640682087a0e35949de4102a0</td>\n",
       "      <td>G ender disparities persist across the HIV car...</td>\n",
       "      <td>0.724273</td>\n",
       "      <td>1.000000</td>\n",
       "    </tr>\n",
       "    <tr>\n",
       "      <th>2475</th>\n",
       "      <td>2475</td>\n",
       "      <td>963.0</td>\n",
       "      <td>31.032241</td>\n",
       "      <td>0.338548</td>\n",
       "      <td>4f1d25e6f849a7704399ff66b84618299c62706a</td>\n",
       "      <td>Mechanochemistry, as a method of synthesis tha...</td>\n",
       "      <td>0.715556</td>\n",
       "      <td>0.882353</td>\n",
       "    </tr>\n",
       "    <tr>\n",
       "      <th>6278</th>\n",
       "      <td>6278</td>\n",
       "      <td>844.0</td>\n",
       "      <td>29.051678</td>\n",
       "      <td>0.373106</td>\n",
       "      <td>c937b1ef6e9949487c8b94ea7d9e9e3d90ce5ab9</td>\n",
       "      <td>Hypophosphatasia (HPP) is a rare, systemic, in...</td>\n",
       "      <td>0.672958</td>\n",
       "      <td>0.882353</td>\n",
       "    </tr>\n",
       "    <tr>\n",
       "      <th>724</th>\n",
       "      <td>724</td>\n",
       "      <td>871.0</td>\n",
       "      <td>29.512709</td>\n",
       "      <td>0.321102</td>\n",
       "      <td>192656848cc27410fabadab04a03e5ac42277945</td>\n",
       "      <td>The global coronavirus disease 2019 (COVID-19)...</td>\n",
       "      <td>0.694762</td>\n",
       "      <td>0.882353</td>\n",
       "    </tr>\n",
       "    <tr>\n",
       "      <th>5352</th>\n",
       "      <td>5352</td>\n",
       "      <td>875.0</td>\n",
       "      <td>29.580399</td>\n",
       "      <td>0.296901</td>\n",
       "      <td>a9fd1eaa7f89fc7d3f02d5ba17daa304e0e2b9d5</td>\n",
       "      <td>Donati et al. [1] assumed that 28% of the mate...</td>\n",
       "      <td>0.671465</td>\n",
       "      <td>0.882353</td>\n",
       "    </tr>\n",
       "    <tr>\n",
       "      <th>4801</th>\n",
       "      <td>4801</td>\n",
       "      <td>980.0</td>\n",
       "      <td>31.304952</td>\n",
       "      <td>0.298005</td>\n",
       "      <td>981bf395b1dcf8d5c09673e9a28f51d363d81d06</td>\n",
       "      <td>The global pandemic of COVID-19, rst identi ed...</td>\n",
       "      <td>0.743263</td>\n",
       "      <td>0.882353</td>\n",
       "    </tr>\n",
       "    <tr>\n",
       "      <th>4367</th>\n",
       "      <td>4367</td>\n",
       "      <td>943.0</td>\n",
       "      <td>30.708305</td>\n",
       "      <td>0.367604</td>\n",
       "      <td>8a8fe7d983b344085df73c8ab2ead96cf6187e1f</td>\n",
       "      <td>The Coronavirus disease 2019 (COVID-19) [1] wa...</td>\n",
       "      <td>0.779164</td>\n",
       "      <td>0.882353</td>\n",
       "    </tr>\n",
       "    <tr>\n",
       "      <th>6155</th>\n",
       "      <td>6155</td>\n",
       "      <td>917.0</td>\n",
       "      <td>30.282008</td>\n",
       "      <td>0.371979</td>\n",
       "      <td>c540d7c08bf13f8d4dc41f5ea27df27e04c57d9c</td>\n",
       "      <td>The wellbeing of caregivers/teachers is partic...</td>\n",
       "      <td>0.617519</td>\n",
       "      <td>0.882353</td>\n",
       "    </tr>\n",
       "    <tr>\n",
       "      <th>1657</th>\n",
       "      <td>1657</td>\n",
       "      <td>893.0</td>\n",
       "      <td>29.883106</td>\n",
       "      <td>0.370796</td>\n",
       "      <td>36a8d9aff8433686752025c8699d5a5ffc6e9ceb</td>\n",
       "      <td>In recent years, emerging infectious septicemi...</td>\n",
       "      <td>0.615754</td>\n",
       "      <td>0.882353</td>\n",
       "    </tr>\n",
       "    <tr>\n",
       "      <th>7026</th>\n",
       "      <td>7026</td>\n",
       "      <td>1056.0</td>\n",
       "      <td>32.496154</td>\n",
       "      <td>0.336023</td>\n",
       "      <td>df596a3cbca4e5dc29fd6dbe365f1a24b35d1f87</td>\n",
       "      <td>A newly emergent strain of influenza subtype H...</td>\n",
       "      <td>0.570784</td>\n",
       "      <td>0.882353</td>\n",
       "    </tr>\n",
       "  </tbody>\n",
       "</table>\n",
       "</div>"
      ],
      "text/plain": [
       "      doc_num  doc_l1_norm  doc_l2_norm  doc_cosine_similarity  \\\n",
       "0           0          0.0     0.000000               1.000000   \n",
       "3814     3814        893.0    29.883106               0.310127   \n",
       "2475     2475        963.0    31.032241               0.338548   \n",
       "6278     6278        844.0    29.051678               0.373106   \n",
       "724       724        871.0    29.512709               0.321102   \n",
       "5352     5352        875.0    29.580399               0.296901   \n",
       "4801     4801        980.0    31.304952               0.298005   \n",
       "4367     4367        943.0    30.708305               0.367604   \n",
       "6155     6155        917.0    30.282008               0.371979   \n",
       "1657     1657        893.0    29.883106               0.370796   \n",
       "7026     7026       1056.0    32.496154               0.336023   \n",
       "\n",
       "                                      paper_id  \\\n",
       "0     0015cecc2298c3bdb9bda0e0b84b38ebdcca716f   \n",
       "3814  78d85536384dd8b640682087a0e35949de4102a0   \n",
       "2475  4f1d25e6f849a7704399ff66b84618299c62706a   \n",
       "6278  c937b1ef6e9949487c8b94ea7d9e9e3d90ce5ab9   \n",
       "724   192656848cc27410fabadab04a03e5ac42277945   \n",
       "5352  a9fd1eaa7f89fc7d3f02d5ba17daa304e0e2b9d5   \n",
       "4801  981bf395b1dcf8d5c09673e9a28f51d363d81d06   \n",
       "4367  8a8fe7d983b344085df73c8ab2ead96cf6187e1f   \n",
       "6155  c540d7c08bf13f8d4dc41f5ea27df27e04c57d9c   \n",
       "1657  36a8d9aff8433686752025c8699d5a5ffc6e9ceb   \n",
       "7026  df596a3cbca4e5dc29fd6dbe365f1a24b35d1f87   \n",
       "\n",
       "                                              body_text  \\\n",
       "0     Systemic inflammation is the hallmark of coron...   \n",
       "3814  G ender disparities persist across the HIV car...   \n",
       "2475  Mechanochemistry, as a method of synthesis tha...   \n",
       "6278  Hypophosphatasia (HPP) is a rare, systemic, in...   \n",
       "724   The global coronavirus disease 2019 (COVID-19)...   \n",
       "5352  Donati et al. [1] assumed that 28% of the mate...   \n",
       "4801  The global pandemic of COVID-19, rst identi ed...   \n",
       "4367  The Coronavirus disease 2019 (COVID-19) [1] wa...   \n",
       "6155  The wellbeing of caregivers/teachers is partic...   \n",
       "1657  In recent years, emerging infectious septicemi...   \n",
       "7026  A newly emergent strain of influenza subtype H...   \n",
       "\n",
       "      sig_cosine_similarity  sig_jaccard_similarity  \n",
       "0                  1.000000                1.000000  \n",
       "3814               0.724273                1.000000  \n",
       "2475               0.715556                0.882353  \n",
       "6278               0.672958                0.882353  \n",
       "724                0.694762                0.882353  \n",
       "5352               0.671465                0.882353  \n",
       "4801               0.743263                0.882353  \n",
       "4367               0.779164                0.882353  \n",
       "6155               0.617519                0.882353  \n",
       "1657               0.615754                0.882353  \n",
       "7026               0.570784                0.882353  "
      ]
     },
     "execution_count": 8,
     "metadata": {},
     "output_type": "execute_result"
    }
   ],
   "source": [
    "# Check Performance\n",
    "clip_result = check_document_similarity(X_clip,df,target_doc_num)\n",
    "minhash_result = check_minhash_similarity(s,target_doc_num)\t\n",
    "\n",
    "minhash_result = clip_result.merge(minhash_result,how='outer',on='doc_num')\n",
    "minhash_result = minhash_result.sort_values(by=['sig_jaccard_similarity'],ascending=False)\n",
    "# minhash_result = get_result_rank(minhash_result)\n",
    "minhash_result.head(11)\n"
   ]
  },
  {
   "cell_type": "code",
   "execution_count": 9,
   "metadata": {},
   "outputs": [
    {
     "data": {
      "text/plain": [
       "<seaborn.axisgrid.FacetGrid at 0x23b53b49070>"
      ]
     },
     "execution_count": 9,
     "metadata": {},
     "output_type": "execute_result"
    },
    {
     "data": {
      "image/png": "[encoded data removed]",
      "text/plain": [
       "<Figure size 699x500 with 1 Axes>"
      ]
     },
     "metadata": {},
     "output_type": "display_data"
    }
   ],
   "source": [
    "plot_df = minhash_result[['sig_jaccard_similarity']].melt()\n",
    "sns.displot(plot_df, x='value', hue='variable')"
   ]
  },
  {
   "cell_type": "code",
   "execution_count": 10,
   "metadata": {},
   "outputs": [
    {
     "data": {
      "text/plain": [
       "<seaborn.axisgrid.FacetGrid at 0x23b72a7c770>"
      ]
     },
     "execution_count": 10,
     "metadata": {},
     "output_type": "execute_result"
    },
    {
     "data": {
      "image/png": "[encoded data removed]",
      "text/plain": [
       "<Figure size 638x500 with 1 Axes>"
      ]
     },
     "metadata": {},
     "output_type": "display_data"
    }
   ],
   "source": [
    "plot_df = minhash_result[['doc_l1_norm']].melt()\n",
    "sns.displot(plot_df, x='value', hue='variable')"
   ]
  },
  {
   "cell_type": "markdown",
   "metadata": {},
   "source": [
    "Distribution of document L1 norm (Hamming distance for token occurrence as feature). \n",
    "The figure shows that the distribution is skewed toward a lower L1 distance. Since the L1 norm is porportional to the number of token, the figure implies most of other documents have a similar number of tokens as the target document. "
   ]
  },
  {
   "cell_type": "code",
   "execution_count": 11,
   "metadata": {},
   "outputs": [
    {
     "name": "stdout",
     "output_type": "stream",
     "text": [
      "PearsonRResult(statistic=0.12572229189937273, pvalue=1.0823588952121561e-29)\n"
     ]
    },
    {
     "data": {
      "text/plain": [
       "<Axes: xlabel='doc_cosine_similarity'>"
      ]
     },
     "execution_count": 11,
     "metadata": {},
     "output_type": "execute_result"
    },
    {
     "data": {
      "image/png": "[encoded data removed]",
      "text/plain": [
       "<Figure size 640x480 with 1 Axes>"
      ]
     },
     "metadata": {},
     "output_type": "display_data"
    }
   ],
   "source": [
    "print(pearsonr(minhash_result['doc_cosine_similarity'],minhash_result['doc_l1_norm']))\n",
    "minhash_result.plot(x='doc_cosine_similarity', y='doc_l1_norm', style='o')"
   ]
  },
  {
   "cell_type": "code",
   "execution_count": 12,
   "metadata": {},
   "outputs": [
    {
     "name": "stdout",
     "output_type": "stream",
     "text": [
      "PearsonRResult(statistic=0.16113215171049683, pvalue=6.578957750169202e-48)\n"
     ]
    },
    {
     "data": {
      "text/plain": [
       "<Axes: xlabel='sig_jaccard_similarity'>"
      ]
     },
     "execution_count": 12,
     "metadata": {},
     "output_type": "execute_result"
    },
    {
     "data": {
      "image/png": "[encoded data removed]",
      "text/plain": [
       "<Figure size 640x480 with 1 Axes>"
      ]
     },
     "metadata": {},
     "output_type": "display_data"
    }
   ],
   "source": [
    "print(pearsonr(minhash_result['sig_jaccard_similarity'],minhash_result['doc_l1_norm']))\n",
    "minhash_result.plot(x='sig_jaccard_similarity', y='doc_l1_norm', style='o')"
   ]
  },
  {
   "cell_type": "markdown",
   "metadata": {},
   "source": [
    "This figure shows that the Jaccard similarity is high when the document L1 norm is low when excluding the cases with L1 norm below 750. The low L1 norm region is because most of the document has a similar number of token used compare to the target document."
   ]
  },
  {
   "cell_type": "code",
   "execution_count": 13,
   "metadata": {},
   "outputs": [
    {
     "data": {
      "text/plain": [
       "<seaborn.axisgrid.FacetGrid at 0x23b744d9490>"
      ]
     },
     "execution_count": 13,
     "metadata": {},
     "output_type": "execute_result"
    },
    {
     "data": {
      "image/png": "[encoded data removed]",
      "text/plain": [
       "<Figure size 699x500 with 1 Axes>"
      ]
     },
     "metadata": {},
     "output_type": "display_data"
    }
   ],
   "source": [
    "plot_df = minhash_result[['doc_cosine_similarity','sig_jaccard_similarity']].melt()\n",
    "sns.displot(plot_df, x='value', hue='variable')"
   ]
  },
  {
   "cell_type": "markdown",
   "metadata": {},
   "source": [
    "The Jaccard similarity of the signature has a similar distribution with the cosine similarity of the document but with a higher mean and variance. This is because the characteristic matrix is a sprase matrix with only 0 or 1 which makes the dot product between documents are likely to be small. Meanwhile, the signature matrix uses 50 different hash function for permutation. This cause the increase in variance for the Jaccard similarity in the signature matrix."
   ]
  },
  {
   "cell_type": "code",
   "execution_count": 14,
   "metadata": {},
   "outputs": [
    {
     "name": "stdout",
     "output_type": "stream",
     "text": [
      "PearsonRResult(statistic=0.2646217009383495, pvalue=6.265243162596155e-129)\n"
     ]
    },
    {
     "data": {
      "text/plain": [
       "<Axes: xlabel='doc_cosine_similarity'>"
      ]
     },
     "execution_count": 14,
     "metadata": {},
     "output_type": "execute_result"
    },
    {
     "data": {
      "image/png": "[encoded data removed]",
      "text/plain": [
       "<Figure size 640x480 with 1 Axes>"
      ]
     },
     "metadata": {},
     "output_type": "display_data"
    }
   ],
   "source": [
    "print(pearsonr(minhash_result['doc_cosine_similarity'],minhash_result['sig_cosine_similarity']))\n",
    "minhash_result.plot(x='doc_cosine_similarity', y='sig_cosine_similarity', style='o')"
   ]
  },
  {
   "cell_type": "markdown",
   "metadata": {},
   "source": [
    "The cosine similarity of document has low correlation with the cosine similarity of signature."
   ]
  },
  {
   "cell_type": "code",
   "execution_count": 15,
   "metadata": {},
   "outputs": [
    {
     "data": {
      "text/plain": [
       "<seaborn.axisgrid.FacetGrid at 0x23b53f48a40>"
      ]
     },
     "execution_count": 15,
     "metadata": {},
     "output_type": "execute_result"
    },
    {
     "data": {
      "image/png": "[encoded data removed]",
      "text/plain": [
       "<Figure size 697.625x500 with 1 Axes>"
      ]
     },
     "metadata": {},
     "output_type": "display_data"
    }
   ],
   "source": [
    "plot_df = minhash_result[['doc_cosine_similarity','sig_cosine_similarity']].melt()\n",
    "sns.displot(plot_df, x='value', hue='variable')"
   ]
  },
  {
   "cell_type": "markdown",
   "metadata": {},
   "source": [
    "The document characteristic matrix and the signature matrix has a similar distribution with a mean shift.\n",
    "This means the signature stastically preserve the feature distribution in documents."
   ]
  },
  {
   "cell_type": "markdown",
   "metadata": {},
   "source": [
    "SimHash\n",
    "\n",
    "Using TF-IDF as document feature. Create a signature matrix using SimHash.\n",
    "Compare the signature Hamming distance with the document cosine similarity."
   ]
  },
  {
   "cell_type": "code",
   "execution_count": 81,
   "metadata": {},
   "outputs": [],
   "source": [
    "\n",
    "def get_feature_hash(feature_list):\n",
    "        \n",
    "    feature_hash = []\n",
    "    \n",
    "    for feature_name in feature_list:        \n",
    "        # Use MD5 or SHA1 to encode, since these hash functions are localicity sensitive\n",
    "        # Convert the integer into string of 0 or 1 as a hash.\n",
    "        \n",
    "        encod_feature = str.encode(feature_name)\n",
    "        \n",
    "        # MD5\n",
    "        feature_byte = hashlib.md5(encod_feature).digest()\n",
    "        feature_int = int.from_bytes(feature_byte, byteorder='big').bit_length()\n",
    "        feature_bit = f'{feature_int:064b}'.zfill(64)\n",
    "        \n",
    "        # SHA1\n",
    "        # feature_byte = hashlib.sha1(encod_feature).hexdigest()\n",
    "        # feature_int = int(feature_byte, 16)\n",
    "        # feature_bit = f'{feature_int:064b}'.zfill(64)\n",
    "        \n",
    "        \n",
    "        feature_hash.append(feature_bit)\n",
    "        \n",
    "    return feature_hash\n",
    "\n",
    "    \n",
    "def get_finger_print_list(X,feature_hash):\n",
    "    finger_print_list = []\n",
    "    \n",
    "    for doc in X.T:\n",
    "        feature_used = []\n",
    "        \n",
    "        # Only add the feature into the finger print if the TF-IDF score is greater than 0.\n",
    "        # Skip for tokens that are not in the document or exists in every document.\n",
    "        for i in range(0,len(doc)):\n",
    "            if doc[i] > 0:\n",
    "                feature = feature_hash[i]\n",
    "                feature_used.append(feature)\n",
    "        \n",
    "        if len(feature_used) == 0:\n",
    "            continue\n",
    "        \n",
    "        # Combine all used feature into one finger print for each document\n",
    "        finger_print_matrix = []\n",
    "        \n",
    "        for feature in feature_used:\n",
    "            feature_bit = []\n",
    "            for bit in feature:\n",
    "                feature_bit.append(int(bit)) # 0 or 1\n",
    "        \n",
    "            finger_print_matrix.append(feature_bit)\n",
    "        \n",
    "        # Finger print matrix has size as number of feature (max 4096) x number of bit (64)\n",
    "        finger_print_matrix = np.array(finger_print_matrix)\n",
    "        finger_print = finger_print_matrix.mean(axis=0)\n",
    "\n",
    "        # If the majority of the feature has the same bit in some position,\n",
    "        # assign the finger print position with the same bit.   \n",
    "        for i in range(0,len(finger_print)):\n",
    "            value = finger_print[i]\n",
    "            if value > 0.5:\n",
    "                finger_print[i] = 1\n",
    "            elif value < 0.5:\n",
    "                finger_print[i] = 0\n",
    "                \n",
    "            # When the ratio is 0.5, use the bit position to determine \n",
    "            else:\n",
    "                finger_print[i] = i%2\n",
    "\n",
    "        finger_print_list.append(finger_print)   \n",
    "                \n",
    "    return finger_print_list\n",
    "                \n",
    "\n",
    "def check_simhash_similarity(finger_print_list,target_doc_num):\n",
    "    \n",
    "    sig_cosine_list = []\n",
    "    sig_hamming_distance_list = []\n",
    "    \n",
    "    target_sig = finger_print_list[target_doc_num]\n",
    "    target_sig_norm = np.linalg.norm(target_sig)\n",
    "    \n",
    "    for sig in finger_print_list:\n",
    "        sig_norm = np.linalg.norm(sig)\n",
    "        sig_cosine = (sig @ target_sig.T)/(sig_norm*target_sig_norm)\n",
    "        sig_cosine_list.append(sig_cosine)\n",
    "        \n",
    "        # Distance is the number of different bit\n",
    "        sig_hamming_distance = np.sum(sig != target_sig)\n",
    "        sig_hamming_distance_list.append(sig_hamming_distance)\n",
    "    \n",
    "    df = pd.DataFrame(\n",
    "        {\n",
    "            'sig_cosine_similarity':sig_cosine_list,\n",
    "            'sig_hamming_distance':sig_hamming_distance_list\n",
    "        }\n",
    "    )\n",
    "    \n",
    "    df = df.reset_index().rename(columns={'index':'doc_num'})\n",
    "    \n",
    "    return df\n"
   ]
  },
  {
   "cell_type": "code",
   "execution_count": 82,
   "metadata": {},
   "outputs": [],
   "source": [
    "tfidf_feature_list = list(tfidf_vectorizer.get_feature_names_out())\n",
    "feature_hash = get_feature_hash(tfidf_feature_list)\n",
    "finger_print_list = get_finger_print_list(X_tfidf,feature_hash)"
   ]
  },
  {
   "cell_type": "code",
   "execution_count": 83,
   "metadata": {},
   "outputs": [
    {
     "data": {
      "text/html": [
       "<div>\n",
       "<style scoped>\n",
       "    .dataframe tbody tr th:only-of-type {\n",
       "        vertical-align: middle;\n",
       "    }\n",
       "\n",
       "    .dataframe tbody tr th {\n",
       "        vertical-align: top;\n",
       "    }\n",
       "\n",
       "    .dataframe thead th {\n",
       "        text-align: right;\n",
       "    }\n",
       "</style>\n",
       "<table border=\"1\" class=\"dataframe\">\n",
       "  <thead>\n",
       "    <tr style=\"text-align: right;\">\n",
       "      <th></th>\n",
       "      <th>doc_num</th>\n",
       "      <th>doc_l1_norm</th>\n",
       "      <th>doc_l2_norm</th>\n",
       "      <th>doc_cosine_similarity</th>\n",
       "      <th>paper_id</th>\n",
       "      <th>body_text</th>\n",
       "      <th>sig_cosine_similarity</th>\n",
       "      <th>sig_hamming_distance</th>\n",
       "    </tr>\n",
       "  </thead>\n",
       "  <tbody>\n",
       "    <tr>\n",
       "      <th>0</th>\n",
       "      <td>0</td>\n",
       "      <td>0.000000</td>\n",
       "      <td>0.000000</td>\n",
       "      <td>1.000000</td>\n",
       "      <td>0015cecc2298c3bdb9bda0e0b84b38ebdcca716f</td>\n",
       "      <td>Systemic inflammation is the hallmark of coron...</td>\n",
       "      <td>1.0</td>\n",
       "      <td>0</td>\n",
       "    </tr>\n",
       "    <tr>\n",
       "      <th>5202</th>\n",
       "      <td>5202</td>\n",
       "      <td>17.385425</td>\n",
       "      <td>0.847847</td>\n",
       "      <td>0.640578</td>\n",
       "      <td>a47b0b4044d87473435e5d47e738dc98a15de253</td>\n",
       "      <td>Pain severely afflicts almost half a billion p...</td>\n",
       "      <td>1.0</td>\n",
       "      <td>0</td>\n",
       "    </tr>\n",
       "    <tr>\n",
       "      <th>5200</th>\n",
       "      <td>5200</td>\n",
       "      <td>16.958739</td>\n",
       "      <td>0.886608</td>\n",
       "      <td>0.606963</td>\n",
       "      <td>a460af0d1f63dcf5465a2ac2b4b1905beadc36ca</td>\n",
       "      <td>Several social health insurance markets includ...</td>\n",
       "      <td>1.0</td>\n",
       "      <td>0</td>\n",
       "    </tr>\n",
       "    <tr>\n",
       "      <th>5199</th>\n",
       "      <td>5199</td>\n",
       "      <td>18.288292</td>\n",
       "      <td>1.069602</td>\n",
       "      <td>0.427976</td>\n",
       "      <td>a45dfd6f07cfe6d75b1f15832ceed59af31d726b</td>\n",
       "      <td>Although the rate of cigarette smoking among a...</td>\n",
       "      <td>1.0</td>\n",
       "      <td>0</td>\n",
       "    </tr>\n",
       "    <tr>\n",
       "      <th>5198</th>\n",
       "      <td>5198</td>\n",
       "      <td>18.186716</td>\n",
       "      <td>1.114785</td>\n",
       "      <td>0.378628</td>\n",
       "      <td>a45ddcc047883b3a3843797811ff7cb6c173b8e9</td>\n",
       "      <td>. The quality of online information about peri...</td>\n",
       "      <td>1.0</td>\n",
       "      <td>0</td>\n",
       "    </tr>\n",
       "    <tr>\n",
       "      <th>5197</th>\n",
       "      <td>5197</td>\n",
       "      <td>16.962810</td>\n",
       "      <td>0.832505</td>\n",
       "      <td>0.653467</td>\n",
       "      <td>a454eac124326fc1cf308234f5966e4d9874b05c</td>\n",
       "      <td>Rabdosia genus is an important genus of the La...</td>\n",
       "      <td>1.0</td>\n",
       "      <td>0</td>\n",
       "    </tr>\n",
       "    <tr>\n",
       "      <th>5195</th>\n",
       "      <td>5195</td>\n",
       "      <td>19.104106</td>\n",
       "      <td>0.904220</td>\n",
       "      <td>0.591193</td>\n",
       "      <td>a44c9f5e249cabeef88fca9d82ec5db7f3ba1f26</td>\n",
       "      <td>The United Nations General Assembly in Septemb...</td>\n",
       "      <td>1.0</td>\n",
       "      <td>0</td>\n",
       "    </tr>\n",
       "    <tr>\n",
       "      <th>5194</th>\n",
       "      <td>5194</td>\n",
       "      <td>17.857407</td>\n",
       "      <td>1.024958</td>\n",
       "      <td>0.474730</td>\n",
       "      <td>a44a918459a779ef4dfddcdf56640df86d0c2ae0</td>\n",
       "      <td>Alveolar macrophages (AM) are the sentinel pha...</td>\n",
       "      <td>1.0</td>\n",
       "      <td>0</td>\n",
       "    </tr>\n",
       "    <tr>\n",
       "      <th>5193</th>\n",
       "      <td>5193</td>\n",
       "      <td>20.071024</td>\n",
       "      <td>0.980964</td>\n",
       "      <td>0.518855</td>\n",
       "      <td>a445c3a9019cb4110d8c53610dae0b7f79fe0587</td>\n",
       "      <td>a1111111111 a1111111111 a1111111111 a111111111...</td>\n",
       "      <td>1.0</td>\n",
       "      <td>0</td>\n",
       "    </tr>\n",
       "    <tr>\n",
       "      <th>5192</th>\n",
       "      <td>5192</td>\n",
       "      <td>19.587837</td>\n",
       "      <td>0.920910</td>\n",
       "      <td>0.575962</td>\n",
       "      <td>a438e8a94ad51f30132a3fec46105f9cef60ad45</td>\n",
       "      <td>P andemics created by novel viruses from anima...</td>\n",
       "      <td>1.0</td>\n",
       "      <td>0</td>\n",
       "    </tr>\n",
       "    <tr>\n",
       "      <th>5191</th>\n",
       "      <td>5191</td>\n",
       "      <td>17.381457</td>\n",
       "      <td>0.971803</td>\n",
       "      <td>0.527799</td>\n",
       "      <td>a432674d60ece67f3cab4e81dcfca803a833b486</td>\n",
       "      <td>The design of better policies that could lead ...</td>\n",
       "      <td>1.0</td>\n",
       "      <td>0</td>\n",
       "    </tr>\n",
       "  </tbody>\n",
       "</table>\n",
       "</div>"
      ],
      "text/plain": [
       "      doc_num  doc_l1_norm  doc_l2_norm  doc_cosine_similarity  \\\n",
       "0           0     0.000000     0.000000               1.000000   \n",
       "5202     5202    17.385425     0.847847               0.640578   \n",
       "5200     5200    16.958739     0.886608               0.606963   \n",
       "5199     5199    18.288292     1.069602               0.427976   \n",
       "5198     5198    18.186716     1.114785               0.378628   \n",
       "5197     5197    16.962810     0.832505               0.653467   \n",
       "5195     5195    19.104106     0.904220               0.591193   \n",
       "5194     5194    17.857407     1.024958               0.474730   \n",
       "5193     5193    20.071024     0.980964               0.518855   \n",
       "5192     5192    19.587837     0.920910               0.575962   \n",
       "5191     5191    17.381457     0.971803               0.527799   \n",
       "\n",
       "                                      paper_id  \\\n",
       "0     0015cecc2298c3bdb9bda0e0b84b38ebdcca716f   \n",
       "5202  a47b0b4044d87473435e5d47e738dc98a15de253   \n",
       "5200  a460af0d1f63dcf5465a2ac2b4b1905beadc36ca   \n",
       "5199  a45dfd6f07cfe6d75b1f15832ceed59af31d726b   \n",
       "5198  a45ddcc047883b3a3843797811ff7cb6c173b8e9   \n",
       "5197  a454eac124326fc1cf308234f5966e4d9874b05c   \n",
       "5195  a44c9f5e249cabeef88fca9d82ec5db7f3ba1f26   \n",
       "5194  a44a918459a779ef4dfddcdf56640df86d0c2ae0   \n",
       "5193  a445c3a9019cb4110d8c53610dae0b7f79fe0587   \n",
       "5192  a438e8a94ad51f30132a3fec46105f9cef60ad45   \n",
       "5191  a432674d60ece67f3cab4e81dcfca803a833b486   \n",
       "\n",
       "                                              body_text  \\\n",
       "0     Systemic inflammation is the hallmark of coron...   \n",
       "5202  Pain severely afflicts almost half a billion p...   \n",
       "5200  Several social health insurance markets includ...   \n",
       "5199  Although the rate of cigarette smoking among a...   \n",
       "5198  . The quality of online information about peri...   \n",
       "5197  Rabdosia genus is an important genus of the La...   \n",
       "5195  The United Nations General Assembly in Septemb...   \n",
       "5194  Alveolar macrophages (AM) are the sentinel pha...   \n",
       "5193  a1111111111 a1111111111 a1111111111 a111111111...   \n",
       "5192  P andemics created by novel viruses from anima...   \n",
       "5191  The design of better policies that could lead ...   \n",
       "\n",
       "      sig_cosine_similarity  sig_hamming_distance  \n",
       "0                       1.0                     0  \n",
       "5202                    1.0                     0  \n",
       "5200                    1.0                     0  \n",
       "5199                    1.0                     0  \n",
       "5198                    1.0                     0  \n",
       "5197                    1.0                     0  \n",
       "5195                    1.0                     0  \n",
       "5194                    1.0                     0  \n",
       "5193                    1.0                     0  \n",
       "5192                    1.0                     0  \n",
       "5191                    1.0                     0  "
      ]
     },
     "execution_count": 83,
     "metadata": {},
     "output_type": "execute_result"
    }
   ],
   "source": [
    "# Check Performance\n",
    "tfidf_result = check_document_similarity(X_tfidf,df,target_doc_num)\n",
    "simhash_result = check_simhash_similarity(finger_print_list,target_doc_num)\n",
    "\n",
    "simhash_result = tfidf_result.merge(simhash_result,how='outer',on='doc_num')\n",
    "simhash_result = simhash_result.sort_values(by=['sig_hamming_distance'],ascending=True)\n",
    "# minhash_result = get_result_rank(minhash_result)\n",
    "simhash_result.head(11)"
   ]
  },
  {
   "cell_type": "code",
   "execution_count": 84,
   "metadata": {},
   "outputs": [
    {
     "data": {
      "text/plain": [
       "<seaborn.axisgrid.FacetGrid at 0x23f485a1d90>"
      ]
     },
     "execution_count": 84,
     "metadata": {},
     "output_type": "execute_result"
    },
    {
     "data": {
      "image/png": "[encoded data removed]",
      "text/plain": [
       "<Figure size 697.625x500 with 1 Axes>"
      ]
     },
     "metadata": {},
     "output_type": "display_data"
    }
   ],
   "source": [
    "plot_df = simhash_result[['doc_cosine_similarity']].melt()\n",
    "sns.displot(plot_df, x='value', hue='variable')"
   ]
  },
  {
   "cell_type": "markdown",
   "metadata": {},
   "source": [
    "The document cosine similarity is slightly skewed toword the right hand side. This means the doocuments are more likely to be different from the traget document."
   ]
  },
  {
   "cell_type": "code",
   "execution_count": 85,
   "metadata": {},
   "outputs": [
    {
     "data": {
      "text/plain": [
       "<seaborn.axisgrid.FacetGrid at 0x23f486315b0>"
      ]
     },
     "execution_count": 85,
     "metadata": {},
     "output_type": "execute_result"
    },
    {
     "data": {
      "image/png": "[encoded data removed]",
      "text/plain": [
       "<Figure size 708.625x500 with 1 Axes>"
      ]
     },
     "metadata": {},
     "output_type": "display_data"
    }
   ],
   "source": [
    "plot_df = simhash_result[['sig_hamming_distance']].melt()\n",
    "sns.displot(plot_df, x='value', hue='variable')"
   ]
  },
  {
   "cell_type": "code",
   "execution_count": 86,
   "metadata": {},
   "outputs": [
    {
     "name": "stdout",
     "output_type": "stream",
     "text": [
      "PearsonRResult(statistic=0.011875231587999548, pvalue=0.2869921179041192)\n"
     ]
    },
    {
     "data": {
      "text/plain": [
       "<Axes: xlabel='doc_l2_norm'>"
      ]
     },
     "execution_count": 86,
     "metadata": {},
     "output_type": "execute_result"
    },
    {
     "data": {
      "image/png": "[encoded data removed]",
      "text/plain": [
       "<Figure size 640x480 with 1 Axes>"
      ]
     },
     "metadata": {},
     "output_type": "display_data"
    }
   ],
   "source": [
    "print(pearsonr(simhash_result['doc_l2_norm'],simhash_result['sig_hamming_distance']))\n",
    "simhash_result.plot(x='doc_l2_norm', y='sig_hamming_distance', style='o')"
   ]
  },
  {
   "cell_type": "code",
   "execution_count": 87,
   "metadata": {},
   "outputs": [
    {
     "name": "stdout",
     "output_type": "stream",
     "text": [
      "PearsonRResult(statistic=-0.013309972802419967, pvalue=0.2327150364740963)\n"
     ]
    },
    {
     "data": {
      "text/plain": [
       "<Axes: xlabel='doc_cosine_similarity'>"
      ]
     },
     "execution_count": 87,
     "metadata": {},
     "output_type": "execute_result"
    },
    {
     "data": {
      "image/png": "[encoded data removed]",
      "text/plain": [
       "<Figure size 640x480 with 1 Axes>"
      ]
     },
     "metadata": {},
     "output_type": "display_data"
    }
   ],
   "source": [
    "print(pearsonr(simhash_result['doc_cosine_similarity'],simhash_result['sig_hamming_distance']))\n",
    "simhash_result.plot(x='doc_cosine_similarity', y='sig_hamming_distance', style='o')"
   ]
  },
  {
   "cell_type": "code",
   "execution_count": 88,
   "metadata": {},
   "outputs": [
    {
     "ename": "NameError",
     "evalue": "name 'stop' is not defined",
     "output_type": "error",
     "traceback": [
      "\u001b[1;31m---------------------------------------------------------------------------\u001b[0m",
      "\u001b[1;31mNameError\u001b[0m                                 Traceback (most recent call last)",
      "Cell \u001b[1;32mIn[88], line 1\u001b[0m\n\u001b[1;32m----> 1\u001b[0m \u001b[43mstop\u001b[49m\n",
      "\u001b[1;31mNameError\u001b[0m: name 'stop' is not defined"
     ]
    }
   ],
   "source": [
    "stop"
   ]
  },
  {
   "cell_type": "markdown",
   "metadata": {},
   "source": [
    "The signature Hamming distance has a negative correlation with the document cosine similarity."
   ]
  },
  {
   "cell_type": "markdown",
   "metadata": {},
   "source": [
    "Doc2Vec\n",
    "\n",
    "Word2Vec also need to consider token position for word embeding. Use the original text instead of the processed text for vectorization."
   ]
  },
  {
   "cell_type": "code",
   "execution_count": null,
   "metadata": {},
   "outputs": [],
   "source": [
    "# Use pretrained model to tokenize the documents.\n",
    "model_name = 'distilbert-base-uncased-finetuned-sst-2-english'\n",
    "model = AutoModelForSequenceClassification.from_pretrained(model_name)\n",
    "tokenizer = AutoTokenizer.from_pretrained(model_name)"
   ]
  },
  {
   "cell_type": "code",
   "execution_count": null,
   "metadata": {},
   "outputs": [],
   "source": [
    "def tag_documents(orginal_docs):\n",
    "    tagged_docs = []\n",
    "    for i in range(0,len(orginal_docs)):\n",
    "        doc = orginal_docs[i]\n",
    "        doc_id = str(i)\n",
    "        tokens = tokenizer.tokenize(doc)\n",
    "        tagged_doc = TaggedDocument(words=tokens,tags=[doc_id])\n",
    "        tagged_docs.append(tagged_doc)\n",
    "        \n",
    "    return tagged_docs\n",
    "\n",
    "\n",
    "def get_doc2vec_result(model,original_docs,target_doc_num):\n",
    "    \n",
    "    target_doc = original_docs[target_doc_num]\n",
    "    target_tokens = tokenizer.tokenize(target_doc)\n",
    "    inferred_vector = model.infer_vector(target_tokens)\n",
    "    similar_docs = model.dv.most_similar([inferred_vector],topn=len(original_docs))\n",
    "    \n",
    "        \n",
    "    doc_num_list = []\n",
    "    rank_list = []\n",
    "\n",
    "    for i in range(0,len(similar_docs)):\n",
    "        doc = similar_docs[i]\n",
    "        rank = i + 1 # rank start from 1 instead of 0, 1 has highest similarity\n",
    "        doc_num = int(doc[0])\n",
    "        \n",
    "        rank_list.append(rank)\n",
    "        doc_num_list.append(doc_num)\n",
    "        \n",
    "    doc2vec_result = pd.DataFrame({'doc2vec':rank_list,'doc_num':doc_num_list})\n",
    "    \n",
    "    return doc2vec_result"
   ]
  },
  {
   "cell_type": "code",
   "execution_count": null,
   "metadata": {},
   "outputs": [
    {
     "name": "stderr",
     "output_type": "stream",
     "text": [
      "Token indices sequence length is longer than the specified maximum sequence length for this model (4439 > 512). Running this sequence through the model will result in indexing errors\n"
     ]
    }
   ],
   "source": [
    "original_docs = list(df['body_text'])\n",
    "tagged_docs = tag_documents(original_docs)"
   ]
  },
  {
   "cell_type": "code",
   "execution_count": null,
   "metadata": {},
   "outputs": [],
   "source": [
    "model = Doc2Vec()\n",
    "model.build_vocab(tagged_docs)\n",
    "model.train(tagged_docs,total_examples=model.corpus_count,epochs=20)"
   ]
  },
  {
   "cell_type": "code",
   "execution_count": null,
   "metadata": {},
   "outputs": [
    {
     "data": {
      "text/html": [
       "<div>\n",
       "<style scoped>\n",
       "    .dataframe tbody tr th:only-of-type {\n",
       "        vertical-align: middle;\n",
       "    }\n",
       "\n",
       "    .dataframe tbody tr th {\n",
       "        vertical-align: top;\n",
       "    }\n",
       "\n",
       "    .dataframe thead th {\n",
       "        text-align: right;\n",
       "    }\n",
       "</style>\n",
       "<table border=\"1\" class=\"dataframe\">\n",
       "  <thead>\n",
       "    <tr style=\"text-align: right;\">\n",
       "      <th></th>\n",
       "      <th>doc2vec_rank</th>\n",
       "      <th>doc_num</th>\n",
       "    </tr>\n",
       "  </thead>\n",
       "  <tbody>\n",
       "    <tr>\n",
       "      <th>0</th>\n",
       "      <td>1</td>\n",
       "      <td>0</td>\n",
       "    </tr>\n",
       "    <tr>\n",
       "      <th>1</th>\n",
       "      <td>2</td>\n",
       "      <td>3516</td>\n",
       "    </tr>\n",
       "    <tr>\n",
       "      <th>2</th>\n",
       "      <td>3</td>\n",
       "      <td>2211</td>\n",
       "    </tr>\n",
       "    <tr>\n",
       "      <th>3</th>\n",
       "      <td>4</td>\n",
       "      <td>3155</td>\n",
       "    </tr>\n",
       "    <tr>\n",
       "      <th>4</th>\n",
       "      <td>5</td>\n",
       "      <td>1654</td>\n",
       "    </tr>\n",
       "    <tr>\n",
       "      <th>...</th>\n",
       "      <td>...</td>\n",
       "      <td>...</td>\n",
       "    </tr>\n",
       "    <tr>\n",
       "      <th>8036</th>\n",
       "      <td>8037</td>\n",
       "      <td>3257</td>\n",
       "    </tr>\n",
       "    <tr>\n",
       "      <th>8037</th>\n",
       "      <td>8038</td>\n",
       "      <td>378</td>\n",
       "    </tr>\n",
       "    <tr>\n",
       "      <th>8038</th>\n",
       "      <td>8039</td>\n",
       "      <td>5184</td>\n",
       "    </tr>\n",
       "    <tr>\n",
       "      <th>8039</th>\n",
       "      <td>8040</td>\n",
       "      <td>1945</td>\n",
       "    </tr>\n",
       "    <tr>\n",
       "      <th>8040</th>\n",
       "      <td>8041</td>\n",
       "      <td>2076</td>\n",
       "    </tr>\n",
       "  </tbody>\n",
       "</table>\n",
       "<p>8041 rows × 2 columns</p>\n",
       "</div>"
      ],
      "text/plain": [
       "      doc2vec_rank  doc_num\n",
       "0                1        0\n",
       "1                2     3516\n",
       "2                3     2211\n",
       "3                4     3155\n",
       "4                5     1654\n",
       "...            ...      ...\n",
       "8036          8037     3257\n",
       "8037          8038      378\n",
       "8038          8039     5184\n",
       "8039          8040     1945\n",
       "8040          8041     2076\n",
       "\n",
       "[8041 rows x 2 columns]"
      ]
     },
     "execution_count": 71,
     "metadata": {},
     "output_type": "execute_result"
    }
   ],
   "source": [
    "doc2vec_result = get_doc2vec_result(model,original_docs,target_doc_num)\n",
    "doc2vec_result"
   ]
  },
  {
   "cell_type": "code",
   "execution_count": null,
   "metadata": {},
   "outputs": [],
   "source": []
  },
  {
   "cell_type": "markdown",
   "metadata": {},
   "source": [
    "Comparing the performance of different document similarity search methods with the cosine similarity of document with TF-IDF word embeding.\n"
   ]
  },
  {
   "cell_type": "code",
   "execution_count": null,
   "metadata": {},
   "outputs": [
    {
     "ename": "NameError",
     "evalue": "name 'check_result_similarity' is not defined",
     "output_type": "error",
     "traceback": [
      "\u001b[1;31m---------------------------------------------------------------------------\u001b[0m",
      "\u001b[1;31mNameError\u001b[0m                                 Traceback (most recent call last)",
      "Cell \u001b[1;32mIn[30], line 1\u001b[0m\n\u001b[1;32m----> 1\u001b[0m document_result \u001b[38;5;241m=\u001b[39m \u001b[43mcheck_result_similarity\u001b[49m(X_tfidf,target_doc_num)\n\u001b[0;32m      2\u001b[0m document_result \u001b[38;5;241m=\u001b[39m pd\u001b[38;5;241m.\u001b[39mconcat([document_result,df[[\u001b[38;5;124m'\u001b[39m\u001b[38;5;124mpaper_id\u001b[39m\u001b[38;5;124m'\u001b[39m,\u001b[38;5;124m'\u001b[39m\u001b[38;5;124mbody_text\u001b[39m\u001b[38;5;124m'\u001b[39m]]],axis\u001b[38;5;241m=\u001b[39m\u001b[38;5;241m1\u001b[39m)\n\u001b[0;32m      3\u001b[0m document_result \u001b[38;5;241m=\u001b[39m document_result\u001b[38;5;241m.\u001b[39msort_values(by\u001b[38;5;241m=\u001b[39m[\u001b[38;5;124m'\u001b[39m\u001b[38;5;124mdoc_cosine_similarity\u001b[39m\u001b[38;5;124m'\u001b[39m],ascending\u001b[38;5;241m=\u001b[39m\u001b[38;5;28;01mFalse\u001b[39;00m)\n",
      "\u001b[1;31mNameError\u001b[0m: name 'check_result_similarity' is not defined"
     ]
    }
   ],
   "source": [
    "#\n",
    "# Similar item has the lowest rank\n",
    "tfidf_rank = tfidf_result[['doc_num','doc_cosine_similarity','doc_l1_norm','doc_l2_norm']]\n",
    "tfidf_rank['tfidf_doc_cosine'] = tfidf_rank['doc_cosine_similarity'].rank(ascending=False)\n",
    "tfidf_rank['tfidf_doc_l1_norm'] = tfidf_rank['doc_l1_norm'].rank(ascending=True)\n",
    "tfidf_rank['tfidf_doc_l2_norm'] = tfidf_rank['doc_l2_norm'].rank(ascending=True)\n",
    "tfidf_rank = tfidf_rank[['doc_num','tfidf_doc_cosine','tfidf_doc_l1_norm','tfidf_doc_l2_norm']]\n",
    "\n",
    "count_rank = count_result[['doc_num','doc_cosine_similarity','doc_l1_norm','doc_l2_norm']]\n",
    "count_rank['count_doc_cosine'] = count_rank['doc_cosine_similarity'].rank(ascending=False)\n",
    "count_rank['count_doc_l1_norm'] = count_rank['doc_l1_norm'].rank(ascending=True)\n",
    "count_rank['count_doc_l2_norm'] = count_rank['doc_l2_norm'].rank(ascending=True)\n",
    "count_rank = count_rank[['doc_num','count_doc_cosine','count_doc_l1_norm','count_doc_l2_norm']]\n",
    "\n",
    "\n",
    "\n",
    "clip_rank = clip_result[['doc_num','doc_cosine_similarity','doc_l1_norm','doc_l2_norm']]\n",
    "clip_rank['clip_doc_cosine'] = clip_rank['doc_cosine_similarity'].rank(ascending=False)\n",
    "clip_rank['clip_doc_l1_norm'] = clip_rank['doc_l1_norm'].rank(ascending=True)\n",
    "clip_rank['clip_doc_l2_norm'] = clip_rank['doc_l2_norm'].rank(ascending=True)\n",
    "clip_rank = clip_rank[['doc_num','clip_doc_cosine','clip_doc_l1_norm','clip_doc_l2_norm']]\n",
    "\n",
    "minhash_rank = minhash_result[['doc_num','sig_cosine_similarity','sig_jaccard_similarity']]\n",
    "minhash_rank['minhash_cosine'] = minhash_rank['sig_cosine_similarity'].rank(ascending=False)\n",
    "minhash_rank['minhash_jaccard'] = minhash_rank['sig_cosine_similarity'].rank(ascending=False)\n",
    "minhash_rank = minhash_rank[['doc_num','minhash_cosine','minhash_jaccard']]\n",
    "\n",
    "simhash_rank = simhash_result[['doc_num','sig_cosine_similarity','sig_hamming_distance']]\n",
    "simhash_rank['simhash_cosine'] = simhash_rank['sig_cosine_similarity'].rank(ascending=False)\n",
    "simhash_rank['simhash_hamming'] = simhash_rank['sig_hamming_distance'].rank(ascending=True)\n",
    "simhash_rank = simhash_rank[['doc_num','simhash_cosine','simhash_hamming']]"
   ]
  },
  {
   "cell_type": "code",
   "execution_count": null,
   "metadata": {},
   "outputs": [],
   "source": []
  },
  {
   "cell_type": "code",
   "execution_count": null,
   "metadata": {},
   "outputs": [],
   "source": []
  },
  {
   "cell_type": "code",
   "execution_count": null,
   "metadata": {},
   "outputs": [],
   "source": []
  }
 ],
 "metadata": {
  "kernelspec": {
   "display_name": "Python 3",
   "language": "python",
   "name": "python3"
  },
  "language_info": {
   "codemirror_mode": {
    "name": "ipython",
    "version": 3
   },
   "file_extension": ".py",
   "mimetype": "text/x-python",
   "name": "python",
   "nbconvert_exporter": "python",
   "pygments_lexer": "ipython3",
   "version": "3.12.4"
  }
 },
 "nbformat": 4,
 "nbformat_minor": 2
}
