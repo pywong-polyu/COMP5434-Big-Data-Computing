{
  "cells": [
    {
      "cell_type": "code",
      "execution_count": 1,
      "id": "eeabd1eb",
      "metadata": {
        "id": "eeabd1eb"
      },
      "outputs": [],
      "source": [
        "# Import necessary packages\n",
        "import os\n",
        "import numpy as np\n",
        "import pandas as pd\n",
        "import random"
      ]
    },
    {
      "cell_type": "markdown",
      "id": "cc1250a1",
      "metadata": {
        "id": "cc1250a1"
      },
      "source": [
        "# Data Load & Pre-processing"
      ]
    },
    {
      "cell_type": "code",
      "execution_count": 2,
      "id": "bd1a5fb0",
      "metadata": {},
      "outputs": [],
      "source": [
        "# input folder\n",
        "data_root = os.path.join(os.getcwd(),'input')"
      ]
    },
    {
      "cell_type": "code",
      "execution_count": 3,
      "id": "ffeddd70",
      "metadata": {},
      "outputs": [],
      "source": [
        "from data_preprocessing import *"
      ]
    },
    {
      "cell_type": "code",
      "execution_count": 4,
      "id": "83d2222c",
      "metadata": {
        "colab": {
          "base_uri": "https://localhost:8080/",
          "height": 695
        },
        "id": "83d2222c",
        "outputId": "d3082464-4669-4404-b139-0300e50112d4"
      },
      "outputs": [
        {
          "name": "stdout",
          "output_type": "stream",
          "text": [
            "Meta data size: 9022\n",
            "c:\\Users\\pywong\\Desktop\\PolyU\\COMP5434 Big Data Computing\\Assignment\\COMP5434-Big-Data-Computing\\input\\subset\\subset\\document_parses\\pdf_json\n",
            "total json files: 12000\n"
          ]
        },
        {
          "name": "stderr",
          "output_type": "stream",
          "text": [
            "100%|██████████| 12000/12000 [01:28<00:00, 134.95it/s]\n",
            "100%|██████████| 8083/8083 [00:29<00:00, 269.82it/s]\n",
            "[nltk_data] Downloading package stopwords to\n",
            "[nltk_data]     C:\\Users\\pywong\\AppData\\Roaming\\nltk_data...\n",
            "[nltk_data]   Package stopwords is already up-to-date!\n",
            "[nltk_data] Downloading package punkt to\n",
            "[nltk_data]     C:\\Users\\pywong\\AppData\\Roaming\\nltk_data...\n",
            "[nltk_data]   Package punkt is already up-to-date!\n"
          ]
        },
        {
          "data": {
            "text/html": [
              "<div>\n",
              "<style scoped>\n",
              "    .dataframe tbody tr th:only-of-type {\n",
              "        vertical-align: middle;\n",
              "    }\n",
              "\n",
              "    .dataframe tbody tr th {\n",
              "        vertical-align: top;\n",
              "    }\n",
              "\n",
              "    .dataframe thead th {\n",
              "        text-align: right;\n",
              "    }\n",
              "</style>\n",
              "<table border=\"1\" class=\"dataframe\">\n",
              "  <thead>\n",
              "    <tr style=\"text-align: right;\">\n",
              "      <th></th>\n",
              "      <th>doc_num</th>\n",
              "      <th>paper_id</th>\n",
              "      <th>doi</th>\n",
              "      <th>abstract</th>\n",
              "      <th>body_text</th>\n",
              "      <th>authors</th>\n",
              "      <th>title</th>\n",
              "      <th>journal</th>\n",
              "      <th>abstract_summary</th>\n",
              "      <th>language</th>\n",
              "      <th>processed_text</th>\n",
              "    </tr>\n",
              "  </thead>\n",
              "  <tbody>\n",
              "    <tr>\n",
              "      <th>0</th>\n",
              "      <td>0</td>\n",
              "      <td>0015cecc2298c3bdb9bda0e0b84b38ebdcca716f</td>\n",
              "      <td>10.1007/s40744-022-00425-0</td>\n",
              "      <td>Coronavirus disease 2019 caused by the severe ...</td>\n",
              "      <td>Systemic inflammation is the hallmark of coron...</td>\n",
              "      <td>Drosos, Alexandros A..  Pelechas, Eleftherios...</td>\n",
              "      <td>Colchicine Against SARS-CoV-2 Infection: What ...</td>\n",
              "      <td>Rheumatol Ther</td>\n",
              "      <td>Coronavirus disease 2019 caused by the severe ...</td>\n",
              "      <td>en</td>\n",
              "      <td>systemic inflammation is the hallmark of coron...</td>\n",
              "    </tr>\n",
              "    <tr>\n",
              "      <th>1</th>\n",
              "      <td>1</td>\n",
              "      <td>0016a5c32e9cea6002cf6f352ecdb5231c7e3194</td>\n",
              "      <td>10.30699/ijp.2020.127312.2387</td>\n",
              "      <td></td>\n",
              "      <td>Severe acute respiratory syndrome coronavirus ...</td>\n",
              "      <td>Abdollahi, Alireza.  shakoori, Abbas...</td>\n",
              "      <td>Comparison of Patient-collected and Lab Techni...</td>\n",
              "      <td>Iran J Pathol</td>\n",
              "      <td>Severe acute respiratory syndrome coronavirus ...</td>\n",
              "      <td>en</td>\n",
              "      <td>severe acute respiratory syndrome coronavirus ...</td>\n",
              "    </tr>\n",
              "    <tr>\n",
              "      <th>2</th>\n",
              "      <td>2</td>\n",
              "      <td>0020e5c796f50e927b96ff0b7ea375b4745261a3</td>\n",
              "      <td>10.1186/s12887-020-02112-x</td>\n",
              "      <td>Background: One major limitation for less inva...</td>\n",
              "      <td>Respiratory Distress Syndrome (RDS) affects 85...</td>\n",
              "      <td>Chevallier, Marie.  Durrmeyer, Xavier...</td>\n",
              "      <td>Propofol versus placebo (with rescue with keta...</td>\n",
              "      <td>BMC Pediatr</td>\n",
              "      <td>Background: One major limitation for less inva...</td>\n",
              "      <td>en</td>\n",
              "      <td>respiratory distress syndrome rds affects 85 o...</td>\n",
              "    </tr>\n",
              "    <tr>\n",
              "      <th>3</th>\n",
              "      <td>3</td>\n",
              "      <td>00234390dbc45e3370ac8f80cbd93cec3777ca92</td>\n",
              "      <td>10.1016/j.ajur.2021.03.006</td>\n",
              "      <td>Objective: To identify the impact of COVID-19 ...</td>\n",
              "      <td>The World Health Organization (WHO) has announ...</td>\n",
              "      <td>Raheem Ali, Abdel.  Ghazwani, Yahya...</td>\n",
              "      <td>Impact of COVID-19 on endourology surgical pra...</td>\n",
              "      <td>Asian J Urol</td>\n",
              "      <td>Objective: To identify the impact of COVID-19 ...</td>\n",
              "      <td>en</td>\n",
              "      <td>the world health organization who has announce...</td>\n",
              "    </tr>\n",
              "    <tr>\n",
              "      <th>4</th>\n",
              "      <td>4</td>\n",
              "      <td>0025fd87cfaf7953079b618771218b8de6893928</td>\n",
              "      <td>10.3389/fcell.2021.748905</td>\n",
              "      <td></td>\n",
              "      <td>The concept of specialized \"membrane microdoma...</td>\n",
              "      <td>Garofalo, Tina.  Misasi, Roberta...</td>\n",
              "      <td>Editorial: Targeting Lipid Rafts as a Strategy...</td>\n",
              "      <td>Front Cell Dev Biol</td>\n",
              "      <td>The concept of specialized \"membrane microdoma...</td>\n",
              "      <td>en</td>\n",
              "      <td>the concept of specialized membrane microdomai...</td>\n",
              "    </tr>\n",
              "  </tbody>\n",
              "</table>\n",
              "</div>"
            ],
            "text/plain": [
              "   doc_num                                  paper_id  \\\n",
              "0        0  0015cecc2298c3bdb9bda0e0b84b38ebdcca716f   \n",
              "1        1  0016a5c32e9cea6002cf6f352ecdb5231c7e3194   \n",
              "2        2  0020e5c796f50e927b96ff0b7ea375b4745261a3   \n",
              "3        3  00234390dbc45e3370ac8f80cbd93cec3777ca92   \n",
              "4        4  0025fd87cfaf7953079b618771218b8de6893928   \n",
              "\n",
              "                             doi  \\\n",
              "0     10.1007/s40744-022-00425-0   \n",
              "1  10.30699/ijp.2020.127312.2387   \n",
              "2     10.1186/s12887-020-02112-x   \n",
              "3     10.1016/j.ajur.2021.03.006   \n",
              "4      10.3389/fcell.2021.748905   \n",
              "\n",
              "                                            abstract  \\\n",
              "0  Coronavirus disease 2019 caused by the severe ...   \n",
              "1                                                      \n",
              "2  Background: One major limitation for less inva...   \n",
              "3  Objective: To identify the impact of COVID-19 ...   \n",
              "4                                                      \n",
              "\n",
              "                                           body_text  \\\n",
              "0  Systemic inflammation is the hallmark of coron...   \n",
              "1  Severe acute respiratory syndrome coronavirus ...   \n",
              "2  Respiratory Distress Syndrome (RDS) affects 85...   \n",
              "3  The World Health Organization (WHO) has announ...   \n",
              "4  The concept of specialized \"membrane microdoma...   \n",
              "\n",
              "                                            authors  \\\n",
              "0  Drosos, Alexandros A..  Pelechas, Eleftherios...   \n",
              "1           Abdollahi, Alireza.  shakoori, Abbas...   \n",
              "2          Chevallier, Marie.  Durrmeyer, Xavier...   \n",
              "3            Raheem Ali, Abdel.  Ghazwani, Yahya...   \n",
              "4               Garofalo, Tina.  Misasi, Roberta...   \n",
              "\n",
              "                                               title              journal  \\\n",
              "0  Colchicine Against SARS-CoV-2 Infection: What ...       Rheumatol Ther   \n",
              "1  Comparison of Patient-collected and Lab Techni...        Iran J Pathol   \n",
              "2  Propofol versus placebo (with rescue with keta...          BMC Pediatr   \n",
              "3  Impact of COVID-19 on endourology surgical pra...         Asian J Urol   \n",
              "4  Editorial: Targeting Lipid Rafts as a Strategy...  Front Cell Dev Biol   \n",
              "\n",
              "                                    abstract_summary language  \\\n",
              "0  Coronavirus disease 2019 caused by the severe ...       en   \n",
              "1  Severe acute respiratory syndrome coronavirus ...       en   \n",
              "2  Background: One major limitation for less inva...       en   \n",
              "3  Objective: To identify the impact of COVID-19 ...       en   \n",
              "4  The concept of specialized \"membrane microdoma...       en   \n",
              "\n",
              "                                      processed_text  \n",
              "0  systemic inflammation is the hallmark of coron...  \n",
              "1  severe acute respiratory syndrome coronavirus ...  \n",
              "2  respiratory distress syndrome rds affects 85 o...  \n",
              "3  the world health organization who has announce...  \n",
              "4  the concept of specialized membrane microdomai...  "
            ]
          },
          "execution_count": 4,
          "metadata": {},
          "output_type": "execute_result"
        }
      ],
      "source": [
        "df = load_data_from_local(data_root)\n",
        "df.head(5)"
      ]
    },
    {
      "cell_type": "markdown",
      "id": "e640e24d",
      "metadata": {},
      "source": [
        "NLP"
      ]
    },
    {
      "cell_type": "code",
      "execution_count": null,
      "id": "5b707bb3",
      "metadata": {},
      "outputs": [],
      "source": [
        "# NOTE: This section is directly copied from the script showed in lecture 5.\n",
        "# For reference only. Do not use the code directly for project submission."
      ]
    },
    {
      "cell_type": "code",
      "execution_count": null,
      "id": "00ba1e0c",
      "metadata": {},
      "outputs": [],
      "source": [
        "# NOTE: Keep for reference now, consolidate to data_preprocessing.py later"
      ]
    },
    {
      "cell_type": "code",
      "execution_count": null,
      "id": "e1c5be8a",
      "metadata": {},
      "outputs": [],
      "source": [
        "#NLP\n",
        "import spacy\n",
        "from spacy.lang.en_stop_words import STOP_WORDS\n",
        "# import en_core_sci_lg"
      ]
    },
    {
      "cell_type": "code",
      "execution_count": null,
      "id": "de24d4b3",
      "metadata": {},
      "outputs": [],
      "source": [
        "import string\n",
        "\n",
        "punctuations = string.punctuation\n",
        "punctuations\n",
        "# stopwords = list(STOP_WORDS)\n",
        "# stopwords[0:10]"
      ]
    },
    {
      "cell_type": "code",
      "execution_count": null,
      "id": "ba51c45d",
      "metadata": {},
      "outputs": [],
      "source": [
        "custom_stop_words = [\n",
        "    'doi','preprint','copyright','peer','reviewed','org','https','et','al','author','figure',\n",
        "    'rights','reserved','permission','used','using','biorxiv','medrxiv','license','fig','fig.',\n",
        "    'al.','Elsevier','PMC','CZI'\n",
        "]\n",
        "\n",
        "for w in custom_stop_words:\n",
        "    if w not in stopwords:\n",
        "        stopwords.append(w)"
      ]
    },
    {
      "cell_type": "code",
      "execution_count": null,
      "id": "e0c5ae6a",
      "metadata": {},
      "outputs": [],
      "source": [
        "# Parser\n",
        "#parser = en_core_sci_lg.load(disable=[\"tagger\",\"ner\"])\n",
        "#nlp = spacy.load('en_core_web_sm',disable=[\"tagger\",\"ner\"])\n",
        "nlp = spacy.load('en_core_web_sm',disable=[\"tagger\",\"parser\",\"ner\"]) # Only tokenization and lemmation are performed, POS tagging, NER and syntactic parsing are skipped.\n",
        "nlp.max_length = 7000000\n",
        "\n",
        "stopwords = set(stopwords)\n",
        "punctuations = set(punctuations)\n",
        "print('len(stopwords):',len(stopwords),'len(punctuations):',len(punctuations))\n",
        "\n",
        "def spacy_tokenizer(sentence):\n",
        "    mytokens = nlp(sentence)\n",
        "    mytokens = [word.lemma_.lower().strip() if word.lemma != '-PORN-' else word.lower_ for word in mytokens]\n",
        "    mytokens = [word for word in mytokens if word not in stopwords and word not in punctuations]\n",
        "    mytokens = \" \".join([i for i in mytokens])\n",
        "    return mytokens\n",
        "\n",
        "tqdm.pandas()\n",
        "df['procesed_text'] = df['body_text'].progress_apply(spacy_tokenizer)\n",
        "\n"
      ]
    },
    {
      "cell_type": "markdown",
      "id": "b75a1112",
      "metadata": {},
      "source": [
        "PCA & Clustering"
      ]
    },
    {
      "cell_type": "code",
      "execution_count": null,
      "id": "696e90e7",
      "metadata": {},
      "outputs": [],
      "source": [
        "# NOTE: This section is directly copied from the script showed in lecture 5.\n",
        "# For reference only. Do not use the code directly for project submission."
      ]
    },
    {
      "cell_type": "code",
      "execution_count": null,
      "id": "eba4d59e",
      "metadata": {},
      "outputs": [],
      "source": [
        "from sklearn.decomposition import PCA\n",
        "from sklearn.cluster import MiniBatchKMeans\n",
        "from sklearn.cluster import KMeans\n",
        "\n",
        "# PCA\n",
        "pca = PCA(n_components=0.95,random_state=42)\n",
        "X_reduced = pca.fit_transform(X.toarray())\n",
        "X_reduced.shape\n",
        "\n",
        "# K Mean Clustering\n",
        "k = 10\n",
        "kmeans = KMeans(n_clusters=k,random_state=42)\n",
        "y_pred = kmeans.fit_predict(X_reduced)\n",
        "df['y'] = y_pred"
      ]
    },
    {
      "cell_type": "markdown",
      "id": "5900307f",
      "metadata": {},
      "source": [
        "TSNE Visualization"
      ]
    },
    {
      "cell_type": "code",
      "execution_count": null,
      "id": "e085dcb3",
      "metadata": {},
      "outputs": [],
      "source": [
        "# NOTE: This section is directly copied from the script showed in lecture 5.\n",
        "# For reference only. Do not use the code directly for project submission."
      ]
    },
    {
      "cell_type": "code",
      "execution_count": null,
      "id": "4cf9b22e",
      "metadata": {},
      "outputs": [],
      "source": [
        "from sklearn.manifold import TSNE\n",
        "from matplotlib import pyplot as plt\n",
        "import seaborn as sns\n",
        "\n",
        "tsne = TSNE(verbose=1,perplexity=50) # Change perplexity from 100 to 50 per FAQ\n",
        "X_embedded = tsne.fit_transform(X.toarray())\n",
        "\n",
        "# sns setting\n",
        "sns.set(rc={'figure.figsize':(15,15)})\n",
        "\n",
        "# color\n",
        "palette = sns.color_palette('bright',1)\n",
        "\n",
        "# plot\n",
        "sns.scatterplot(x=X_embedded[:,0],y=X_embedded[:,1],palette=palette)\n",
        "plt.title('t-SNE with no Labels')\n",
        "plt.savefig('t-sne_covid19.png')\n",
        "plt.show()\n",
        "\n"
      ]
    },
    {
      "cell_type": "code",
      "execution_count": null,
      "id": "d578d6b8",
      "metadata": {},
      "outputs": [],
      "source": [
        "# sns settings\n",
        "sns.set(rc={'figure.figsize':(13,9)})\n",
        "\n",
        "# color\n",
        "palette = sns.color_palette(20,l=4,s=0.9)\n",
        "\n",
        "# plot\n",
        "sns.scatterplot(x=X_embedded[:,0],y=X_embedded[:,1],hue=y_pred, legend='full',palette=palette)\n",
        "plt.title('t-SNE with Kmeans Labels')\n",
        "plt.savefig('improved_cluster_tsne.png')\n",
        "plt.show()\n"
      ]
    },
    {
      "cell_type": "markdown",
      "id": "be9aed3d",
      "metadata": {},
      "source": [
        "# Histogram of year / journal"
      ]
    },
    {
      "cell_type": "code",
      "execution_count": null,
      "id": "ba07ce7b",
      "metadata": {},
      "outputs": [],
      "source": [
        "# Histogram of year / journal\n",
        "# Convert publish_time to datetime\n",
        "meta_df['publish_time'] = pd.to_datetime(meta_df['publish_time'], errors='coerce')\n",
        "\n",
        "# Drop rows with NaT values in publish_time\n",
        "meta_df = meta_df.dropna(subset=['publish_time'])\n",
        "\n",
        "# Plot histogram of publication years\n",
        "plt.figure(figsize=(12, 6))\n",
        "ax = meta_df['publish_time'].dt.year.value_counts().sort_index().plot(kind='bar')\n",
        "plt.title('Histogram of Publication Years')\n",
        "plt.xlabel('Year')\n",
        "plt.ylabel('Number of Papers')\n",
        "\n",
        "# Add labels to each bar\n",
        "for p in ax.patches:\n",
        "    ax.annotate(str(p.get_height()), (p.get_x() * 1.005, p.get_height() * 1.005))\n",
        "\n",
        "plt.show()\n",
        "\n",
        "# Plot histogram of journals\n",
        "plt.figure(figsize=(12, 6))\n",
        "ax = df['journal'].value_counts().head(20).plot(kind='bar')\n",
        "plt.title('Top 20 Journals by Number of Papers')\n",
        "plt.xlabel('Journal')\n",
        "plt.ylabel('Number of Papers')\n",
        "plt.xticks(rotation=90)\n",
        "\n",
        "# Add labels to each bar\n",
        "for p in ax.patches:\n",
        "    ax.annotate(str(p.get_height()), (p.get_x() * 1.005, p.get_height() * 1.005))\n",
        "\n",
        "plt.show()\n",
        "\n",
        "# Filter years with too many or too few data points\n",
        "min_threshold = 10  # Minimum number of papers for a year to be considered\n",
        "max_threshold = 1000  # Maximum number of papers for a year to be considered\n",
        "year_counts = meta_df['publish_time'].dt.year.value_counts()\n",
        "filtered_years = year_counts[(year_counts >= min_threshold) & (year_counts <= max_threshold)].index\n",
        "\n",
        "# Filter the dataframe\n",
        "filtered_meta_df = meta_df[meta_df['publish_time'].dt.year.isin(filtered_years)]\n",
        "\n",
        "# Plot filtered histogram of publication years\n",
        "plt.figure(figsize=(12, 6))\n",
        "ax = filtered_meta_df['publish_time'].dt.year.value_counts().sort_index().plot(kind='bar')\n",
        "plt.title('Filtered Histogram of Publication Years')\n",
        "plt.xlabel('Year')\n",
        "plt.ylabel('Number of Papers')\n",
        "\n",
        "# Add labels to each bar\n",
        "for p in ax.patches:\n",
        "    ax.annotate(str(p.get_height()), (p.get_x() * 1.005, p.get_height() * 1.005))\n",
        "\n",
        "plt.show()"
      ]
    },
    {
      "cell_type": "markdown",
      "id": "cae116c4",
      "metadata": {},
      "source": [
        "# Map-Reduce "
      ]
    },
    {
      "cell_type": "code",
      "execution_count": null,
      "id": "1d54ec16",
      "metadata": {},
      "outputs": [],
      "source": []
    },
    {
      "cell_type": "markdown",
      "id": "48ec6f2e",
      "metadata": {},
      "source": [
        "# Similarity Analysis"
      ]
    },
    {
      "cell_type": "markdown",
      "id": "69b37520",
      "metadata": {},
      "source": [
        "Input"
      ]
    },
    {
      "cell_type": "code",
      "execution_count": 5,
      "id": "4823d5b4",
      "metadata": {},
      "outputs": [],
      "source": [
        "# pick a target document to compare\n",
        "target_doc_num = 0\n",
        "\n",
        "# input feature size (number of token used)\n",
        "feature_size = 2**12\n",
        "\n",
        "random.seed(10)"
      ]
    },
    {
      "cell_type": "markdown",
      "id": "a1388ffa",
      "metadata": {},
      "source": [
        "Import library used for this section"
      ]
    },
    {
      "cell_type": "code",
      "execution_count": 6,
      "id": "8764676e",
      "metadata": {},
      "outputs": [],
      "source": [
        "from similarity_analysis import *"
      ]
    },
    {
      "cell_type": "markdown",
      "id": "75e0af6c",
      "metadata": {},
      "source": [
        "Define characteristic matrix by tokenizing the processed text"
      ]
    },
    {
      "cell_type": "code",
      "execution_count": 7,
      "id": "d5d1111f",
      "metadata": {},
      "outputs": [],
      "source": [
        "# Build feature with token count\n",
        "count_vectorizer = CountVectorizer(max_features=feature_size)\n",
        "X_count = count_vectorizer.fit_transform(df['processed_text'].values).toarray().T\n",
        "\n",
        "# Clip count between 0 and 1 to only consider the token exists in document or not\n",
        "X_clip = np.clip(X_count, 0, 1)\n",
        "\n",
        "# Use TF-IDF as feature to only consider interseting words\n",
        "tfidf_vectorizer = TfidfVectorizer(max_features=feature_size)\n",
        "X_tfidf = tfidf_vectorizer.fit_transform(df['processed_text'].values).toarray().T"
      ]
    },
    {
      "cell_type": "code",
      "execution_count": 8,
      "id": "4eb88c88",
      "metadata": {},
      "outputs": [],
      "source": [
        "count_result = check_document_similarity(X_count,df,target_doc_num)\n",
        "clip_result = check_document_similarity(X_clip,df,target_doc_num)\n",
        "tfidf_result = check_document_similarity(X_tfidf,df,target_doc_num)"
      ]
    },
    {
      "cell_type": "markdown",
      "id": "0510c578",
      "metadata": {},
      "source": [
        "## MinHash"
      ]
    },
    {
      "cell_type": "markdown",
      "id": "990a0f22",
      "metadata": {},
      "source": [
        "Using token occurrence as document feature. Create a signature matrix using MinHash.\n",
        "Compare the signature Jaccard similarity with the document L1 Norm (Hamming distance)."
      ]
    },
    {
      "cell_type": "code",
      "execution_count": 9,
      "id": "0f5a57f6",
      "metadata": {},
      "outputs": [],
      "source": [
        "# Input to test the minhash performance\n",
        "num_perm_list = list(range(50,200+1,50))"
      ]
    },
    {
      "cell_type": "code",
      "execution_count": 10,
      "id": "6a8e05a4",
      "metadata": {},
      "outputs": [
        {
          "data": {
            "text/html": [
              "<div>\n",
              "<style scoped>\n",
              "    .dataframe tbody tr th:only-of-type {\n",
              "        vertical-align: middle;\n",
              "    }\n",
              "\n",
              "    .dataframe tbody tr th {\n",
              "        vertical-align: top;\n",
              "    }\n",
              "\n",
              "    .dataframe thead th {\n",
              "        text-align: right;\n",
              "    }\n",
              "</style>\n",
              "<table border=\"1\" class=\"dataframe\">\n",
              "  <thead>\n",
              "    <tr style=\"text-align: right;\">\n",
              "      <th></th>\n",
              "      <th>num_perm</th>\n",
              "      <th>correlation</th>\n",
              "      <th>pvalue</th>\n",
              "    </tr>\n",
              "  </thead>\n",
              "  <tbody>\n",
              "    <tr>\n",
              "      <th>3</th>\n",
              "      <td>200</td>\n",
              "      <td>0.445730</td>\n",
              "      <td>0.000000e+00</td>\n",
              "    </tr>\n",
              "    <tr>\n",
              "      <th>2</th>\n",
              "      <td>150</td>\n",
              "      <td>0.374068</td>\n",
              "      <td>1.740266e-265</td>\n",
              "    </tr>\n",
              "    <tr>\n",
              "      <th>1</th>\n",
              "      <td>100</td>\n",
              "      <td>0.371602</td>\n",
              "      <td>9.381317e-262</td>\n",
              "    </tr>\n",
              "    <tr>\n",
              "      <th>0</th>\n",
              "      <td>50</td>\n",
              "      <td>0.383721</td>\n",
              "      <td>2.090299e-280</td>\n",
              "    </tr>\n",
              "  </tbody>\n",
              "</table>\n",
              "</div>"
            ],
            "text/plain": [
              "   num_perm  correlation         pvalue\n",
              "3       200     0.445730   0.000000e+00\n",
              "2       150     0.374068  1.740266e-265\n",
              "1       100     0.371602  9.381317e-262\n",
              "0        50     0.383721  2.090299e-280"
            ]
          },
          "execution_count": 10,
          "metadata": {},
          "output_type": "execute_result"
        }
      ],
      "source": [
        "permutation_dict = minhash_with_different_permutation(df,X_clip,clip_result,target_doc_num,num_perm_list)\n",
        "minhash_fine_turn_result = compare_minhash_fine_tune(permutation_dict)\n",
        "minhash_fine_turn_result"
      ]
    },
    {
      "cell_type": "code",
      "execution_count": 11,
      "id": "db34bdab",
      "metadata": {},
      "outputs": [
        {
          "data": {
            "text/plain": [
              "<Axes: xlabel='sig_jaccard_similarity'>"
            ]
          },
          "execution_count": 11,
          "metadata": {},
          "output_type": "execute_result"
        },
        {
          "data": {
            "image/png": "[encoded data removed]",
            "text/plain": [
              "<Figure size 640x480 with 1 Axes>"
            ]
          },
          "metadata": {},
          "output_type": "display_data"
        }
      ],
      "source": [
        "optimal_perm_num = int(minhash_fine_turn_result.sort_values(by=['correlation'],ascending=False).head(1)['num_perm'].values)\n",
        "minhash_result = permutation_dict[optimal_perm_num]\n",
        "minhash_result.plot(x='sig_jaccard_similarity', y='doc_cosine_similarity', style='o')"
      ]
    },
    {
      "cell_type": "code",
      "execution_count": 12,
      "id": "035e883e",
      "metadata": {},
      "outputs": [
        {
          "data": {
            "text/html": [
              "<div>\n",
              "<style scoped>\n",
              "    .dataframe tbody tr th:only-of-type {\n",
              "        vertical-align: middle;\n",
              "    }\n",
              "\n",
              "    .dataframe tbody tr th {\n",
              "        vertical-align: top;\n",
              "    }\n",
              "\n",
              "    .dataframe thead th {\n",
              "        text-align: right;\n",
              "    }\n",
              "</style>\n",
              "<table border=\"1\" class=\"dataframe\">\n",
              "  <thead>\n",
              "    <tr style=\"text-align: right;\">\n",
              "      <th></th>\n",
              "      <th>doc_num</th>\n",
              "      <th>sig_jaccard_similarity</th>\n",
              "      <th>abstract_summary</th>\n",
              "    </tr>\n",
              "  </thead>\n",
              "  <tbody>\n",
              "    <tr>\n",
              "      <th>0</th>\n",
              "      <td>0</td>\n",
              "      <td>1.000000</td>\n",
              "      <td>Coronavirus disease 2019 caused by the severe ...</td>\n",
              "    </tr>\n",
              "    <tr>\n",
              "      <th>3675</th>\n",
              "      <td>3675</td>\n",
              "      <td>0.956522</td>\n",
              "      <td>Microvascular dysfunction plays a fundamental ...</td>\n",
              "    </tr>\n",
              "    <tr>\n",
              "      <th>388</th>\n",
              "      <td>388</td>\n",
              "      <td>0.954545</td>\n",
              "      <td>Conclusion: An evidence-based sustainable and ...</td>\n",
              "    </tr>\n",
              "    <tr>\n",
              "      <th>4752</th>\n",
              "      <td>4752</td>\n",
              "      <td>0.954545</td>\n",
              "      <td>SARS-CoV-2 (CoV) is the etiological agent of t...</td>\n",
              "    </tr>\n",
              "    <tr>\n",
              "      <th>7173</th>\n",
              "      <td>7173</td>\n",
              "      <td>0.954545</td>\n",
              "      <td>Infectious diseases pose major socioeconomic a...</td>\n",
              "    </tr>\n",
              "    <tr>\n",
              "      <th>3230</th>\n",
              "      <td>3230</td>\n",
              "      <td>0.916667</td>\n",
              "      <td>BACKGROUND: The prospective DIabetes and CATar...</td>\n",
              "    </tr>\n",
              "    <tr>\n",
              "      <th>5189</th>\n",
              "      <td>5189</td>\n",
              "      <td>0.916667</td>\n",
              "      <td>Stem cells from human exfoliated deciduous tee...</td>\n",
              "    </tr>\n",
              "    <tr>\n",
              "      <th>5925</th>\n",
              "      <td>5925</td>\n",
              "      <td>0.916667</td>\n",
              "      <td>The photocatalytic properties of titanium diox...</td>\n",
              "    </tr>\n",
              "    <tr>\n",
              "      <th>6996</th>\n",
              "      <td>6996</td>\n",
              "      <td>0.916667</td>\n",
              "      <td>Background: The mortality rate from acute resp...</td>\n",
              "    </tr>\n",
              "    <tr>\n",
              "      <th>7818</th>\n",
              "      <td>7818</td>\n",
              "      <td>0.913043</td>\n",
              "      <td>Insulin represents a mainstay of glucose-lower...</td>\n",
              "    </tr>\n",
              "  </tbody>\n",
              "</table>\n",
              "</div>"
            ],
            "text/plain": [
              "      doc_num  sig_jaccard_similarity  \\\n",
              "0           0                1.000000   \n",
              "3675     3675                0.956522   \n",
              "388       388                0.954545   \n",
              "4752     4752                0.954545   \n",
              "7173     7173                0.954545   \n",
              "3230     3230                0.916667   \n",
              "5189     5189                0.916667   \n",
              "5925     5925                0.916667   \n",
              "6996     6996                0.916667   \n",
              "7818     7818                0.913043   \n",
              "\n",
              "                                       abstract_summary  \n",
              "0     Coronavirus disease 2019 caused by the severe ...  \n",
              "3675  Microvascular dysfunction plays a fundamental ...  \n",
              "388   Conclusion: An evidence-based sustainable and ...  \n",
              "4752  SARS-CoV-2 (CoV) is the etiological agent of t...  \n",
              "7173  Infectious diseases pose major socioeconomic a...  \n",
              "3230  BACKGROUND: The prospective DIabetes and CATar...  \n",
              "5189  Stem cells from human exfoliated deciduous tee...  \n",
              "5925  The photocatalytic properties of titanium diox...  \n",
              "6996  Background: The mortality rate from acute resp...  \n",
              "7818  Insulin represents a mainstay of glucose-lower...  "
            ]
          },
          "execution_count": 12,
          "metadata": {},
          "output_type": "execute_result"
        }
      ],
      "source": [
        "minhash_result[['doc_num','sig_jaccard_similarity','abstract_summary']].head(10)"
      ]
    },
    {
      "cell_type": "markdown",
      "id": "3d31d235",
      "metadata": {},
      "source": [
        "## SimHash"
      ]
    },
    {
      "cell_type": "markdown",
      "id": "de6df3ba",
      "metadata": {},
      "source": [
        "Using TF-IDF as document feature. Create a signature matrix using SimHash.\n",
        "Compare the signature Hamming distance with the document cosine similarity."
      ]
    },
    {
      "cell_type": "code",
      "execution_count": 13,
      "id": "56a556ae",
      "metadata": {},
      "outputs": [],
      "source": [
        "tfidf_feature_list = list(tfidf_vectorizer.get_feature_names_out())\n",
        "\n",
        "feature_hash_md5 = get_feature_hash(tfidf_feature_list,'md5')\n",
        "finger_print_list_md5 = get_finger_print_list(X_tfidf,feature_hash_md5)\n",
        "\n",
        "feature_hash_sha1 = get_feature_hash(tfidf_feature_list,'sha1')\n",
        "finger_print_list_sha1 = get_finger_print_list(X_tfidf,feature_hash_sha1)"
      ]
    },
    {
      "cell_type": "code",
      "execution_count": 14,
      "id": "a5408408",
      "metadata": {},
      "outputs": [],
      "source": [
        "# Check Performance\n",
        "tfidf_result = check_document_similarity(X_tfidf,df,target_doc_num)\n",
        "\n",
        "md5 = check_simhash_similarity(finger_print_list_md5,target_doc_num)\n",
        "md5 = tfidf_result.merge(md5,how='outer',on='doc_num')\n",
        "md5 = md5.sort_values(by=['sig_hamming_distance'],ascending=True)\n",
        "\n",
        "sha1 = check_simhash_similarity(finger_print_list_sha1,target_doc_num)\n",
        "sha1 = tfidf_result.merge(sha1,how='outer',on='doc_num')\n",
        "sha1 = sha1.sort_values(by=['sig_hamming_distance'],ascending=True)\n",
        "\n",
        "if pearsonr(md5['doc_cosine_similarity'],md5['sig_hamming_distance']).statistic < pearsonr(sha1['doc_cosine_similarity'],sha1['sig_hamming_distance']).statistic:\n",
        "    simhash_result = md5\n",
        "else:\n",
        "    simhash_result = sha1"
      ]
    },
    {
      "cell_type": "code",
      "execution_count": 15,
      "id": "b93795d7",
      "metadata": {},
      "outputs": [
        {
          "name": "stdout",
          "output_type": "stream",
          "text": [
            "PearsonRResult(statistic=-0.7730891301719717, pvalue=0.0)\n"
          ]
        },
        {
          "data": {
            "text/plain": [
              "<Axes: xlabel='doc_cosine_similarity'>"
            ]
          },
          "execution_count": 15,
          "metadata": {},
          "output_type": "execute_result"
        },
        {
          "data": {
            "image/png": "[encoded data removed]",
            "text/plain": [
              "<Figure size 640x480 with 1 Axes>"
            ]
          },
          "metadata": {},
          "output_type": "display_data"
        }
      ],
      "source": [
        "print(pearsonr(md5['doc_cosine_similarity'],md5['sig_hamming_distance']))\n",
        "md5.plot(x='doc_cosine_similarity', y='sig_hamming_distance', style='o')"
      ]
    },
    {
      "cell_type": "code",
      "execution_count": 16,
      "id": "d3efdf59",
      "metadata": {},
      "outputs": [
        {
          "name": "stdout",
          "output_type": "stream",
          "text": [
            "PearsonRResult(statistic=-0.7889262932924689, pvalue=0.0)\n"
          ]
        },
        {
          "data": {
            "text/plain": [
              "<Axes: xlabel='doc_cosine_similarity'>"
            ]
          },
          "execution_count": 16,
          "metadata": {},
          "output_type": "execute_result"
        },
        {
          "data": {
            "image/png": "[encoded data removed]",
            "text/plain": [
              "<Figure size 640x480 with 1 Axes>"
            ]
          },
          "metadata": {},
          "output_type": "display_data"
        }
      ],
      "source": [
        "print(pearsonr(sha1['doc_cosine_similarity'],sha1['sig_hamming_distance']))\n",
        "sha1.plot(x='doc_cosine_similarity', y='sig_hamming_distance', style='o')"
      ]
    },
    {
      "cell_type": "code",
      "execution_count": 17,
      "id": "cdead342",
      "metadata": {},
      "outputs": [
        {
          "data": {
            "text/html": [
              "<div>\n",
              "<style scoped>\n",
              "    .dataframe tbody tr th:only-of-type {\n",
              "        vertical-align: middle;\n",
              "    }\n",
              "\n",
              "    .dataframe tbody tr th {\n",
              "        vertical-align: top;\n",
              "    }\n",
              "\n",
              "    .dataframe thead th {\n",
              "        text-align: right;\n",
              "    }\n",
              "</style>\n",
              "<table border=\"1\" class=\"dataframe\">\n",
              "  <thead>\n",
              "    <tr style=\"text-align: right;\">\n",
              "      <th></th>\n",
              "      <th>doc_num</th>\n",
              "      <th>sig_hamming_distance</th>\n",
              "      <th>abstract_summary</th>\n",
              "    </tr>\n",
              "  </thead>\n",
              "  <tbody>\n",
              "    <tr>\n",
              "      <th>0</th>\n",
              "      <td>0</td>\n",
              "      <td>0</td>\n",
              "      <td>Coronavirus disease 2019 caused by the severe ...</td>\n",
              "    </tr>\n",
              "    <tr>\n",
              "      <th>4797</th>\n",
              "      <td>4797</td>\n",
              "      <td>23</td>\n",
              "      <td>Although mobility shapes the material landscap...</td>\n",
              "    </tr>\n",
              "    <tr>\n",
              "      <th>7155</th>\n",
              "      <td>7155</td>\n",
              "      <td>23</td>\n",
              "      <td>Background. Traditional Chinese medicine Yinhu...</td>\n",
              "    </tr>\n",
              "    <tr>\n",
              "      <th>4220</th>\n",
              "      <td>4220</td>\n",
              "      <td>24</td>\n",
              "      <td>solutions emerge (Hong and Page, 2004; Valenti...</td>\n",
              "    </tr>\n",
              "    <tr>\n",
              "      <th>4538</th>\n",
              "      <td>4538</td>\n",
              "      <td>25</td>\n",
              "      <td>Public health events, as the common concern fa...</td>\n",
              "    </tr>\n",
              "    <tr>\n",
              "      <th>4208</th>\n",
              "      <td>4208</td>\n",
              "      <td>25</td>\n",
              "      <td>Sepsis and COVID-19 are two clinical condition...</td>\n",
              "    </tr>\n",
              "    <tr>\n",
              "      <th>7669</th>\n",
              "      <td>7669</td>\n",
              "      <td>25</td>\n",
              "      <td>Background: To evaluate and determine the prot...</td>\n",
              "    </tr>\n",
              "    <tr>\n",
              "      <th>2158</th>\n",
              "      <td>2158</td>\n",
              "      <td>25</td>\n",
              "      <td>Debates about emerging infectious diseases oft...</td>\n",
              "    </tr>\n",
              "    <tr>\n",
              "      <th>7543</th>\n",
              "      <td>7543</td>\n",
              "      <td>25</td>\n",
              "      <td>The first case records of COVID-19 in the worl...</td>\n",
              "    </tr>\n",
              "    <tr>\n",
              "      <th>5420</th>\n",
              "      <td>5420</td>\n",
              "      <td>25</td>\n",
              "      <td>In the context of sports-based interventions f...</td>\n",
              "    </tr>\n",
              "  </tbody>\n",
              "</table>\n",
              "</div>"
            ],
            "text/plain": [
              "      doc_num  sig_hamming_distance  \\\n",
              "0           0                     0   \n",
              "4797     4797                    23   \n",
              "7155     7155                    23   \n",
              "4220     4220                    24   \n",
              "4538     4538                    25   \n",
              "4208     4208                    25   \n",
              "7669     7669                    25   \n",
              "2158     2158                    25   \n",
              "7543     7543                    25   \n",
              "5420     5420                    25   \n",
              "\n",
              "                                       abstract_summary  \n",
              "0     Coronavirus disease 2019 caused by the severe ...  \n",
              "4797  Although mobility shapes the material landscap...  \n",
              "7155  Background. Traditional Chinese medicine Yinhu...  \n",
              "4220  solutions emerge (Hong and Page, 2004; Valenti...  \n",
              "4538  Public health events, as the common concern fa...  \n",
              "4208  Sepsis and COVID-19 are two clinical condition...  \n",
              "7669  Background: To evaluate and determine the prot...  \n",
              "2158  Debates about emerging infectious diseases oft...  \n",
              "7543  The first case records of COVID-19 in the worl...  \n",
              "5420  In the context of sports-based interventions f...  "
            ]
          },
          "execution_count": 17,
          "metadata": {},
          "output_type": "execute_result"
        }
      ],
      "source": [
        "simhash_result[['doc_num','sig_hamming_distance','abstract_summary']].head(10)"
      ]
    },
    {
      "cell_type": "markdown",
      "id": "f09d752e",
      "metadata": {},
      "source": [
        "## Doc2Vec"
      ]
    },
    {
      "cell_type": "markdown",
      "id": "3226849c",
      "metadata": {},
      "source": [
        "Word2Vec also need to consider token position for word embeding. Use the original text instead of the processed text for vectorization."
      ]
    },
    {
      "cell_type": "code",
      "execution_count": 19,
      "id": "6d780f7a",
      "metadata": {},
      "outputs": [],
      "source": [
        "# Use pretrained model to tokenize the documents.\n",
        "model_name = 'distilbert-base-uncased-finetuned-sst-2-english'\n",
        "model = AutoModelForSequenceClassification.from_pretrained(model_name)\n",
        "tokenizer = AutoTokenizer.from_pretrained(model_name)"
      ]
    },
    {
      "cell_type": "code",
      "execution_count": 20,
      "id": "60f42e4c",
      "metadata": {},
      "outputs": [],
      "source": [
        "# Use abstract summary instaed of body_test since it has less tokens.\n",
        "original_docs = list(df['abstract_summary'])\n",
        "tagged_docs = tag_documents(tokenizer,original_docs)"
      ]
    },
    {
      "cell_type": "code",
      "execution_count": 21,
      "id": "cb2f4e53",
      "metadata": {},
      "outputs": [
        {
          "data": {
            "text/html": [
              "<div>\n",
              "<style scoped>\n",
              "    .dataframe tbody tr th:only-of-type {\n",
              "        vertical-align: middle;\n",
              "    }\n",
              "\n",
              "    .dataframe tbody tr th {\n",
              "        vertical-align: top;\n",
              "    }\n",
              "\n",
              "    .dataframe thead th {\n",
              "        text-align: right;\n",
              "    }\n",
              "</style>\n",
              "<table border=\"1\" class=\"dataframe\">\n",
              "  <thead>\n",
              "    <tr style=\"text-align: right;\">\n",
              "      <th></th>\n",
              "      <th>doc_num</th>\n",
              "      <th>doc2vec</th>\n",
              "      <th>abstract_summary</th>\n",
              "    </tr>\n",
              "  </thead>\n",
              "  <tbody>\n",
              "    <tr>\n",
              "      <th>0</th>\n",
              "      <td>0</td>\n",
              "      <td>1</td>\n",
              "      <td>Coronavirus disease 2019 caused by the severe ...</td>\n",
              "    </tr>\n",
              "    <tr>\n",
              "      <th>1</th>\n",
              "      <td>1234</td>\n",
              "      <td>2</td>\n",
              "      <td>Salvia miltiorrhiza Bunge, known as Danshen in...</td>\n",
              "    </tr>\n",
              "    <tr>\n",
              "      <th>2</th>\n",
              "      <td>4056</td>\n",
              "      <td>3</td>\n",
              "      <td>Citation: Mohamud, A.S.; Kothowa, J.P.; Mfune,...</td>\n",
              "    </tr>\n",
              "    <tr>\n",
              "      <th>3</th>\n",
              "      <td>5615</td>\n",
              "      <td>4</td>\n",
              "      <td>Background: In many countries, lockdown measur...</td>\n",
              "    </tr>\n",
              "    <tr>\n",
              "      <th>4</th>\n",
              "      <td>5718</td>\n",
              "      <td>5</td>\n",
              "      <td>Citation: Nefedova, E.; Koptev, V.; Bobikova, ...</td>\n",
              "    </tr>\n",
              "    <tr>\n",
              "      <th>5</th>\n",
              "      <td>4980</td>\n",
              "      <td>6</td>\n",
              "      <td>The newly emerged coronavirus, which was desig...</td>\n",
              "    </tr>\n",
              "    <tr>\n",
              "      <th>6</th>\n",
              "      <td>753</td>\n",
              "      <td>7</td>\n",
              "      <td>Background: , which is a disease caused by the...</td>\n",
              "    </tr>\n",
              "    <tr>\n",
              "      <th>7</th>\n",
              "      <td>4188</td>\n",
              "      <td>8</td>\n",
              "      <td>Infectious diseases continue to be a major cau...</td>\n",
              "    </tr>\n",
              "    <tr>\n",
              "      <th>8</th>\n",
              "      <td>3922</td>\n",
              "      <td>9</td>\n",
              "      <td>Citation: Attia, N.; Mashal, M.; Pemminati, S....</td>\n",
              "    </tr>\n",
              "    <tr>\n",
              "      <th>9</th>\n",
              "      <td>730</td>\n",
              "      <td>10</td>\n",
              "      <td>Despite the recent advances in controlling som...</td>\n",
              "    </tr>\n",
              "  </tbody>\n",
              "</table>\n",
              "</div>"
            ],
            "text/plain": [
              "   doc_num  doc2vec                                   abstract_summary\n",
              "0        0        1  Coronavirus disease 2019 caused by the severe ...\n",
              "1     1234        2  Salvia miltiorrhiza Bunge, known as Danshen in...\n",
              "2     4056        3  Citation: Mohamud, A.S.; Kothowa, J.P.; Mfune,...\n",
              "3     5615        4  Background: In many countries, lockdown measur...\n",
              "4     5718        5  Citation: Nefedova, E.; Koptev, V.; Bobikova, ...\n",
              "5     4980        6  The newly emerged coronavirus, which was desig...\n",
              "6      753        7  Background: , which is a disease caused by the...\n",
              "7     4188        8  Infectious diseases continue to be a major cau...\n",
              "8     3922        9  Citation: Attia, N.; Mashal, M.; Pemminati, S....\n",
              "9      730       10  Despite the recent advances in controlling som..."
            ]
          },
          "execution_count": 21,
          "metadata": {},
          "output_type": "execute_result"
        }
      ],
      "source": [
        "model = Doc2Vec()\n",
        "model.build_vocab(tagged_docs)\n",
        "model.train(tagged_docs,total_examples=model.corpus_count,epochs=20)\n",
        "\n",
        "doc2vec_result = get_doc2vec_result(model,tokenizer,original_docs,target_doc_num,df)\n",
        "doc2vec_result[['doc_num','doc2vec','abstract_summary']].head(10)"
      ]
    },
    {
      "cell_type": "markdown",
      "id": "7ee0170a",
      "metadata": {},
      "source": [
        "## Comparsion"
      ]
    },
    {
      "cell_type": "markdown",
      "id": "86fcaf6c",
      "metadata": {},
      "source": [
        "Comparing the performance of different document similarity search methods with the cosine similarity of document with TF-IDF word embeding."
      ]
    },
    {
      "cell_type": "code",
      "execution_count": 22,
      "id": "f51506f4",
      "metadata": {},
      "outputs": [],
      "source": [
        "combine_result = get_combined_similarity_result(tfidf_result,count_result,clip_result,minhash_result,simhash_result,doc2vec_result)\n",
        "rank_df = get_performance_rank(tfidf_result,count_result,clip_result,minhash_result,simhash_result,doc2vec_result)\n",
        "rank_diff_df = get_performance_rank_diff(rank_df)"
      ]
    },
    {
      "cell_type": "code",
      "execution_count": 23,
      "id": "c009576e",
      "metadata": {},
      "outputs": [
        {
          "data": {
            "text/plain": [
              "<seaborn.axisgrid.FacetGrid at 0x1b04ab526f0>"
            ]
          },
          "execution_count": 23,
          "metadata": {},
          "output_type": "execute_result"
        },
        {
          "data": {
            "image/png": "[encoded data removed]",
            "text/plain": [
              "<Figure size 684x500 with 1 Axes>"
            ]
          },
          "metadata": {},
          "output_type": "display_data"
        }
      ],
      "source": [
        "plot_df = rank_diff_df.drop(columns=['doc_num','tfidf_doc_cosine']).melt()\n",
        "sns.displot(plot_df, x='value', hue='variable')"
      ]
    },
    {
      "cell_type": "code",
      "execution_count": 24,
      "id": "ac830bac",
      "metadata": {},
      "outputs": [
        {
          "data": {
            "text/html": [
              "<div>\n",
              "<style scoped>\n",
              "    .dataframe tbody tr th:only-of-type {\n",
              "        vertical-align: middle;\n",
              "    }\n",
              "\n",
              "    .dataframe tbody tr th {\n",
              "        vertical-align: top;\n",
              "    }\n",
              "\n",
              "    .dataframe thead th {\n",
              "        text-align: right;\n",
              "    }\n",
              "</style>\n",
              "<table border=\"1\" class=\"dataframe\">\n",
              "  <thead>\n",
              "    <tr style=\"text-align: right;\">\n",
              "      <th></th>\n",
              "      <th>metric</th>\n",
              "      <th>variance</th>\n",
              "    </tr>\n",
              "  </thead>\n",
              "  <tbody>\n",
              "    <tr>\n",
              "      <th>3</th>\n",
              "      <td>simhash_hamming</td>\n",
              "      <td>2.538154e+06</td>\n",
              "    </tr>\n",
              "    <tr>\n",
              "      <th>4</th>\n",
              "      <td>doc2vec</td>\n",
              "      <td>8.765618e+06</td>\n",
              "    </tr>\n",
              "    <tr>\n",
              "      <th>2</th>\n",
              "      <td>minhash_jaccard</td>\n",
              "      <td>9.275360e+06</td>\n",
              "    </tr>\n",
              "    <tr>\n",
              "      <th>0</th>\n",
              "      <td>count_doc_l2_norm</td>\n",
              "      <td>1.094450e+07</td>\n",
              "    </tr>\n",
              "    <tr>\n",
              "      <th>1</th>\n",
              "      <td>clip_doc_l1_norm</td>\n",
              "      <td>1.299531e+07</td>\n",
              "    </tr>\n",
              "  </tbody>\n",
              "</table>\n",
              "</div>"
            ],
            "text/plain": [
              "              metric      variance\n",
              "3    simhash_hamming  2.538154e+06\n",
              "4            doc2vec  8.765618e+06\n",
              "2    minhash_jaccard  9.275360e+06\n",
              "0  count_doc_l2_norm  1.094450e+07\n",
              "1   clip_doc_l1_norm  1.299531e+07"
            ]
          },
          "execution_count": 24,
          "metadata": {},
          "output_type": "execute_result"
        }
      ],
      "source": [
        "var_rank_diff = rank_diff_df.drop(columns=['doc_num','tfidf_doc_cosine']).var(axis=0)\n",
        "var_rank_diff = var_rank_diff.reset_index().rename(columns={'index':'metric',0:'variance'})\n",
        "var_rank_diff = var_rank_diff.sort_values(by=['variance'],ascending=True)\n",
        "var_rank_diff"
      ]
    },
    {
      "cell_type": "markdown",
      "id": "ac547210",
      "metadata": {},
      "source": [
        "# Association Analysis"
      ]
    },
    {
      "cell_type": "code",
      "execution_count": null,
      "id": "f3b12c03",
      "metadata": {},
      "outputs": [],
      "source": []
    },
    {
      "cell_type": "markdown",
      "id": "adc2e25a",
      "metadata": {},
      "source": [
        "# Clustering Analysis"
      ]
    },
    {
      "cell_type": "code",
      "execution_count": null,
      "id": "3e43afbb",
      "metadata": {},
      "outputs": [],
      "source": []
    }
  ],
  "metadata": {
    "colab": {
      "provenance": []
    },
    "kernelspec": {
      "display_name": "Python 3 (ipykernel)",
      "language": "python",
      "name": "python3"
    },
    "language_info": {
      "codemirror_mode": {
        "name": "ipython",
        "version": 3
      },
      "file_extension": ".py",
      "mimetype": "text/x-python",
      "name": "python",
      "nbconvert_exporter": "python",
      "pygments_lexer": "ipython3",
      "version": "3.12.4"
    }
  },
  "nbformat": 4,
  "nbformat_minor": 5
}
