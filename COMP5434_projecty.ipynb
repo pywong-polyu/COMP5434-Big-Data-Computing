{
  "cells": [
    {
      "cell_type": "code",
      "execution_count": 1,
      "id": "eeabd1eb",
      "metadata": {
        "id": "eeabd1eb"
      },
      "outputs": [],
      "source": [
        "# Import necessary packages\n",
        "import os\n",
        "import numpy as np\n",
        "import pandas as pd\n",
        "import random\n",
        "import seaborn as sns\n",
        "import matplotlib.pyplot as plt"
      ]
    },
    {
      "cell_type": "markdown",
      "id": "cc1250a1",
      "metadata": {
        "id": "cc1250a1"
      },
      "source": [
        "# Data Load & Pre-processing"
      ]
    },
    {
      "cell_type": "code",
      "execution_count": 2,
      "id": "bd1a5fb0",
      "metadata": {},
      "outputs": [],
      "source": [
        "# input folder\n",
        "data_root = os.path.join(os.getcwd(),'input')"
      ]
    },
    {
      "cell_type": "code",
      "execution_count": 3,
      "id": "ffeddd70",
      "metadata": {},
      "outputs": [],
      "source": [
        "from data_preprocessing import *"
      ]
    },
    {
      "cell_type": "code",
      "execution_count": 4,
      "id": "83d2222c",
      "metadata": {
        "colab": {
          "base_uri": "https://localhost:8080/",
          "height": 695
        },
        "id": "83d2222c",
        "outputId": "d3082464-4669-4404-b139-0300e50112d4"
      },
      "outputs": [
        {
          "name": "stdout",
          "output_type": "stream",
          "text": [
            "Meta data size: 9022\n",
            "c:\\Users\\pywong\\Desktop\\PolyU\\COMP5434 Big Data Computing\\Assignment\\COMP5434-Big-Data-Computing\\input\\subset\\subset\\document_parses\\pdf_json\n",
            "total json files: 12000\n"
          ]
        },
        {
          "name": "stderr",
          "output_type": "stream",
          "text": [
            "100%|██████████| 12000/12000 [01:38<00:00, 122.38it/s]\n",
            "100%|██████████| 8083/8083 [00:28<00:00, 285.12it/s]\n",
            "[nltk_data] Downloading package stopwords to\n",
            "[nltk_data]     C:\\Users\\pywong\\AppData\\Roaming\\nltk_data...\n",
            "[nltk_data]   Package stopwords is already up-to-date!\n",
            "[nltk_data] Downloading package punkt to\n",
            "[nltk_data]     C:\\Users\\pywong\\AppData\\Roaming\\nltk_data...\n",
            "[nltk_data]   Package punkt is already up-to-date!\n"
          ]
        },
        {
          "data": {
            "text/html": [
              "<div>\n",
              "<style scoped>\n",
              "    .dataframe tbody tr th:only-of-type {\n",
              "        vertical-align: middle;\n",
              "    }\n",
              "\n",
              "    .dataframe tbody tr th {\n",
              "        vertical-align: top;\n",
              "    }\n",
              "\n",
              "    .dataframe thead th {\n",
              "        text-align: right;\n",
              "    }\n",
              "</style>\n",
              "<table border=\"1\" class=\"dataframe\">\n",
              "  <thead>\n",
              "    <tr style=\"text-align: right;\">\n",
              "      <th></th>\n",
              "      <th>doc_num</th>\n",
              "      <th>paper_id</th>\n",
              "      <th>doi</th>\n",
              "      <th>abstract</th>\n",
              "      <th>body_text</th>\n",
              "      <th>authors</th>\n",
              "      <th>title</th>\n",
              "      <th>journal</th>\n",
              "      <th>abstract_summary</th>\n",
              "      <th>language</th>\n",
              "      <th>processed_text</th>\n",
              "    </tr>\n",
              "  </thead>\n",
              "  <tbody>\n",
              "    <tr>\n",
              "      <th>0</th>\n",
              "      <td>0</td>\n",
              "      <td>0015cecc2298c3bdb9bda0e0b84b38ebdcca716f</td>\n",
              "      <td>10.1007/s40744-022-00425-0</td>\n",
              "      <td>Coronavirus disease 2019 caused by the severe ...</td>\n",
              "      <td>Systemic inflammation is the hallmark of coron...</td>\n",
              "      <td>Drosos, Alexandros A..  Pelechas, Eleftherios...</td>\n",
              "      <td>Colchicine Against SARS-CoV-2 Infection: What ...</td>\n",
              "      <td>Rheumatol Ther</td>\n",
              "      <td>Coronavirus disease 2019 caused by the severe ...</td>\n",
              "      <td>en</td>\n",
              "      <td>systemic inflammation is the hallmark of coron...</td>\n",
              "    </tr>\n",
              "    <tr>\n",
              "      <th>1</th>\n",
              "      <td>1</td>\n",
              "      <td>0016a5c32e9cea6002cf6f352ecdb5231c7e3194</td>\n",
              "      <td>10.30699/ijp.2020.127312.2387</td>\n",
              "      <td></td>\n",
              "      <td>Severe acute respiratory syndrome coronavirus ...</td>\n",
              "      <td>Abdollahi, Alireza.  shakoori, Abbas...</td>\n",
              "      <td>Comparison of Patient-collected and Lab Techni...</td>\n",
              "      <td>Iran J Pathol</td>\n",
              "      <td>Severe acute respiratory syndrome coronavirus ...</td>\n",
              "      <td>en</td>\n",
              "      <td>severe acute respiratory syndrome coronavirus ...</td>\n",
              "    </tr>\n",
              "    <tr>\n",
              "      <th>2</th>\n",
              "      <td>2</td>\n",
              "      <td>0020e5c796f50e927b96ff0b7ea375b4745261a3</td>\n",
              "      <td>10.1186/s12887-020-02112-x</td>\n",
              "      <td>Background: One major limitation for less inva...</td>\n",
              "      <td>Respiratory Distress Syndrome (RDS) affects 85...</td>\n",
              "      <td>Chevallier, Marie.  Durrmeyer, Xavier...</td>\n",
              "      <td>Propofol versus placebo (with rescue with keta...</td>\n",
              "      <td>BMC Pediatr</td>\n",
              "      <td>Background: One major limitation for less inva...</td>\n",
              "      <td>en</td>\n",
              "      <td>respiratory distress syndrome rds affects 85 o...</td>\n",
              "    </tr>\n",
              "    <tr>\n",
              "      <th>3</th>\n",
              "      <td>3</td>\n",
              "      <td>00234390dbc45e3370ac8f80cbd93cec3777ca92</td>\n",
              "      <td>10.1016/j.ajur.2021.03.006</td>\n",
              "      <td>Objective: To identify the impact of COVID-19 ...</td>\n",
              "      <td>The World Health Organization (WHO) has announ...</td>\n",
              "      <td>Raheem Ali, Abdel.  Ghazwani, Yahya...</td>\n",
              "      <td>Impact of COVID-19 on endourology surgical pra...</td>\n",
              "      <td>Asian J Urol</td>\n",
              "      <td>Objective: To identify the impact of COVID-19 ...</td>\n",
              "      <td>en</td>\n",
              "      <td>the world health organization who has announce...</td>\n",
              "    </tr>\n",
              "    <tr>\n",
              "      <th>4</th>\n",
              "      <td>4</td>\n",
              "      <td>0025fd87cfaf7953079b618771218b8de6893928</td>\n",
              "      <td>10.3389/fcell.2021.748905</td>\n",
              "      <td></td>\n",
              "      <td>The concept of specialized \"membrane microdoma...</td>\n",
              "      <td>Garofalo, Tina.  Misasi, Roberta...</td>\n",
              "      <td>Editorial: Targeting Lipid Rafts as a Strategy...</td>\n",
              "      <td>Front Cell Dev Biol</td>\n",
              "      <td>The concept of specialized \"membrane microdoma...</td>\n",
              "      <td>en</td>\n",
              "      <td>the concept of specialized membrane microdomai...</td>\n",
              "    </tr>\n",
              "  </tbody>\n",
              "</table>\n",
              "</div>"
            ],
            "text/plain": [
              "   doc_num                                  paper_id  \\\n",
              "0        0  0015cecc2298c3bdb9bda0e0b84b38ebdcca716f   \n",
              "1        1  0016a5c32e9cea6002cf6f352ecdb5231c7e3194   \n",
              "2        2  0020e5c796f50e927b96ff0b7ea375b4745261a3   \n",
              "3        3  00234390dbc45e3370ac8f80cbd93cec3777ca92   \n",
              "4        4  0025fd87cfaf7953079b618771218b8de6893928   \n",
              "\n",
              "                             doi  \\\n",
              "0     10.1007/s40744-022-00425-0   \n",
              "1  10.30699/ijp.2020.127312.2387   \n",
              "2     10.1186/s12887-020-02112-x   \n",
              "3     10.1016/j.ajur.2021.03.006   \n",
              "4      10.3389/fcell.2021.748905   \n",
              "\n",
              "                                            abstract  \\\n",
              "0  Coronavirus disease 2019 caused by the severe ...   \n",
              "1                                                      \n",
              "2  Background: One major limitation for less inva...   \n",
              "3  Objective: To identify the impact of COVID-19 ...   \n",
              "4                                                      \n",
              "\n",
              "                                           body_text  \\\n",
              "0  Systemic inflammation is the hallmark of coron...   \n",
              "1  Severe acute respiratory syndrome coronavirus ...   \n",
              "2  Respiratory Distress Syndrome (RDS) affects 85...   \n",
              "3  The World Health Organization (WHO) has announ...   \n",
              "4  The concept of specialized \"membrane microdoma...   \n",
              "\n",
              "                                            authors  \\\n",
              "0  Drosos, Alexandros A..  Pelechas, Eleftherios...   \n",
              "1           Abdollahi, Alireza.  shakoori, Abbas...   \n",
              "2          Chevallier, Marie.  Durrmeyer, Xavier...   \n",
              "3            Raheem Ali, Abdel.  Ghazwani, Yahya...   \n",
              "4               Garofalo, Tina.  Misasi, Roberta...   \n",
              "\n",
              "                                               title              journal  \\\n",
              "0  Colchicine Against SARS-CoV-2 Infection: What ...       Rheumatol Ther   \n",
              "1  Comparison of Patient-collected and Lab Techni...        Iran J Pathol   \n",
              "2  Propofol versus placebo (with rescue with keta...          BMC Pediatr   \n",
              "3  Impact of COVID-19 on endourology surgical pra...         Asian J Urol   \n",
              "4  Editorial: Targeting Lipid Rafts as a Strategy...  Front Cell Dev Biol   \n",
              "\n",
              "                                    abstract_summary language  \\\n",
              "0  Coronavirus disease 2019 caused by the severe ...       en   \n",
              "1  Severe acute respiratory syndrome coronavirus ...       en   \n",
              "2  Background: One major limitation for less inva...       en   \n",
              "3  Objective: To identify the impact of COVID-19 ...       en   \n",
              "4  The concept of specialized \"membrane microdoma...       en   \n",
              "\n",
              "                                      processed_text  \n",
              "0  systemic inflammation is the hallmark of coron...  \n",
              "1  severe acute respiratory syndrome coronavirus ...  \n",
              "2  respiratory distress syndrome rds affects 85 o...  \n",
              "3  the world health organization who has announce...  \n",
              "4  the concept of specialized membrane microdomai...  "
            ]
          },
          "execution_count": 4,
          "metadata": {},
          "output_type": "execute_result"
        }
      ],
      "source": [
        "df = load_data_from_local(data_root)\n",
        "df.head(5)"
      ]
    },
    {
      "cell_type": "markdown",
      "id": "e640e24d",
      "metadata": {},
      "source": [
        "NLP"
      ]
    },
    {
      "cell_type": "markdown",
      "id": "be9aed3d",
      "metadata": {},
      "source": [
        "# Histogram of year / journal"
      ]
    },
    {
      "cell_type": "code",
      "execution_count": 26,
      "id": "f0f59d3e",
      "metadata": {},
      "outputs": [
        {
          "ename": "KeyError",
          "evalue": "'publish_time'",
          "output_type": "error",
          "traceback": [
            "\u001b[1;31m---------------------------------------------------------------------------\u001b[0m",
            "\u001b[1;31mKeyError\u001b[0m                                  Traceback (most recent call last)",
            "File \u001b[1;32mc:\\Users\\pywong\\AppData\\Local\\Programs\\Python\\Python312\\Lib\\site-packages\\pandas\\core\\indexes\\base.py:3805\u001b[0m, in \u001b[0;36mIndex.get_loc\u001b[1;34m(self, key)\u001b[0m\n\u001b[0;32m   3804\u001b[0m \u001b[38;5;28;01mtry\u001b[39;00m:\n\u001b[1;32m-> 3805\u001b[0m     \u001b[38;5;28;01mreturn\u001b[39;00m \u001b[38;5;28;43mself\u001b[39;49m\u001b[38;5;241;43m.\u001b[39;49m\u001b[43m_engine\u001b[49m\u001b[38;5;241;43m.\u001b[39;49m\u001b[43mget_loc\u001b[49m\u001b[43m(\u001b[49m\u001b[43mcasted_key\u001b[49m\u001b[43m)\u001b[49m\n\u001b[0;32m   3806\u001b[0m \u001b[38;5;28;01mexcept\u001b[39;00m \u001b[38;5;167;01mKeyError\u001b[39;00m \u001b[38;5;28;01mas\u001b[39;00m err:\n",
            "File \u001b[1;32mindex.pyx:167\u001b[0m, in \u001b[0;36mpandas._libs.index.IndexEngine.get_loc\u001b[1;34m()\u001b[0m\n",
            "File \u001b[1;32mindex.pyx:196\u001b[0m, in \u001b[0;36mpandas._libs.index.IndexEngine.get_loc\u001b[1;34m()\u001b[0m\n",
            "File \u001b[1;32mpandas\\\\_libs\\\\hashtable_class_helper.pxi:7081\u001b[0m, in \u001b[0;36mpandas._libs.hashtable.PyObjectHashTable.get_item\u001b[1;34m()\u001b[0m\n",
            "File \u001b[1;32mpandas\\\\_libs\\\\hashtable_class_helper.pxi:7089\u001b[0m, in \u001b[0;36mpandas._libs.hashtable.PyObjectHashTable.get_item\u001b[1;34m()\u001b[0m\n",
            "\u001b[1;31mKeyError\u001b[0m: 'publish_time'",
            "\nThe above exception was the direct cause of the following exception:\n",
            "\u001b[1;31mKeyError\u001b[0m                                  Traceback (most recent call last)",
            "Cell \u001b[1;32mIn[26], line 1\u001b[0m\n\u001b[1;32m----> 1\u001b[0m df[\u001b[38;5;124m'\u001b[39m\u001b[38;5;124mpublish_year\u001b[39m\u001b[38;5;124m'\u001b[39m] \u001b[38;5;241m=\u001b[39m \u001b[43mdf\u001b[49m\u001b[43m[\u001b[49m\u001b[38;5;124;43m'\u001b[39;49m\u001b[38;5;124;43mpublish_time\u001b[39;49m\u001b[38;5;124;43m'\u001b[39;49m\u001b[43m]\u001b[49m\u001b[38;5;241m.\u001b[39mdt\u001b[38;5;241m.\u001b[39myear\n\u001b[0;32m      2\u001b[0m start_year \u001b[38;5;241m=\u001b[39m \u001b[38;5;241m1970\u001b[39m\n\u001b[0;32m      3\u001b[0m end_year \u001b[38;5;241m=\u001b[39m \u001b[38;5;241m2022\u001b[39m\n",
            "File \u001b[1;32mc:\\Users\\pywong\\AppData\\Local\\Programs\\Python\\Python312\\Lib\\site-packages\\pandas\\core\\frame.py:4102\u001b[0m, in \u001b[0;36mDataFrame.__getitem__\u001b[1;34m(self, key)\u001b[0m\n\u001b[0;32m   4100\u001b[0m \u001b[38;5;28;01mif\u001b[39;00m \u001b[38;5;28mself\u001b[39m\u001b[38;5;241m.\u001b[39mcolumns\u001b[38;5;241m.\u001b[39mnlevels \u001b[38;5;241m>\u001b[39m \u001b[38;5;241m1\u001b[39m:\n\u001b[0;32m   4101\u001b[0m     \u001b[38;5;28;01mreturn\u001b[39;00m \u001b[38;5;28mself\u001b[39m\u001b[38;5;241m.\u001b[39m_getitem_multilevel(key)\n\u001b[1;32m-> 4102\u001b[0m indexer \u001b[38;5;241m=\u001b[39m \u001b[38;5;28;43mself\u001b[39;49m\u001b[38;5;241;43m.\u001b[39;49m\u001b[43mcolumns\u001b[49m\u001b[38;5;241;43m.\u001b[39;49m\u001b[43mget_loc\u001b[49m\u001b[43m(\u001b[49m\u001b[43mkey\u001b[49m\u001b[43m)\u001b[49m\n\u001b[0;32m   4103\u001b[0m \u001b[38;5;28;01mif\u001b[39;00m is_integer(indexer):\n\u001b[0;32m   4104\u001b[0m     indexer \u001b[38;5;241m=\u001b[39m [indexer]\n",
            "File \u001b[1;32mc:\\Users\\pywong\\AppData\\Local\\Programs\\Python\\Python312\\Lib\\site-packages\\pandas\\core\\indexes\\base.py:3812\u001b[0m, in \u001b[0;36mIndex.get_loc\u001b[1;34m(self, key)\u001b[0m\n\u001b[0;32m   3807\u001b[0m     \u001b[38;5;28;01mif\u001b[39;00m \u001b[38;5;28misinstance\u001b[39m(casted_key, \u001b[38;5;28mslice\u001b[39m) \u001b[38;5;129;01mor\u001b[39;00m (\n\u001b[0;32m   3808\u001b[0m         \u001b[38;5;28misinstance\u001b[39m(casted_key, abc\u001b[38;5;241m.\u001b[39mIterable)\n\u001b[0;32m   3809\u001b[0m         \u001b[38;5;129;01mand\u001b[39;00m \u001b[38;5;28many\u001b[39m(\u001b[38;5;28misinstance\u001b[39m(x, \u001b[38;5;28mslice\u001b[39m) \u001b[38;5;28;01mfor\u001b[39;00m x \u001b[38;5;129;01min\u001b[39;00m casted_key)\n\u001b[0;32m   3810\u001b[0m     ):\n\u001b[0;32m   3811\u001b[0m         \u001b[38;5;28;01mraise\u001b[39;00m InvalidIndexError(key)\n\u001b[1;32m-> 3812\u001b[0m     \u001b[38;5;28;01mraise\u001b[39;00m \u001b[38;5;167;01mKeyError\u001b[39;00m(key) \u001b[38;5;28;01mfrom\u001b[39;00m \u001b[38;5;21;01merr\u001b[39;00m\n\u001b[0;32m   3813\u001b[0m \u001b[38;5;28;01mexcept\u001b[39;00m \u001b[38;5;167;01mTypeError\u001b[39;00m:\n\u001b[0;32m   3814\u001b[0m     \u001b[38;5;66;03m# If we have a listlike key, _check_indexing_error will raise\u001b[39;00m\n\u001b[0;32m   3815\u001b[0m     \u001b[38;5;66;03m#  InvalidIndexError. Otherwise we fall through and re-raise\u001b[39;00m\n\u001b[0;32m   3816\u001b[0m     \u001b[38;5;66;03m#  the TypeError.\u001b[39;00m\n\u001b[0;32m   3817\u001b[0m     \u001b[38;5;28mself\u001b[39m\u001b[38;5;241m.\u001b[39m_check_indexing_error(key)\n",
            "\u001b[1;31mKeyError\u001b[0m: 'publish_time'"
          ]
        }
      ],
      "source": [
        "df['publish_year'] = df['publish_time'].dt.year\n",
        "start_year = 1970\n",
        "end_year = 2022\n",
        "\n",
        "mask = (df['publish_year'] >= start_year) & (df['publish_year'] <= end_year)\n",
        "\n",
        "df = df.loc[mask]\n",
        "df.info()"
      ]
    },
    {
      "cell_type": "code",
      "execution_count": null,
      "id": "b011f9b8",
      "metadata": {},
      "outputs": [],
      "source": [
        "plt.figure(figsize=(13,4))\n",
        "ax = sns.countplot(x='publish_year', data=df, color='lightgreen', edgecolor='red',)\n",
        "ax.bar_label(ax.containers[0])\n",
        "ax.tick_params(axis='x', rotation=88)\n",
        "plt.title('Publish article between Year:' + str(start_year) + ' to ' + str(end_year))\n",
        "plt.show()"
      ]
    },
    {
      "cell_type": "markdown",
      "id": "5868b1d0",
      "metadata": {},
      "source": [
        "# Histogram of Journal"
      ]
    },
    {
      "cell_type": "code",
      "execution_count": null,
      "id": "1647d41d",
      "metadata": {},
      "outputs": [],
      "source": [
        "a = df.groupby('journal').filter(lambda x: len(x) > 20)\n",
        "order = a.journal.value_counts(ascending=True).index\n",
        "\n",
        "plt.figure(figsize=(12,4))\n",
        "bx = sns.countplot(data=a, color='lightgreen', edgecolor='red', order=order, x='journal') \n",
        "bx.bar_label(bx.containers[0])\n",
        "bx.tick_params(axis='x', rotation=88)\n",
        "plt.title('Journal between Year:' + str(start_year) + ' to ' + str(end_year))\n",
        "plt.show()"
      ]
    },
    {
      "cell_type": "markdown",
      "id": "cae116c4",
      "metadata": {},
      "source": [
        "# Map-Reduce "
      ]
    },
    {
      "cell_type": "code",
      "execution_count": null,
      "id": "1d54ec16",
      "metadata": {},
      "outputs": [],
      "source": [
        "import csv\n",
        "import re\n",
        "from collections import defaultdict\n",
        "from functools import reduce\n",
        "\n",
        "# Sample data: list of documents (each document is a string)\n",
        "documents_MR = []\n",
        "with open(metadata_path, 'r') as csvfile:\n",
        "    reader = csv.reader(csvfile)\n",
        "    for row in reader:\n",
        "        documents_MR.append(row[4])  # Assuming the 4th column is at index 3 (0-based indexing)\n",
        "        documents_MR.append(row[9])  # Assuming the 9th column is at index 4 (0-based indexing)\n",
        "\n",
        "\n",
        "# Specify the words to include in the stoplist\n",
        "stop_words_lower = [word.lower() for word in custom_stop_words]\n",
        "\n",
        "# Mapper function\n",
        "def map_function(documents_MR):\n",
        "    # Split the document into words and assign an ID to each word\n",
        "    for idx, word in enumerate(documents_MR.split(), start=1):\n",
        "      yield (word.lower(), 1)\n",
        "\n",
        "# Step 1: Map phase\n",
        "mapped = []\n",
        "for documents_MR in documents_MR:\n",
        "    mapped.extend(map_function(documents_MR))\n",
        "\n",
        "# Step 2: Shuffle and sort phase (group by key)\n",
        "shuffled = defaultdict(list)\n",
        "for word, count in mapped:\n",
        "    shuffled[word].append(count)\n",
        "\n",
        "# Step 3: Reduce phase\n",
        "reduced = {}\n",
        "for word, counts in shuffled.items():\n",
        "    reduced[word] = reduce(lambda x, y: x + y, counts)\n",
        "\n",
        "# Step 4: Merge the counts of words with uppercase and lowercase versions together\n",
        "merged_counts = defaultdict(int)\n",
        "for word, count in reduced.items():\n",
        "    merged_word = re.sub(r'[^a-zA-Z0-9]', '', word)\n",
        "    # Remove non-alphanumeric characters\n",
        "    merged_counts[merged_word.lower()] += count\n",
        "\n",
        "# Step 5.1: filter out the stop words\n",
        "filtered = {word: count for word, count in reduced.items() if word.lower() not in stop_words_lower}\n",
        "\n",
        "# Step 5.2: Sort the filtered words by count in descending order\n",
        "sorted_words = sorted(filtered.items(), key=lambda x: x[1], reverse=True)\n",
        "sorted_words_unfilter = sorted(reduced.items(), key=lambda x: x[1], reverse=True)\n",
        "\n",
        "# Step 5.3: Get the top 50 prevalent words\n",
        "top50_filtered = sorted_words[:50]\n",
        "top50_unfilter = sorted_words_unfilter[:80]\n",
        "\n",
        "# Step 6.1: Print the table of the top 50 prevalent words without stop words list\n",
        "#print(\"Top 80 Prevalent Words without stopwords:\")\n",
        "#print(f\"{'ID':<4}{'Word':<20}{'Count'}\")\n",
        "#print(\"-----------------------------\")\n",
        "#for idx, (word, count) in enumerate(top50_unfilter, start=1):\n",
        "#    print(f\"{idx:<4}{word:<20}{count}\")\n",
        "#print(\"\\n\"+\"\\n\")\n",
        "\n",
        "# Step 6.2: Print the table of the top 50 prevalent words with IDs\n",
        "print(\"Top 50 Prevalent Words:\")\n",
        "print(f\"{'ID':<4}{'Word':<20}{'Count'}\")\n",
        "print(\"-----------------------------\")\n",
        "for idx, (word, count) in enumerate(top50_filtered, start=1):\n",
        "    print(f\"{idx:<4}{word:<20}{count}\")\n"
      ]
    },
    {
      "cell_type": "markdown",
      "id": "48ec6f2e",
      "metadata": {},
      "source": [
        "# Similarity Analysis"
      ]
    },
    {
      "cell_type": "markdown",
      "id": "69b37520",
      "metadata": {},
      "source": [
        "Input"
      ]
    },
    {
      "cell_type": "code",
      "execution_count": 5,
      "id": "4823d5b4",
      "metadata": {},
      "outputs": [],
      "source": [
        "# pick a target document to compare\n",
        "target_doc_num = 0\n",
        "\n",
        "# input feature size (number of token used)\n",
        "feature_size = 2**12\n",
        "\n",
        "random.seed(10)"
      ]
    },
    {
      "cell_type": "markdown",
      "id": "a1388ffa",
      "metadata": {},
      "source": [
        "Import library used for this section"
      ]
    },
    {
      "cell_type": "code",
      "execution_count": 6,
      "id": "8764676e",
      "metadata": {},
      "outputs": [],
      "source": [
        "from similarity_analysis import *"
      ]
    },
    {
      "cell_type": "markdown",
      "id": "75e0af6c",
      "metadata": {},
      "source": [
        "Define characteristic matrix by tokenizing the processed text"
      ]
    },
    {
      "cell_type": "code",
      "execution_count": 7,
      "id": "3e41365c",
      "metadata": {},
      "outputs": [],
      "source": [
        "# Label the document is the target or not\n",
        "df['doc_type'] = 'other documents'\n",
        "df.at[target_doc_num,'doc_type'] = 'target document'"
      ]
    },
    {
      "cell_type": "code",
      "execution_count": 8,
      "id": "d5d1111f",
      "metadata": {},
      "outputs": [],
      "source": [
        "# Build feature with token count\n",
        "count_vectorizer = CountVectorizer(max_features=feature_size)\n",
        "X_count = count_vectorizer.fit_transform(df['processed_text'].values).toarray().T\n",
        "\n",
        "# Clip count between 0 and 1 to only consider the token exists in document or not\n",
        "X_clip = np.clip(X_count, 0, 1)\n",
        "\n",
        "# Use TF-IDF as feature to only consider interseting words\n",
        "tfidf_vectorizer = TfidfVectorizer(max_features=feature_size)\n",
        "X_tfidf = tfidf_vectorizer.fit_transform(df['processed_text'].values).toarray().T"
      ]
    },
    {
      "cell_type": "code",
      "execution_count": 9,
      "id": "4eb88c88",
      "metadata": {},
      "outputs": [],
      "source": [
        "count_result = check_document_similarity(X_count,df,target_doc_num)\n",
        "clip_result = check_document_similarity(X_clip,df,target_doc_num)\n",
        "tfidf_result = check_document_similarity(X_tfidf,df,target_doc_num)"
      ]
    },
    {
      "cell_type": "markdown",
      "id": "0510c578",
      "metadata": {},
      "source": [
        "## MinHash"
      ]
    },
    {
      "cell_type": "markdown",
      "id": "990a0f22",
      "metadata": {},
      "source": [
        "Using token occurrence as document feature. Create a signature matrix using MinHash.\n",
        "Compare the signature Jaccard similarity with the document L1 Norm (Hamming distance)."
      ]
    },
    {
      "cell_type": "code",
      "execution_count": 10,
      "id": "0f5a57f6",
      "metadata": {},
      "outputs": [],
      "source": [
        "# Input to test the minhash performance\n",
        "num_perm_list = list(range(50,200+1,50))"
      ]
    },
    {
      "cell_type": "code",
      "execution_count": 11,
      "id": "6a8e05a4",
      "metadata": {},
      "outputs": [
        {
          "data": {
            "text/html": [
              "<div>\n",
              "<style scoped>\n",
              "    .dataframe tbody tr th:only-of-type {\n",
              "        vertical-align: middle;\n",
              "    }\n",
              "\n",
              "    .dataframe tbody tr th {\n",
              "        vertical-align: top;\n",
              "    }\n",
              "\n",
              "    .dataframe thead th {\n",
              "        text-align: right;\n",
              "    }\n",
              "</style>\n",
              "<table border=\"1\" class=\"dataframe\">\n",
              "  <thead>\n",
              "    <tr style=\"text-align: right;\">\n",
              "      <th></th>\n",
              "      <th>num_perm</th>\n",
              "      <th>correlation</th>\n",
              "      <th>pvalue</th>\n",
              "    </tr>\n",
              "  </thead>\n",
              "  <tbody>\n",
              "    <tr>\n",
              "      <th>3</th>\n",
              "      <td>200</td>\n",
              "      <td>0.535715</td>\n",
              "      <td>0.0</td>\n",
              "    </tr>\n",
              "    <tr>\n",
              "      <th>2</th>\n",
              "      <td>150</td>\n",
              "      <td>0.469672</td>\n",
              "      <td>0.0</td>\n",
              "    </tr>\n",
              "    <tr>\n",
              "      <th>1</th>\n",
              "      <td>100</td>\n",
              "      <td>0.456047</td>\n",
              "      <td>0.0</td>\n",
              "    </tr>\n",
              "    <tr>\n",
              "      <th>0</th>\n",
              "      <td>50</td>\n",
              "      <td>0.447432</td>\n",
              "      <td>0.0</td>\n",
              "    </tr>\n",
              "  </tbody>\n",
              "</table>\n",
              "</div>"
            ],
            "text/plain": [
              "   num_perm  correlation  pvalue\n",
              "3       200     0.535715     0.0\n",
              "2       150     0.469672     0.0\n",
              "1       100     0.456047     0.0\n",
              "0        50     0.447432     0.0"
            ]
          },
          "execution_count": 11,
          "metadata": {},
          "output_type": "execute_result"
        }
      ],
      "source": [
        "permutation_dict = minhash_with_different_permutation(df,X_clip,clip_result,target_doc_num,num_perm_list)\n",
        "minhash_fine_turn_result = compare_minhash_fine_tune(permutation_dict)\n",
        "minhash_fine_turn_result"
      ]
    },
    {
      "cell_type": "code",
      "execution_count": 12,
      "id": "db34bdab",
      "metadata": {},
      "outputs": [
        {
          "data": {
            "text/plain": [
              "<seaborn.axisgrid.FacetGrid at 0x24332c7f9e0>"
            ]
          },
          "execution_count": 12,
          "metadata": {},
          "output_type": "execute_result"
        },
        {
          "data": {
            "image/png": "[encoded data removed]",
            "text/plain": [
              "<Figure size 668.5x500 with 1 Axes>"
            ]
          },
          "metadata": {},
          "output_type": "display_data"
        }
      ],
      "source": [
        "optimal_perm_num = int(minhash_fine_turn_result.sort_values(by=['correlation'],ascending=False).head(1)['num_perm'].values)\n",
        "minhash_result = permutation_dict[optimal_perm_num]\n",
        "# minhash_result.plot(x='sig_jaccard_similarity', y='doc_jaccard_similarity', style='o')\n",
        "sns.relplot(data=minhash_result,x='doc_jaccard_similarity', y='sig_jaccard_similarity', hue='doc_type')"
      ]
    },
    {
      "cell_type": "code",
      "execution_count": 13,
      "id": "035e883e",
      "metadata": {},
      "outputs": [
        {
          "data": {
            "text/html": [
              "<div>\n",
              "<style scoped>\n",
              "    .dataframe tbody tr th:only-of-type {\n",
              "        vertical-align: middle;\n",
              "    }\n",
              "\n",
              "    .dataframe tbody tr th {\n",
              "        vertical-align: top;\n",
              "    }\n",
              "\n",
              "    .dataframe thead th {\n",
              "        text-align: right;\n",
              "    }\n",
              "</style>\n",
              "<table border=\"1\" class=\"dataframe\">\n",
              "  <thead>\n",
              "    <tr style=\"text-align: right;\">\n",
              "      <th></th>\n",
              "      <th>doc_num</th>\n",
              "      <th>sig_jaccard_similarity</th>\n",
              "      <th>abstract_summary</th>\n",
              "      <th>doc_type</th>\n",
              "    </tr>\n",
              "  </thead>\n",
              "  <tbody>\n",
              "    <tr>\n",
              "      <th>0</th>\n",
              "      <td>0</td>\n",
              "      <td>1.000000</td>\n",
              "      <td>Coronavirus disease 2019 caused by the severe ...</td>\n",
              "      <td>target document</td>\n",
              "    </tr>\n",
              "    <tr>\n",
              "      <th>3675</th>\n",
              "      <td>3675</td>\n",
              "      <td>0.956522</td>\n",
              "      <td>Microvascular dysfunction plays a fundamental ...</td>\n",
              "      <td>other documents</td>\n",
              "    </tr>\n",
              "    <tr>\n",
              "      <th>388</th>\n",
              "      <td>388</td>\n",
              "      <td>0.954545</td>\n",
              "      <td>Conclusion: An evidence-based sustainable and ...</td>\n",
              "      <td>other documents</td>\n",
              "    </tr>\n",
              "    <tr>\n",
              "      <th>4752</th>\n",
              "      <td>4752</td>\n",
              "      <td>0.954545</td>\n",
              "      <td>SARS-CoV-2 (CoV) is the etiological agent of t...</td>\n",
              "      <td>other documents</td>\n",
              "    </tr>\n",
              "    <tr>\n",
              "      <th>7173</th>\n",
              "      <td>7173</td>\n",
              "      <td>0.954545</td>\n",
              "      <td>Infectious diseases pose major socioeconomic a...</td>\n",
              "      <td>other documents</td>\n",
              "    </tr>\n",
              "    <tr>\n",
              "      <th>3230</th>\n",
              "      <td>3230</td>\n",
              "      <td>0.916667</td>\n",
              "      <td>BACKGROUND: The prospective DIabetes and CATar...</td>\n",
              "      <td>other documents</td>\n",
              "    </tr>\n",
              "    <tr>\n",
              "      <th>5189</th>\n",
              "      <td>5189</td>\n",
              "      <td>0.916667</td>\n",
              "      <td>Stem cells from human exfoliated deciduous tee...</td>\n",
              "      <td>other documents</td>\n",
              "    </tr>\n",
              "    <tr>\n",
              "      <th>5925</th>\n",
              "      <td>5925</td>\n",
              "      <td>0.916667</td>\n",
              "      <td>The photocatalytic properties of titanium diox...</td>\n",
              "      <td>other documents</td>\n",
              "    </tr>\n",
              "    <tr>\n",
              "      <th>6996</th>\n",
              "      <td>6996</td>\n",
              "      <td>0.916667</td>\n",
              "      <td>Background: The mortality rate from acute resp...</td>\n",
              "      <td>other documents</td>\n",
              "    </tr>\n",
              "    <tr>\n",
              "      <th>7818</th>\n",
              "      <td>7818</td>\n",
              "      <td>0.913043</td>\n",
              "      <td>Insulin represents a mainstay of glucose-lower...</td>\n",
              "      <td>other documents</td>\n",
              "    </tr>\n",
              "  </tbody>\n",
              "</table>\n",
              "</div>"
            ],
            "text/plain": [
              "      doc_num  sig_jaccard_similarity  \\\n",
              "0           0                1.000000   \n",
              "3675     3675                0.956522   \n",
              "388       388                0.954545   \n",
              "4752     4752                0.954545   \n",
              "7173     7173                0.954545   \n",
              "3230     3230                0.916667   \n",
              "5189     5189                0.916667   \n",
              "5925     5925                0.916667   \n",
              "6996     6996                0.916667   \n",
              "7818     7818                0.913043   \n",
              "\n",
              "                                       abstract_summary         doc_type  \n",
              "0     Coronavirus disease 2019 caused by the severe ...  target document  \n",
              "3675  Microvascular dysfunction plays a fundamental ...  other documents  \n",
              "388   Conclusion: An evidence-based sustainable and ...  other documents  \n",
              "4752  SARS-CoV-2 (CoV) is the etiological agent of t...  other documents  \n",
              "7173  Infectious diseases pose major socioeconomic a...  other documents  \n",
              "3230  BACKGROUND: The prospective DIabetes and CATar...  other documents  \n",
              "5189  Stem cells from human exfoliated deciduous tee...  other documents  \n",
              "5925  The photocatalytic properties of titanium diox...  other documents  \n",
              "6996  Background: The mortality rate from acute resp...  other documents  \n",
              "7818  Insulin represents a mainstay of glucose-lower...  other documents  "
            ]
          },
          "execution_count": 13,
          "metadata": {},
          "output_type": "execute_result"
        }
      ],
      "source": [
        "minhash_result[['doc_num','sig_jaccard_similarity','abstract_summary','doc_type']].head(10)"
      ]
    },
    {
      "cell_type": "markdown",
      "id": "3d31d235",
      "metadata": {},
      "source": [
        "## SimHash"
      ]
    },
    {
      "cell_type": "markdown",
      "id": "de6df3ba",
      "metadata": {},
      "source": [
        "Using TF-IDF as document feature. Create a signature matrix using SimHash.\n",
        "Compare the signature Hamming distance with the document cosine similarity."
      ]
    },
    {
      "cell_type": "code",
      "execution_count": 14,
      "id": "56a556ae",
      "metadata": {},
      "outputs": [],
      "source": [
        "tfidf_feature_list = list(tfidf_vectorizer.get_feature_names_out())\n",
        "\n",
        "feature_hash_md5 = get_feature_hash(tfidf_feature_list,'md5')\n",
        "finger_print_list_md5 = get_finger_print_list(X_tfidf,feature_hash_md5)\n",
        "\n",
        "feature_hash_sha1 = get_feature_hash(tfidf_feature_list,'sha1')\n",
        "finger_print_list_sha1 = get_finger_print_list(X_tfidf,feature_hash_sha1)"
      ]
    },
    {
      "cell_type": "code",
      "execution_count": 15,
      "id": "a5408408",
      "metadata": {},
      "outputs": [],
      "source": [
        "# Check Performance\n",
        "tfidf_result = check_document_similarity(X_tfidf,df,target_doc_num)\n",
        "\n",
        "md5 = check_simhash_similarity(finger_print_list_md5,target_doc_num)\n",
        "md5 = tfidf_result.merge(md5,how='outer',on='doc_num')\n",
        "md5 = md5.sort_values(by=['sig_hamming_distance'],ascending=True)\n",
        "\n",
        "sha1 = check_simhash_similarity(finger_print_list_sha1,target_doc_num)\n",
        "sha1 = tfidf_result.merge(sha1,how='outer',on='doc_num')\n",
        "sha1 = sha1.sort_values(by=['sig_hamming_distance'],ascending=True)\n",
        "\n",
        "if pearsonr(md5['doc_cosine_similarity'],md5['sig_hamming_distance']).statistic < pearsonr(sha1['doc_cosine_similarity'],sha1['sig_hamming_distance']).statistic:\n",
        "    simhash_result = md5\n",
        "else:\n",
        "    simhash_result = sha1"
      ]
    },
    {
      "cell_type": "code",
      "execution_count": 16,
      "id": "b93795d7",
      "metadata": {},
      "outputs": [
        {
          "name": "stdout",
          "output_type": "stream",
          "text": [
            "PearsonRResult(statistic=-0.7730891301719717, pvalue=0.0)\n"
          ]
        },
        {
          "data": {
            "text/plain": [
              "<seaborn.axisgrid.FacetGrid at 0x24332d0fe90>"
            ]
          },
          "execution_count": 16,
          "metadata": {},
          "output_type": "execute_result"
        },
        {
          "data": {
            "image/png": "[encoded data removed]",
            "text/plain": [
              "<Figure size 668.5x500 with 1 Axes>"
            ]
          },
          "metadata": {},
          "output_type": "display_data"
        }
      ],
      "source": [
        "print(pearsonr(md5['doc_cosine_similarity'],md5['sig_hamming_distance']))\n",
        "# md5.plot(x='doc_cosine_similarity', y='sig_hamming_distance', style='o')\n",
        "sns.relplot(data=md5,x='doc_cosine_similarity', y='sig_hamming_distance', hue='doc_type')"
      ]
    },
    {
      "cell_type": "code",
      "execution_count": 17,
      "id": "d3efdf59",
      "metadata": {},
      "outputs": [
        {
          "name": "stdout",
          "output_type": "stream",
          "text": [
            "PearsonRResult(statistic=-0.7889262932924689, pvalue=0.0)\n"
          ]
        },
        {
          "data": {
            "text/plain": [
              "<seaborn.axisgrid.FacetGrid at 0x24332d6ff50>"
            ]
          },
          "execution_count": 17,
          "metadata": {},
          "output_type": "execute_result"
        },
        {
          "data": {
            "image/png": "[encoded data removed]",
            "text/plain": [
              "<Figure size 668.5x500 with 1 Axes>"
            ]
          },
          "metadata": {},
          "output_type": "display_data"
        }
      ],
      "source": [
        "print(pearsonr(sha1['doc_cosine_similarity'],sha1['sig_hamming_distance']))\n",
        "# sha1.plot(x='doc_cosine_similarity', y='sig_hamming_distance', style='o')\n",
        "sns.relplot(data=sha1,x='doc_cosine_similarity', y='sig_hamming_distance', hue='doc_type')"
      ]
    },
    {
      "cell_type": "code",
      "execution_count": 18,
      "id": "cdead342",
      "metadata": {},
      "outputs": [
        {
          "data": {
            "text/html": [
              "<div>\n",
              "<style scoped>\n",
              "    .dataframe tbody tr th:only-of-type {\n",
              "        vertical-align: middle;\n",
              "    }\n",
              "\n",
              "    .dataframe tbody tr th {\n",
              "        vertical-align: top;\n",
              "    }\n",
              "\n",
              "    .dataframe thead th {\n",
              "        text-align: right;\n",
              "    }\n",
              "</style>\n",
              "<table border=\"1\" class=\"dataframe\">\n",
              "  <thead>\n",
              "    <tr style=\"text-align: right;\">\n",
              "      <th></th>\n",
              "      <th>doc_num</th>\n",
              "      <th>sig_hamming_distance</th>\n",
              "      <th>abstract_summary</th>\n",
              "      <th>doc_type</th>\n",
              "    </tr>\n",
              "  </thead>\n",
              "  <tbody>\n",
              "    <tr>\n",
              "      <th>0</th>\n",
              "      <td>0</td>\n",
              "      <td>0</td>\n",
              "      <td>Coronavirus disease 2019 caused by the severe ...</td>\n",
              "      <td>target document</td>\n",
              "    </tr>\n",
              "    <tr>\n",
              "      <th>4797</th>\n",
              "      <td>4797</td>\n",
              "      <td>23</td>\n",
              "      <td>Although mobility shapes the material landscap...</td>\n",
              "      <td>other documents</td>\n",
              "    </tr>\n",
              "    <tr>\n",
              "      <th>7155</th>\n",
              "      <td>7155</td>\n",
              "      <td>23</td>\n",
              "      <td>Background. Traditional Chinese medicine Yinhu...</td>\n",
              "      <td>other documents</td>\n",
              "    </tr>\n",
              "    <tr>\n",
              "      <th>4220</th>\n",
              "      <td>4220</td>\n",
              "      <td>24</td>\n",
              "      <td>solutions emerge (Hong and Page, 2004; Valenti...</td>\n",
              "      <td>other documents</td>\n",
              "    </tr>\n",
              "    <tr>\n",
              "      <th>4538</th>\n",
              "      <td>4538</td>\n",
              "      <td>25</td>\n",
              "      <td>Public health events, as the common concern fa...</td>\n",
              "      <td>other documents</td>\n",
              "    </tr>\n",
              "    <tr>\n",
              "      <th>4208</th>\n",
              "      <td>4208</td>\n",
              "      <td>25</td>\n",
              "      <td>Sepsis and COVID-19 are two clinical condition...</td>\n",
              "      <td>other documents</td>\n",
              "    </tr>\n",
              "    <tr>\n",
              "      <th>7669</th>\n",
              "      <td>7669</td>\n",
              "      <td>25</td>\n",
              "      <td>Background: To evaluate and determine the prot...</td>\n",
              "      <td>other documents</td>\n",
              "    </tr>\n",
              "    <tr>\n",
              "      <th>2158</th>\n",
              "      <td>2158</td>\n",
              "      <td>25</td>\n",
              "      <td>Debates about emerging infectious diseases oft...</td>\n",
              "      <td>other documents</td>\n",
              "    </tr>\n",
              "    <tr>\n",
              "      <th>7543</th>\n",
              "      <td>7543</td>\n",
              "      <td>25</td>\n",
              "      <td>The first case records of COVID-19 in the worl...</td>\n",
              "      <td>other documents</td>\n",
              "    </tr>\n",
              "    <tr>\n",
              "      <th>5420</th>\n",
              "      <td>5420</td>\n",
              "      <td>25</td>\n",
              "      <td>In the context of sports-based interventions f...</td>\n",
              "      <td>other documents</td>\n",
              "    </tr>\n",
              "  </tbody>\n",
              "</table>\n",
              "</div>"
            ],
            "text/plain": [
              "      doc_num  sig_hamming_distance  \\\n",
              "0           0                     0   \n",
              "4797     4797                    23   \n",
              "7155     7155                    23   \n",
              "4220     4220                    24   \n",
              "4538     4538                    25   \n",
              "4208     4208                    25   \n",
              "7669     7669                    25   \n",
              "2158     2158                    25   \n",
              "7543     7543                    25   \n",
              "5420     5420                    25   \n",
              "\n",
              "                                       abstract_summary         doc_type  \n",
              "0     Coronavirus disease 2019 caused by the severe ...  target document  \n",
              "4797  Although mobility shapes the material landscap...  other documents  \n",
              "7155  Background. Traditional Chinese medicine Yinhu...  other documents  \n",
              "4220  solutions emerge (Hong and Page, 2004; Valenti...  other documents  \n",
              "4538  Public health events, as the common concern fa...  other documents  \n",
              "4208  Sepsis and COVID-19 are two clinical condition...  other documents  \n",
              "7669  Background: To evaluate and determine the prot...  other documents  \n",
              "2158  Debates about emerging infectious diseases oft...  other documents  \n",
              "7543  The first case records of COVID-19 in the worl...  other documents  \n",
              "5420  In the context of sports-based interventions f...  other documents  "
            ]
          },
          "execution_count": 18,
          "metadata": {},
          "output_type": "execute_result"
        }
      ],
      "source": [
        "simhash_result[['doc_num','sig_hamming_distance','abstract_summary','doc_type']].head(10)"
      ]
    },
    {
      "cell_type": "markdown",
      "id": "f09d752e",
      "metadata": {},
      "source": [
        "## Doc2Vec"
      ]
    },
    {
      "cell_type": "markdown",
      "id": "3226849c",
      "metadata": {},
      "source": [
        "Word2Vec also need to consider token position for word embeding. Use the original text instead of the processed text for vectorization."
      ]
    },
    {
      "cell_type": "code",
      "execution_count": 19,
      "id": "6d780f7a",
      "metadata": {},
      "outputs": [],
      "source": [
        "# Use pretrained model to tokenize the documents.\n",
        "model_name = 'distilbert-base-uncased-finetuned-sst-2-english'\n",
        "model = AutoModelForSequenceClassification.from_pretrained(model_name)\n",
        "tokenizer = AutoTokenizer.from_pretrained(model_name)"
      ]
    },
    {
      "cell_type": "code",
      "execution_count": 20,
      "id": "60f42e4c",
      "metadata": {},
      "outputs": [],
      "source": [
        "# Use abstract summary instaed of body_test since it has less tokens.\n",
        "original_docs = list(df['abstract_summary'])\n",
        "tagged_docs = tag_documents(tokenizer,original_docs)"
      ]
    },
    {
      "cell_type": "code",
      "execution_count": 21,
      "id": "cb2f4e53",
      "metadata": {},
      "outputs": [
        {
          "data": {
            "text/html": [
              "<div>\n",
              "<style scoped>\n",
              "    .dataframe tbody tr th:only-of-type {\n",
              "        vertical-align: middle;\n",
              "    }\n",
              "\n",
              "    .dataframe tbody tr th {\n",
              "        vertical-align: top;\n",
              "    }\n",
              "\n",
              "    .dataframe thead th {\n",
              "        text-align: right;\n",
              "    }\n",
              "</style>\n",
              "<table border=\"1\" class=\"dataframe\">\n",
              "  <thead>\n",
              "    <tr style=\"text-align: right;\">\n",
              "      <th></th>\n",
              "      <th>doc_num</th>\n",
              "      <th>doc2vec_similarity</th>\n",
              "      <th>abstract_summary</th>\n",
              "      <th>doc_type</th>\n",
              "    </tr>\n",
              "  </thead>\n",
              "  <tbody>\n",
              "    <tr>\n",
              "      <th>0</th>\n",
              "      <td>0</td>\n",
              "      <td>0.912515</td>\n",
              "      <td>Coronavirus disease 2019 caused by the severe ...</td>\n",
              "      <td>target document</td>\n",
              "    </tr>\n",
              "    <tr>\n",
              "      <th>1</th>\n",
              "      <td>4980</td>\n",
              "      <td>0.653773</td>\n",
              "      <td>The newly emerged coronavirus, which was desig...</td>\n",
              "      <td>other documents</td>\n",
              "    </tr>\n",
              "    <tr>\n",
              "      <th>2</th>\n",
              "      <td>1234</td>\n",
              "      <td>0.627090</td>\n",
              "      <td>Salvia miltiorrhiza Bunge, known as Danshen in...</td>\n",
              "      <td>other documents</td>\n",
              "    </tr>\n",
              "    <tr>\n",
              "      <th>3</th>\n",
              "      <td>5718</td>\n",
              "      <td>0.609747</td>\n",
              "      <td>Citation: Nefedova, E.; Koptev, V.; Bobikova, ...</td>\n",
              "      <td>other documents</td>\n",
              "    </tr>\n",
              "    <tr>\n",
              "      <th>4</th>\n",
              "      <td>6928</td>\n",
              "      <td>0.609233</td>\n",
              "      <td>As a crucial organ, the lung is exposed to var...</td>\n",
              "      <td>other documents</td>\n",
              "    </tr>\n",
              "    <tr>\n",
              "      <th>5</th>\n",
              "      <td>7042</td>\n",
              "      <td>0.603435</td>\n",
              "      <td>Zika fever, a mosquito-borne infectious diseas...</td>\n",
              "      <td>other documents</td>\n",
              "    </tr>\n",
              "    <tr>\n",
              "      <th>6</th>\n",
              "      <td>1802</td>\n",
              "      <td>0.601862</td>\n",
              "      <td>Background: Thalassaemia, a hereditary haemogl...</td>\n",
              "      <td>other documents</td>\n",
              "    </tr>\n",
              "    <tr>\n",
              "      <th>7</th>\n",
              "      <td>144</td>\n",
              "      <td>0.597793</td>\n",
              "      <td>HIV-related diarrhoea is an important cause of...</td>\n",
              "      <td>other documents</td>\n",
              "    </tr>\n",
              "    <tr>\n",
              "      <th>8</th>\n",
              "      <td>5791</td>\n",
              "      <td>0.593548</td>\n",
              "      <td>Pancreatic-related disorders such as pancreati...</td>\n",
              "      <td>other documents</td>\n",
              "    </tr>\n",
              "    <tr>\n",
              "      <th>9</th>\n",
              "      <td>6505</td>\n",
              "      <td>0.591503</td>\n",
              "      <td>Since Dec. 2019, an outbreak of pneumonia case...</td>\n",
              "      <td>other documents</td>\n",
              "    </tr>\n",
              "  </tbody>\n",
              "</table>\n",
              "</div>"
            ],
            "text/plain": [
              "   doc_num  doc2vec_similarity  \\\n",
              "0        0            0.912515   \n",
              "1     4980            0.653773   \n",
              "2     1234            0.627090   \n",
              "3     5718            0.609747   \n",
              "4     6928            0.609233   \n",
              "5     7042            0.603435   \n",
              "6     1802            0.601862   \n",
              "7      144            0.597793   \n",
              "8     5791            0.593548   \n",
              "9     6505            0.591503   \n",
              "\n",
              "                                    abstract_summary         doc_type  \n",
              "0  Coronavirus disease 2019 caused by the severe ...  target document  \n",
              "1  The newly emerged coronavirus, which was desig...  other documents  \n",
              "2  Salvia miltiorrhiza Bunge, known as Danshen in...  other documents  \n",
              "3  Citation: Nefedova, E.; Koptev, V.; Bobikova, ...  other documents  \n",
              "4  As a crucial organ, the lung is exposed to var...  other documents  \n",
              "5  Zika fever, a mosquito-borne infectious diseas...  other documents  \n",
              "6  Background: Thalassaemia, a hereditary haemogl...  other documents  \n",
              "7  HIV-related diarrhoea is an important cause of...  other documents  \n",
              "8  Pancreatic-related disorders such as pancreati...  other documents  \n",
              "9  Since Dec. 2019, an outbreak of pneumonia case...  other documents  "
            ]
          },
          "execution_count": 21,
          "metadata": {},
          "output_type": "execute_result"
        }
      ],
      "source": [
        "model = Doc2Vec()\n",
        "model.build_vocab(tagged_docs)\n",
        "model.train(tagged_docs,total_examples=model.corpus_count,epochs=20)\n",
        "\n",
        "doc2vec_result = get_doc2vec_result(model,tokenizer,original_docs,target_doc_num,df)\n",
        "doc2vec_result[['doc_num','doc2vec_similarity','abstract_summary','doc_type']].head(10)"
      ]
    },
    {
      "cell_type": "markdown",
      "id": "7ee0170a",
      "metadata": {},
      "source": [
        "## Comparsion"
      ]
    },
    {
      "cell_type": "markdown",
      "id": "86fcaf6c",
      "metadata": {},
      "source": [
        "Comparing the performance of different document similarity search methods with the cosine similarity of document with TF-IDF word embeding."
      ]
    },
    {
      "cell_type": "code",
      "execution_count": 22,
      "id": "f51506f4",
      "metadata": {},
      "outputs": [],
      "source": [
        "combine_result = get_combined_similarity_result(tfidf_result,count_result,clip_result,minhash_result,simhash_result,doc2vec_result)\n",
        "rank_df = get_performance_rank(tfidf_result,count_result,clip_result,minhash_result,simhash_result,doc2vec_result)\n",
        "rank_diff_df = get_performance_rank_diff(rank_df)"
      ]
    },
    {
      "cell_type": "code",
      "execution_count": 23,
      "id": "59b0d69a",
      "metadata": {},
      "outputs": [
        {
          "data": {
            "text/html": [
              "<div>\n",
              "<style scoped>\n",
              "    .dataframe tbody tr th:only-of-type {\n",
              "        vertical-align: middle;\n",
              "    }\n",
              "\n",
              "    .dataframe tbody tr th {\n",
              "        vertical-align: top;\n",
              "    }\n",
              "\n",
              "    .dataframe thead th {\n",
              "        text-align: right;\n",
              "    }\n",
              "</style>\n",
              "<table border=\"1\" class=\"dataframe\">\n",
              "  <thead>\n",
              "    <tr style=\"text-align: right;\">\n",
              "      <th></th>\n",
              "      <th>doc_num</th>\n",
              "      <th>tfidf_doc_cosine</th>\n",
              "      <th>count_doc_l2_norm</th>\n",
              "      <th>clip_doc_l1_norm</th>\n",
              "      <th>minhash_jaccard</th>\n",
              "      <th>simhash_hamming</th>\n",
              "      <th>doc2vec</th>\n",
              "    </tr>\n",
              "  </thead>\n",
              "  <tbody>\n",
              "    <tr>\n",
              "      <th>0</th>\n",
              "      <td>0</td>\n",
              "      <td>1.0</td>\n",
              "      <td>0.0</td>\n",
              "      <td>0.0</td>\n",
              "      <td>0.0</td>\n",
              "      <td>0.0</td>\n",
              "      <td>0.0</td>\n",
              "    </tr>\n",
              "    <tr>\n",
              "      <th>1</th>\n",
              "      <td>1</td>\n",
              "      <td>3412.0</td>\n",
              "      <td>-2195.0</td>\n",
              "      <td>-69.5</td>\n",
              "      <td>-369.0</td>\n",
              "      <td>2823.5</td>\n",
              "      <td>-2353.0</td>\n",
              "    </tr>\n",
              "    <tr>\n",
              "      <th>2</th>\n",
              "      <td>2</td>\n",
              "      <td>920.0</td>\n",
              "      <td>4099.0</td>\n",
              "      <td>3014.5</td>\n",
              "      <td>2504.5</td>\n",
              "      <td>-879.5</td>\n",
              "      <td>2500.0</td>\n",
              "    </tr>\n",
              "    <tr>\n",
              "      <th>3</th>\n",
              "      <td>3</td>\n",
              "      <td>1609.0</td>\n",
              "      <td>550.0</td>\n",
              "      <td>1594.0</td>\n",
              "      <td>1618.0</td>\n",
              "      <td>569.5</td>\n",
              "      <td>-1509.0</td>\n",
              "    </tr>\n",
              "    <tr>\n",
              "      <th>4</th>\n",
              "      <td>4</td>\n",
              "      <td>1473.0</td>\n",
              "      <td>840.5</td>\n",
              "      <td>-825.0</td>\n",
              "      <td>5595.5</td>\n",
              "      <td>-4.0</td>\n",
              "      <td>599.0</td>\n",
              "    </tr>\n",
              "    <tr>\n",
              "      <th>...</th>\n",
              "      <td>...</td>\n",
              "      <td>...</td>\n",
              "      <td>...</td>\n",
              "      <td>...</td>\n",
              "      <td>...</td>\n",
              "      <td>...</td>\n",
              "      <td>...</td>\n",
              "    </tr>\n",
              "    <tr>\n",
              "      <th>8036</th>\n",
              "      <td>8036</td>\n",
              "      <td>6282.0</td>\n",
              "      <td>-5499.0</td>\n",
              "      <td>-4801.0</td>\n",
              "      <td>933.0</td>\n",
              "      <td>-984.0</td>\n",
              "      <td>-1664.0</td>\n",
              "    </tr>\n",
              "    <tr>\n",
              "      <th>8037</th>\n",
              "      <td>8037</td>\n",
              "      <td>394.0</td>\n",
              "      <td>3431.0</td>\n",
              "      <td>3813.5</td>\n",
              "      <td>232.0</td>\n",
              "      <td>-184.0</td>\n",
              "      <td>548.0</td>\n",
              "    </tr>\n",
              "    <tr>\n",
              "      <th>8038</th>\n",
              "      <td>8038</td>\n",
              "      <td>4453.0</td>\n",
              "      <td>1679.0</td>\n",
              "      <td>1217.0</td>\n",
              "      <td>-443.0</td>\n",
              "      <td>-2274.5</td>\n",
              "      <td>-439.0</td>\n",
              "    </tr>\n",
              "    <tr>\n",
              "      <th>8039</th>\n",
              "      <td>8039</td>\n",
              "      <td>3205.0</td>\n",
              "      <td>-1405.0</td>\n",
              "      <td>940.0</td>\n",
              "      <td>-2882.5</td>\n",
              "      <td>-1736.0</td>\n",
              "      <td>486.0</td>\n",
              "    </tr>\n",
              "    <tr>\n",
              "      <th>8040</th>\n",
              "      <td>8040</td>\n",
              "      <td>1915.0</td>\n",
              "      <td>3760.0</td>\n",
              "      <td>947.0</td>\n",
              "      <td>-1289.0</td>\n",
              "      <td>1054.0</td>\n",
              "      <td>-124.0</td>\n",
              "    </tr>\n",
              "  </tbody>\n",
              "</table>\n",
              "<p>8041 rows × 7 columns</p>\n",
              "</div>"
            ],
            "text/plain": [
              "      doc_num  tfidf_doc_cosine  count_doc_l2_norm  clip_doc_l1_norm  \\\n",
              "0           0               1.0                0.0               0.0   \n",
              "1           1            3412.0            -2195.0             -69.5   \n",
              "2           2             920.0             4099.0            3014.5   \n",
              "3           3            1609.0              550.0            1594.0   \n",
              "4           4            1473.0              840.5            -825.0   \n",
              "...       ...               ...                ...               ...   \n",
              "8036     8036            6282.0            -5499.0           -4801.0   \n",
              "8037     8037             394.0             3431.0            3813.5   \n",
              "8038     8038            4453.0             1679.0            1217.0   \n",
              "8039     8039            3205.0            -1405.0             940.0   \n",
              "8040     8040            1915.0             3760.0             947.0   \n",
              "\n",
              "      minhash_jaccard  simhash_hamming  doc2vec  \n",
              "0                 0.0              0.0      0.0  \n",
              "1              -369.0           2823.5  -2353.0  \n",
              "2              2504.5           -879.5   2500.0  \n",
              "3              1618.0            569.5  -1509.0  \n",
              "4              5595.5             -4.0    599.0  \n",
              "...               ...              ...      ...  \n",
              "8036            933.0           -984.0  -1664.0  \n",
              "8037            232.0           -184.0    548.0  \n",
              "8038           -443.0          -2274.5   -439.0  \n",
              "8039          -2882.5          -1736.0    486.0  \n",
              "8040          -1289.0           1054.0   -124.0  \n",
              "\n",
              "[8041 rows x 7 columns]"
            ]
          },
          "execution_count": 23,
          "metadata": {},
          "output_type": "execute_result"
        }
      ],
      "source": [
        "rank_diff_df"
      ]
    },
    {
      "cell_type": "code",
      "execution_count": 24,
      "id": "c009576e",
      "metadata": {},
      "outputs": [
        {
          "data": {
            "text/plain": [
              "<seaborn.axisgrid.FacetGrid at 0x243336ef5c0>"
            ]
          },
          "execution_count": 24,
          "metadata": {},
          "output_type": "execute_result"
        },
        {
          "data": {
            "image/png": "[encoded data removed]",
            "text/plain": [
              "<Figure size 684x500 with 1 Axes>"
            ]
          },
          "metadata": {},
          "output_type": "display_data"
        }
      ],
      "source": [
        "plot_df = rank_diff_df.drop(columns=['doc_num','tfidf_doc_cosine']).melt().rename(columns={'value':'Rank Difference'})\n",
        "sns.displot(plot_df, x='Rank Difference', hue='variable')"
      ]
    },
    {
      "cell_type": "code",
      "execution_count": 25,
      "id": "ac830bac",
      "metadata": {},
      "outputs": [
        {
          "data": {
            "text/html": [
              "<div>\n",
              "<style scoped>\n",
              "    .dataframe tbody tr th:only-of-type {\n",
              "        vertical-align: middle;\n",
              "    }\n",
              "\n",
              "    .dataframe tbody tr th {\n",
              "        vertical-align: top;\n",
              "    }\n",
              "\n",
              "    .dataframe thead th {\n",
              "        text-align: right;\n",
              "    }\n",
              "</style>\n",
              "<table border=\"1\" class=\"dataframe\">\n",
              "  <thead>\n",
              "    <tr style=\"text-align: right;\">\n",
              "      <th></th>\n",
              "      <th>metric</th>\n",
              "      <th>variance</th>\n",
              "    </tr>\n",
              "  </thead>\n",
              "  <tbody>\n",
              "    <tr>\n",
              "      <th>3</th>\n",
              "      <td>simhash_hamming</td>\n",
              "      <td>2.538154e+06</td>\n",
              "    </tr>\n",
              "    <tr>\n",
              "      <th>4</th>\n",
              "      <td>doc2vec</td>\n",
              "      <td>8.845181e+06</td>\n",
              "    </tr>\n",
              "    <tr>\n",
              "      <th>2</th>\n",
              "      <td>minhash_jaccard</td>\n",
              "      <td>9.275360e+06</td>\n",
              "    </tr>\n",
              "    <tr>\n",
              "      <th>0</th>\n",
              "      <td>count_doc_l2_norm</td>\n",
              "      <td>1.094450e+07</td>\n",
              "    </tr>\n",
              "    <tr>\n",
              "      <th>1</th>\n",
              "      <td>clip_doc_l1_norm</td>\n",
              "      <td>1.299531e+07</td>\n",
              "    </tr>\n",
              "  </tbody>\n",
              "</table>\n",
              "</div>"
            ],
            "text/plain": [
              "              metric      variance\n",
              "3    simhash_hamming  2.538154e+06\n",
              "4            doc2vec  8.845181e+06\n",
              "2    minhash_jaccard  9.275360e+06\n",
              "0  count_doc_l2_norm  1.094450e+07\n",
              "1   clip_doc_l1_norm  1.299531e+07"
            ]
          },
          "execution_count": 25,
          "metadata": {},
          "output_type": "execute_result"
        }
      ],
      "source": [
        "var_rank_diff = rank_diff_df.drop(columns=['doc_num','tfidf_doc_cosine']).var(axis=0)\n",
        "var_rank_diff = var_rank_diff.reset_index().rename(columns={'index':'metric',0:'variance'})\n",
        "var_rank_diff = var_rank_diff.sort_values(by=['variance'],ascending=True)\n",
        "var_rank_diff"
      ]
    },
    {
      "cell_type": "markdown",
      "id": "ac547210",
      "metadata": {},
      "source": [
        "# Association Analysis"
      ]
    },
    {
      "cell_type": "code",
      "execution_count": null,
      "id": "9ae3f763",
      "metadata": {},
      "outputs": [],
      "source": [
        "from association_analysis import *"
      ]
    },
    {
      "cell_type": "code",
      "execution_count": null,
      "id": "79a9cbf1",
      "metadata": {},
      "outputs": [],
      "source": [
        "# Input\n",
        "# Can be word that is not in feature but in model\n",
        "target_word_list = ['vaccine', 'pandemic', 'respiratory']"
      ]
    },
    {
      "cell_type": "code",
      "execution_count": null,
      "id": "0b433eb4",
      "metadata": {},
      "outputs": [],
      "source": [
        "if len(target_word_list) > 0:\n",
        "    token_list = list(count_vectorizer.get_feature_names_out())\n",
        "    index_dict = get_target_document_index(X_count,token_list,target_word_list)\n",
        "    interested_list = list()\n",
        "    for key in index_dict:\n",
        "        interested_list += index_dict[key]\n",
        "    print(len(interested_list))\n",
        "    df = df.iloc[interested_list]"
      ]
    },
    {
      "cell_type": "markdown",
      "id": "8db7c55a",
      "metadata": {},
      "source": [
        "## Association Rule (LDA)"
      ]
    },
    {
      "cell_type": "code",
      "execution_count": null,
      "id": "be038b3b",
      "metadata": {},
      "outputs": [],
      "source": [
        "import gensim\n",
        "import gensim.corpora as corpora\n",
        "from gensim.models import CoherenceModel\n",
        "from gensim.utils import simple_preprocess\n",
        "from gensim.models.ldamodel import LdaModel\n",
        "import pyLDAvis\n",
        "import pyLDAvis.gensim_models as gensimvis\n",
        "import nltk\n",
        "nltk.download('stopwords')\n",
        "from nltk.corpus import stopwords\n",
        "\n",
        "\n",
        "# Create Dictionary\n",
        "id2word = corpora.Dictionary(df['all_text_list'])\n",
        "# Create Corpus\n",
        "texts = df['all_text_list']\n",
        "# Term Document Frequency\n",
        "corpus = [id2word.doc2bow(text) for text in texts]\n",
        "# Set number of topics\n",
        "num_topics = 4\n",
        "# Build LDA model\n",
        "lda_model = LdaModel(corpus=corpus, id2word=id2word, num_topics=num_topics, random_state=42, passes=10, alpha='auto', per_word_topics=True)\n",
        "coherence_model_lda = CoherenceModel(model=lda_model, texts=df['all_text_list'], dictionary=id2word, coherence='c_v')\n",
        "coherence_lda = coherence_model_lda.get_coherence()\n",
        "print('Coherence Score: ', coherence_lda)\n",
        "pyLDAvis.enable_notebook()\n",
        "vis = pyLDAvis.gensim_models.prepare(lda_model, corpus, id2word)\n",
        "\n",
        "# Prepare Wordcloud of Top N words in each topic\n",
        "from matplotlib import pyplot as plt\n",
        "from wordcloud import WordCloud, STOPWORDS\n",
        "import matplotlib.colors as mcolors\n",
        "\n",
        "cols = [color for name, color in mcolors.XKCD_COLORS.items()]  # more colors: 'mcolors.XKCD_COLORS'\n",
        "\n",
        "cloud = WordCloud(\n",
        "                    width=4000,\n",
        "                    height=2000,\n",
        "                    max_words=10,\n",
        "                    prefer_horizontal=1.0,\n",
        "                    background_color='whitesmoke'\n",
        "                )\n",
        "\n",
        "topics = lda_model.show_topics(formatted=False)\n",
        "# Print the keywords for each topic\n",
        "pprint(lda_model.print_topics())\n",
        "print(lda_model.top_topics)\n",
        "\n",
        "fig, axes = plt.subplots(1, num_topics, figsize=(20,20), sharex=True, sharey=True)\n",
        "\n",
        "for i, ax in enumerate(axes.flatten()):\n",
        "    fig.add_subplot(ax)\n",
        "    topic_words = dict(topics[i][1])\n",
        "    cloud.generate_from_frequencies(topic_words, max_font_size=300)\n",
        "    \n",
        "    plt.gca().imshow(cloud)\n",
        "    plt.gca().set_title(str(start_year) + '-' + str(end_year) + ': Topic ' + str(i+1), fontdict=dict(size=16))\n",
        "    plt.gca().axis('off')\n",
        "\n",
        "plt.imshow(cloud, interpolation='bilinear')\n",
        "plt.subplots_adjust(wspace=0, hspace=0)\n",
        "plt.axis('off')\n",
        "plt.margins(x=0, y=0)\n",
        "plt.tight_layout()\n",
        "plt.show()\n",
        "vis"
      ]
    },
    {
      "cell_type": "markdown",
      "id": "6eacfdb5",
      "metadata": {},
      "source": [
        "## Prepare for Association Mining "
      ]
    },
    {
      "cell_type": "code",
      "execution_count": null,
      "id": "8d2e2cce",
      "metadata": {},
      "outputs": [],
      "source": [
        "from mlxtend.frequent_patterns import apriori, association_rules \n",
        "from mlxtend.preprocessing import TransactionEncoder\n",
        "\n",
        "min_support = 0.6\n",
        "mine_col = 'all_text_list'\n",
        "\n",
        "# Pre-processing\n",
        "te = TransactionEncoder()\n",
        "te_ary = te.fit (df['all_text_list']).transform(df['all_text_list'])\n",
        "df_processd_text = pd.DataFrame (te_ary, columns=te.columns_)\n",
        "print(df_processd_text)"
      ]
    },
    {
      "cell_type": "code",
      "execution_count": null,
      "id": "74649568",
      "metadata": {},
      "outputs": [],
      "source": [
        "def find_association_rules(frq_items):\n",
        "    # Collecting the inferred rules in a dataframe \n",
        "    rules = association_rules(frq_items, metric =\"lift\", min_threshold = 1)\n",
        "    rules[\"antecedent_len\"] = rules[\"antecedents\"].apply(lambda x: len(x)) \n",
        "    rules[\"consequents_len\"] = rules[\"consequents\"].apply(lambda x: len(x)) \n",
        "    rules = rules.sort_values(['lift', 'antecedent_len', 'consequents_len', 'confidence'], ascending=[False, False, False, False]) \n",
        "    return rules \n",
        "\n",
        "def draw_graph(rules, rules_to_show, topics, title):\n",
        "     import networkx as nx  \n",
        "     G1 = nx.DiGraph()\n",
        "     color_map=[]\n",
        "     strs = []\n",
        "     for i in range(len(topics)):\n",
        "         strs += dict(topics[i][1])\n",
        "     \n",
        "     for z in range(rules_to_show):\n",
        "          rand_index = np.random.randint(0, len(rules) - 1)\n",
        "          for a in rules.iloc[rand_index]['antecedents']:\n",
        "               G1.add_nodes_from([a])\n",
        "               G1.add_edge(a, rules.iloc[rand_index]['antecedents'], weight = 2)\n",
        "       \n",
        "          for c in rules.iloc[i]['consequents']:\n",
        "               G1.add_nodes_from([c])\n",
        "               G1.add_edge(rules.iloc[rand_index]['consequents'], c, weight=2)\n",
        "\n",
        "          for node in G1:\n",
        "               found_a_string = False\n",
        "               for item in strs:\n",
        "                    if node==item:\n",
        "                         found_a_string = True\n",
        "       \n",
        "                    if found_a_string:\n",
        "                         color_map.append('yellow')\n",
        "                    else:\n",
        "                         color_map.append('green')       \n",
        "\n",
        "\n",
        "     edges = G1.edges()\n",
        "     pos = nx.spring_layout(G1, k=16, scale=1)\n",
        "     plt.figure(figsize=(13,7))\n",
        "     nx.draw_networkx(G1, pos, arrows=True, with_labels=True, node_color='lightblue', node_size=2500)            \n",
        "     plt.title(title)\n",
        "     plt.show()"
      ]
    },
    {
      "cell_type": "code",
      "execution_count": null,
      "id": "e0db6e5e",
      "metadata": {},
      "outputs": [],
      "source": [
        "def draw_catgraph(rules, rules_to_show, topics, title):\n",
        "    N = 50\n",
        "    x = rules[\"antecedents\"]\n",
        "    y = rules[\"consequents\"]\n",
        "\n",
        "    colors = np.random.rand(N)\n",
        "    area = (30 * np.random.rand(N))**2  # 0 to 15 point radii\n",
        "    plt.figure(figsize=(13,7))\n",
        "    plt.scatter(x, y, s=area, c=colors, alpha=0.5)\n",
        "    plt.title(title)\n",
        "    plt.show()"
      ]
    },
    {
      "cell_type": "markdown",
      "id": "53fe199c",
      "metadata": {},
      "source": [
        "## Association Rule (FP Growth)"
      ]
    },
    {
      "cell_type": "code",
      "execution_count": null,
      "id": "f4d55f28",
      "metadata": {},
      "outputs": [],
      "source": [
        "from mlxtend.frequent_patterns import fpgrowth\n",
        "\n",
        "frq_items_fp = fpgrowth(df_processd_text, min_support=min_support, use_colnames=True)\n",
        "print(frq_items_fp.head())\n",
        "rules_fp = find_association_rules(frq_items_fp)\n",
        "print(rules_fp[['antecedents', 'consequents', 'support', 'confidence', 'lift']]) \n",
        "if len(rules_fp) > 0:\n",
        "    #draw_catgraph (rules_fp, 10, topics, 'FP Growth with minsup: ' + str(min_support) + ', Lift > 1. (between year ' + str(start_year) + ' to ' + str(end_year) + ')')\n",
        "    draw_graph (rules_fp, 5, topics, 'FP Growth with minsup: ' + str(min_support) + ', Lift > 1. (between year ' + str(start_year) + ' to ' + str(end_year) + ')')"
      ]
    },
    {
      "cell_type": "markdown",
      "id": "478d5124",
      "metadata": {},
      "source": [
        "## Association Rule (Apriori Algorithm)"
      ]
    },
    {
      "cell_type": "code",
      "execution_count": null,
      "id": "ae5b6e8b",
      "metadata": {},
      "outputs": [],
      "source": [
        "# Building the model \n",
        "frq_items_ap = apriori(df_processd_text, min_support = min_support, use_colnames = True) \n",
        "print(frq_items_ap.head())\n",
        "rules_ap = find_association_rules(frq_items_ap)\n",
        "print(rules_ap[['antecedents', 'consequents', 'support', 'confidence', 'lift']]) \n",
        "if len(rules_ap) > 0:\n",
        "    #draw_catgraph (rules_ap, 10, topics, 'Apriori with minsup: ' + str(min_support) + ', Lift > 1. (between year ' + str(start_year) + ' to ' + str(end_year) + ')')\n",
        "    draw_graph (rules_ap, 5, topics, 'Apriori with minsup: ' + str(min_support) + ', Lift > 1. (between year ' + str(start_year) + ' to ' + str(end_year) + ')')"
      ]
    },
    {
      "cell_type": "markdown",
      "id": "adc2e25a",
      "metadata": {},
      "source": [
        "# Clustering Analysis"
      ]
    },
    {
      "cell_type": "code",
      "execution_count": null,
      "id": "3e43afbb",
      "metadata": {},
      "outputs": [],
      "source": []
    },
    {
      "cell_type": "code",
      "execution_count": null,
      "id": "f213f086",
      "metadata": {},
      "outputs": [],
      "source": []
    }
  ],
  "metadata": {
    "colab": {
      "provenance": []
    },
    "kernelspec": {
      "display_name": "Python 3 (ipykernel)",
      "language": "python",
      "name": "python3"
    },
    "language_info": {
      "codemirror_mode": {
        "name": "ipython",
        "version": 3
      },
      "file_extension": ".py",
      "mimetype": "text/x-python",
      "name": "python",
      "nbconvert_exporter": "python",
      "pygments_lexer": "ipython3",
      "version": "3.12.4"
    }
  },
  "nbformat": 4,
  "nbformat_minor": 5
}
