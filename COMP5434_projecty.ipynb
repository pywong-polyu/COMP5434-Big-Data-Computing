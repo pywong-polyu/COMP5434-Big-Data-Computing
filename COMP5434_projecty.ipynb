{
  "cells": [
    {
      "cell_type": "markdown",
      "id": "d429ccc6",
      "metadata": {
        "id": "d429ccc6"
      },
      "source": [
        "# About the Dataset\n",
        "\n",
        "The original CORD-19 is a resource of over 1,000,000 scholarly articles, including over 400,000 with full text, about COVID-19, SARS-CoV-2, and related coronaviruses.\n",
        "\n",
        "In our project, the dataset is sampled from the CORD-19 with size ~10,000 to reduce computation burden."
      ]
    },
    {
      "cell_type": "code",
      "execution_count": 1,
      "id": "UFYXtLsHeNX0",
      "metadata": {
        "colab": {
          "base_uri": "https://localhost:8080/"
        },
        "id": "UFYXtLsHeNX0",
        "outputId": "08825601-cf94-481a-e6b6-336a0132a717"
      },
      "outputs": [
        {
          "ename": "ModuleNotFoundError",
          "evalue": "No module named 'google.colab'",
          "output_type": "error",
          "traceback": [
            "\u001b[1;31m---------------------------------------------------------------------------\u001b[0m",
            "\u001b[1;31mModuleNotFoundError\u001b[0m                       Traceback (most recent call last)",
            "\u001b[1;32m~\\AppData\\Local\\Temp\\ipykernel_21864\\2127185559.py\u001b[0m in \u001b[0;36m<module>\u001b[1;34m\u001b[0m\n\u001b[0;32m     10\u001b[0m \u001b[1;33m\u001b[0m\u001b[0m\n\u001b[0;32m     11\u001b[0m \u001b[1;31m# Step 1: Mount Google Drive\u001b[0m\u001b[1;33m\u001b[0m\u001b[1;33m\u001b[0m\u001b[1;33m\u001b[0m\u001b[0m\n\u001b[1;32m---> 12\u001b[1;33m \u001b[1;32mfrom\u001b[0m \u001b[0mgoogle\u001b[0m\u001b[1;33m.\u001b[0m\u001b[0mcolab\u001b[0m \u001b[1;32mimport\u001b[0m \u001b[0mdrive\u001b[0m\u001b[1;33m\u001b[0m\u001b[1;33m\u001b[0m\u001b[0m\n\u001b[0m\u001b[0;32m     13\u001b[0m \u001b[0mdrive\u001b[0m\u001b[1;33m.\u001b[0m\u001b[0mmount\u001b[0m\u001b[1;33m(\u001b[0m\u001b[1;34m\"/content/drive\"\u001b[0m\u001b[1;33m)\u001b[0m\u001b[1;33m\u001b[0m\u001b[1;33m\u001b[0m\u001b[0m\n\u001b[0;32m     14\u001b[0m \u001b[1;33m\u001b[0m\u001b[0m\n",
            "\u001b[1;31mModuleNotFoundError\u001b[0m: No module named 'google.colab'"
          ]
        }
      ],
      "source": [
        "import os\n",
        "import subprocess\n",
        "\n",
        "\n",
        "# shared link: https://drive.google.com/drive/folders/1Td_ZTUVrsKeftDE5Zll7252YLJdWiNTk?usp=share_link \n",
        "# you can download the data via the shared link, and skip Step 0 and Step 1 if you want to run the code in your local machine \n",
        "\n",
        "\n",
        "# Step 0: add the shared folder to your google drive. e.g., /content/drive/MyDrive/CORD_19\n",
        "\n",
        "# Step 1: Mount Google Drive\n",
        "from google.colab import drive\n",
        "drive.mount(\"/content/drive\")\n",
        "\n",
        "\n",
        "!echo $PWD\n",
        "\n",
        "!ls /content/drive/MyDrive/CORD_19/\n",
        "\n",
        "# Step 2: unzip json files \n",
        "subset_dir = os.path.join(os.getcwd(),  \"CORD_19_subset\")\n",
        "\n",
        "\n",
        "zip_file_path=\"/content/drive/MyDrive/CORD_19/subset.zip\"\n",
        "\n",
        "# Check if the destination directory exists\n",
        "if not os.path.exists(subset_dir):\n",
        "    # Unzip the file\n",
        "    cmd = \"unzip {} -d {}\".format(zip_file_path, subset_dir)\n",
        "    proc = subprocess.Popen(cmd, shell=True)\n",
        "else:\n",
        "    print(f\"Directory {subset_dir} already exists. Skipping extraction.\")"
      ]
    },
    {
      "cell_type": "code",
      "execution_count": null,
      "id": "c4995168",
      "metadata": {},
      "outputs": [],
      "source": [
        "# Install necessary packages\n",
        "subprocess.run(['pip', 'install', 'numpy'])\n",
        "subprocess.run(['pip', 'install', 'pandas'])\n",
        "subprocess.run(['pip', 'install', 'matplotlib'])\n",
        "subprocess.run(['pip', 'install', 'nltk'])\n",
        "subprocess.run(['pip', 'install', 'langdetect'])"
      ]
    },
    {
      "cell_type": "code",
      "execution_count": 2,
      "id": "eeabd1eb",
      "metadata": {
        "id": "eeabd1eb"
      },
      "outputs": [],
      "source": [
        "# Import necessary packages\n",
        "import os\n",
        "import json\n",
        "import glob\n",
        "import numpy as np\n",
        "import pandas as pd\n",
        "import matplotlib.pyplot as plt\n",
        "import subprocess\n",
        "import nltk\n",
        "from nltk.corpus import stopwords\n",
        "from nltk.tokenize import word_tokenize\n",
        "import string"
      ]
    },
    {
      "cell_type": "markdown",
      "id": "5031e9ad",
      "metadata": {},
      "source": [
        "Download NLTK data"
      ]
    },
    {
      "cell_type": "code",
      "execution_count": null,
      "id": "e97c4221",
      "metadata": {},
      "outputs": [],
      "source": [
        "# Download NLTK data\n",
        "nltk.download('stopwords')\n",
        "nltk.download('punkt')"
      ]
    },
    {
      "cell_type": "markdown",
      "id": "cc1250a1",
      "metadata": {
        "id": "cc1250a1"
      },
      "source": [
        "# Data Load & Pre-processing"
      ]
    },
    {
      "cell_type": "code",
      "execution_count": 7,
      "id": "83d2222c",
      "metadata": {
        "colab": {
          "base_uri": "https://localhost:8080/",
          "height": 695
        },
        "id": "83d2222c",
        "outputId": "d3082464-4669-4404-b139-0300e50112d4"
      },
      "outputs": [
        {
          "name": "stdout",
          "output_type": "stream",
          "text": [
            "9022\n"
          ]
        },
        {
          "data": {
            "text/html": [
              "<div>\n",
              "<style scoped>\n",
              "    .dataframe tbody tr th:only-of-type {\n",
              "        vertical-align: middle;\n",
              "    }\n",
              "\n",
              "    .dataframe tbody tr th {\n",
              "        vertical-align: top;\n",
              "    }\n",
              "\n",
              "    .dataframe thead th {\n",
              "        text-align: right;\n",
              "    }\n",
              "</style>\n",
              "<table border=\"1\" class=\"dataframe\">\n",
              "  <thead>\n",
              "    <tr style=\"text-align: right;\">\n",
              "      <th></th>\n",
              "      <th>cord_uid</th>\n",
              "      <th>sha</th>\n",
              "      <th>source_x</th>\n",
              "      <th>title</th>\n",
              "      <th>doi</th>\n",
              "      <th>pmcid</th>\n",
              "      <th>pubmed_id</th>\n",
              "      <th>license</th>\n",
              "      <th>abstract</th>\n",
              "      <th>publish_time</th>\n",
              "      <th>authors</th>\n",
              "      <th>journal</th>\n",
              "      <th>mag_id</th>\n",
              "      <th>who_covidence_id</th>\n",
              "      <th>arxiv_id</th>\n",
              "      <th>pdf_json_files</th>\n",
              "      <th>pmc_json_files</th>\n",
              "      <th>url</th>\n",
              "      <th>s2_id</th>\n",
              "    </tr>\n",
              "  </thead>\n",
              "  <tbody>\n",
              "    <tr>\n",
              "      <th>44</th>\n",
              "      <td>m71xkuo9</td>\n",
              "      <td>c6bf372c094f035a514975c35a7f9c094abbe493</td>\n",
              "      <td>PMC</td>\n",
              "      <td>Sequence specific visual detection of LAMP rea...</td>\n",
              "      <td>10.1186/1472-6750-6-3</td>\n",
              "      <td>PMC1373654</td>\n",
              "      <td>16401354</td>\n",
              "      <td>cc-by</td>\n",
              "      <td>BACKGROUND: Development of a practical gene po...</td>\n",
              "      <td>2006-01-10</td>\n",
              "      <td>Mori, Yasuyoshi; Hirano, Tsuyoshi; Notomi, Tsu...</td>\n",
              "      <td>BMC Biotechnol</td>\n",
              "      <td>NaN</td>\n",
              "      <td>NaN</td>\n",
              "      <td>NaN</td>\n",
              "      <td>document_parses/pdf_json/c6bf372c094f035a51497...</td>\n",
              "      <td>document_parses/pmc_json/PMC1373654.xml.json</td>\n",
              "      <td>https://www.ncbi.nlm.nih.gov/pmc/articles/PMC1...</td>\n",
              "      <td>NaN</td>\n",
              "    </tr>\n",
              "    <tr>\n",
              "      <th>96</th>\n",
              "      <td>hqc7u9w3</td>\n",
              "      <td>c65f0939cf35a0f04bf93bd6e8f771b8521563a5</td>\n",
              "      <td>PMC</td>\n",
              "      <td>Transmission Parameters of the 2001 Foot and M...</td>\n",
              "      <td>10.1371/journal.pone.0000502</td>\n",
              "      <td>PMC1876810</td>\n",
              "      <td>17551582</td>\n",
              "      <td>cc-by</td>\n",
              "      <td>Despite intensive ongoing research, key aspect...</td>\n",
              "      <td>2007-06-06</td>\n",
              "      <td>Chis Ster, Irina; Ferguson, Neil M.</td>\n",
              "      <td>PLoS One</td>\n",
              "      <td>NaN</td>\n",
              "      <td>NaN</td>\n",
              "      <td>NaN</td>\n",
              "      <td>document_parses/pdf_json/c65f0939cf35a0f04bf93...</td>\n",
              "      <td>document_parses/pmc_json/PMC1876810.xml.json</td>\n",
              "      <td>https://www.ncbi.nlm.nih.gov/pmc/articles/PMC1...</td>\n",
              "      <td>NaN</td>\n",
              "    </tr>\n",
              "    <tr>\n",
              "      <th>217</th>\n",
              "      <td>jzwcy7dr</td>\n",
              "      <td>a009c8efa4c5f13a5e604608d4e33e1dac078044</td>\n",
              "      <td>PMC</td>\n",
              "      <td>Results From a Hypothesis Generating Case-Cont...</td>\n",
              "      <td>10.1093/schbul/sbm139</td>\n",
              "      <td>PMC2632504</td>\n",
              "      <td>18156638</td>\n",
              "      <td>bronze-oa</td>\n",
              "      <td>Background: Herpes family viruses can cause ce...</td>\n",
              "      <td>2008-08-20</td>\n",
              "      <td>Niebuhr, David W.; Millikan, Amy M.; Yolken, R...</td>\n",
              "      <td>Schizophrenia Bulletin</td>\n",
              "      <td>NaN</td>\n",
              "      <td>NaN</td>\n",
              "      <td>NaN</td>\n",
              "      <td>document_parses/pdf_json/a009c8efa4c5f13a5e604...</td>\n",
              "      <td>document_parses/pmc_json/PMC2632504.xml.json</td>\n",
              "      <td>https://academic.oup.com/schizophreniabulletin...</td>\n",
              "      <td>NaN</td>\n",
              "    </tr>\n",
              "    <tr>\n",
              "      <th>255</th>\n",
              "      <td>02opdk0m</td>\n",
              "      <td>b411e12b20d883ef2ee5ca19d48eff9fccedf05f</td>\n",
              "      <td>PMC</td>\n",
              "      <td>CVTree update: a newly designed phylogenetic s...</td>\n",
              "      <td>10.1093/nar/gkp278</td>\n",
              "      <td>PMC2703908</td>\n",
              "      <td>19398429</td>\n",
              "      <td>cc-by-nc</td>\n",
              "      <td>The CVTree web server (http://tlife.fudan.edu....</td>\n",
              "      <td>2009-07-01</td>\n",
              "      <td>Xu, Zhao; Hao, Bailin</td>\n",
              "      <td>Nucleic Acids Res</td>\n",
              "      <td>NaN</td>\n",
              "      <td>NaN</td>\n",
              "      <td>NaN</td>\n",
              "      <td>document_parses/pdf_json/b411e12b20d883ef2ee5c...</td>\n",
              "      <td>document_parses/pmc_json/PMC2703908.xml.json</td>\n",
              "      <td>https://www.ncbi.nlm.nih.gov/pmc/articles/PMC2...</td>\n",
              "      <td>NaN</td>\n",
              "    </tr>\n",
              "    <tr>\n",
              "      <th>342</th>\n",
              "      <td>094d0rn6</td>\n",
              "      <td>513d5ea4db4eb8e94c14c46b018c6041d78119cf</td>\n",
              "      <td>PMC</td>\n",
              "      <td>IPS-1 Is Essential for the Control of West Nil...</td>\n",
              "      <td>10.1371/journal.ppat.1000757</td>\n",
              "      <td>PMC2816698</td>\n",
              "      <td>20140199</td>\n",
              "      <td>cc-by</td>\n",
              "      <td>The innate immune response is essential for co...</td>\n",
              "      <td>2010-02-05</td>\n",
              "      <td>Suthar, Mehul S.; Ma, Daphne Y.; Thomas, Sunil...</td>\n",
              "      <td>PLoS Pathog</td>\n",
              "      <td>NaN</td>\n",
              "      <td>NaN</td>\n",
              "      <td>NaN</td>\n",
              "      <td>document_parses/pdf_json/513d5ea4db4eb8e94c14c...</td>\n",
              "      <td>document_parses/pmc_json/PMC2816698.xml.json</td>\n",
              "      <td>https://www.ncbi.nlm.nih.gov/pmc/articles/PMC2...</td>\n",
              "      <td>NaN</td>\n",
              "    </tr>\n",
              "  </tbody>\n",
              "</table>\n",
              "</div>"
            ],
            "text/plain": [
              "     cord_uid                                       sha source_x  \\\n",
              "44   m71xkuo9  c6bf372c094f035a514975c35a7f9c094abbe493      PMC   \n",
              "96   hqc7u9w3  c65f0939cf35a0f04bf93bd6e8f771b8521563a5      PMC   \n",
              "217  jzwcy7dr  a009c8efa4c5f13a5e604608d4e33e1dac078044      PMC   \n",
              "255  02opdk0m  b411e12b20d883ef2ee5ca19d48eff9fccedf05f      PMC   \n",
              "342  094d0rn6  513d5ea4db4eb8e94c14c46b018c6041d78119cf      PMC   \n",
              "\n",
              "                                                 title  \\\n",
              "44   Sequence specific visual detection of LAMP rea...   \n",
              "96   Transmission Parameters of the 2001 Foot and M...   \n",
              "217  Results From a Hypothesis Generating Case-Cont...   \n",
              "255  CVTree update: a newly designed phylogenetic s...   \n",
              "342  IPS-1 Is Essential for the Control of West Nil...   \n",
              "\n",
              "                              doi       pmcid pubmed_id    license  \\\n",
              "44          10.1186/1472-6750-6-3  PMC1373654  16401354      cc-by   \n",
              "96   10.1371/journal.pone.0000502  PMC1876810  17551582      cc-by   \n",
              "217         10.1093/schbul/sbm139  PMC2632504  18156638  bronze-oa   \n",
              "255            10.1093/nar/gkp278  PMC2703908  19398429   cc-by-nc   \n",
              "342  10.1371/journal.ppat.1000757  PMC2816698  20140199      cc-by   \n",
              "\n",
              "                                              abstract publish_time  \\\n",
              "44   BACKGROUND: Development of a practical gene po...   2006-01-10   \n",
              "96   Despite intensive ongoing research, key aspect...   2007-06-06   \n",
              "217  Background: Herpes family viruses can cause ce...   2008-08-20   \n",
              "255  The CVTree web server (http://tlife.fudan.edu....   2009-07-01   \n",
              "342  The innate immune response is essential for co...   2010-02-05   \n",
              "\n",
              "                                               authors  \\\n",
              "44   Mori, Yasuyoshi; Hirano, Tsuyoshi; Notomi, Tsu...   \n",
              "96                 Chis Ster, Irina; Ferguson, Neil M.   \n",
              "217  Niebuhr, David W.; Millikan, Amy M.; Yolken, R...   \n",
              "255                              Xu, Zhao; Hao, Bailin   \n",
              "342  Suthar, Mehul S.; Ma, Daphne Y.; Thomas, Sunil...   \n",
              "\n",
              "                    journal  mag_id  who_covidence_id arxiv_id  \\\n",
              "44           BMC Biotechnol     NaN               NaN      NaN   \n",
              "96                 PLoS One     NaN               NaN      NaN   \n",
              "217  Schizophrenia Bulletin     NaN               NaN      NaN   \n",
              "255       Nucleic Acids Res     NaN               NaN      NaN   \n",
              "342             PLoS Pathog     NaN               NaN      NaN   \n",
              "\n",
              "                                        pdf_json_files  \\\n",
              "44   document_parses/pdf_json/c6bf372c094f035a51497...   \n",
              "96   document_parses/pdf_json/c65f0939cf35a0f04bf93...   \n",
              "217  document_parses/pdf_json/a009c8efa4c5f13a5e604...   \n",
              "255  document_parses/pdf_json/b411e12b20d883ef2ee5c...   \n",
              "342  document_parses/pdf_json/513d5ea4db4eb8e94c14c...   \n",
              "\n",
              "                                   pmc_json_files  \\\n",
              "44   document_parses/pmc_json/PMC1373654.xml.json   \n",
              "96   document_parses/pmc_json/PMC1876810.xml.json   \n",
              "217  document_parses/pmc_json/PMC2632504.xml.json   \n",
              "255  document_parses/pmc_json/PMC2703908.xml.json   \n",
              "342  document_parses/pmc_json/PMC2816698.xml.json   \n",
              "\n",
              "                                                   url  s2_id  \n",
              "44   https://www.ncbi.nlm.nih.gov/pmc/articles/PMC1...    NaN  \n",
              "96   https://www.ncbi.nlm.nih.gov/pmc/articles/PMC1...    NaN  \n",
              "217  https://academic.oup.com/schizophreniabulletin...    NaN  \n",
              "255  https://www.ncbi.nlm.nih.gov/pmc/articles/PMC2...    NaN  \n",
              "342  https://www.ncbi.nlm.nih.gov/pmc/articles/PMC2...    NaN  "
            ]
          },
          "execution_count": 7,
          "metadata": {},
          "output_type": "execute_result"
        }
      ],
      "source": [
        "# Load Meta data from meta_10k.csv\n",
        "data_root = 'CORD_19/'  \n",
        "metadata_path = os.path.join(data_root, 'meta_10k.csv')\n",
        "meta_df = pd.read_csv(metadata_path, dtype={\n",
        "    'pubmed_id': str,\n",
        "    'Microsoft Academic Paper ID': str,\n",
        "    'doi': str\n",
        "})\n",
        "\n",
        "print(len(meta_df))\n",
        "print(meta_df.head())\n",
        "\n",
        "# Display the info of the dataframe\n",
        "meta_df.info()"
      ]
    },
    {
      "cell_type": "code",
      "execution_count": 11,
      "id": "c3139be0",
      "metadata": {
        "colab": {
          "base_uri": "https://localhost:8080/"
        },
        "id": "c3139be0",
        "outputId": "5cdaf76c-167c-4a56-b786-2838a18700f1"
      },
      "outputs": [
        {
          "name": "stdout",
          "output_type": "stream",
          "text": [
            "c:\\Users\\pywong\\Desktop\\PolyU\\COMP5434 Big Data Computing\\Assignment\\input\\subset\\subset\\document_parses\\pdf_json\n",
            "total json files: 12000\n"
          ]
        }
      ],
      "source": [
        "def glob_files(path, f_type=\".json\"):\n",
        "    dst = []\n",
        "    for root, _, files in os.walk(path):\n",
        "        for f in files:\n",
        "            if f.endswith(f_type):\n",
        "                dst.append(os.path.join(root, f))\n",
        "    return dst\n",
        "\n",
        "# Glob json files\n",
        "json_dir = \"subset/document_parses/pdf_json/\"\n",
        "print(json_dir)\n",
        "json_files = glob_files(json_dir, \".json\")\n",
        "print(\"Total json files:\", len(json_files))"
      ]
    },
    {
      "cell_type": "code",
      "execution_count": 12,
      "id": "20fb57d2",
      "metadata": {
        "colab": {
          "base_uri": "https://localhost:8080/"
        },
        "id": "20fb57d2",
        "outputId": "03c330eb-ba5a-4a05-81f6-420b007e3d43"
      },
      "outputs": [
        {
          "name": "stdout",
          "output_type": "stream",
          "text": [
            "00046b27022615aaec3782ea69c56da3d2fd2ffa: Vaccine design and delivery approaches for COVID-19 : ... process of vaccine design has been revolutionized by reverse vaccinology, which focuses on finding potential vaccine candidates through bioinformatics analysis of the protein-coding genome (proteome) ...\n"
          ]
        }
      ],
      "source": [
        "# Class to read JSON files\n",
        "class FileReader:\n",
        "    def __init__(self, file_path):\n",
        "        with open(file_path) as file:\n",
        "            content = json.load(file)\n",
        "            self.paper_id = content['paper_id']\n",
        "            self.abstract = []\n",
        "            self.body_text = []\n",
        "            # Abstract\n",
        "            for entry in content['abstract']:\n",
        "                self.abstract.append(entry['text'])\n",
        "            # Body text\n",
        "            for entry in content['body_text']:\n",
        "                self.body_text.append(entry['text'])\n",
        "            self.abstract = '\\n'.join(self.abstract)\n",
        "            self.body_text = '\\n'.join(self.body_text)\n",
        "            self.title = content['metadata']['title']\n",
        "\n",
        "    def __repr__(self):\n",
        "        return f\"{self.paper_id}: {self.title } : {self.abstract[:200]}... {self.body_text[:200]}...\"\n",
        "\n",
        "# Read the first row\n",
        "first_row = FileReader(json_files[0])\n",
        "print(first_row)"
      ]
    },
    {
      "cell_type": "markdown",
      "id": "b3f61402",
      "metadata": {},
      "source": [
        "Function to truncate text and iterate through json files"
      ]
    },
    {
      "cell_type": "code",
      "execution_count": 13,
      "id": "96a78cce",
      "metadata": {
        "colab": {
          "base_uri": "https://localhost:8080/",
          "height": 398
        },
        "id": "96a78cce",
        "outputId": "db3e15b8-5496-4752-901a-a0e8a39f3628"
      },
      "outputs": [
        {
          "name": "stderr",
          "output_type": "stream",
          "text": [
            "  0%|          | 0/12000 [00:00<?, ?it/s]"
          ]
        },
        {
          "name": "stderr",
          "output_type": "stream",
          "text": [
            "100%|██████████| 12000/12000 [03:45<00:00, 53.29it/s]\n"
          ]
        },
        {
          "data": {
            "text/html": [
              "<div>\n",
              "<style scoped>\n",
              "    .dataframe tbody tr th:only-of-type {\n",
              "        vertical-align: middle;\n",
              "    }\n",
              "\n",
              "    .dataframe tbody tr th {\n",
              "        vertical-align: top;\n",
              "    }\n",
              "\n",
              "    .dataframe thead th {\n",
              "        text-align: right;\n",
              "    }\n",
              "</style>\n",
              "<table border=\"1\" class=\"dataframe\">\n",
              "  <thead>\n",
              "    <tr style=\"text-align: right;\">\n",
              "      <th></th>\n",
              "      <th>paper_id</th>\n",
              "      <th>doi</th>\n",
              "      <th>abstract</th>\n",
              "      <th>body_text</th>\n",
              "      <th>authors</th>\n",
              "      <th>title</th>\n",
              "      <th>journal</th>\n",
              "      <th>abstract_summary</th>\n",
              "    </tr>\n",
              "  </thead>\n",
              "  <tbody>\n",
              "    <tr>\n",
              "      <th>0</th>\n",
              "      <td>0015cecc2298c3bdb9bda0e0b84b38ebdcca716f</td>\n",
              "      <td>10.1007/s40744-022-00425-0</td>\n",
              "      <td>Coronavirus disease 2019 caused by the severe ...</td>\n",
              "      <td>Systemic inflammation is the hallmark of coron...</td>\n",
              "      <td>Drosos, Alexandros A..  Pelechas,&lt;br&gt;Elefther...</td>\n",
              "      <td>Colchicine Against SARS-CoV-2 Infection:&lt;br&gt;W...</td>\n",
              "      <td>Rheumatol Ther</td>\n",
              "      <td>Coronavirus disease 2019 caused by the severe...</td>\n",
              "    </tr>\n",
              "    <tr>\n",
              "      <th>1</th>\n",
              "      <td>0016a5c32e9cea6002cf6f352ecdb5231c7e3194</td>\n",
              "      <td>10.30699/ijp.2020.127312.2387</td>\n",
              "      <td></td>\n",
              "      <td>Severe acute respiratory syndrome coronavirus ...</td>\n",
              "      <td>Abdollahi, Alireza.  shakoori, Abbas. &lt;br&gt;Kho...</td>\n",
              "      <td>Comparison of Patient-collected and Lab&lt;br&gt;Te...</td>\n",
              "      <td>Iran J Pathol</td>\n",
              "      <td>Not provided.</td>\n",
              "    </tr>\n",
              "    <tr>\n",
              "      <th>2</th>\n",
              "      <td>0020e5c796f50e927b96ff0b7ea375b4745261a3</td>\n",
              "      <td>10.1186/s12887-020-02112-x</td>\n",
              "      <td>Background: One major limitation for less inva...</td>\n",
              "      <td>Respiratory Distress Syndrome (RDS) affects 85...</td>\n",
              "      <td>Chevallier, Marie.  Durrmeyer, Xavier.  Ego,&lt;...</td>\n",
              "      <td>Propofol versus placebo (with rescue with&lt;br&gt;...</td>\n",
              "      <td>BMC Pediatr</td>\n",
              "      <td>Background: One major limitation for less&lt;br&gt;...</td>\n",
              "    </tr>\n",
              "    <tr>\n",
              "      <th>3</th>\n",
              "      <td>00234390dbc45e3370ac8f80cbd93cec3777ca92</td>\n",
              "      <td>10.1016/j.ajur.2021.03.006</td>\n",
              "      <td>Objective: To identify the impact of COVID-19 ...</td>\n",
              "      <td>The World Health Organization (WHO) has announ...</td>\n",
              "      <td>Raheem Ali, Abdel.  Ghazwani, Yahya.  Alowida...</td>\n",
              "      <td>Impact of COVID-19 on endourology surgical&lt;br...</td>\n",
              "      <td>Asian J Urol</td>\n",
              "      <td>Objective: To identify the impact of COVID-19...</td>\n",
              "    </tr>\n",
              "    <tr>\n",
              "      <th>4</th>\n",
              "      <td>0025fd87cfaf7953079b618771218b8de6893928</td>\n",
              "      <td>10.3389/fcell.2021.748905</td>\n",
              "      <td></td>\n",
              "      <td>The concept of specialized \"membrane microdoma...</td>\n",
              "      <td>Garofalo, Tina.  Misasi, Roberta.  Preta,&lt;br&gt;...</td>\n",
              "      <td>Editorial: Targeting Lipid Rafts as a Strateg...</td>\n",
              "      <td>Front Cell Dev Biol</td>\n",
              "      <td>Not provided.</td>\n",
              "    </tr>\n",
              "  </tbody>\n",
              "</table>\n",
              "</div>"
            ],
            "text/plain": [
              "                                   paper_id                            doi  \\\n",
              "0  0015cecc2298c3bdb9bda0e0b84b38ebdcca716f     10.1007/s40744-022-00425-0   \n",
              "1  0016a5c32e9cea6002cf6f352ecdb5231c7e3194  10.30699/ijp.2020.127312.2387   \n",
              "2  0020e5c796f50e927b96ff0b7ea375b4745261a3     10.1186/s12887-020-02112-x   \n",
              "3  00234390dbc45e3370ac8f80cbd93cec3777ca92     10.1016/j.ajur.2021.03.006   \n",
              "4  0025fd87cfaf7953079b618771218b8de6893928      10.3389/fcell.2021.748905   \n",
              "\n",
              "                                            abstract  \\\n",
              "0  Coronavirus disease 2019 caused by the severe ...   \n",
              "1                                                      \n",
              "2  Background: One major limitation for less inva...   \n",
              "3  Objective: To identify the impact of COVID-19 ...   \n",
              "4                                                      \n",
              "\n",
              "                                           body_text  \\\n",
              "0  Systemic inflammation is the hallmark of coron...   \n",
              "1  Severe acute respiratory syndrome coronavirus ...   \n",
              "2  Respiratory Distress Syndrome (RDS) affects 85...   \n",
              "3  The World Health Organization (WHO) has announ...   \n",
              "4  The concept of specialized \"membrane microdoma...   \n",
              "\n",
              "                                             authors  \\\n",
              "0   Drosos, Alexandros A..  Pelechas,<br>Elefther...   \n",
              "1   Abdollahi, Alireza.  shakoori, Abbas. <br>Kho...   \n",
              "2   Chevallier, Marie.  Durrmeyer, Xavier.  Ego,<...   \n",
              "3   Raheem Ali, Abdel.  Ghazwani, Yahya.  Alowida...   \n",
              "4   Garofalo, Tina.  Misasi, Roberta.  Preta,<br>...   \n",
              "\n",
              "                                               title              journal  \\\n",
              "0   Colchicine Against SARS-CoV-2 Infection:<br>W...       Rheumatol Ther   \n",
              "1   Comparison of Patient-collected and Lab<br>Te...        Iran J Pathol   \n",
              "2   Propofol versus placebo (with rescue with<br>...          BMC Pediatr   \n",
              "3   Impact of COVID-19 on endourology surgical<br...         Asian J Urol   \n",
              "4   Editorial: Targeting Lipid Rafts as a Strateg...  Front Cell Dev Biol   \n",
              "\n",
              "                                    abstract_summary  \n",
              "0   Coronavirus disease 2019 caused by the severe...  \n",
              "1                                      Not provided.  \n",
              "2   Background: One major limitation for less<br>...  \n",
              "3   Objective: To identify the impact of COVID-19...  \n",
              "4                                      Not provided.  "
            ]
          },
          "execution_count": 13,
          "metadata": {},
          "output_type": "execute_result"
        }
      ],
      "source": [
        "# Function to truncate text\n",
        "def truncate_text(content, length):\n",
        "    words = content.split(' ')\n",
        "    if len(words) > length:\n",
        "        return ' '.join(words[:length]) + \"...\"\n",
        "    else:\n",
        "        return ' '.join(words)\n",
        "\n",
        "# Dictionary to hold data\n",
        "dict_ = {'paper_id': [], 'doi':[], 'abstract': [], 'body_text': [],\n",
        "         'authors': [], 'title': [], 'journal': [], 'abstract_summary': []}\n",
        "\n",
        "# Iterate through json files and extract content\n",
        "for idx, entry in tqdm(enumerate(json_files), total=len(json_files)):\n",
        "    try:\n",
        "        content = FileReader(entry)\n",
        "    except Exception as e:\n",
        "        continue  # Invalid paper format, skip\n",
        "\n",
        "    # Get metadata information\n",
        "    meta_data = meta_df.loc[meta_df['sha'] == content.paper_id]\n",
        "    # No metadata, skip this paper\n",
        "    if len(meta_data) == 0:\n",
        "        continue\n",
        "    if len(content.body_text) == 0:\n",
        "        continue\n",
        "    dict_['abstract'].append(content.abstract)\n",
        "    dict_['paper_id'].append(content.paper_id)\n",
        "    dict_['body_text'].append(content.body_text)\n",
        "    # Also create a column for the summary of abstract to be used in a plot\n",
        "    if len(content.abstract) == 0:\n",
        "        # No abstract provided, use truncated body text\n",
        "        summary = truncate_text(content.body_text, 100)\n",
        "        dict_['abstract_summary'].append(summary)\n",
        "    elif len(content.abstract.split(' ')) > 100:\n",
        "        # Abstract provided is too long for plot, take first 100 words append with ...\n",
        "        info = content.abstract.split(' ')[:100]\n",
        "        summary = ' '.join(info) + \"...\"\n",
        "        dict_['abstract_summary'].append(summary)\n",
        "    else:\n",
        "        # Abstract is short enough\n",
        "        summary = content.abstract\n",
        "        dict_['abstract_summary'].append(summary)\n",
        "\n",
        "    # Get metadata information\n",
        "    meta_data = meta_df.loc[meta_df['sha'] == content.paper_id]\n",
        "\n",
        "    try:\n",
        "        # If more than one author\n",
        "        authors = meta_data['authors'].values[0].split(';')\n",
        "        if len(authors) > 2:\n",
        "            # More than 2 authors, may be problem when plotting, so take first 2 append with ...\n",
        "            dict_['authors'].append('. '.join(authors[:2]) + '...')\n",
        "        else:\n",
        "            # Authors will fit in plot\n",
        "            dict_['authors'].append(\". \".join(authors))\n",
        "    except Exception as e:\n",
        "        # If only one author - or Null value\n",
        "        dict_['authors'].append(meta_data['authors'].values[0])\n",
        "\n",
        "    # Add the title information, add breaks when needed\n",
        "    try:\n",
        "        title = truncate_text(meta_data['title'].values[0], 40)\n",
        "        dict_['title'].append(title)\n",
        "    # If title was not provided\n",
        "    except Exception as e:\n",
        "        dict_['title'].append(meta_data['title'].values[0])\n",
        "\n",
        "    # Add the journal information\n",
        "    dict_['journal'].append(meta_data['journal'].values[0])\n",
        "\n",
        "    # Add doi\n",
        "    dict_['doi'].append(meta_data['doi'].values[0])\n",
        "\n",
        "# Create a DataFrame\n",
        "df_covid = pd.DataFrame(dict_, columns=['paper_id', 'doi', 'abstract', 'body_text',\n",
        "                                        'authors', 'title', 'journal', 'abstract_summary'])\n",
        "print(df_covid.head())"
      ]
    },
    {
      "cell_type": "markdown",
      "id": "590bc1f0",
      "metadata": {},
      "source": [
        "Display the info of the dataframe"
      ]
    },
    {
      "cell_type": "code",
      "execution_count": 14,
      "id": "2c2974a3",
      "metadata": {
        "colab": {
          "base_uri": "https://localhost:8080/"
        },
        "id": "2c2974a3",
        "outputId": "9bc51e71-1d4d-4404-cb1d-b71b658b9349"
      },
      "outputs": [
        {
          "name": "stdout",
          "output_type": "stream",
          "text": [
            "<class 'pandas.core.frame.DataFrame'>\n",
            "RangeIndex: 9022 entries, 0 to 9021\n",
            "Data columns (total 8 columns):\n",
            " #   Column            Non-Null Count  Dtype \n",
            "---  ------            --------------  ----- \n",
            " 0   paper_id          9022 non-null   object\n",
            " 1   doi               9022 non-null   object\n",
            " 2   abstract          9022 non-null   object\n",
            " 3   body_text         9022 non-null   object\n",
            " 4   authors           9009 non-null   object\n",
            " 5   title             9022 non-null   object\n",
            " 6   journal           8095 non-null   object\n",
            " 7   abstract_summary  9022 non-null   object\n",
            "dtypes: object(8)\n",
            "memory usage: 564.0+ KB\n"
          ]
        }
      ],
      "source": [
        "df_covid.info()"
      ]
    },
    {
      "cell_type": "code",
      "execution_count": 15,
      "id": "4f9af672",
      "metadata": {
        "colab": {
          "base_uri": "https://localhost:8080/"
        },
        "id": "4f9af672",
        "outputId": "eceec098-206e-4fe8-d85b-f848a93e4720"
      },
      "outputs": [
        {
          "name": "stdout",
          "output_type": "stream",
          "text": [
            "<class 'pandas.core.frame.DataFrame'>\n",
            "Index: 8083 entries, 0 to 9021\n",
            "Data columns (total 8 columns):\n",
            " #   Column            Non-Null Count  Dtype \n",
            "---  ------            --------------  ----- \n",
            " 0   paper_id          8083 non-null   object\n",
            " 1   doi               8083 non-null   object\n",
            " 2   abstract          8083 non-null   object\n",
            " 3   body_text         8083 non-null   object\n",
            " 4   authors           8083 non-null   object\n",
            " 5   title             8083 non-null   object\n",
            " 6   journal           8083 non-null   object\n",
            " 7   abstract_summary  8083 non-null   object\n",
            "dtypes: object(8)\n",
            "memory usage: 568.3+ KB\n"
          ]
        }
      ],
      "source": [
        "# Drop NaN values\n",
        "df = df_covid\n",
        "df.dropna(inplace=True)\n",
        "df.info()"
      ]
    },
    {
      "cell_type": "code",
      "execution_count": 18,
      "id": "f2eacd72",
      "metadata": {
        "colab": {
          "base_uri": "https://localhost:8080/"
        },
        "id": "f2eacd72",
        "outputId": "0b8d3e3f-4841-4e5f-fd23-55297ac27fb6"
      },
      "outputs": [
        {
          "name": "stderr",
          "output_type": "stream",
          "text": [
            "100%|██████████| 8083/8083 [00:46<00:00, 173.18it/s]\n"
          ]
        }
      ],
      "source": [
        "# Text cleaning function\n",
        "stop_words = set(stopwords.words('english'))\n",
        "\n",
        "def clean_text(text):\n",
        "    words = word_tokenize(text)\n",
        "    words = [word for word in words if word.isalnum() and word.lower() not in stop_words]\n",
        "    return ' '.join(words)\n",
        "\n",
        "# Apply text cleaning to abstract and body_text\n",
        "df['abstract'] = df['abstract'].apply(clean_text)\n",
        "df['body_text'] = df['body_text'].apply(clean_text)"
      ]
    },
    {
      "cell_type": "code",
      "execution_count": 19,
      "id": "7e7396f0",
      "metadata": {
        "colab": {
          "base_uri": "https://localhost:8080/"
        },
        "id": "7e7396f0",
        "outputId": "d54ed418-c5dd-4cb3-b9ab-2ed07790843a"
      },
      "outputs": [
        {
          "name": "stdout",
          "output_type": "stream",
          "text": [
            "Total: 8083\n",
            "\n",
            "{'de': 20, 'en': 8041, 'es': 13, 'fr': 6, 'id': 1, 'nl': 2}\n"
          ]
        }
      ],
      "source": [
        "# Language detection\n",
        "from langdetect import detect\n",
        "from langdetect import DetectorFactory\n",
        "\n",
        "# Set seed\n",
        "DetectorFactory.seed = 0\n",
        "\n",
        "# Hold label - language\n",
        "languages = []\n",
        "\n",
        "# Go through each text\n",
        "for ii in tqdm(range(0, len(df))):\n",
        "    # Split by space into list, take the first x index, join with space\n",
        "    text = df.iloc[ii]['body_text'].split(\" \")\n",
        "\n",
        "    lang = \"en\"\n",
        "    try:\n",
        "        if len(text) > 50:\n",
        "            lang = detect(\" \".join(text[:50]))\n",
        "        elif len(text) > 0:\n",
        "            lang = detect(\" \".join(text[:len(text)]))\n",
        "    # Beginning of the document was not in a good format\n",
        "    except Exception as e:\n",
        "        all_words = set(text)\n",
        "        try:\n",
        "            lang = detect(\" \".join(all_words))\n",
        "        # Let's see if we can find any text in abstract...\n",
        "        except Exception as e:\n",
        "            try:\n",
        "                # Let's try to label it through the abstract then\n",
        "                lang = detect(df.iloc[ii]['abstract_summary'])\n",
        "            except Exception as e:\n",
        "                lang = \"unknown\"\n",
        "                pass\n",
        "\n",
        "    # Get the language\n",
        "    languages.append(lang)"
      ]
    },
    {
      "cell_type": "code",
      "execution_count": 20,
      "id": "e667fa35",
      "metadata": {
        "colab": {
          "base_uri": "https://localhost:8080/"
        },
        "id": "e667fa35",
        "outputId": "38d0a17b-79c7-42de-be9b-e02922c23f11"
      },
      "outputs": [
        {
          "name": "stdout",
          "output_type": "stream",
          "text": [
            "<class 'pandas.core.frame.DataFrame'>\n",
            "Index: 8041 entries, 0 to 9021\n",
            "Data columns (total 9 columns):\n",
            " #   Column            Non-Null Count  Dtype \n",
            "---  ------            --------------  ----- \n",
            " 0   paper_id          8041 non-null   object\n",
            " 1   doi               8041 non-null   object\n",
            " 2   abstract          8041 non-null   object\n",
            " 3   body_text         8041 non-null   object\n",
            " 4   authors           8041 non-null   object\n",
            " 5   title             8041 non-null   object\n",
            " 6   journal           8041 non-null   object\n",
            " 7   abstract_summary  8041 non-null   object\n",
            " 8   language          8041 non-null   object\n",
            "dtypes: object(9)\n",
            "memory usage: 628.2+ KB\n"
          ]
        }
      ],
      "source": [
        "# Print language statistics\n",
        "from pprint import pprint\n",
        "\n",
        "languages_dict = {}\n",
        "for lang in set(languages):\n",
        "    languages_dict[lang] = languages.count(lang)\n",
        "\n",
        "print(\"Total: {}\\n\".format(len(languages)))\n",
        "pprint(languages_dict)\n",
        "\n",
        "# Filter English language papers\n",
        "df['language'] = languages\n",
        "df = df[df['language'] == 'en']\n",
        "df.info()"
      ]
    },
    {
      "cell_type": "markdown",
      "id": "e640e24d",
      "metadata": {},
      "source": [
        "NLP"
      ]
    },
    {
      "cell_type": "code",
      "execution_count": null,
      "id": "5b707bb3",
      "metadata": {},
      "outputs": [],
      "source": [
        "# NOTE: This section is directly copied from the script showed in lecture 5.\n",
        "# For reference only. Do not use the code directly for project submission."
      ]
    },
    {
      "cell_type": "code",
      "execution_count": null,
      "id": "00ba1e0c",
      "metadata": {},
      "outputs": [],
      "source": [
        "!pip install nltk\n",
        "!pip install spacy==2.3.5\n",
        "!pip install https://github.com/explosion/spacy-models/releases/download/en_core_web_sm-2.3.1/en_core_web_sm-2.3.1.tar.gz\n",
        "!pip install pyresparser"
      ]
    },
    {
      "cell_type": "code",
      "execution_count": null,
      "id": "e1c5be8a",
      "metadata": {},
      "outputs": [],
      "source": [
        "#NLP\n",
        "import spacy\n",
        "from spacy.lang.en_stop_words import STOP_WORDS\n",
        "# import en_core_sci_lg"
      ]
    },
    {
      "cell_type": "code",
      "execution_count": null,
      "id": "de24d4b3",
      "metadata": {},
      "outputs": [],
      "source": [
        "import string\n",
        "\n",
        "punctuations = string.punctuation\n",
        "stopwords = list(STOP_WORDS)\n",
        "stopwords[0:10]"
      ]
    },
    {
      "cell_type": "code",
      "execution_count": null,
      "id": "ba51c45d",
      "metadata": {},
      "outputs": [],
      "source": [
        "custom_stop_words = [\n",
        "    'doi','preprint','copyright','peer','reviewed','org','https','et','al','author','figure',\n",
        "    'rights','reserved','permission','used','using','biorxiv','medrxiv','license','fig','fig.',\n",
        "    'al.','Elsevier','PMC','CZI'\n",
        "]\n",
        "\n",
        "for w in custom_stop_words:\n",
        "    if w not in stopwords:\n",
        "        stopwords.append(w)"
      ]
    },
    {
      "cell_type": "code",
      "execution_count": null,
      "id": "e0c5ae6a",
      "metadata": {},
      "outputs": [],
      "source": [
        "# Parser\n",
        "#parser = en_core_sci_lg.load(disable=[\"tagger\",\"ner\"])\n",
        "#nlp = spacy.load('en_core_web_sm',disable=[\"tagger\",\"ner\"])\n",
        "nlp = spacy.load('en_core_web_sm',disable=[\"tagger\",\"parser\",\"ner\"]) # Only tokenization and lemmation are performed, POS tagging, NER and syntactic parsing are skipped.\n",
        "nlp.max_length = 7000000\n",
        "\n",
        "stopwords = set(stopwords)\n",
        "punctuations = set(punctuations)\n",
        "print('len(stopwords):',len(stopwords),'len(punctuations):',len(punctuations))\n",
        "\n",
        "def spacy_tokenizer(sentence):\n",
        "    mytokens = nlp(sentence)\n",
        "    mytokens = [word.lemma_.lower().strip() if word.lemma != '-PORN-' else word.lower_ for word in mytokens]\n",
        "    mytokens = [word for word in mytokens if word not in stopwords and word not in punctuations]\n",
        "    mytokens = \" \".join([i for i in mytokens])\n",
        "    return mytokens\n",
        "\n",
        "tqdm.pandas()\n",
        "df['procesed_text'] = df['body_text'].progress_apply(spacy_tokenizer)\n",
        "\n"
      ]
    },
    {
      "cell_type": "markdown",
      "id": "76465246",
      "metadata": {},
      "source": [
        "Vectorization using TF-IDF"
      ]
    },
    {
      "cell_type": "code",
      "execution_count": null,
      "id": "2cdca08b",
      "metadata": {},
      "outputs": [],
      "source": [
        "# NOTE: This section is directly copied from the script showed in lecture 5.\n",
        "# For reference only. Do not use the code directly for project submission."
      ]
    },
    {
      "cell_type": "code",
      "execution_count": null,
      "id": "5237cf83",
      "metadata": {},
      "outputs": [],
      "source": [
        "from sklearn.feature_extraction.text import TfidfVectorizer\n",
        "\n",
        "def vectorize(text,max_feature):\n",
        "    \n",
        "    vectorizer = TfidfVectorizer(max_features=max_feature)\n",
        "    X = vectorizer.fit_transform(text)\n",
        "    \n",
        "    return X\n",
        "\n",
        "text = df['processed_text'].values\n",
        "max_feature = 2**12\n",
        "\n",
        "X = vectorize(text,max_feature)\n"
      ]
    },
    {
      "cell_type": "markdown",
      "id": "b75a1112",
      "metadata": {},
      "source": [
        "PCA & Clustering"
      ]
    },
    {
      "cell_type": "code",
      "execution_count": null,
      "id": "696e90e7",
      "metadata": {},
      "outputs": [],
      "source": [
        "# NOTE: This section is directly copied from the script showed in lecture 5.\n",
        "# For reference only. Do not use the code directly for project submission."
      ]
    },
    {
      "cell_type": "code",
      "execution_count": null,
      "id": "eba4d59e",
      "metadata": {},
      "outputs": [],
      "source": [
        "from sklearn.decomposition import PCA\n",
        "from sklearn.cluster import MiniBatchKMeans\n",
        "from sklearn.cluster import KMeans\n",
        "\n",
        "# PCA\n",
        "pca = PCA(n_components=0.95,random_state=42)\n",
        "X_reduced = pca.fit_transform(X.toarray())\n",
        "X_reduced.shape\n",
        "\n",
        "# K Mean Clustering\n",
        "k = 10\n",
        "kmeans = KMeans(n_clusters=k,random_state=42)\n",
        "y_pred = kmeans.fit_predict(X_reduced)\n",
        "df['y'] = y_pred"
      ]
    },
    {
      "cell_type": "markdown",
      "id": "5900307f",
      "metadata": {},
      "source": [
        "TSNE Visualization"
      ]
    },
    {
      "cell_type": "code",
      "execution_count": null,
      "id": "e085dcb3",
      "metadata": {},
      "outputs": [],
      "source": [
        "# NOTE: This section is directly copied from the script showed in lecture 5.\n",
        "# For reference only. Do not use the code directly for project submission."
      ]
    },
    {
      "cell_type": "code",
      "execution_count": null,
      "id": "4cf9b22e",
      "metadata": {},
      "outputs": [],
      "source": [
        "from sklearn.manifold import TSNE\n",
        "from matplotlib import pyplot as plt\n",
        "import seaborn as sns\n",
        "\n",
        "tsne = TSNE(verbose=1,perplexity=50) # Change perplexity from 100 to 50 per FAQ\n",
        "X_embedded = tsne.fit_transform(X.toarray())\n",
        "\n",
        "# sns setting\n",
        "sns.set(rc={'figure.figsize':(15,15)})\n",
        "\n",
        "# color\n",
        "palette = sns.color_palette('bright',1)\n",
        "\n",
        "# plot\n",
        "sns.scatterplot(x=X_embedded[:,0],y=X_embedded[:,1],palette=palette)\n",
        "plt.title('t-SNE with no Labels')\n",
        "plt.savefig('t-sne_covid19.png')\n",
        "plt.show()\n",
        "\n"
      ]
    },
    {
      "cell_type": "code",
      "execution_count": null,
      "id": "d578d6b8",
      "metadata": {},
      "outputs": [],
      "source": [
        "# sns settings\n",
        "sns.set(rc={'figure.figsize':(13,9)})\n",
        "\n",
        "# color\n",
        "palette = sns.color_palette(20,l=4,s=0.9)\n",
        "\n",
        "# plot\n",
        "sns.scatterplot(x=X_embedded[:,0],y=X_embedded[:,1],hue=y_pred, legend='full',palette=palette)\n",
        "plt.title('t-SNE with Kmeans Labels')\n",
        "plt.savefig('improved_cluster_tsne.png')\n",
        "plt.show()\n"
      ]
    },
    {
      "cell_type": "markdown",
      "id": "be9aed3d",
      "metadata": {},
      "source": [
        "# Histogram of year / journal"
      ]
    },
    {
      "cell_type": "code",
      "execution_count": null,
      "id": "ba07ce7b",
      "metadata": {},
      "outputs": [],
      "source": [
        "# Histogram of year / journal\n",
        "# Convert publish_time to datetime\n",
        "meta_df['publish_time'] = pd.to_datetime(meta_df['publish_time'], errors='coerce')\n",
        "\n",
        "# Drop rows with NaT values in publish_time\n",
        "meta_df = meta_df.dropna(subset=['publish_time'])\n",
        "\n",
        "# Plot histogram of publication years\n",
        "plt.figure(figsize=(12, 6))\n",
        "ax = meta_df['publish_time'].dt.year.value_counts().sort_index().plot(kind='bar')\n",
        "plt.title('Histogram of Publication Years')\n",
        "plt.xlabel('Year')\n",
        "plt.ylabel('Number of Papers')\n",
        "\n",
        "# Add labels to each bar\n",
        "for p in ax.patches:\n",
        "    ax.annotate(str(p.get_height()), (p.get_x() * 1.005, p.get_height() * 1.005))\n",
        "\n",
        "plt.show()\n",
        "\n",
        "# Plot histogram of journals\n",
        "plt.figure(figsize=(12, 6))\n",
        "ax = df['journal'].value_counts().head(20).plot(kind='bar')\n",
        "plt.title('Top 20 Journals by Number of Papers')\n",
        "plt.xlabel('Journal')\n",
        "plt.ylabel('Number of Papers')\n",
        "plt.xticks(rotation=90)\n",
        "\n",
        "# Add labels to each bar\n",
        "for p in ax.patches:\n",
        "    ax.annotate(str(p.get_height()), (p.get_x() * 1.005, p.get_height() * 1.005))\n",
        "\n",
        "plt.show()\n",
        "\n",
        "# Filter years with too many or too few data points\n",
        "min_threshold = 10  # Minimum number of papers for a year to be considered\n",
        "max_threshold = 1000  # Maximum number of papers for a year to be considered\n",
        "year_counts = meta_df['publish_time'].dt.year.value_counts()\n",
        "filtered_years = year_counts[(year_counts >= min_threshold) & (year_counts <= max_threshold)].index\n",
        "\n",
        "# Filter the dataframe\n",
        "filtered_meta_df = meta_df[meta_df['publish_time'].dt.year.isin(filtered_years)]\n",
        "\n",
        "# Plot filtered histogram of publication years\n",
        "plt.figure(figsize=(12, 6))\n",
        "ax = filtered_meta_df['publish_time'].dt.year.value_counts().sort_index().plot(kind='bar')\n",
        "plt.title('Filtered Histogram of Publication Years')\n",
        "plt.xlabel('Year')\n",
        "plt.ylabel('Number of Papers')\n",
        "\n",
        "# Add labels to each bar\n",
        "for p in ax.patches:\n",
        "    ax.annotate(str(p.get_height()), (p.get_x() * 1.005, p.get_height() * 1.005))\n",
        "\n",
        "plt.show()"
      ]
    },
    {
      "cell_type": "markdown",
      "id": "cae116c4",
      "metadata": {},
      "source": [
        "# Map-Reduce "
      ]
    },
    {
      "cell_type": "code",
      "execution_count": null,
      "id": "1d54ec16",
      "metadata": {},
      "outputs": [],
      "source": []
    },
    {
      "cell_type": "markdown",
      "id": "ac547210",
      "metadata": {},
      "source": [
        "# Association Analysis"
      ]
    },
    {
      "cell_type": "code",
      "execution_count": null,
      "id": "f3b12c03",
      "metadata": {},
      "outputs": [],
      "source": []
    },
    {
      "cell_type": "markdown",
      "id": "48ec6f2e",
      "metadata": {},
      "source": [
        "# Similarity Analysis"
      ]
    },
    {
      "cell_type": "code",
      "execution_count": null,
      "id": "4823d5b4",
      "metadata": {},
      "outputs": [],
      "source": []
    },
    {
      "cell_type": "markdown",
      "id": "adc2e25a",
      "metadata": {},
      "source": [
        "# Clustering Analysis"
      ]
    },
    {
      "cell_type": "code",
      "execution_count": null,
      "id": "3e43afbb",
      "metadata": {},
      "outputs": [],
      "source": []
    }
  ],
  "metadata": {
    "colab": {
      "provenance": []
    },
    "kernelspec": {
      "display_name": "Python 3 (ipykernel)",
      "language": "python",
      "name": "python3"
    },
    "language_info": {
      "codemirror_mode": {
        "name": "ipython",
        "version": 3
      },
      "file_extension": ".py",
      "mimetype": "text/x-python",
      "name": "python",
      "nbconvert_exporter": "python",
      "pygments_lexer": "ipython3",
      "version": "3.9.6"
    }
  },
  "nbformat": 4,
  "nbformat_minor": 5
}
